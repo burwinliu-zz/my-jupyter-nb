{
 "cells": [
  {
   "cell_type": "markdown",
   "metadata": {},
   "source": [
    "# High DPI support\n",
    "\n",
    "(In other words, when a screen is moving from screen to screen, and the pixel density does not change with, making on high DPI screen the application seem very small)\n",
    "\n",
    ">// Temporary fix broken high-dpi scale factor on Windows (125% scaling)  \n",
    "// info: https://github.com/electron/electron/issues/9691  \n",
    "if (process.platform === 'win32') {  \n",
    "  app.commandLine.appendSwitch('high-dpi-support', 'true')  \n",
    "}   \n",
    "\n",
    "This block is added to switch in chromium high-dpi-support on."
   ]
  }
 ],
 "metadata": {
  "kernelspec": {
   "display_name": "Python 3",
   "language": "python",
   "name": "python3"
  },
  "language_info": {
   "codemirror_mode": {
    "name": "ipython",
    "version": 3
   },
   "file_extension": ".py",
   "mimetype": "text/x-python",
   "name": "python",
   "nbconvert_exporter": "python",
   "pygments_lexer": "ipython3",
   "version": "3.7.6"
  }
 },
 "nbformat": 4,
 "nbformat_minor": 4
}
