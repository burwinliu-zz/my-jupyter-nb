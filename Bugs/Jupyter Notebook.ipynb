{
 "cells": [
  {
   "cell_type": "markdown",
   "metadata": {},
   "source": [
    "Jupyter Notebook install\n",
    "\n",
    "Initial install using conda install -c conda-forge jupyterlab (using miniconda3)\n",
    "\n",
    "'Jupyter Notebook' is entered as a cmd -- leads to:\n",
    "\n",
    "_cffi_ext.c<br>\n",
    "miniconda3\\lib\\site-packages\\zmq\\backend\\cffi\\__pycache__\\_cffi_ext.c(266): fatal error C1083: Cannot open include file: 'sys/un.h': No such file or directory<br>\n",
    "Traceback (most recent call last):<br>\n",
    "  File \"C:\\Users\\burwi\\miniconda3\\Scripts\\jupyter-notebook-script.py\", line 6, in <module><br>\n",
    "    from notebook.notebookapp import main<br>\n",
    "  File \"C:\\Users\\burwi\\miniconda3\\lib\\site-packages\\notebook\\notebookapp.py\", line 49, in <module><br>\n",
    "    from zmq.eventloop import ioloop<br>\n",
    "  File \"C:\\Users\\burwi\\miniconda3\\lib\\site-packages\\zmq\\__init__.py\", line 47, in <module><br>\n",
    "    from zmq import backend<br>\n",
    "  File \"C:\\Users\\burwi\\miniconda3\\lib\\site-packages\\zmq\\backend\\__init__.py\", line 40, in <module><br>\n",
    "    reraise(*exc_info)<br>\n",
    "  File \"C:\\Users\\burwi\\miniconda3\\lib\\site-packages\\zmq\\utils\\sixcerpt.py\", line 34, in reraise<br>\n",
    "    raise value<br>\n",
    "  File \"C:\\Users\\burwi\\miniconda3\\lib\\site-packages\\zmq\\backend\\__init__.py\", line 27, in <module><br>\n",
    "    _ns = select_backend(first)<br>\n",
    "  File \"C:\\Users\\burwi\\miniconda3\\lib\\site-packages\\zmq\\backend\\select.py\", line 28, in select_backend<br>\n",
    "    mod = __import__(name, fromlist=public_api)<br>\n",
    "  File \"C:\\Users\\burwi\\miniconda3\\lib\\site-packages\\zmq\\backend\\cython\\__init__.py\", line 6, in <module><br>\n",
    "    from . import (constants, error, message, context,<br>\n",
    "ImportError: DLL load failed: The specified module could not be found.<br>\n",
    "    \n",
    "Updating yields nothing, activate base did nothing<br>\n",
    "    \n",
    "Solved by:\n",
    "    * pip uninstall pyzmq \n",
    "    * pip install pyzmq"
   ]
  },
  {
   "cell_type": "markdown",
   "metadata": {},
   "source": [
    "# Creating a Kernel\n",
    "Navigate to proper enviornment\n",
    "  * conda install -c anaconda ipykernel\n",
    "  * python -m ipykernel install --user --name ex --display-name \"Python (ex)\""
   ]
  }
 ],
 "metadata": {
  "kernelspec": {
   "display_name": "Python [conda env:root] *",
   "language": "python",
   "name": "conda-root-py"
  },
  "language_info": {
   "codemirror_mode": {
    "name": "ipython",
    "version": 3
   },
   "file_extension": ".py",
   "mimetype": "text/x-python",
   "name": "python",
   "nbconvert_exporter": "python",
   "pygments_lexer": "ipython3",
   "version": "3.7.7"
  }
 },
 "nbformat": 4,
 "nbformat_minor": 4
}
