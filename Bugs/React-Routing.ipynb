{
 "cells": [
  {
   "cell_type": "markdown",
   "metadata": {},
   "source": [
    "# React Router not directing to the right path?\n",
    "\n",
    "React router seems to be MATCHING the current path with the first encountered rule that fits. Therefore, rank paths backward, more exact to less exact.  \n",
    "\n",
    "For example --  \n",
    "`<Route exact path=\"/main\" component={MainPage} />  \n",
    "<Route path=\"/\" component={LobbyPage} />`  \n",
    "would render main if it saw '/main' since it matches with the path. However, if flipped like  \n",
    "`<Route path=\"/\" component={LobbyPage} />  \n",
    "<Route exact path=\"/main\" component={MainPage} />`  \n",
    "then Lobby would be rendered instead. Something to keep in mind!"
   ]
  }
 ],
 "metadata": {
  "kernelspec": {
   "display_name": "Python 3",
   "language": "python",
   "name": "python3"
  },
  "language_info": {
   "codemirror_mode": {
    "name": "ipython",
    "version": 3
   },
   "file_extension": ".py",
   "mimetype": "text/x-python",
   "name": "python",
   "nbconvert_exporter": "python",
   "pygments_lexer": "ipython3",
   "version": "3.7.6"
  }
 },
 "nbformat": 4,
 "nbformat_minor": 4
}
