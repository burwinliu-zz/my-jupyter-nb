{
 "cells": [
  {
   "cell_type": "raw",
   "metadata": {},
   "source": [
    "Chapter 6.9 \n",
    "\n",
    "if m4 is being complained about, and unable to install because of it, go and reinstall m4 from lfs chroot\n",
    "To enter and exit just issue exit command, and to reenter issue:  \n",
    "chroot \"$LFS\" /tools/bin/env -i \\\n",
    "HOME=/root                  \\\n",
    "TERM=\"$TERM\"                \\\n",
    "PS1='(lfs chroot) \\u:\\w\\$ ' \\\n",
    "PATH=/bin:/usr/bin:/sbin:/usr/sbin:/tools/bin \\\n",
    "/tools/bin/bash --login +h \n",
    "\n",
    "Chapter 6.21.1\n",
    "    Note pre entering the terminal again, to re mount per 6.2"
   ]
  }
 ],
 "metadata": {
  "kernelspec": {
   "display_name": "Python 3",
   "language": "python",
   "name": "python3"
  },
  "language_info": {
   "codemirror_mode": {
    "name": "ipython",
    "version": 3
   },
   "file_extension": ".py",
   "mimetype": "text/x-python",
   "name": "python",
   "nbconvert_exporter": "python",
   "pygments_lexer": "ipython3",
   "version": "3.7.6"
  }
 },
 "nbformat": 4,
 "nbformat_minor": 4
}
