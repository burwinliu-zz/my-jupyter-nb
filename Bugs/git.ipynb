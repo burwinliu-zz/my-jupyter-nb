{
 "cells": [
  {
   "cell_type": "markdown",
   "metadata": {},
   "source": [
    "# Git diff headers\n",
    "\n",
    "Did you know that git diff chunk headers have a format that is called *Unified format*? Well, today I learned! It isn't always @@ -l,s +l,s @@ format -- \",s\" on both sides can be optional -- when not included, this indicates a length of difference of one!  \n",
    "\n",
    "You can learn more at https://en.wikipedia.org/wiki/Diff#Unified_format"
   ]
  }
 ],
 "metadata": {
  "kernelspec": {
   "display_name": "Python 3",
   "language": "python",
   "name": "python3"
  },
  "language_info": {
   "codemirror_mode": {
    "name": "ipython",
    "version": 3
   },
   "file_extension": ".py",
   "mimetype": "text/x-python",
   "name": "python",
   "nbconvert_exporter": "python",
   "pygments_lexer": "ipython3",
   "version": "3.7.6"
  }
 },
 "nbformat": 4,
 "nbformat_minor": 4
}
