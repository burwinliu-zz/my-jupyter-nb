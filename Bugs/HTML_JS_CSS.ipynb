{
 "cells": [
  {
   "cell_type": "markdown",
   "metadata": {},
   "source": [
    "# HTML/JS/CSS Bugs"
   ]
  },
  {
   "cell_type": "raw",
   "metadata": {},
   "source": [
    "6/19/2020\n",
    "\n",
    "Dots appearing above sidebar div of <b-nav-item> (vue/bootstrap-vue)\n",
    "\n",
    "> Due to li declration the provides a bullet point in front. However, due to us not needing it,  \n",
    "li{  \n",
    "    display:inherit;  \n",
    "}  \n",
    "added to the css will remove this dot. Or alternatively, dig into css to change styling of the dot."
   ]
  }
 ],
 "metadata": {
  "kernelspec": {
   "display_name": "Python 3",
   "language": "python",
   "name": "python3"
  },
  "language_info": {
   "codemirror_mode": {
    "name": "ipython",
    "version": 3
   },
   "file_extension": ".py",
   "mimetype": "text/x-python",
   "name": "python",
   "nbconvert_exporter": "python",
   "pygments_lexer": "ipython3",
   "version": "3.7.6"
  }
 },
 "nbformat": 4,
 "nbformat_minor": 4
}
