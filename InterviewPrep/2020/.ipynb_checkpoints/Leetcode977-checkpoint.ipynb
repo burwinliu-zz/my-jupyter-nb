{
 "cells": [
  {
   "cell_type": "markdown",
   "metadata": {},
   "source": [
    "# Leetcode 977\n",
    "## Problem\n",
    "Given an array of integers A sorted in non-decreasing order, return an array of the squares of each number, also in sorted non-decreasing order.\n",
    "## Solution \n",
    "### Thoughts\n",
    "At minimum the time must be O(N). The space is O(1) if done in place \n",
    "### Solution 1\n",
    "This is the easiest and most obvious -- square and then sort\n",
    "\n",
    "Space: O(1)\n",
    "Time: O(NLogN)\n",
    "### Solution 2\n",
    "Using a cache, avoid the need to sort after the squaring by storing the negatives in a seperate array and only append when it is correct to append -- maintaining a stack/queue\n",
    "Space (O(N))\n",
    "Time (O(N))\n"
   ]
  },
  {
   "cell_type": "code",
   "execution_count": null,
   "metadata": {},
   "outputs": [],
   "source": [
    "def sortedSquares(self, A: List[int]) -> List[int]:\n",
    "    return sorted([i**2 for i in A])"
   ]
  },
  {
   "cell_type": "code",
   "execution_count": null,
   "metadata": {},
   "outputs": [],
   "source": [
    "class Solution:\n",
    "    def sortedSquares(self, A: List[int]) -> List[int]:\n",
    "        result = []\n",
    "        temp = []\n",
    "        for i in A:\n",
    "            current = i**2\n",
    "            if i < 0:\n",
    "                temp.append(current)\n",
    "            else:\n",
    "                while len(temp) > 0 and current > temp[-1]:\n",
    "                    result.append(temp.pop(-1))\n",
    "                result.append(current)\n",
    "        while len(temp) > 0:\n",
    "            result.append(temp.pop(-1))\n",
    "        return result"
   ]
  }
 ],
 "metadata": {
  "kernelspec": {
   "display_name": "Python 3",
   "language": "python",
   "name": "python3"
  },
  "language_info": {
   "codemirror_mode": {
    "name": "ipython",
    "version": 3
   },
   "file_extension": ".py",
   "mimetype": "text/x-python",
   "name": "python",
   "nbconvert_exporter": "python",
   "pygments_lexer": "ipython3",
   "version": "3.7.6"
  }
 },
 "nbformat": 4,
 "nbformat_minor": 4
}
