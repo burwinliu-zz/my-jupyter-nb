{
 "cells": [
  {
   "cell_type": "markdown",
   "metadata": {},
   "source": [
    "# Leetcode 337\n",
    "## Problem\n",
    "The thief has found himself a new place for his thievery again. There is only one entrance to this area, called the \"root.\" Besides the root, each house has one and only one parent house. After a tour, the smart thief realized that \"all houses in this place forms a binary tree\". It will automatically contact the police if two directly-linked houses were broken into on the same night.\n",
    "\n",
    "Determine the maximum amount of money the thief can rob tonight without alerting the police.\n",
    "\n",
    "## Thoughts\n",
    "\n",
    "This is an extension of the \"House Robber\" Series (see [here](Leetcode198.ipynb) and [here](Leetcode213.ipynb)). Overall, due to the fact that you are searching for a max value, but each branch can have its own value, you must treat each branch as a seperate value. Therefore, you are comparing in 2 cases -- with root, or without -- in with root case, you take the maximum, with the next node down as invalid -- otherwise, then add the next two items. Therefore, recursion to compare\n",
    "\n",
    "## Analysis\n",
    "Time: O(N) where N == nodes  \n",
    "Space: O(N) to hold all recursive cases"
   ]
  },
  {
   "cell_type": "code",
   "execution_count": null,
   "metadata": {},
   "outputs": [],
   "source": [
    "class Solution(object):\n",
    "    def rob(self, root):\n",
    "        \"\"\"\n",
    "        :type root: TreeNode\n",
    "        :rtype: int\n",
    "        \"\"\"\n",
    "        \n",
    "        queue\n",
    "        def superrob(node):\n",
    "            # returns tuple of size two (now, later)\n",
    "            # now: max money earned if input node is robbed\n",
    "            # later: max money earned if input node is not robbed\n",
    "            \n",
    "            # base case\n",
    "            if not node: return (0, 0)\n",
    "            \n",
    "            # get values\n",
    "            left, right = superrob(node.left), superrob(node.right)\n",
    "            \n",
    "            # rob now\n",
    "            now = node.val + left[1] + right[1]\n",
    "            \n",
    "            # rob later\n",
    "            later = max(left) + max(right)\n",
    "            \n",
    "            return (now, later)\n",
    "            \n",
    "        return max(superrob(root))"
   ]
  }
 ],
 "metadata": {
  "kernelspec": {
   "display_name": "Python 3",
   "language": "python",
   "name": "python3"
  },
  "language_info": {
   "codemirror_mode": {
    "name": "ipython",
    "version": 3
   },
   "file_extension": ".py",
   "mimetype": "text/x-python",
   "name": "python",
   "nbconvert_exporter": "python",
   "pygments_lexer": "ipython3",
   "version": "3.7.6"
  }
 },
 "nbformat": 4,
 "nbformat_minor": 4
}
