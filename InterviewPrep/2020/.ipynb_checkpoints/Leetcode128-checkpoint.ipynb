{
 "cells": [
  {
   "cell_type": "markdown",
   "metadata": {},
   "source": [
    "# Leetcode 128\n",
    "## Thoughts\n",
    "Seemed like a classic Dyanmic Programming problem. However, upon further examinations, the idea of finding consecutive numbers in an unordered set can be easily solved with the use of sets as one can check with O(1) to see if a consecutive number up or down exists, and once both directions are checked, you can remove that entire sequence, as all connected # in the sequence should have been removed. After, return the longest length -- not too bad\n",
    "\n",
    "Solution below should be O(N). Takes a number and makes it into a set (O(N)). Afterwards, iterates through all numbers in the list (O(N)) and for each number checks #s up and down, removing if they are in the set, and continuing once no more +-1 exist to the added list (theoretically, if you remove one, then you remove from next run as no longer in set_store, normalizing the runtime to O(N) and not adding anymore run time). Finally return (O(1))"
   ]
  },
  {
   "cell_type": "code",
   "execution_count": null,
   "metadata": {},
   "outputs": [],
   "source": [
    "class Solution:\n",
    "    def longestConsecutive(self, nums: List[int]) -> int:\n",
    "        set_store = set(nums)\n",
    "        max_count = 0\n",
    "        for i in nums:\n",
    "            if i in set_store:\n",
    "                set_store.remove(i)\n",
    "                count = 1\n",
    "                if i+1 in set_store:\n",
    "                    n = i + 1 \n",
    "                    while n in set_store:\n",
    "                        set_store.remove(n)\n",
    "                        count += 1\n",
    "                        n += 1 \n",
    "                if i - 1 in set_store:\n",
    "                    n = i - 1 \n",
    "                    while n in set_store:\n",
    "                        set_store.remove(n)\n",
    "                        n -= 1 \n",
    "                        count += 1\n",
    "                if max_count < count:\n",
    "                    max_count = count\n",
    "        return max_count\n",
    "                    "
   ]
  }
 ],
 "metadata": {
  "kernelspec": {
   "display_name": "Python (cs178)",
   "language": "python",
   "name": "cs178"
  },
  "language_info": {
   "codemirror_mode": {
    "name": "ipython",
    "version": 3
   },
   "file_extension": ".py",
   "mimetype": "text/x-python",
   "name": "python",
   "nbconvert_exporter": "python",
   "pygments_lexer": "ipython3",
   "version": "3.8.2"
  }
 },
 "nbformat": 4,
 "nbformat_minor": 4
}
