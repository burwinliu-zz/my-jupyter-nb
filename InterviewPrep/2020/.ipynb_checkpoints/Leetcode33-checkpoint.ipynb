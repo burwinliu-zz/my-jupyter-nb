{
 "cells": [
  {
   "cell_type": "markdown",
   "metadata": {},
   "source": [
    "# Leetcode 33 \n",
    "\n",
    "## Problem\n",
    "Given an integer array nums sorted in ascending order, and an integer target.\n",
    "\n",
    "Suppose that nums is rotated at some pivot unknown to you beforehand (i.e., [0,1,2,4,5,6,7] might become [4,5,6,7,0,1,2]).\n",
    "\n",
    "You should search for target in nums and if you found return its index, otherwise return -1.\n",
    "\n",
    "## Thoughts\n",
    "There should be a way to parse through this with conditions to take into account the beginning, middle and end and use that information about where the target is relative to those locations. However, the most intuitive response is to rotate the array at pivot and then binary search. This is more inefficient -- See analysis 1.\n",
    "\n",
    "## Solutions\n",
    "\n",
    "### Solution1\n",
    "THe most intuitive response in my opinion\n",
    "#### Analysis\n",
    "Time: O(N) Time (to find pivot)\n",
    "Space: O(1)\n",
    "\n",
    "### Solution 2\n",
    "With binary search and a few conditions, we can act to binary search with a rotated, but still sorted array\n",
    "#### Analysis\n",
    "Time: O(logn)\n",
    "Space: O(1)"
   ]
  },
  {
   "cell_type": "code",
   "execution_count": null,
   "metadata": {},
   "outputs": [],
   "source": [
    "\n",
    "def search(self, nums: List[int], target: int) -> int:\n",
    "    start, end = 0, len(nums) - 1\n",
    "\n",
    "    for i in range(len(nums)-1):\n",
    "        if nums[i] > nums[i+1]:\n",
    "            pivotStart = i+1\n",
    "            break\n",
    "    else:\n",
    "        pivotStart = 0 \n",
    "\n",
    "    left, right = nums[:pivotStart][::-1], nums[pivotStart:][::-1]\n",
    "    parsed = (left+right)[::-1]\n",
    "    left  = 0\n",
    "    right = len(nums)-1\n",
    "    while left <= right: \n",
    "        print(right, left)\n",
    "        mid = left + (right - left) // 2\n",
    "        if parsed[mid] < target: \n",
    "            left = mid + 1\n",
    "            print(left)\n",
    "        elif parsed[mid] > target: \n",
    "            right = mid - 1\n",
    "        else: \n",
    "            left = mid\n",
    "            break\n",
    "    return (left + pivotStart) % len(nums)\\\n",
    "        if nums[(left + pivotStart) % len(nums)] == target else -1"
   ]
  },
  {
   "cell_type": "code",
   "execution_count": null,
   "metadata": {},
   "outputs": [],
   "source": [
    "def search(self, nums, target):\n",
    "    low, high = 0, len(nums) - 1\n",
    "\n",
    "    while low <= high:\n",
    "        mid = low + (high - low) // 2\n",
    "        if target == nums[mid]:\n",
    "            return mid\n",
    "\n",
    "        if nums[low] <= nums[mid]:\n",
    "            if nums[low] <= target <= nums[mid]:\n",
    "                high = mid - 1\n",
    "            else:\n",
    "                low = mid + 1\n",
    "        else:\n",
    "            if nums[mid] <= target <= nums[high]:\n",
    "                low = mid + 1\n",
    "            else:\n",
    "                high = mid - 1\n",
    "\n",
    "    return -1"
   ]
  }
 ],
 "metadata": {
  "kernelspec": {
   "display_name": "Python 3",
   "language": "python",
   "name": "python3"
  },
  "language_info": {
   "codemirror_mode": {
    "name": "ipython",
    "version": 3
   },
   "file_extension": ".py",
   "mimetype": "text/x-python",
   "name": "python",
   "nbconvert_exporter": "python",
   "pygments_lexer": "ipython3",
   "version": "3.7.6"
  }
 },
 "nbformat": 4,
 "nbformat_minor": 4
}
