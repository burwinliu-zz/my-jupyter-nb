{
 "cells": [
  {
   "cell_type": "markdown",
   "metadata": {},
   "source": [
    "# Leetcode 1143 \n",
    "## Problem\n",
    "Given two strings text1 and text2, return the length of their longest common subsequence.\n",
    "\n",
    "A subsequence of a string is a new string generated from the original string with some characters(can be none) deleted without changing the relative order of the remaining characters. (eg, \"ace\" is a subsequence of \"abcde\" while \"aec\" is not). A common subsequence of two strings is a subsequence that is common to both strings.\n",
    "\n",
    "If there is no common subsequence, return 0.\n",
    "## Thoughts\n",
    "I was definitely overthinking this one. We can divide the subproblem and then recurse downwards. If I truly wanted to, we could just do this via recursion table and reconstrcut bottom-up ( I think? )\n",
    "\n",
    "## Solution 1\n",
    "With a top-down approach, we can Use recursion and memoization to find the best substring version. \n",
    "\n",
    "###  Analysis\n",
    "Time: O(N\\*M) where N and M is the len to text1 and text2, as this would be the combinations of ALL two substrings back to front (Worst case)\n",
    "Space: O(N\\*M) for all substrings stored\n",
    "\n",
    "## Solution 2\n",
    "With a 2d Array instead of a dict, we save on some space\n",
    "\n",
    "## Solution 3 \n",
    "With a bottom up approach we save on the recursion time \n",
    "\n",
    "## Solution 4\n",
    "Neater code for more space (Extra row on both sides to pad)"
   ]
  },
  {
   "cell_type": "code",
   "execution_count": null,
   "metadata": {},
   "outputs": [],
   "source": [
    "class Solution:\n",
    "    def longestCommonSubsequence(self, text1: str, text2: str) -> int:\n",
    "        store = {}\n",
    "        def helper(text1, text2):\n",
    "            msf = 0\n",
    "            if (text1, text2) in store:\n",
    "                return store[(text1, text2)]\n",
    "            if len(text1) == 0 or len(text2) == 0:\n",
    "                res = 0\n",
    "            elif text1[-1] == text2[-1]:\n",
    "                res = 1 + helper(text1[:-1], text2[:-1])\n",
    "            else:\n",
    "                res = max(helper(text1[:-1], text2), helper(text1, text2[:-1]))\n",
    "            store[(text1, text2)] = res\n",
    "            return res\n",
    "        return helper(text1, text2)\n",
    "                "
   ]
  },
  {
   "cell_type": "code",
   "execution_count": null,
   "metadata": {},
   "outputs": [],
   "source": [
    "class Solution:\n",
    "    def longestCommonSubsequence(self, text1: str, text2: str) -> int:\n",
    "        store = [[-1 for i in range(len(text2) + 1)] for j in range(len(text1) + 1)]\n",
    "        def helper(text1, text2):\n",
    "            msf = 0\n",
    "            if store[len(text1)][len(text2)] != -1:\n",
    "                return store[len(text1)][len(text2)]\n",
    "            if len(text1) == 0 or len(text2) == 0:\n",
    "                res = 0\n",
    "            elif text1[-1] == text2[-1]:\n",
    "                res = 1 + helper(text1[:-1], text2[:-1])\n",
    "            else:\n",
    "                res = max(helper(text1[:-1], text2), helper(text1, text2[:-1]))\n",
    "            store[len(text1)][len(text2)] = res\n",
    "            return res\n",
    "        return helper(text1, text2)"
   ]
  },
  {
   "cell_type": "code",
   "execution_count": null,
   "metadata": {},
   "outputs": [],
   "source": [
    "class Solution:\n",
    "    def longestCommonSubsequence(self, text1: str, text2: str) -> int:\n",
    "        store = [[0 for i in range(len(text2))] for j in range(len(text1))]\n",
    "        for i, j in enumerate(text1):\n",
    "            for k, l in enumerate(text2):\n",
    "                if i == 0 or k == 0:\n",
    "                    if j == l:\n",
    "                        store[i][k] = 1\n",
    "                    else:\n",
    "                        store[i][k] = store[i-1][k] if i != 0 else store[i][k-1]\n",
    "                elif j == l:\n",
    "                    store[i][k] = 1 + store[i-1][k-1]\n",
    "                else:\n",
    "                    store[i][k] = max(store[i-1][k], store[i][k-1])\n",
    "        return store[-1][-1]\n",
    "                "
   ]
  },
  {
   "cell_type": "code",
   "execution_count": null,
   "metadata": {},
   "outputs": [],
   "source": [
    "class Solution:\n",
    "    def longestCommonSubsequence(self, text1: str, text2: str) -> int:\n",
    "        store = [[0 for i in range(len(text2) + 1)] for j in range(len(text1) + 1)]\n",
    "        for i, j in enumerate(text1):\n",
    "            for k, l in enumerate(text2):\n",
    "                if j == l:\n",
    "                    store[i + 1][k + 1] = 1 + store[i][k]\n",
    "                else:\n",
    "                    store[i + 1][k + 1] = max(store[i][k + 1], store[i + 1][k])\n",
    "        return store[-1][-1]\n",
    "                "
   ]
  },
  {
   "cell_type": "code",
   "execution_count": null,
   "metadata": {},
   "outputs": [],
   "source": []
  }
 ],
 "metadata": {
  "kernelspec": {
   "display_name": "Python 3",
   "language": "python",
   "name": "python3"
  },
  "language_info": {
   "codemirror_mode": {
    "name": "ipython",
    "version": 3
   },
   "file_extension": ".py",
   "mimetype": "text/x-python",
   "name": "python",
   "nbconvert_exporter": "python",
   "pygments_lexer": "ipython3",
   "version": "3.7.6"
  }
 },
 "nbformat": 4,
 "nbformat_minor": 4
}
