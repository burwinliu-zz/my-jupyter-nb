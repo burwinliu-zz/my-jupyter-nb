{
 "cells": [
  {
   "cell_type": "markdown",
   "metadata": {},
   "source": [
    "# Leetcode 221\n",
    "## Problem\n",
    "Given a 2D binary matrix filled with 0's and 1's, find the largest square containing only 1's and return its area.\n",
    "## Thoughts\n",
    "Got this problem for I believe IBM. This was an idea found from the comment sections -- find groupings/combos and when a \"corner\" of three is found, sum 1 to the item and append to the memo table, to find where combos occur.\n",
    "\n",
    "## Analysis\n",
    "Time: O(N) where N == number of nodes  \n",
    "Space: O(N) space"
   ]
  },
  {
   "cell_type": "code",
   "execution_count": null,
   "metadata": {},
   "outputs": [],
   "source": [
    "class Solution:\n",
    "    def maximalSquare(self, matrix: List[List[str]]) -> int:\n",
    "        if len(matrix) == 0:\n",
    "            return 0\n",
    "        maxSq = 0\n",
    "        memo = [[0 for _ in range(len(matrix[0])+1)] for _ in range(len(matrix)+1)]\n",
    "        for i in range(len(matrix)):\n",
    "            for j in range(len(matrix[0])):\n",
    "                if matrix[i][j] == \"1\":\n",
    "                    memo[i+1][j+1] = min(memo[i][j], memo[i + 1][j], memo[i][j + 1]) + 1\n",
    "                    maxSq = max(maxSq, memo[i+1][j+1])\n",
    "        return maxSq**2"
   ]
  }
 ],
 "metadata": {
  "kernelspec": {
   "display_name": "Python 3",
   "language": "python",
   "name": "python3"
  },
  "language_info": {
   "codemirror_mode": {
    "name": "ipython",
    "version": 3
   },
   "file_extension": ".py",
   "mimetype": "text/x-python",
   "name": "python",
   "nbconvert_exporter": "python",
   "pygments_lexer": "ipython3",
   "version": "3.7.6"
  }
 },
 "nbformat": 4,
 "nbformat_minor": 4
}
