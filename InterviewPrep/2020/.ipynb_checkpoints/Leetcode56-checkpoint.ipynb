{
 "cells": [
  {
   "cell_type": "markdown",
   "metadata": {},
   "source": [
    "# Leetcode 56\n",
    "## Problem\n",
    "Given a collection of intervals, merge all overlapping intervals.\n",
    "\n",
    "## Thoughts \n",
    "\n",
    "This doesn't seem too bad, just a lot of exception cases (ones which I did not account for and I needed to think about more). Once sorted (by the first element) just find wherever overlaps occured and merge if there were some overlaps.\n",
    "\n",
    "### Analysis of 1\n",
    "Time : O(NLogN) to sort\n",
    "Space: O(N) to store result (O(1)) if not, assuming sorted is implemented in place)\n"
   ]
  },
  {
   "cell_type": "code",
   "execution_count": null,
   "metadata": {},
   "outputs": [],
   "source": [
    "class Solution:\n",
    "    def merge(self, intervals: List[List[int]]) -> List[List[int]]:\n",
    "        interval = sorted(intervals, key = lambda x: x[0])\n",
    "        result = []\n",
    "        current = [None, None]\n",
    "        for i in interval:\n",
    "            if current[1] is not None and i[0] <= current[1]:\n",
    "                if current[1] < i[1]:\n",
    "                    current[1] = i[1]\n",
    "            else:\n",
    "                if current[0] is not None:\n",
    "                    result.append(current)\n",
    "                current = i\n",
    "        if current[0] is not None:\n",
    "            result.append(current)\n",
    "        return result"
   ]
  },
  {
   "cell_type": "code",
   "execution_count": null,
   "metadata": {},
   "outputs": [],
   "source": [
    "class Solution(object):\n",
    "    def merge(self, intervals):\n",
    "        \"\"\"\n",
    "        :type intervals: List[List[int]]\n",
    "        :rtype: List[List[int]]\n",
    "        \"\"\"\n",
    "        if len(intervals) == 0:\n",
    "            return []\n",
    "        res = []\n",
    "        intervals = sorted(intervals, key=lambda x: x[0])\n",
    "        current = intervals[0]\n",
    "        for i in intervals:\n",
    "            if i[0] <= current[0] <= i[1] or current[0] <= i[0] <= current[1]:\n",
    "                current = [min(current[0], i[0]), max(current[1], i[1])]\n",
    "            else:\n",
    "                res.append(current)\n",
    "                current = i\n",
    "        res.append(current)\n",
    "        return res\n",
    "        "
   ]
  }
 ],
 "metadata": {
  "kernelspec": {
   "display_name": "Python 3",
   "language": "python",
   "name": "python3"
  },
  "language_info": {
   "codemirror_mode": {
    "name": "ipython",
    "version": 3
   },
   "file_extension": ".py",
   "mimetype": "text/x-python",
   "name": "python",
   "nbconvert_exporter": "python",
   "pygments_lexer": "ipython3",
   "version": "3.7.6"
  }
 },
 "nbformat": 4,
 "nbformat_minor": 4
}
