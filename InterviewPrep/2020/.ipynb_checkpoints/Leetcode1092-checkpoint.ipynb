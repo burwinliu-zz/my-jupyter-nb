{
 "cells": [
  {
   "cell_type": "markdown",
   "metadata": {},
   "source": [
    "# Thoughts\n",
    "\n",
    "Technically correct, but TLE -- due to use of recursion potentially?"
   ]
  },
  {
   "cell_type": "code",
   "execution_count": null,
   "metadata": {},
   "outputs": [],
   "source": [
    "class Solution:\n",
    "    def shortestCommonSupersequence(self, str1: str, str2: str) -> str:\n",
    "        memo = [[None for i in range(len(str2) + 1)] for j in range(len(str1) + 1)]\n",
    "        memo[len(str1)][len(str2)] = \"\"\n",
    "        \n",
    "        def helper(pos1, pos2):\n",
    "            if memo[pos1][pos2]:\n",
    "                return memo[pos1][pos2]\n",
    "            if pos1 == len(str1):\n",
    "                return str2[pos2:]\n",
    "            if pos2 == len(str2):\n",
    "                return str1[pos1:]\n",
    "            if str1[pos1] == str2[pos2]:\n",
    "                res = str1[pos1] + helper(1+pos1, 1+pos2)\n",
    "                memo[pos1][pos2] = res\n",
    "                return res\n",
    "            \n",
    "            else:\n",
    "                can1 = helper(1+pos1, pos2)\n",
    "                can2 = helper(pos1, 1+pos2)\n",
    "                \n",
    "                if len(can1) < len(can2):\n",
    "                    res = str1[pos1] + can1\n",
    "                else:\n",
    "                    res = str2[pos2] + can2\n",
    "                memo[pos1][pos2] = res\n",
    "                return res\n",
    "        return helper(0, 0)"
   ]
  },
  {
   "cell_type": "code",
   "execution_count": null,
   "metadata": {},
   "outputs": [],
   "source": [
    "class Solution:\n",
    "    def shortestCommonSupersequence(self, str1: str, str2: str) -> str:\n",
    "        # Passes due to LRU_Cache trick -- no true changes to code\n",
    "        @lru_cache(50000)\n",
    "        def helper(str1, str2):\n",
    "            if len(str1) == 0:\n",
    "                return str2\n",
    "            if len(str2) == 0:\n",
    "                return str1\n",
    "            if str1[0] == str2[0]:\n",
    "                return str1[0] + helper(str1[1:], str2[1:])\n",
    "            \n",
    "            else:\n",
    "                can1 = helper(str1[1:], str2)\n",
    "                can2 = helper(str1, str2[1:])\n",
    "                \n",
    "                if len(can1) < len(can2):\n",
    "                    return str1[0] + can1\n",
    "                else:\n",
    "                    return str2[0] + can2\n",
    "        return helper(str1, str2)"
   ]
  },
  {
   "cell_type": "code",
   "execution_count": null,
   "metadata": {},
   "outputs": [],
   "source": [
    "class Solution:\n",
    "    def shortestCommonSupersequence(self, str1: str, str2: str) -> str:\n",
    "        @lru_cache(50000)\n",
    "        def helper(str1, str2):\n",
    "            if len(str1) == 0:\n",
    "                return str2\n",
    "            if len(str2) == 0:\n",
    "                return str1\n",
    "            if str1[0] == str2[0]:\n",
    "                return str1[0] + helper(str1[1:], str2[1:])\n",
    "            \n",
    "            else:\n",
    "                return min(str1[0] + helper(str1[1:], str2), str2[0] + helper(str1, str2[1:]), key=len) # Cleaner code\n",
    "        return helper(str1, str2)"
   ]
  }
 ],
 "metadata": {
  "kernelspec": {
   "display_name": "Python 3",
   "language": "python",
   "name": "python3"
  },
  "language_info": {
   "codemirror_mode": {
    "name": "ipython",
    "version": 3
   },
   "file_extension": ".py",
   "mimetype": "text/x-python",
   "name": "python",
   "nbconvert_exporter": "python",
   "pygments_lexer": "ipython3",
   "version": "3.7.6"
  }
 },
 "nbformat": 4,
 "nbformat_minor": 4
}
