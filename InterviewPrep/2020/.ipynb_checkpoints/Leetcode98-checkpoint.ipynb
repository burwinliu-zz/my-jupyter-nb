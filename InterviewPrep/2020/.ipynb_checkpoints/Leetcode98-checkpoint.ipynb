{
 "cells": [
  {
   "cell_type": "markdown",
   "metadata": {},
   "source": [
    "# Leetcode 98\n",
    "## Problem\n",
    "Validate a BST\n",
    "## Solution\n",
    "### Solution 1\n",
    "#### Thoughts\n",
    "Need to account for more edge cases -- didn't account for the [0] case initially (lower bound was 0) -- definitely ask during interview and didn't realize there had to be fit in a bounding by past paths (not reading enough)\n",
    "#### Solution\n",
    "Just check if within bounds, and left and right subtrees are also BSTs with recursion\n",
    "#### Analysis\n",
    "Time and Space, given that all elements are traversed and stored, make the Time: O(N) and Space: O(N)\n"
   ]
  },
  {
   "cell_type": "code",
   "execution_count": null,
   "metadata": {},
   "outputs": [],
   "source": [
    "# Definition for a binary tree node.\n",
    "# class TreeNode:\n",
    "#     def __init__(self, val=0, left=None, right=None):\n",
    "#         self.val = val\n",
    "#         self.left = left\n",
    "#         self.right = right\n",
    "class Solution:\n",
    "    def isValidBST(self, root: TreeNode) -> bool:\n",
    "        def helper(root, minVal, maxVal):\n",
    "            if not root:\n",
    "                return True\n",
    "            return minVal < root.val < maxVal and helper(root.left, minVal, root.val) and helper(root.right, root.val, maxVal)\n",
    "        return helper(root, -math.inf, math.inf)"
   ]
  }
 ],
 "metadata": {
  "kernelspec": {
   "display_name": "Python 3",
   "language": "python",
   "name": "python3"
  },
  "language_info": {
   "codemirror_mode": {
    "name": "ipython",
    "version": 3
   },
   "file_extension": ".py",
   "mimetype": "text/x-python",
   "name": "python",
   "nbconvert_exporter": "python",
   "pygments_lexer": "ipython3",
   "version": "3.7.6"
  }
 },
 "nbformat": 4,
 "nbformat_minor": 4
}
