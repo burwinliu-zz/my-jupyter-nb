{
 "cells": [
  {
   "cell_type": "markdown",
   "metadata": {},
   "source": [
    "# Leetcode 139\n",
    "## Problem\n",
    "Given a non-empty string s and a dictionary wordDict containing a list of non-empty words, determine if s can be segmented into a space-separated sequence of one or more dictionary words.\n",
    "\n",
    "Note:\n",
    "\n",
    "* The same word in the dictionary may be reused multiple times in the segmentation.\n",
    "* You may assume the dictionary does not contain duplicate words.\n",
    "\n",
    "## Solution \n",
    "\n",
    "### Thoughts\n",
    "When going through this, we won't be allowed to have some form of error checking, so we have to be able to hand stimulate. \n",
    "\n",
    "### Analysis \n",
    "Space : O(N^2) all possible substrings are stored as a possible case. \n",
    "        Average situation -> O(N) where you store some strings that occur, which should be related to the number of charecter\n",
    "Time: O(n^2) is worse case where all possible substrings are passed into helper. Under average situations, this should be O(N) as you would break the word down into \n",
    "        a case already computed, and return from memo or you would have to compute the case as a novelty case."
   ]
  },
  {
   "cell_type": "code",
   "execution_count": null,
   "metadata": {},
   "outputs": [],
   "source": [
    "from collections import defaultdict \n",
    "\n",
    "class Solution:\n",
    "    def wordBreak(self, s: str, wordDict: List[str]) -> bool:\n",
    "        memo = {\"\": True}\n",
    "        \n",
    "        def helper(substr, wordDict: dict):\n",
    "            if substr in memo:\n",
    "                return memo[substr]\n",
    "            for i in wordDict:\n",
    "                if i == substr[:len(i)]:\n",
    "                    result = helper(substr[len(i):], wordDict)\n",
    "                    if result:\n",
    "                        memo[substr] = True\n",
    "                        return True\n",
    "            memo[substr] = False\n",
    "            return False\n",
    "            \n",
    "        return helper(s, wordDict)"
   ]
  },
  {
   "cell_type": "code",
   "execution_count": null,
   "metadata": {},
   "outputs": [],
   "source": [
    "from collections import defaultdict \n",
    "\n",
    "class Solution:\n",
    "    def wordBreak(self, s: str, wordDict: List[str]) -> bool:\n",
    "        memo = {\"\": True}\n",
    "        \n",
    "        def helper(substr, wordDict: dict):\n",
    "            if substr in memo:\n",
    "                return memo[substr]\n",
    "            for i in wordDict[substr[0]]:\n",
    "                if i == substr[:len(i)]:\n",
    "                    result = helper(substr[len(i):], wordDict)\n",
    "                    if result:\n",
    "                        memo[substr] = True\n",
    "                        return True\n",
    "            memo[substr] = False\n",
    "            return False\n",
    "            \n",
    "        \n",
    "        parsedDict = defaultdict(list)\n",
    "        for i in wordDict:\n",
    "            parsedDict[i[0]].append(i)\n",
    "        return helper(s, parsedDict)"
   ]
  }
 ],
 "metadata": {
  "kernelspec": {
   "display_name": "Python 3",
   "language": "python",
   "name": "python3"
  },
  "language_info": {
   "codemirror_mode": {
    "name": "ipython",
    "version": 3
   },
   "file_extension": ".py",
   "mimetype": "text/x-python",
   "name": "python",
   "nbconvert_exporter": "python",
   "pygments_lexer": "ipython3",
   "version": "3.7.6"
  }
 },
 "nbformat": 4,
 "nbformat_minor": 4
}
