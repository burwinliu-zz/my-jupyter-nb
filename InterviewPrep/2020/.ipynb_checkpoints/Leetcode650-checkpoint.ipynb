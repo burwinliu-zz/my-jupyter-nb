{
 "cells": [
  {
   "cell_type": "markdown",
   "metadata": {},
   "source": [
    "# Leetcode 650\n",
    "## Problem\n",
    "Initially on a notepad only one character 'A' is present. You can perform two operations on this notepad for each step:\n",
    "\n",
    "Copy All: You can copy all the characters present on the notepad (partial copy is not allowed).\n",
    "Paste: You can paste the characters which are copied last time.\n",
    " \n",
    "\n",
    "Given a number n. You have to get exactly n 'A' on the notepad by performing the minimum number of steps permitted. Output the minimum number of steps to get n 'A'.\n",
    "\n",
    "## Thoughts\n",
    "Typical DP problem -- Need to understand how to move in between states, and how to transfer to bottom up\n",
    "\n",
    "Currently, there is a top down\n",
    "\n",
    "## Analysis\n",
    "Time :O(N) where n == passed N\n",
    "Space: O(N) for all stack"
   ]
  },
  {
   "cell_type": "code",
   "execution_count": null,
   "metadata": {},
   "outputs": [],
   "source": [
    "class Solution:\n",
    "    def minSteps(self, n: int) -> int:\n",
    "        memo = {}\n",
    "        if n == 1:\n",
    "            return 0\n",
    "        \n",
    "        def helper(numAs, curCopy):\n",
    "            if numAs == n:\n",
    "                return 0\n",
    "            if numAs > n:\n",
    "                return math.inf\n",
    "            if (numAs, curCopy) in memo:\n",
    "                return memo[(numAs, curCopy)]\n",
    "            elif numAs != curCopy:\n",
    "                temp = 1 + min(helper(numAs + curCopy, curCopy), helper(numAs, numAs))\n",
    "            else:\n",
    "                temp = 1 + helper(numAs + curCopy, curCopy)\n",
    "            memo[(numAs, curCopy)] = temp\n",
    "            return temp\n",
    "        return 1 + helper(1, 1)"
   ]
  }
 ],
 "metadata": {
  "kernelspec": {
   "display_name": "Python 3",
   "language": "python",
   "name": "python3"
  },
  "language_info": {
   "codemirror_mode": {
    "name": "ipython",
    "version": 3
   },
   "file_extension": ".py",
   "mimetype": "text/x-python",
   "name": "python",
   "nbconvert_exporter": "python",
   "pygments_lexer": "ipython3",
   "version": "3.7.6"
  }
 },
 "nbformat": 4,
 "nbformat_minor": 4
}
