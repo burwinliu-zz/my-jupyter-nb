{
 "cells": [
  {
   "cell_type": "markdown",
   "metadata": {},
   "source": [
    "# Leetcode 7\n",
    "Given a 32-bit signed integer, reverse digits of an integer.\n",
    "Note:\n",
    "Assume we are dealing with an environment which could only store integers within the 32-bit signed integer range: [−231,  231 − 1]. For the purpose of this problem, assume that your function returns 0 when the reversed integer overflows.\n",
    "\n",
    "## Thoughts\n",
    "Has a bit of frustration with the note that was provided as for whatever reason my ultimate control condition didn't work for a bit, but eventually worked. To increase efficiency, I suppose we could do this using a string reversal, but it was pretty clear not to sooo --"
   ]
  },
  {
   "cell_type": "code",
   "execution_count": null,
   "metadata": {},
   "outputs": [],
   "source": [
    "class Solution:\n",
    "    def reverse(self, x: int) -> int:\n",
    "        control = abs(x)\n",
    "        res = 0\n",
    "        while control > 0:\n",
    "            res = (res * 10)\n",
    "            res += (control % 10)\n",
    "            control = (int(control /10))\n",
    "        if res > pow(2, 31) - 1:\n",
    "            return 0\n",
    "        if x < 0:\n",
    "            return res * -1\n",
    "        return res"
   ]
  }
 ],
 "metadata": {
  "kernelspec": {
   "display_name": "Python 3",
   "language": "python",
   "name": "python3"
  },
  "language_info": {
   "codemirror_mode": {
    "name": "ipython",
    "version": 3
   },
   "file_extension": ".py",
   "mimetype": "text/x-python",
   "name": "python",
   "nbconvert_exporter": "python",
   "pygments_lexer": "ipython3",
   "version": "3.7.4"
  }
 },
 "nbformat": 4,
 "nbformat_minor": 2
}
