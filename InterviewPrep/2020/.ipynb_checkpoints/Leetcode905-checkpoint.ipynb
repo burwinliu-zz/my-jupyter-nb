{
 "cells": [
  {
   "cell_type": "markdown",
   "metadata": {},
   "source": [
    "# Leetcode 905\n",
    "## Problem\n",
    "Given an array A of non-negative integers, return an array consisting of all the even elements of A, followed by all the odd elements of A.\n",
    "\n",
    "You may return any answer array that satisfies this condition.\n",
    "\n",
    "## Thoughts\n",
    "This took a little more then I thought -- but the basic idea was already constructed. Just a two pointer solution, swap until swaps are on both sides (essentially looking for pivot at the middle, and swaping until on the right side, quicksort like?)\n",
    "\n",
    "## Analysis\n",
    "Time: O(N)   \n",
    "Space: O(1)  (In place)"
   ]
  },
  {
   "cell_type": "code",
   "execution_count": null,
   "metadata": {},
   "outputs": [],
   "source": [
    "class Solution:\n",
    "    def sortArrayByParity(self, A: List[int]) -> List[int]:\n",
    "        p1 = 0\n",
    "        p2 = len(A)-1\n",
    "        \n",
    "        while True:\n",
    "            while p1 < len(A) and A[p1] % 2 == 0 :\n",
    "                p1 += 1\n",
    "            while p2 > -1 and A[p2] % 2 != 0:\n",
    "                p2 -= 1\n",
    "            if p1 > p2:\n",
    "                return A\n",
    "            temp = A[p1]\n",
    "            A[p1] = A[p2]\n",
    "            A[p2] = temp\n",
    "            \n",
    "        "
   ]
  }
 ],
 "metadata": {
  "kernelspec": {
   "display_name": "Python 3",
   "language": "python",
   "name": "python3"
  },
  "language_info": {
   "codemirror_mode": {
    "name": "ipython",
    "version": 3
   },
   "file_extension": ".py",
   "mimetype": "text/x-python",
   "name": "python",
   "nbconvert_exporter": "python",
   "pygments_lexer": "ipython3",
   "version": "3.7.6"
  }
 },
 "nbformat": 4,
 "nbformat_minor": 4
}
