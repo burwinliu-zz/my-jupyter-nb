{
 "cells": [
  {
   "cell_type": "markdown",
   "metadata": {},
   "source": [
    "# Leetcode 1291\n",
    "## Problem\n",
    "An integer has sequential digits if and only if each digit in the number is one more than the previous digit.\n",
    "\n",
    "Return a sorted list of all the integers in the range [low, high] inclusive that have sequential digits.\n",
    "## Thoughts\n",
    "This is a lot of itertion and logic -- not too much to think about besides the thinking of moving through. The idea is that, construct minimum, and if it surpases on a move (with mask), recreate the next \"digit\" up.\n",
    "\n",
    "## Analysis\n",
    "Time: O(N) -- where N == numbers to return\n",
    "Space: O(N) "
   ]
  },
  {
   "cell_type": "code",
   "execution_count": null,
   "metadata": {},
   "outputs": [],
   "source": [
    "class Solution:\n",
    "    def sequentialDigits(self, low: int, high: int) -> List[int]:\n",
    "        res = []\n",
    "        \n",
    "        numDigits = int(math.log10(low)) \n",
    "        firstDigit = low\n",
    "        mask = 1\n",
    "        for i in range(numDigits):\n",
    "            firstDigit = firstDigit // 10\n",
    "            mask = (mask*10) + 1\n",
    "        # Constructing the minNumber\n",
    "        if firstDigit + numDigits >= 10:\n",
    "            numDigits += 1\n",
    "            mask = (mask*10) + 1\n",
    "            firstDigit = 1\n",
    "        \n",
    "        current = self.reconstruct(firstDigit, numDigits)\n",
    "        while current < high:\n",
    "            if current >= low:\n",
    "                res.append(current)\n",
    "            current += mask\n",
    "            if current % 10 == 0:\n",
    "                numDigits += 1\n",
    "                mask = mask*10 + 1\n",
    "                current = self.reconstruct(1, numDigits)\n",
    "        return res\n",
    "    \n",
    "    def reconstruct(self,firstDigit, numDigits):\n",
    "        \n",
    "        curDigit = firstDigit\n",
    "        current = firstDigit\n",
    "        for i in range(numDigits):\n",
    "            curDigit += 1\n",
    "            current = current*10 + curDigit\n",
    "        return current"
   ]
  }
 ],
 "metadata": {
  "kernelspec": {
   "display_name": "Python 3",
   "language": "python",
   "name": "python3"
  },
  "language_info": {
   "codemirror_mode": {
    "name": "ipython",
    "version": 3
   },
   "file_extension": ".py",
   "mimetype": "text/x-python",
   "name": "python",
   "nbconvert_exporter": "python",
   "pygments_lexer": "ipython3",
   "version": "3.7.6"
  }
 },
 "nbformat": 4,
 "nbformat_minor": 4
}
