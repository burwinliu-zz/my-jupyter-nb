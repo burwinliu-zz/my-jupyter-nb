{
 "cells": [
  {
   "cell_type": "markdown",
   "metadata": {},
   "source": [
    "# Leetcode 556\n",
    "\n",
    "# Solution 1\n",
    "Very rudimentary, brute force solution\n",
    "\n",
    "# Solution 2\n",
    "Much better, slightly messy, but O(M) where M == length of code"
   ]
  },
  {
   "cell_type": "code",
   "execution_count": null,
   "metadata": {},
   "outputs": [],
   "source": [
    "import itertools\n",
    "\n",
    "class Solution(object):\n",
    "    def nextGreaterElement(self, n):\n",
    "        \"\"\"\n",
    "        :type n: int\n",
    "        :rtype: int\n",
    "        \"\"\"\n",
    "        check = sorted(set([int(\"\".join(i)) for i in itertools.permutations([i for i in str(n)]) if int(\"\".join(i)) <= 2**31 - 1]))\n",
    "        for i in check:\n",
    "            if i > n:\n",
    "                return i\n",
    "        return -1"
   ]
  },
  {
   "cell_type": "code",
   "execution_count": null,
   "metadata": {},
   "outputs": [],
   "source": [
    "class Solution(object):\n",
    "    def nextGreaterElement(self, n):\n",
    "        \"\"\"\n",
    "        :type n: int\n",
    "        :rtype: int\n",
    "        \"\"\"\n",
    "        check = [i for i in str(n)]\n",
    "        for i in range(len(check)-1, -1, -1):\n",
    "            maxShot = (-1, 10)\n",
    "            for j in range(i+1, len(check)):\n",
    "                if check[j] > check[i] and int(check[j]) < maxShot[1]:\n",
    "                    print(j, i)\n",
    "                    maxShot = (j, check[j])\n",
    "            if maxShot[0] != -1:\n",
    "                \n",
    "                res = [check[ind] for ind in range(i)]\n",
    "                res.append(check[maxShot[0]])\n",
    "                for temp in sorted([check[t] for t in range(i, len(check)) if t != maxShot[0]]):\n",
    "                    res.append(temp)\n",
    "                if int(\"\".join(res)) <= 2**31 -1:\n",
    "                    return int(\"\".join(res))\n",
    "        return -1"
   ]
  }
 ],
 "metadata": {
  "kernelspec": {
   "display_name": "Python 3",
   "language": "python",
   "name": "python3"
  },
  "language_info": {
   "codemirror_mode": {
    "name": "ipython",
    "version": 3
   },
   "file_extension": ".py",
   "mimetype": "text/x-python",
   "name": "python",
   "nbconvert_exporter": "python",
   "pygments_lexer": "ipython3",
   "version": "3.8.3"
  }
 },
 "nbformat": 4,
 "nbformat_minor": 4
}
