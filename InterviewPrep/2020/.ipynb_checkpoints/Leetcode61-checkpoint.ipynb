{
 "cells": [
  {
   "cell_type": "markdown",
   "metadata": {},
   "source": [
    "# Leetcode 61\n",
    "## Problem\n",
    "Given a linked list, rotate the list to the right by k places, where k is non-negative.\n",
    "\n",
    "## Thoughts\n",
    "Once we find the top end, we can just find the point at which to rotate on via subtraction from the top, and then thats the start. Then, rotate point's middle will be start and returned, find the ending and then append the original head there\n",
    "\n",
    "## Analysis\n",
    "Time: O(N)  \n",
    "Space: O(N)"
   ]
  },
  {
   "cell_type": "code",
   "execution_count": null,
   "metadata": {},
   "outputs": [],
   "source": [
    "# Definition for singly-linked list.\n",
    "# class ListNode(object):\n",
    "#     def __init__(self, val=0, next=None):\n",
    "#         self.val = val\n",
    "#         self.next = next\n",
    "class Solution(object):\n",
    "    def getLength(self, head):\n",
    "        temp = head\n",
    "        length = 0\n",
    "        while temp is not None:\n",
    "            temp = temp.next\n",
    "            length += 1\n",
    "        return length\n",
    "    \n",
    "    def rotateRight(self, head, k):\n",
    "        \"\"\"\n",
    "        :type head: ListNode\n",
    "        :type k: int\n",
    "        :rtype: ListNode\n",
    "        \"\"\"\n",
    "        length = self.getLength(head)\n",
    "        if length == 0:\n",
    "            return head\n",
    "        rotatePoint = (length - (k % length)) % length\n",
    "        \n",
    "        temp = head\n",
    "        if rotatePoint == 0:\n",
    "            return head\n",
    "        print(rotatePoint)\n",
    "        while rotatePoint > 1:\n",
    "            rotatePoint -= 1\n",
    "            temp = temp.next\n",
    "        tempEnd = temp\n",
    "        newHead = temp.next\n",
    "        temp = temp.next\n",
    "        tempEnd.next = None\n",
    "        i = rotatePoint\n",
    "        while temp.next is not None:\n",
    "            temp = temp.next\n",
    "        temp.next = head\n",
    "        return newHead\n",
    "        `"
   ]
  }
 ],
 "metadata": {
  "kernelspec": {
   "display_name": "Python 3",
   "language": "python",
   "name": "python3"
  },
  "language_info": {
   "codemirror_mode": {
    "name": "ipython",
    "version": 3
   },
   "file_extension": ".py",
   "mimetype": "text/x-python",
   "name": "python",
   "nbconvert_exporter": "python",
   "pygments_lexer": "ipython3",
   "version": "3.8.3"
  }
 },
 "nbformat": 4,
 "nbformat_minor": 4
}
