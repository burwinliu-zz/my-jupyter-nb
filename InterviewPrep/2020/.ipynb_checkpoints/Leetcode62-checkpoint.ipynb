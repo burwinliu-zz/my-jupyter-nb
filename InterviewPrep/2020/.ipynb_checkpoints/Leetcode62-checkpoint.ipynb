{
 "cells": [
  {
   "cell_type": "code",
   "execution_count": 7,
   "metadata": {},
   "outputs": [
    {
     "name": "stdout",
     "output_type": "stream",
     "text": [
      "[[-1, -1, -1], [-1, -1, -1], [-1, -1, -1], [-1, -1, -1]]\n",
      "[[3, -1, -1], [2, -1, -1], [-1, -1, -1], [-1, -1, -1]]\n"
     ]
    }
   ],
   "source": [
    "print([[-1]*3]*4)\n",
    "\n",
    "x = [[-1]*3 for i in range(4)]\n",
    "\n",
    "x[0][0] = 3\n",
    "x[1][0] = 2\n",
    "\n",
    "print(x)\n"
   ]
  },
  {
   "cell_type": "code",
   "execution_count": null,
   "metadata": {},
   "outputs": [],
   "source": [
    "class Solution:\n",
    "    def uniquePaths(self, m: int, n: int) -> int:\n",
    "        dictPaths = dict()\n",
    "        \n",
    "        def recursionPaths(m1, n1):\n",
    "            if(m1 == 1 and n1 == 1):\n",
    "                return 1\n",
    "            if ((m1, n1) in dictPaths):\n",
    "                return dictPaths[(m1,n1)]\n",
    "            total = 0\n",
    "            if m1 > 1:\n",
    "                total += recursionPaths(m1-1, n1)\n",
    "            if n1 > 1:\n",
    "                total += recursionPaths(m1, n1-1)\n",
    "            dictPaths[(m1, n1)] = total\n",
    "            return total\n",
    "        return recursionPaths(m, n)"
   ]
  },
  {
   "cell_type": "code",
   "execution_count": null,
   "metadata": {},
   "outputs": [],
   "source": [
    "class Solution:\n",
    "    def uniquePaths(self, m: int, n: int) -> int:\n",
    "        dictPaths = [[-1] * n for i in range(m)]\n",
    "        \n",
    "        def recursionPaths(m1, n1):\n",
    "            if(m1 == 0 and n1 == 0):\n",
    "                return 1\n",
    "            if (dictPaths[m1][n1] != -1):\n",
    "                return dictPaths[m1][n1]\n",
    "            total = 0\n",
    "            if m1 > 0:\n",
    "                total += recursionPaths(m1-1, n1)\n",
    "            if n1 > 0:\n",
    "                total += recursionPaths(m1, n1-1)\n",
    "            dictPaths[m1][n1] = total\n",
    "            return total\n",
    "        return recursionPaths(m - 1, n - 1)"
   ]
  },
  {
   "cell_type": "code",
   "execution_count": null,
   "metadata": {},
   "outputs": [],
   "source": [
    "class Solution:\n",
    "    def uniquePaths(self, m: int, n: int) -> int:\n",
    "        aux = [[1 for x in range(n)] for x in range(m)]\n",
    "        for i in range(1, m):\n",
    "            for j in range(1, n):\n",
    "                aux[i][j] = aux[i][j-1]+aux[i-1][j]\n",
    "        return aux[-1][-1]"
   ]
  }
 ],
 "metadata": {
  "kernelspec": {
   "display_name": "Python 3",
   "language": "python",
   "name": "python3"
  },
  "language_info": {
   "codemirror_mode": {
    "name": "ipython",
    "version": 3
   },
   "file_extension": ".py",
   "mimetype": "text/x-python",
   "name": "python",
   "nbconvert_exporter": "python",
   "pygments_lexer": "ipython3",
   "version": "3.7.6"
  }
 },
 "nbformat": 4,
 "nbformat_minor": 4
}
