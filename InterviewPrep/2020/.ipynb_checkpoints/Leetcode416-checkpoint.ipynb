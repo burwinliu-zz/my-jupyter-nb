{
 "cells": [
  {
   "cell_type": "markdown",
   "metadata": {},
   "source": [
    "# Leetcode 416\n",
    "## Problem\n",
    "Given a non-empty array containing only positive integers, find if the array can be partitioned into two subsets such that the sum of elements in both subsets is equal.\n",
    "\n",
    "Note:\n",
    "\n",
    "* Each of the array element will not exceed 100.\n",
    "* The array size will not exceed 200.\n",
    "\n",
    "## Thoughts \n",
    "One of the toguhest DP problems I have encountered so far ( That I could solve ). Initially I was looking to partition into two buckets and backtracking to see if we could divide it into two -- later realizing with some discussion posts that we could simply sum up the total and divide into two and see if one half could fill one bucket -- after all if one is filled, then the other is as well automatically. I wonder how N buckets would be filled -- divide into x buckets, and then try to fill each by combination? I think DFS or backtracking is the feasible solution, but who knows\n",
    "\n",
    "## Solution\n",
    "With knapsack 1/0 we realize that we are trying to optimize to find the total given values. Therefore, we take a M\\*N array with a combinations -- do we choose the current selected num (N that we are on) and can we sum up to the current point (by taking prev - current num val + current num val) -- by maximizing we choose whichever is closest to the \"goal\" value\n",
    "### Optimization\n",
    "By using True and False, store less information and optimize space more.\n",
    "\n",
    "## Analysis\n",
    "Time: O(M\\*N) where M is the midpoint of the total sum and N is the number of numbers -- to parse through all possible combinations\n",
    "Space: O(2) Since we optimized, realizing only two rows were necessary to parse through everything"
   ]
  },
  {
   "cell_type": "code",
   "execution_count": null,
   "metadata": {},
   "outputs": [],
   "source": [
    "class Solution:\n",
    "    def canPartition(self, nums: List[int]) -> bool:\n",
    "        record = 0\n",
    "        for i in nums:\n",
    "            record += i\n",
    "        target = record/2\n",
    "        if int(target) != target:\n",
    "            return False\n",
    "        total = 0\n",
    "        prev = [0 for i in range(int(target) + 1)] \n",
    "        curr = [0 for i in range(int(target) + 1)] \n",
    "        for i, j in enumerate(nums):\n",
    "            for k in range(len(prev)):\n",
    "                if k-j < 0 or prev[k-j] + j > k :\n",
    "                    curr[k] = prev[k]\n",
    "                else:\n",
    "                    curr[k] = max(prev[k-j] + j, prev[k])\n",
    "\n",
    "                    if curr[k] == target:\n",
    "                        return True\n",
    "            prev = [i for i in curr]\n",
    "        return False\n",
    "        \n",
    "        "
   ]
  },
  {
   "cell_type": "code",
   "execution_count": null,
   "metadata": {},
   "outputs": [],
   "source": [
    "class Solution:\n",
    "    def canPartition(self, nums: List[int]) -> bool:\n",
    "        record = 0\n",
    "        for i in nums:\n",
    "            record += i\n",
    "        target = record/2\n",
    "        if int(target) != target:\n",
    "            return False\n",
    "        total = 0\n",
    "        prev = [False for i in range(int(target) + 1)] \n",
    "        curr = [False for i in range(int(target) + 1)] \n",
    "        prev[0] = True\n",
    "        for i, j in enumerate(nums):\n",
    "            for k in range(len(prev)):\n",
    "                if k-j < 0:\n",
    "                    curr[k] = prev[k]\n",
    "                else:\n",
    "                    curr[k] = prev[k-j] or prev[k]\n",
    "\n",
    "                    if k == target and curr[k]:\n",
    "                        return True\n",
    "            prev = [i for i in curr]\n",
    "        return False\n",
    "        \n",
    "        "
   ]
  }
 ],
 "metadata": {
  "kernelspec": {
   "display_name": "Python 3",
   "language": "python",
   "name": "python3"
  },
  "language_info": {
   "codemirror_mode": {
    "name": "ipython",
    "version": 3
   },
   "file_extension": ".py",
   "mimetype": "text/x-python",
   "name": "python",
   "nbconvert_exporter": "python",
   "pygments_lexer": "ipython3",
   "version": "3.7.6"
  }
 },
 "nbformat": 4,
 "nbformat_minor": 4
}
