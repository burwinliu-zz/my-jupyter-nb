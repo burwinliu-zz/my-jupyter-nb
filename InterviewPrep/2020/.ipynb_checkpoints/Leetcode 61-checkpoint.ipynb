{
 "cells": [
  {
   "cell_type": "markdown",
   "metadata": {},
   "source": [
    "# Leetcode 61\n",
    "## Problem\n",
    "Given a linked list, rotate the list to the right by k places, where k is non-negative.\n",
    "## Solution\n",
    "### Thoughts\n",
    "Two main approaches -- two pointers, or determine length and find trailing position to act as head, set tail to beginning of the list, disconnect the trailing from the rest of the list and return the trailing\n",
    "### Solution 1\n",
    "See above\n",
    "#### Analysis\n",
    "Time : O(N) to traverse the entire the solution\n",
    "Space: O(1) to store the slow and head pointers -- not extra space perse but utilized space "
   ]
  },
  {
   "cell_type": "code",
   "execution_count": null,
   "metadata": {},
   "outputs": [],
   "source": [
    "# Definition for singly-linked list.\n",
    "# class ListNode:\n",
    "#     def __init__(self, val=0, next=None):\n",
    "#         self.val = val\n",
    "#         self.next = next\n",
    "class Solution:\n",
    "    def rotateRight(self, head: ListNode, k: int) -> ListNode:\n",
    "        if head == None:\n",
    "            return None\n",
    "        length = 0\n",
    "        headP = head\n",
    "        while headP:\n",
    "            if not headP.next:\n",
    "                tail = headP\n",
    "            headP = headP.next\n",
    "            length += 1\n",
    "        \n",
    "        trailing =  k % length\n",
    "        if trailing == 0:\n",
    "            return head\n",
    "        slow = headP = head\n",
    "        while headP:\n",
    "            \n",
    "            if trailing == 0:\n",
    "                if headP == tail:\n",
    "                    temp = slow.next\n",
    "                    slow.next = None\n",
    "                    slow = temp\n",
    "                else:\n",
    "                    slow = slow.next\n",
    "            else:\n",
    "                trailing -= 1\n",
    "            \n",
    "            headP = headP.next\n",
    "        tail.next = head\n",
    "        return slow"
   ]
  }
 ],
 "metadata": {
  "kernelspec": {
   "display_name": "Python 3",
   "language": "python",
   "name": "python3"
  },
  "language_info": {
   "codemirror_mode": {
    "name": "ipython",
    "version": 3
   },
   "file_extension": ".py",
   "mimetype": "text/x-python",
   "name": "python",
   "nbconvert_exporter": "python",
   "pygments_lexer": "ipython3",
   "version": "3.7.6"
  }
 },
 "nbformat": 4,
 "nbformat_minor": 4
}
