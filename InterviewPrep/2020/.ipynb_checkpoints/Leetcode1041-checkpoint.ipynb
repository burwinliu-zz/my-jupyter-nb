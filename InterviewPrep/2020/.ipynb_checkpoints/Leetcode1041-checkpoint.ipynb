{
 "cells": [
  {
   "cell_type": "markdown",
   "metadata": {},
   "source": [
    "# Leetcode 1041\n",
    "## Problem\n",
    "On an infinite plane, a robot initially stands at (0, 0) and faces north.  The robot can receive one of three instructions:\n",
    "\n",
    "\"G\": go straight 1 unit;\n",
    "\"L\": turn 90 degrees to the left;\n",
    "\"R\": turn 90 degress to the right.\n",
    "The robot performs the instructions given in order, and repeats them forever.\n",
    "\n",
    "Return true if and only if there exists a circle in the plane such that the robot never leaves the circle.\n",
    "## Thoughts\n",
    "This required the very basic idea that if you are either at a movement of 0,0 or direction is not north, then you will EVENTUALLY return to a circle -- I was thinking too large in scope originally.\n",
    "\n",
    "Overall, a very decent problem!\n",
    "\n",
    "## Analysis\n",
    "Time: O(N) where N == instructions  \n",
    "Space: O(1)"
   ]
  },
  {
   "cell_type": "code",
   "execution_count": null,
   "metadata": {},
   "outputs": [],
   "source": [
    "class Solution:\n",
    "    def isRobotBounded(self, instructions: str) -> bool:\n",
    "        direction = \"N\"\n",
    "        directionTurn = {\"N\": [\"W\", \"E\"], \"E\":[\"N\", \"S\"], \"S\": [\"E\", \"W\"], \"W\": [\"S\", \"N\"]}\n",
    "        directionMove = {\"N\": [0, 1], \"E\": [1, 1], \"S\": [0, -1], \"W\": [1, -1]}\n",
    "        movement = [0, 0]\n",
    "        \n",
    "        for i in instructions:\n",
    "            if i == \"G\":\n",
    "                pos, val = directionMove[direction]\n",
    "                \n",
    "                movement[pos] += val\n",
    "            if i == \"L\":\n",
    "                direction = directionTurn[direction][0]\n",
    "            if i == \"R\":\n",
    "                direction = directionTurn[direction][1]\n",
    "        return movement == [0, 0] or direction != \"N\""
   ]
  }
 ],
 "metadata": {
  "kernelspec": {
   "display_name": "Python 3",
   "language": "python",
   "name": "python3"
  },
  "language_info": {
   "codemirror_mode": {
    "name": "ipython",
    "version": 3
   },
   "file_extension": ".py",
   "mimetype": "text/x-python",
   "name": "python",
   "nbconvert_exporter": "python",
   "pygments_lexer": "ipython3",
   "version": "3.7.6"
  }
 },
 "nbformat": 4,
 "nbformat_minor": 4
}
