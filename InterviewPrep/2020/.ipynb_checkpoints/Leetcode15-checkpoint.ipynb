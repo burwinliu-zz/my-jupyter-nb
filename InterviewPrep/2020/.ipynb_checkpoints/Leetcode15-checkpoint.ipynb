{
 "cells": [
  {
   "cell_type": "markdown",
   "metadata": {},
   "source": [
    "# Leetcode 15\n",
    "\n",
    "## Problem\n",
    "Given an array nums of n integers, are there elements a, b, c in nums such that a + b + c = 0? Find all unique triplets in the array which gives the sum of zero.\n",
    "\n",
    "## Thoughts\n",
    "\n",
    "I'm starting to slip a bit. Honestly, this is just 2 sum with an added twist -- I needed to accountfor duplicates, so what I needed to do was eliminate all duplicates with moving pointers moving inwards to remove duplicates as I go along. As this is O(N**2) In time, the sorting was a low cost to pay to remove those duplicates (far cheaper then hashing, my initial presumption)\n",
    "\n",
    "### Solution 1\n",
    "(NEEDED ASSISTANCE)\n",
    "This acts as a sorted mover, removing all duplicates with sort. This way, it may efficiently move through the scineros efficiently\n",
    "\n",
    "#### Analysis\n",
    "Time O(N^2) (Lower bound, unavoidable)\n",
    "Space: O(N) under worst case storing all combinations that sum to zero\n",
    "\n",
    "### Solution 2\n",
    "My intial presumption, use hashing to store the past records and provide the unique keys necessary. However, hashing took too long\n",
    "\n",
    "#### Analysis\n",
    "Time: O(N^2)\n",
    "Space O(N)\n"
   ]
  },
  {
   "cell_type": "code",
   "execution_count": null,
   "metadata": {},
   "outputs": [],
   "source": [
    "class Solution:\n",
    "    def threeSum(self, nums: List[int]) -> List[List[int]]:\n",
    "        result = list()\n",
    "        nums = sorted(nums)\n",
    "        for i in range(len(nums)-2):\n",
    "            if i != 0 and nums[i] == nums[i-1]:\n",
    "                continue\n",
    "            l, r = i + 1, len(nums) - 1\n",
    "            while l < r :\n",
    "                s = nums[i] + nums[l] + nums[r]\n",
    "                if s == 0:\n",
    "                    result.append([nums[i] ,nums[l] ,nums[r]])\n",
    "                    l += 1; r -= 1\n",
    "                    while l < r and nums[l] == nums[l - 1]: l += 1\n",
    "                    while l < r and nums[r] == nums[r + 1]: r -= 1\n",
    "                elif s < 0 :\n",
    "                    l += 1\n",
    "                else:\n",
    "                    r -= 1\n",
    "        return result"
   ]
  },
  {
   "cell_type": "code",
   "execution_count": null,
   "metadata": {},
   "outputs": [],
   "source": [
    "class Solution:\n",
    "    def threeSum(self, nums: List[int]) -> List[List[int]]:\n",
    "        result = set()\n",
    "        for i, j in enumerate(nums):\n",
    "            sol = dict()\n",
    "            for k, l in enumerate(nums):\n",
    "                if i == k:\n",
    "                    continue\n",
    "                if l in sol:\n",
    "                    result.add(tuple(sorted([j, l, sol[l]])))\n",
    "                else:\n",
    "                    sol[-j-l] = l\n",
    "        return [list(i) for i in result]"
   ]
  }
 ],
 "metadata": {
  "kernelspec": {
   "display_name": "Python 3",
   "language": "python",
   "name": "python3"
  },
  "language_info": {
   "codemirror_mode": {
    "name": "ipython",
    "version": 3
   },
   "file_extension": ".py",
   "mimetype": "text/x-python",
   "name": "python",
   "nbconvert_exporter": "python",
   "pygments_lexer": "ipython3",
   "version": "3.7.6"
  }
 },
 "nbformat": 4,
 "nbformat_minor": 4
}
