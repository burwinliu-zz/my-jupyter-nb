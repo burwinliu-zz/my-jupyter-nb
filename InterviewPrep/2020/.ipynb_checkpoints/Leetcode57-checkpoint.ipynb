{
 "cells": [
  {
   "cell_type": "markdown",
   "metadata": {},
   "source": [
    "# Leetcode 57\n",
    "## Problem\n",
    "Given a set of non-overlapping intervals, insert a new interval into the intervals (merge if necessary).\n",
    "\n",
    "You may assume that the intervals were initially sorted according to their start times.\n",
    "\n",
    "## Thoughts\n",
    "With basic iteration and checks, we may determine the largest interval to encompass if either values are within, and then at the end, return the new list\n",
    "\n",
    "## Analysis\n",
    "Time : O(N)  \n",
    "Space: O(N)"
   ]
  },
  {
   "cell_type": "code",
   "execution_count": null,
   "metadata": {},
   "outputs": [],
   "source": [
    "class Solution(object):\n",
    "    def insert(self, intervals, newInterval):\n",
    "        \"\"\"\n",
    "        :type intervals: List[List[int]]\n",
    "        :type newInterval: List[int]\n",
    "        :rtype: List[List[int]]\n",
    "        \"\"\"\n",
    "        inInterval = False\n",
    "        interval = [float('inf'), -1]\n",
    "        res = []\n",
    "        for i in intervals:\n",
    "            if i[0] <= newInterval[0] <= i[1] or i[0] <= newInterval[1] <= i[1]\\\n",
    "                or newInterval[0] <= i[0] <= newInterval[1] or newInterval[0] <= i[1] <= newInterval[1]:\n",
    "                interval[0] = min(interval[0], i[0])\n",
    "                interval[1] = max(interval[1], i[1])\n",
    "            else:\n",
    "                if not inInterval and i[0] > newInterval[1]:\n",
    "                    inInterval = True\n",
    "                    res.append([min(interval[0], newInterval[0]), max(interval[1], newInterval[1])])\n",
    "                res.append(i)\n",
    "        if not inInterval:\n",
    "            res.append([min(interval[0], newInterval[0]), max(interval[1], newInterval[1])])\n",
    "        return res"
   ]
  }
 ],
 "metadata": {
  "kernelspec": {
   "display_name": "Python 3",
   "language": "python",
   "name": "python3"
  },
  "language_info": {
   "codemirror_mode": {
    "name": "ipython",
    "version": 3
   },
   "file_extension": ".py",
   "mimetype": "text/x-python",
   "name": "python",
   "nbconvert_exporter": "python",
   "pygments_lexer": "ipython3",
   "version": "3.7.6"
  }
 },
 "nbformat": 4,
 "nbformat_minor": 4
}
