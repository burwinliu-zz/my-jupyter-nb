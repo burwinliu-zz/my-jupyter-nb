{
 "cells": [
  {
   "cell_type": "markdown",
   "metadata": {},
   "source": [
    "# Leetcode 605\n",
    "Standard greedy algorithm, check if condition is filled until you cant tightly back the state anymore -- since greedy approach is tightest packing, we pass"
   ]
  },
  {
   "cell_type": "code",
   "execution_count": null,
   "metadata": {},
   "outputs": [],
   "source": [
    "class Solution(object):\n",
    "    def canPlaceFlowers(self, flowerbed, n):\n",
    "        \"\"\"\n",
    "        :type flowerbed: List[int]\n",
    "        :type n: int\n",
    "        :rtype: bool\n",
    "        \"\"\"\n",
    "        p1 = p2 = 0\n",
    "        while p1 < len(flowerbed):\n",
    "            if flowerbed[max(p1-1, 0)] == 0 and flowerbed[min(p1+1, len(flowerbed)-1)] == 0 and flowerbed[p1] == 0:\n",
    "                p2 += 1\n",
    "                p1 += 1\n",
    "            if p2 >= n:\n",
    "                return True\n",
    "            p1 += 1\n",
    "        return False\n",
    "        "
   ]
  }
 ],
 "metadata": {
  "kernelspec": {
   "display_name": "Python 3",
   "language": "python",
   "name": "python3"
  },
  "language_info": {
   "codemirror_mode": {
    "name": "ipython",
    "version": 3
   },
   "file_extension": ".py",
   "mimetype": "text/x-python",
   "name": "python",
   "nbconvert_exporter": "python",
   "pygments_lexer": "ipython3",
   "version": "3.8.3"
  }
 },
 "nbformat": 4,
 "nbformat_minor": 4
}
