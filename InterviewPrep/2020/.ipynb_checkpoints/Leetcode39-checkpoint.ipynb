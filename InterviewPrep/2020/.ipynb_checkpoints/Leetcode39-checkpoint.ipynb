{
 "cells": [
  {
   "cell_type": "markdown",
   "metadata": {},
   "source": [
    "# Leetcode 39\n",
    "## Problem\n",
    "Find all combinations of a target given candidate\n",
    "## Thoughts\n",
    "Since you are trying to find ALL subarray sums, you can no longer use the two sum approach. Therefore, backtracking is the way to go! To ensure that repeats do not occur, add sorted items to the record (tuples as this is the case) and then return the result"
   ]
  },
  {
   "cell_type": "code",
   "execution_count": null,
   "metadata": {},
   "outputs": [],
   "source": [
    "class Solution(object):\n",
    "    def combinationSum(self, candidates, target):\n",
    "        \"\"\"\n",
    "        :type candidates: List[int]\n",
    "        :type target: int\n",
    "        :rtype: List[List[int]]\n",
    "        \"\"\"\n",
    "        candidates = sorted(candidates)\n",
    "        queue = [(0, [])]\n",
    "        \n",
    "        record = set()\n",
    "        while len(queue) != 0:\n",
    "            cur = queue.pop()\n",
    "            for item in candidates:\n",
    "                if item + cur[0] < target:\n",
    "                    newItem = [i for i in cur[1]]\n",
    "                    newItem.append(item)\n",
    "                    queue.append((item + cur[0], newItem))\n",
    "                elif item + cur[0] == target:\n",
    "                    newItem = [i for i in cur[1]]\n",
    "                    newItem.append(item)\n",
    "                    record.add(tuple(sorted(newItem)))\n",
    "        return [list(i) for i in record]"
   ]
  }
 ],
 "metadata": {
  "kernelspec": {
   "display_name": "Python 3",
   "language": "python",
   "name": "python3"
  },
  "language_info": {
   "codemirror_mode": {
    "name": "ipython",
    "version": 3
   },
   "file_extension": ".py",
   "mimetype": "text/x-python",
   "name": "python",
   "nbconvert_exporter": "python",
   "pygments_lexer": "ipython3",
   "version": "3.7.6"
  }
 },
 "nbformat": 4,
 "nbformat_minor": 4
}
