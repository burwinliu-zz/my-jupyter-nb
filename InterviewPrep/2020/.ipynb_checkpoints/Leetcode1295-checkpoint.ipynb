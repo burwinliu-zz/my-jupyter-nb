{
 "cells": [
  {
   "cell_type": "markdown",
   "metadata": {},
   "source": [
    "# Leetcode 1295\n",
    "## Problem\n",
    "\n",
    "## Solution\n",
    "### Thoughts\n",
    "With log, you can simply caluclate the number of digits  -- if you so choose you may use a while loop and division by 10 to count each digit per number. \n",
    "### Solution1 \n",
    "#### Analysis\n",
    "Space: O(1) -- storing a number of the even digits\n",
    "Time: O(N) to loop through the nums"
   ]
  },
  {
   "cell_type": "code",
   "execution_count": null,
   "metadata": {},
   "outputs": [],
   "source": [
    "\n",
    "def findNumbers(self, nums: List[int]) -> int:\n",
    "    numEven = 0\n",
    "    for i in nums:\n",
    "        numEven += (int(math.log10(i)) % 2)\n",
    "    return numEven"
   ]
  }
 ],
 "metadata": {
  "kernelspec": {
   "display_name": "Python 3",
   "language": "python",
   "name": "python3"
  },
  "language_info": {
   "codemirror_mode": {
    "name": "ipython",
    "version": 3
   },
   "file_extension": ".py",
   "mimetype": "text/x-python",
   "name": "python",
   "nbconvert_exporter": "python",
   "pygments_lexer": "ipython3",
   "version": "3.7.6"
  }
 },
 "nbformat": 4,
 "nbformat_minor": 4
}
