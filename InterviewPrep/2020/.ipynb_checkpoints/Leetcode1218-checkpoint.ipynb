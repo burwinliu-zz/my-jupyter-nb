{
 "cells": [
  {
   "cell_type": "markdown",
   "metadata": {},
   "source": [
    "# Leetcode 1218\n",
    "## Problem\n",
    "Given an integer array arr and an integer difference, return the length of the longest subsequence in arr which is an arithmetic sequence such that the difference between adjacent elements in the subsequence equals difference.\n",
    "## Thoughts\n",
    "Typical DP. This is an extension (and simplification) of [1027](Leetcode1027.ipynb)\n",
    "\n",
    "## Analysis\n",
    "Time: O(N)  \n",
    "Space: O(N) to store all \"next\" items in the sequence, assuming none hit"
   ]
  },
  {
   "cell_type": "code",
   "execution_count": null,
   "metadata": {},
   "outputs": [],
   "source": [
    "class Solution:\n",
    "    def longestSubsequence(self, arr: List[int], difference: int) -> int:\n",
    "        memo = {}\n",
    "        maxLen = 0\n",
    "        for i in arr:\n",
    "            if i - difference in memo:\n",
    "                memo[i] = memo[i-difference] + 1\n",
    "            else:\n",
    "                memo[i] = 1\n",
    "            if memo[i] > maxLen:\n",
    "                maxLen = memo[i]\n",
    "        return maxLen\n",
    "        "
   ]
  },
  {
   "cell_type": "code",
   "execution_count": null,
   "metadata": {},
   "outputs": [],
   "source": []
  }
 ],
 "metadata": {
  "kernelspec": {
   "display_name": "Python 3",
   "language": "python",
   "name": "python3"
  },
  "language_info": {
   "codemirror_mode": {
    "name": "ipython",
    "version": 3
   },
   "file_extension": ".py",
   "mimetype": "text/x-python",
   "name": "python",
   "nbconvert_exporter": "python",
   "pygments_lexer": "ipython3",
   "version": "3.7.6"
  }
 },
 "nbformat": 4,
 "nbformat_minor": 4
}
