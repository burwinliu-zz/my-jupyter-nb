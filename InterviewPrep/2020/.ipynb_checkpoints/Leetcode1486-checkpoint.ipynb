{
 "cells": [
  {
   "cell_type": "markdown",
   "metadata": {},
   "source": [
    "# Leetcode 1486\n",
    "## Problem\n",
    "Given an integer n and an integer start.\n",
    "\n",
    "Define an array nums where nums[i] = start + 2*i (0-indexed) and n == nums.length.\n",
    "\n",
    "Return the bitwise XOR of all elements of nums.\n",
    "## Thoughts\n",
    "This is standard for loop -- not really using too much bitwise operation\n",
    "\n",
    "## Analysis\n",
    "Time: O(N)  \n",
    "Space: O(1)"
   ]
  },
  {
   "cell_type": "code",
   "execution_count": null,
   "metadata": {},
   "outputs": [],
   "source": [
    "class Solution:\n",
    "    def xorOperation(self, n: int, start: int) -> int:\n",
    "        res = start\n",
    "        for i in range(1, n):\n",
    "            res = res ^ (start+2*i)\n",
    "        return res\n",
    "        "
   ]
  }
 ],
 "metadata": {
  "kernelspec": {
   "display_name": "Python 3",
   "language": "python",
   "name": "python3"
  },
  "language_info": {
   "codemirror_mode": {
    "name": "ipython",
    "version": 3
   },
   "file_extension": ".py",
   "mimetype": "text/x-python",
   "name": "python",
   "nbconvert_exporter": "python",
   "pygments_lexer": "ipython3",
   "version": "3.7.6"
  }
 },
 "nbformat": 4,
 "nbformat_minor": 4
}
