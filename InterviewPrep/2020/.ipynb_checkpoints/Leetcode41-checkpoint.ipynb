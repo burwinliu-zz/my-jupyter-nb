{
 "cells": [
  {
   "cell_type": "markdown",
   "metadata": {},
   "source": [
    "# Leetcode 41\n",
    "\n",
    "## Thoughts\n",
    "The initial obvious approach is to use a sorted list -- due to passed restrictions, we cannot merely sort, and keep a moving tracker to understand if an item was added or not\n",
    "\n",
    "## Analysis \n",
    "Time: O(NlogN)  \n",
    "Space: O(N)"
   ]
  },
  {
   "cell_type": "code",
   "execution_count": null,
   "metadata": {},
   "outputs": [],
   "source": [
    "class Solution(object):\n",
    "    def firstMissingPositive(self, nums):\n",
    "        \"\"\"\n",
    "        :type nums: List[int]\n",
    "        :rtype: int\n",
    "        \"\"\"\n",
    "        nums = sorted(nums)\n",
    "        expected = 1\n",
    "        found = set()\n",
    "        \n",
    "        for i in nums:\n",
    "            print(i, expected, found)\n",
    "            if i < 1:\n",
    "                continue\n",
    "            elif i != expected and i not in found:\n",
    "                return expected\n",
    "            else:\n",
    "                if i not in found:\n",
    "                    found.add(i)\n",
    "                    expected += 1\n",
    "        return expected\n",
    "            \n",
    "        "
   ]
  }
 ],
 "metadata": {
  "kernelspec": {
   "display_name": "Python 3",
   "language": "python",
   "name": "python3"
  },
  "language_info": {
   "codemirror_mode": {
    "name": "ipython",
    "version": 3
   },
   "file_extension": ".py",
   "mimetype": "text/x-python",
   "name": "python",
   "nbconvert_exporter": "python",
   "pygments_lexer": "ipython3",
   "version": "3.8.3"
  }
 },
 "nbformat": 4,
 "nbformat_minor": 4
}
