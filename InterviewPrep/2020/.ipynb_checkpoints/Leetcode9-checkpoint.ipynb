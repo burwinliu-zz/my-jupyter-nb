{
 "cells": [
  {
   "cell_type": "markdown",
   "metadata": {},
   "source": [
    "# Leetcode 9 \n",
    "Is this integer a palindrome?\n",
    "## Solution\n",
    "### Solution 1\n",
    "Conver to a string and do standard palindrome check\n",
    "#### Analysis\n",
    "Time: O(N)\n",
    "Space O (N)\n",
    "\n",
    "### Solution 2\n",
    "Reverse integer and then check if two ints are the same\n",
    "#### Analysis\n",
    "Time: O(N) where N is number of digits, or log(x)\n",
    "Space: O (N) (to store new int) where N is number of digits, or log(x)"
   ]
  },
  {
   "cell_type": "code",
   "execution_count": null,
   "metadata": {},
   "outputs": [],
   "source": [
    "class Solution:\n",
    "    def isPalindrome(self, x: int) -> bool:\n",
    "        x = str(x)\n",
    "        p1, p2 = 0, len(x) - 1\n",
    "        while p1 < p2:\n",
    "            if x[p1] != x[p2]:\n",
    "                return False\n",
    "            p1 += 1\n",
    "            p2 -= 1\n",
    "        return True\n",
    "        "
   ]
  }
 ],
 "metadata": {
  "kernelspec": {
   "display_name": "Python 3",
   "language": "python",
   "name": "python3"
  },
  "language_info": {
   "codemirror_mode": {
    "name": "ipython",
    "version": 3
   },
   "file_extension": ".py",
   "mimetype": "text/x-python",
   "name": "python",
   "nbconvert_exporter": "python",
   "pygments_lexer": "ipython3",
   "version": "3.7.6"
  }
 },
 "nbformat": 4,
 "nbformat_minor": 4
}
