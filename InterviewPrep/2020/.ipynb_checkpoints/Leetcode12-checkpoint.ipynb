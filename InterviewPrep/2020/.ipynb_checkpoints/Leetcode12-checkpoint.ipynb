{
 "cells": [
  {
   "cell_type": "markdown",
   "metadata": {},
   "source": [
    "# Leetcode 12\n",
    "## Problem\n",
    "Given an integer, convert it to a roman numeral. Input is guaranteed to be within the range from 1 to 3999.\n",
    "\n",
    "## Thoughts \n",
    "Largely a huge True/False tree that would be easily altered, but not judging on algos\n",
    "\n",
    "## Analysis\n",
    " Largely unnecessary as everything is completed in trivial time, but time is O(N) and space is O(N) for each digit available. (If not considering results in space, then O(1)"
   ]
  },
  {
   "cell_type": "code",
   "execution_count": null,
   "metadata": {},
   "outputs": [],
   "source": [
    "class Solution:\n",
    "    def intToRoman(self, num: int) -> str:\n",
    "        result = \"\"\n",
    "        digits = []\n",
    "        while num != 0:\n",
    "            digits.append(num%10)\n",
    "            num = num//10\n",
    "        print(digits)\n",
    "        symbol = {\n",
    "            1: \"I\",\n",
    "            5: \"V\",\n",
    "            10: \"X\",\n",
    "            50: \"L\",\n",
    "            100: \"C\",\n",
    "            500: \"D\",\n",
    "            1000: \"M\",\n",
    "            5000: \"t\",\n",
    "        }\n",
    "        for i, j in enumerate(digits):\n",
    "            if j < 4:\n",
    "                result = j*symbol[10**i] + result\n",
    "            elif j == 4:\n",
    "                result = symbol[10**i] + symbol[5*10**i] + result\n",
    "            elif j == 5:\n",
    "                result = symbol[5*10**i] + result\n",
    "            elif j < 9:\n",
    "                result =  symbol[5*(10**i)] + symbol[10**i] * (j%5) + result\n",
    "            elif j == 9:\n",
    "                result = symbol[10**i] + symbol[10**(i+1)] + result\n",
    "        return result\n",
    "                \n",
    "            "
   ]
  }
 ],
 "metadata": {
  "kernelspec": {
   "display_name": "Python 3",
   "language": "python",
   "name": "python3"
  },
  "language_info": {
   "codemirror_mode": {
    "name": "ipython",
    "version": 3
   },
   "file_extension": ".py",
   "mimetype": "text/x-python",
   "name": "python",
   "nbconvert_exporter": "python",
   "pygments_lexer": "ipython3",
   "version": "3.7.6"
  }
 },
 "nbformat": 4,
 "nbformat_minor": 4
}
