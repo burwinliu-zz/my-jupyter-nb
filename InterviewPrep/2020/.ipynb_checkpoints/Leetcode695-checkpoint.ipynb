{
 "cells": [
  {
   "cell_type": "markdown",
   "metadata": {},
   "source": [
    "# Leetcode 695\n",
    "## Problem\n",
    "Given a non-empty 2D array grid of 0's and 1's, an island is a group of 1's (representing land) connected 4-directionally (horizontal or vertical.) You may assume all four edges of the grid are surrounded by water.\n",
    "\n",
    "Find the maximum area of an island in the given 2D array. (If there is no island, the maximum area is 0.)\n",
    "## Thoughts\n",
    "This is a standard DFS search, looking for new paths untraversed, and finding the max size of the resutling graph -- pretty standard\n",
    "\n",
    "## Analysis\n",
    "Time: O(N) where N == number of nodes\n",
    "Space: O(N) where N == number of nodes"
   ]
  },
  {
   "cell_type": "code",
   "execution_count": null,
   "metadata": {},
   "outputs": [],
   "source": [
    "class Solution:\n",
    "    def maxAreaOfIsland(self, grid: List[List[int]]) -> int:\n",
    "        record = set()\n",
    "        maxSize = 0\n",
    "        for i in range(len(grid)):\n",
    "            for j in range(len(grid[0])):\n",
    "                if (i, j) not in record and grid[i][j] == 1:\n",
    "                    queue = [(i, j)]\n",
    "                    record.add((i, j))\n",
    "                    sizeCurr = 0\n",
    "                    while len(queue) != 0:\n",
    "                        x, y = queue.pop()\n",
    "                        sizeCurr += 1\n",
    "                        if x != 0 and (x-1, y) not in record and grid[x-1][y] == 1:\n",
    "                            queue.append((x-1, y))\n",
    "                            record.add((x-1, y))\n",
    "                        if x != len(grid) - 1 and (x+1, y) not in record and grid[x+1][y] == 1:\n",
    "                            queue.append((x+1, y))\n",
    "                            record.add((x+1, y))\n",
    "                        if y != 0 and (x, y-1) not in record and grid[x][y-1] == 1:\n",
    "                            queue.append((x, y-1))\n",
    "                            record.add((x, y-1))\n",
    "                        if y != len(grid[0])-1 and (x, y+1) not in record and grid[x][y+1] == 1:\n",
    "                            queue.append((x, y+1))\n",
    "                            record.add((x, y+1))\n",
    "                    maxSize = max(maxSize, sizeCurr)\n",
    "        return maxSize\n",
    "                        "
   ]
  }
 ],
 "metadata": {
  "kernelspec": {
   "display_name": "Python 3",
   "language": "python",
   "name": "python3"
  },
  "language_info": {
   "codemirror_mode": {
    "name": "ipython",
    "version": 3
   },
   "file_extension": ".py",
   "mimetype": "text/x-python",
   "name": "python",
   "nbconvert_exporter": "python",
   "pygments_lexer": "ipython3",
   "version": "3.7.6"
  }
 },
 "nbformat": 4,
 "nbformat_minor": 4
}
