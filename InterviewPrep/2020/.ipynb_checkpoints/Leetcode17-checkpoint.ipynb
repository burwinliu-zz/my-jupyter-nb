{
 "cells": [
  {
   "cell_type": "markdown",
   "metadata": {},
   "source": [
    "# Leetcode 17\n",
    "## Problem\n",
    "Given a string containing digits from 2-9 inclusive, return all possible letter combinations that the number could represent.\n",
    "\n",
    "A mapping of digit to letters (just like on the telephone buttons) is given below. Note that 1 does not map to any letters.\n",
    "\n",
    "## Thoughts\n",
    "This seems like a classic backtracking problem, as we generate ALL combinations. Overall, just generate as the digits are needed, and continue as so\n",
    "\n",
    "## Analysis\n",
    "Time: O(3^N)  \n",
    "Space: O(3^N) to store the trace stack"
   ]
  },
  {
   "cell_type": "code",
   "execution_count": null,
   "metadata": {},
   "outputs": [],
   "source": [
    "class Solution:\n",
    "    mapDigits = {\n",
    "        '2': ['a', 'b','c'],\n",
    "        '3': ['d', 'e','f'],\n",
    "        '4': ['g', 'h','i'],\n",
    "        '5': ['j', 'k','l'],\n",
    "        '6': ['m', 'n','o'],\n",
    "        '7': ['p', 'q','r', 's'],\n",
    "        '8': ['t', 'u','v'],\n",
    "        '9': ['w', 'x','y', 'z'],\n",
    "    }\n",
    "    \n",
    "    def letterCombinations(self, digits: str) -> List[str]:\n",
    "        if digits == \"\":\n",
    "            return []\n",
    "        stack = [([i for i in digits], \"\")]\n",
    "        res = []\n",
    "        while len(stack) != 0:\n",
    "            valid, current = stack.pop()\n",
    "            if len(valid) == 0:\n",
    "                res.append(current)\n",
    "                continue\n",
    "            curNum = valid.pop(0)\n",
    "            \n",
    "            for i in self.mapDigits[curNum]:\n",
    "                stack.append(([k for k in valid], current + i))\n",
    "        return res\n",
    "        "
   ]
  }
 ],
 "metadata": {
  "kernelspec": {
   "display_name": "Python 3",
   "language": "python",
   "name": "python3"
  },
  "language_info": {
   "codemirror_mode": {
    "name": "ipython",
    "version": 3
   },
   "file_extension": ".py",
   "mimetype": "text/x-python",
   "name": "python",
   "nbconvert_exporter": "python",
   "pygments_lexer": "ipython3",
   "version": "3.7.6"
  }
 },
 "nbformat": 4,
 "nbformat_minor": 4
}
