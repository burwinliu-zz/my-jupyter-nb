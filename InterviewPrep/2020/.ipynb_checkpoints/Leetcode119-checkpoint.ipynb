{
 "cells": [
  {
   "cell_type": "markdown",
   "metadata": {},
   "source": [
    "# Leetcode 119\n",
    "\n",
    "Given a non-negative index k where k ≤ 33, return the kth index row of the Pascal's triangle.\n",
    "\n",
    "Note that the row index starts from 0.\n",
    "\n",
    "# Solution 1\n",
    "Using mathmatical principles, we realize the coefficients of a Pascal's Triangle is n! / (r! *(n-r)!)\n",
    "\n",
    "# Solution 2\n",
    "Compute the full Pascal's triangle and take the prior rows information to compute the next row recursively until the row is found"
   ]
  },
  {
   "cell_type": "code",
   "execution_count": null,
   "metadata": {},
   "outputs": [],
   "source": [
    "import math\n",
    "\n",
    "class Solution:\n",
    "    def getRow(self, rowIndex: int) -> List[int]:\n",
    "        def nchooser(n, r):\n",
    "            return math.factorial(n)/(math.factorial(r)*math.factorial(n-r))\n",
    "        result = [1] * (rowIndex + 1)\n",
    "        for i in range(rowIndex + 1):\n",
    "            result[i] = int(nchooser(rowIndex, i))\n",
    "        return result"
   ]
  }
 ],
 "metadata": {
  "kernelspec": {
   "display_name": "Python 3",
   "language": "python",
   "name": "python3"
  },
  "language_info": {
   "codemirror_mode": {
    "name": "ipython",
    "version": 3
   },
   "file_extension": ".py",
   "mimetype": "text/x-python",
   "name": "python",
   "nbconvert_exporter": "python",
   "pygments_lexer": "ipython3",
   "version": "3.7.6"
  }
 },
 "nbformat": 4,
 "nbformat_minor": 4
}
