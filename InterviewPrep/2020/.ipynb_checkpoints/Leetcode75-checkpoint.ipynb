{
 "cells": [
  {
   "cell_type": "markdown",
   "metadata": {},
   "source": [
    "# Leetcode 75\n",
    "\n",
    "## Problem\n",
    "Given an array nums with n objects colored red, white, or blue, sort them in-place so that objects of the same color are adjacent, with the colors in the order red, white, and blue.\n",
    "\n",
    "Here, we will use the integers 0, 1, and 2 to represent the color red, white, and blue respectively.\n",
    "\n",
    "Follow up:\n",
    "\n",
    "Could you solve this problem without using the library's sort function?\n",
    "Could you come up with a one-pass algorithm using only O(1) constant space?\n",
    "\n",
    "## Thoughts\n",
    "Easy solution -- count number of each, and make a second pass to place new items into the list\n",
    "\n",
    "The more complex solution -- use some idea like mergeSort, heapSort or quickSort to do nLogN in place\n",
    "\n",
    "## Analysis\n",
    "Time: O(N)   \n",
    "Space: O(1)\n",
    "\n",
    "(More complex)  \n",
    "Time: O(NlogN)  \n",
    "Space: O(1)  "
   ]
  },
  {
   "cell_type": "code",
   "execution_count": null,
   "metadata": {},
   "outputs": [],
   "source": [
    "class Solution(object):\n",
    "    def sortColors(self, nums):\n",
    "        \"\"\"\n",
    "        :type nums: List[int]\n",
    "        :rtype: None Do not return anything, modify nums in-place instead.\n",
    "        \"\"\"\n",
    "        res = [0, 0, 0]\n",
    "        for i in nums:\n",
    "            res[i] += 1\n",
    "        pos = 0\n",
    "        for _ in range(res[0]):\n",
    "            nums[pos] = 0\n",
    "            pos += 1\n",
    "        for _ in range(res[1]):\n",
    "            nums[pos] = 1\n",
    "            pos += 1\n",
    "        for _ in range(res[2]):\n",
    "            nums[pos] = 2\n",
    "            pos += 1\n",
    "        return nums"
   ]
  }
 ],
 "metadata": {
  "kernelspec": {
   "display_name": "Python 3",
   "language": "python",
   "name": "python3"
  },
  "language_info": {
   "codemirror_mode": {
    "name": "ipython",
    "version": 3
   },
   "file_extension": ".py",
   "mimetype": "text/x-python",
   "name": "python",
   "nbconvert_exporter": "python",
   "pygments_lexer": "ipython3",
   "version": "3.7.6"
  }
 },
 "nbformat": 4,
 "nbformat_minor": 4
}
