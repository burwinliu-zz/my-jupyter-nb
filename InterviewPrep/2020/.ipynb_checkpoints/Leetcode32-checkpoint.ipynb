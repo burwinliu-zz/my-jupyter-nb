{
 "cells": [
  {
   "cell_type": "markdown",
   "metadata": {},
   "source": [
    "# Leetcode 32\n",
    "## Problem\n",
    "Given a string containing just the characters '(' and ')', find the length of the longest valid (well-formed) parentheses substring.\n",
    "\n",
    "## Thoughts\n",
    "\n",
    "### FAILED ATTEMPT\n",
    "Forgot some test cases. Think about more edge cases that may break the code -- look for weaknesses **   \n",
    "\n",
    "\n",
    "### Solution 1\n",
    "Hallelujah. We got one. Without having to look at the solutions\n",
    "\n",
    "This is REALLY messy, but it involves a queue based approach, and checking on all cases whether or not it is a substr longer then the result. If it is, set maxLen to that length,and if not keep iterating through. On termination we realize that they can either be a substring, and we account for all cases there. Overall, this feels a lot like a medium problem, but there is definitely a dp approach that I am missing\n",
    "\n",
    "### Solution 2\n",
    "Neater, but less efficient answer using stack approach"
   ]
  },
  {
   "cell_type": "code",
   "execution_count": null,
   "metadata": {},
   "outputs": [],
   "source": [
    "class Solution:\n",
    "    def longestValidParentheses(self, s: str) -> int:\n",
    "        startPoint = maxLength = 0\n",
    "        stack = []\n",
    "        \n",
    "        for i, j in enumerate(s):\n",
    "            if j == \"(\":\n",
    "                if startPoint == -1:\n",
    "                    startPoint = i \n",
    "                stack.append(i)\n",
    "            if j == \")\":\n",
    "                if len(stack) == 0:\n",
    "                    if startPoint == -1:\n",
    "                        continue\n",
    "                    length = i - startPoint \n",
    "                    startPoint = -1\n",
    "                    if length > maxLength:\n",
    "                        maxLength = length\n",
    "                else:\n",
    "                    stack.pop()\n",
    "        if startPoint != -1:\n",
    "            length = len(s) - startPoint\n",
    "            length = length - len(stack)\n",
    "            if length > maxLength:\n",
    "                maxLength = length\n",
    "        return maxLength"
   ]
  },
  {
   "cell_type": "code",
   "execution_count": null,
   "metadata": {},
   "outputs": [],
   "source": [
    "class Solution:\n",
    "    def longestValidParentheses(self, s: str) -> int:\n",
    "        startPoint = maxLength = 0\n",
    "        stack = []\n",
    "        \n",
    "        for i, j in enumerate(s):\n",
    "            if j == \"(\":\n",
    "                if startPoint == -1:\n",
    "                    startPoint = i \n",
    "                if len(stack) != 0:\n",
    "                    start = stack[-1] + 1\n",
    "                else:\n",
    "                    start = startPoint\n",
    "                length = i - start\n",
    "                if length > maxLength:\n",
    "                    maxLength = length\n",
    "                stack.append(i)\n",
    "            if j == \")\":\n",
    "                if len(stack) == 0:\n",
    "                    if startPoint == -1:\n",
    "                        continue\n",
    "                    length = i - startPoint \n",
    "                    startPoint = -1\n",
    "                    if length > maxLength:\n",
    "                        maxLength = length\n",
    "                else:\n",
    "                    stack.pop()\n",
    "        if startPoint != -1:\n",
    "            if len(stack) != 0:\n",
    "                start = stack.pop() + 1\n",
    "            else:\n",
    "                start = startPoint\n",
    "            length = len(s) - start\n",
    "            if length > maxLength:\n",
    "                maxLength = length\n",
    "        return maxLength"
   ]
  },
  {
   "cell_type": "code",
   "execution_count": null,
   "metadata": {},
   "outputs": [],
   "source": [
    "class Solution:\n",
    "    def longestValidParentheses(self, s: str) -> int:\n",
    "        maxLength = 0\n",
    "        stack = [-1]\n",
    "        \n",
    "        for i, j in enumerate(s):\n",
    "            if j == \"(\":\n",
    "                stack.append(i)\n",
    "            if j == \")\":\n",
    "                stack.pop()\n",
    "                if len(stack) == 0:\n",
    "                    stack.append(i)\n",
    "                else:\n",
    "                    maxLength = max(i-stack[-1], maxLength)\n",
    "        return maxLength"
   ]
  }
 ],
 "metadata": {
  "kernelspec": {
   "display_name": "Python 3",
   "language": "python",
   "name": "python3"
  },
  "language_info": {
   "codemirror_mode": {
    "name": "ipython",
    "version": 3
   },
   "file_extension": ".py",
   "mimetype": "text/x-python",
   "name": "python",
   "nbconvert_exporter": "python",
   "pygments_lexer": "ipython3",
   "version": "3.7.6"
  }
 },
 "nbformat": 4,
 "nbformat_minor": 4
}
