{
 "cells": [
  {
   "cell_type": "markdown",
   "metadata": {},
   "source": [
    "# Leetcode 120\n",
    "## Problem\n",
    "Given a triangle, find the minimum path sum from top to bottom. Each step you may move to adjacent numbers on the row below.\n",
    "## Solution\n",
    "Using memoization, calculate the minimum to the last line and then add the current lines min to the next line, calculating the min to the next position. Ultimately, it should return the min item at the last line and return in the break condition\n",
    "\n",
    "SPACE: (O(k) where K is the last item in the triangle (triangle[-1])\n",
    "TIME: O(N) where N is the number of items in the triangle"
   ]
  },
  {
   "cell_type": "code",
   "execution_count": null,
   "metadata": {},
   "outputs": [],
   "source": [
    "class Solution:\n",
    "    def minimumTotal(self, triangle: List[List[int]]) -> int:\n",
    "        if len(triangle) == 0 :\n",
    "            return -1\n",
    "        memo = triangle[0]\n",
    "        minItem = triangle[0][0]\n",
    "        for i, j in enumerate(triangle):\n",
    "            nextMemo = [math.inf for _ in range(len(j) + 1)]\n",
    "            if i+1 == len(triangle):\n",
    "                return minItem\n",
    "                \n",
    "            minItem = math.inf\n",
    "            for k, l in enumerate(j):\n",
    "                if memo[k] + triangle[i+1][k] < nextMemo[k]:\n",
    "                    nextMemo[k] = memo[k] + triangle[i+1][k]\n",
    "                    if minItem > nextMemo[k]:\n",
    "                        minItem = nextMemo[k]\n",
    "                if memo[k] + triangle[i+1][k+1] < nextMemo[k+1]:\n",
    "                    nextMemo[k+1] = memo[k] + triangle[i+1][k+1]\n",
    "                    if minItem > nextMemo[k+1]:\n",
    "                        minItem = nextMemo[k+1]\n",
    "            memo = nextMemo"
   ]
  }
 ],
 "metadata": {
  "kernelspec": {
   "display_name": "Python 3",
   "language": "python",
   "name": "python3"
  },
  "language_info": {
   "codemirror_mode": {
    "name": "ipython",
    "version": 3
   },
   "file_extension": ".py",
   "mimetype": "text/x-python",
   "name": "python",
   "nbconvert_exporter": "python",
   "pygments_lexer": "ipython3",
   "version": "3.7.6"
  }
 },
 "nbformat": 4,
 "nbformat_minor": 4
}
