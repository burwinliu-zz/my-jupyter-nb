{
 "cells": [
  {
   "cell_type": "markdown",
   "metadata": {},
   "source": [
    "# Leetcode 560\n",
    "## Problem\n",
    "\n",
    "Given an array of integers and an integer k, you need to find the total number of continuous subarrays whose sum equals to k.\n",
    "\n",
    "## Thoughts\n",
    "Initial approach with continuous sum and filling all items that we can make with array. However, TLE\n",
    "\n",
    "Second approach uses hashing -- store the accumulated sums, and if the current acum - k exists, then we know there is a subarray from the acum-k position to acum that would create the subarray with size k. ALSO -- since there are multiple subarrays to each position -- we have to store the number of acum amounts at each position to find all subarrays that would accumulate to this position\n",
    "\n",
    "## Analysis\n",
    "Time: O(N)  \n",
    "Space: O(N) "
   ]
  },
  {
   "cell_type": "code",
   "execution_count": null,
   "metadata": {},
   "outputs": [],
   "source": [
    "class Solution(object):\n",
    "    def subarraySum(self, nums, k):\n",
    "        \"\"\"\n",
    "        :type nums: List[int]\n",
    "        :type k: int\n",
    "        :rtype: int\n",
    "        \"\"\"\n",
    "        res = acum = 0\n",
    "        store = {0:1}\n",
    "        \n",
    "        \n",
    "        for i in nums:\n",
    "            acum += i\n",
    "            if acum - k in store:\n",
    "                res += store[acum-k]\n",
    "            if acum not in store:\n",
    "                store[acum] = 0\n",
    "            store[acum] += 1\n",
    "        return res"
   ]
  }
 ],
 "metadata": {
  "kernelspec": {
   "display_name": "Python 3",
   "language": "python",
   "name": "python3"
  },
  "language_info": {
   "codemirror_mode": {
    "name": "ipython",
    "version": 3
   },
   "file_extension": ".py",
   "mimetype": "text/x-python",
   "name": "python",
   "nbconvert_exporter": "python",
   "pygments_lexer": "ipython3",
   "version": "3.8.3"
  }
 },
 "nbformat": 4,
 "nbformat_minor": 4
}
