{
 "cells": [
  {
   "cell_type": "markdown",
   "metadata": {},
   "source": [
    "# Leetcode 88\n",
    "## Problem\n",
    "\n",
    "## Solution\n",
    "Iterate from back, so that shifts are not needed. Overall, pretty basic iterate and work with the iterms found\n",
    "\n",
    "## Analysis:\n",
    "Time: O(N)  \n",
    "Space: O(1)"
   ]
  },
  {
   "cell_type": "code",
   "execution_count": null,
   "metadata": {},
   "outputs": [],
   "source": [
    "class Solution:\n",
    "    def merge(self, nums1: List[int], m: int, nums2: List[int], n: int) -> None:\n",
    "        \"\"\"\n",
    "        Do not return anything, modify nums1 in-place instead.\n",
    "        \"\"\"\n",
    "        p1 = m - 1\n",
    "        p2 = n - 1\n",
    "        p3 = len(nums1) - 1\n",
    "        \n",
    "        while p1 != -1 and p2 != -1:\n",
    "            if nums1[p1] > nums2[p2]:\n",
    "                nums1[p3] = nums1[p1]\n",
    "                p1 -= 1\n",
    "            else:\n",
    "                nums1[p3] = nums2[p2]\n",
    "                p2 -= 1\n",
    "            p3 -= 1\n",
    "        while p2 != -1:\n",
    "            nums1[p3] = nums2[p2]\n",
    "            p3 -= 1\n",
    "            p2 -= 1\n",
    "        return nums1\n",
    "                \n",
    "        "
   ]
  }
 ],
 "metadata": {
  "kernelspec": {
   "display_name": "Python 3",
   "language": "python",
   "name": "python3"
  },
  "language_info": {
   "codemirror_mode": {
    "name": "ipython",
    "version": 3
   },
   "file_extension": ".py",
   "mimetype": "text/x-python",
   "name": "python",
   "nbconvert_exporter": "python",
   "pygments_lexer": "ipython3",
   "version": "3.7.6"
  }
 },
 "nbformat": 4,
 "nbformat_minor": 4
}
