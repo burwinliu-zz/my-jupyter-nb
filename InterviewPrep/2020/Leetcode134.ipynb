{
 "cells": [
  {
   "cell_type": "markdown",
   "metadata": {},
   "source": [
    "# Leetcode 134\n",
    "## Problem\n",
    "There are N gas stations along a circular route, where the amount of gas at station i is gas[i].\n",
    "\n",
    "You have a car with an unlimited gas tank and it costs cost[i] of gas to travel from station i to its next station (i+1). You begin the journey with an empty tank at one of the gas stations.\n",
    "\n",
    "Return the starting gas station's index if you can travel around the circuit once in the clockwise direction, otherwise return -1.\n",
    "\n",
    "Note:\n",
    "\n",
    "If there exists a solution, it is guaranteed to be unique.\n",
    "Both input arrays are non-empty and have the same length.\n",
    "Each element in the input arrays is a non-negative integer.\n",
    "## Thoughts\n",
    "Two pointer problem, I just need to figure out the logic a bit better.. and also clean it up\n",
    "\n",
    "## Analysis\n",
    "Time: O(N)  \n",
    "Space: O(1)"
   ]
  },
  {
   "cell_type": "code",
   "execution_count": null,
   "metadata": {},
   "outputs": [],
   "source": [
    "class Solution(object):\n",
    "    def canCompleteCircuit(self, gas, cost):\n",
    "        \"\"\"\n",
    "        :type gas: List[int]\n",
    "        :type cost: List[int]\n",
    "        :rtype: int\n",
    "        \"\"\"\n",
    "        slow = fast = 0\n",
    "        gasCur = gas[0]\n",
    "        while slow < len(gas):\n",
    "                \n",
    "            gasCur -= cost[fast]\n",
    "            fast = (fast + 1) % len(cost)\n",
    "\n",
    "            if gasCur < 0:\n",
    "                while gasCur < 0:\n",
    "                    gasCur -= gas[slow]\n",
    "                    gasCur += cost[slow]\n",
    "\n",
    "                    slow += 1\n",
    "                    if slow == len(gas):\n",
    "                        return -1\n",
    "            elif slow == fast:\n",
    "                return slow\n",
    "            gasCur += gas[fast]\n",
    "\n",
    "            \n",
    "        return -1\n",
    "            "
   ]
  }
 ],
 "metadata": {
  "kernelspec": {
   "display_name": "Python 3",
   "language": "python",
   "name": "python3"
  },
  "language_info": {
   "codemirror_mode": {
    "name": "ipython",
    "version": 3
   },
   "file_extension": ".py",
   "mimetype": "text/x-python",
   "name": "python",
   "nbconvert_exporter": "python",
   "pygments_lexer": "ipython3",
   "version": "3.7.6"
  }
 },
 "nbformat": 4,
 "nbformat_minor": 4
}
