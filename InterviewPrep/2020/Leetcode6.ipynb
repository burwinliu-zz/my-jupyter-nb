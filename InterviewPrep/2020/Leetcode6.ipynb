{
 "cells": [
  {
   "cell_type": "markdown",
   "metadata": {},
   "source": [
    "# Leetcode 6\n",
    "## Problem\n",
    "\n",
    "The string \"PAYPALISHIRING\" is written in a zigzag pattern on a given number of rows like this: (you may want to display this pattern in a fixed font for better legibility)\n",
    "\n",
    "P   A   H   N  \n",
    "A P L S I I G   \n",
    "Y   I   R   \n",
    "\n",
    "And then read line by line: \"PAHNAPLSIIGYIR\"\n",
    "\n",
    "Write the code that will take a string and make this conversion given a number of rows:\n",
    "\n",
    "## Approach\n",
    "Brute force comes first. -- simply loop thru the list and append each item to the correct part of the list. This would be the easiest and fastest way to get the string inserted in with the least amount of effort to devise and algorithm.\n",
    "\n",
    "To optimize -- instead of inserting into a list , maybe loop thru directly the string and insert into the string, restart and reloop ( still O(n) but less work that way in terms of storage an d 6 less loops from initial creation of array of strings\n",
    "\n",
    "Size of both is O(n) and speed is O(N) -- though bottom one has slightly less storage rqeuired, and slightly more opitmal."
   ]
  },
  {
   "cell_type": "code",
   "execution_count": null,
   "metadata": {},
   "outputs": [],
   "source": [
    "class Solution:\n",
    "    def convert(self, s: str, numRows: int) -> str:\n",
    "        if numRows <= 1:\n",
    "            return s\n",
    "        down = True\n",
    "        row_num = 0\n",
    "        res = list()\n",
    "        for i in range(numRows):\n",
    "            res.append(\"\")\n",
    "        for i in s:\n",
    "            if down:\n",
    "                res[row_num] += i\n",
    "                if row_num == numRows-1:\n",
    "                    down = False\n",
    "                    row_num -= 1\n",
    "                    continue\n",
    "                row_num += 1\n",
    "            else:\n",
    "                res[row_num] += i\n",
    "                if row_num == 0:\n",
    "                    down = True\n",
    "                    row_num += 1\n",
    "                else:\n",
    "                    row_num -= 1\n",
    "        result = ''\n",
    "        for i in res:\n",
    "            result += i\n",
    "        return result"
   ]
  },
  {
   "cell_type": "code",
   "execution_count": null,
   "metadata": {},
   "outputs": [],
   "source": [
    "class Solution:\n",
    "    def convert(self, s: str, numRows: int) -> str:\n",
    "        if numRows == 0:\n",
    "            return \"\"\n",
    "        if numRows == 1:\n",
    "            return s\n",
    "        \n",
    "        control = len(s)\n",
    "        res = \"\" \n",
    "        cycleLen = 2*numRows -2\n",
    "        for i in range(numRows):\n",
    "            j = 0\n",
    "            while j + i < control:\n",
    "                res+= s[j + i]\n",
    "                if i != 0 and i != numRows - 1 and j + cycleLen - i < control:\n",
    "                    res += s[j + cycleLen - i]\n",
    "                    \n",
    "                j += cycleLen\n",
    "        return res"
   ]
  }
 ],
 "metadata": {
  "kernelspec": {
   "display_name": "Python 3",
   "language": "python",
   "name": "python3"
  },
  "language_info": {
   "codemirror_mode": {
    "name": "ipython",
    "version": 3
   },
   "file_extension": ".py",
   "mimetype": "text/x-python",
   "name": "python",
   "nbconvert_exporter": "python",
   "pygments_lexer": "ipython3",
   "version": "3.7.6"
  }
 },
 "nbformat": 4,
 "nbformat_minor": 4
}
