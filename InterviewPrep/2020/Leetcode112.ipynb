{
 "cells": [
  {
   "cell_type": "markdown",
   "metadata": {},
   "source": [
    "# Leetcode 112\n",
    "## Problem\n",
    "Given a binary tree and a sum, determine if the tree has a root-to-leaf path such that adding up all the values along the path equals the given sum.\n",
    "\n",
    "Note: A leaf is a node with no children.\n",
    "## Thoughts\n",
    "I DEFINITELY am trolling tonight. I can't think properly it seems, but I have been unable to solve this on a first glance. The idea is to use the leaf node condition to check when item == 0, else keep checking in a traversal manner with or recursively (can be converted iteratively via queue)\n",
    "\n",
    "## Analysis:\n",
    "O(N) time, O(N) space"
   ]
  },
  {
   "cell_type": "code",
   "execution_count": null,
   "metadata": {},
   "outputs": [],
   "source": [
    "# Definition for a binary tree node.\n",
    "# class TreeNode:\n",
    "#     def __init__(self, val=0, left=None, right=None):\n",
    "#         self.val = val\n",
    "#         self.left = left\n",
    "#         self.right = right\n",
    "class Solution:\n",
    "    def hasPathSum(self, root: TreeNode, sum: int) -> bool:\n",
    "        def helper(root, sum):\n",
    "            if not root:\n",
    "                return False\n",
    "            if not root.left and not root.right:\n",
    "                return sum - root.val == 0\n",
    "            return helper(root.left, sum - root.val) or helper(root.right, sum-root.val)\n",
    "        return helper(root, sum)\n",
    "        "
   ]
  }
 ],
 "metadata": {
  "kernelspec": {
   "display_name": "Python 3",
   "language": "python",
   "name": "python3"
  },
  "language_info": {
   "codemirror_mode": {
    "name": "ipython",
    "version": 3
   },
   "file_extension": ".py",
   "mimetype": "text/x-python",
   "name": "python",
   "nbconvert_exporter": "python",
   "pygments_lexer": "ipython3",
   "version": "3.7.6"
  }
 },
 "nbformat": 4,
 "nbformat_minor": 4
}
