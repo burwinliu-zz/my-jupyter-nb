{
 "cells": [
  {
   "cell_type": "markdown",
   "metadata": {},
   "source": [
    "# Leetcode 1027\n",
    "## Problem\n",
    "Given an array A of integers, return the length of the longest arithmetic subsequence in A.\n",
    "\n",
    "Recall that a subsequence of A is a list A[i_1], A[i_2], ..., A[i_k] with 0 <= i_1 < i_2 < ... < i_k <= A.length - 1, and that a sequence B is arithmetic if B[i+1] - B[i] are all the same value (for 0 <= i < B.length - 1).\n",
    "## Thoughts\n",
    "Typical DP -- I need to be able to take steps between each placement. Furthermore, I need to understand a bit more the answer more efficiency\n",
    "\n",
    "## Analysis\n",
    "Time: O(N^2)  \n",
    "Space: O(2^N) to store all possible combinations"
   ]
  },
  {
   "cell_type": "code",
   "execution_count": 1,
   "metadata": {},
   "outputs": [],
   "source": [
    "from typing import List\n",
    "def longestArithSeqLength(self, A: List[int]) -> int:\n",
    "    memo = {} # storing next Item -> (diff pattern, length so far)\n",
    "    # [a, b, c]\n",
    "    maxLength = 2\n",
    "\n",
    "    if len(A) < 3:\n",
    "        return len(A)\n",
    "\n",
    "\n",
    "    for i in range(len(A)): # iterating over A\n",
    "        if A[i] in memo:\n",
    "            toIter = [(i, j) for i, j in memo[A[i]].items()]\n",
    "            del memo[A[i]]\n",
    "            for k in toIter:\n",
    "                diff, length = k\n",
    "                if length > maxLength:\n",
    "                    maxLength = length\n",
    "                length += 1\n",
    "\n",
    "                newKey = A[i] + diff\n",
    "                if newKey not in memo:\n",
    "                    memo[newKey] = {}\n",
    "                if diff in memo[newKey]:\n",
    "                    memo[newKey][diff] = max(length, memo[newKey][diff])\n",
    "                else:\n",
    "                    memo[newKey][diff] = length\n",
    "        for j in range(i):\n",
    "            diff = A[i] - A[j]\n",
    "            newKey = A[i] + diff\n",
    "            if A[i] + diff not in memo:\n",
    "                memo[newKey] = {}\n",
    "            if diff not in memo[newKey]:\n",
    "                memo[newKey][diff] = 3\n",
    "\n",
    "\n",
    "    return maxLength\n"
   ]
  },
  {
   "cell_type": "code",
   "execution_count": null,
   "metadata": {},
   "outputs": [],
   "source": [
    "def longestArithSeqLength(A: List[int]) -> int:\n",
    "    memo = {}\n",
    "    maxLength = 2\n",
    "\n",
    "    if len(A) < 3:\n",
    "        return len(A)\n",
    "\n",
    "\n",
    "    for i in range(len(A)): # iterating over A\n",
    "        for j in range(i):\n",
    "            delta = A[i] - A[j]\n",
    "            memo[(i, delta)] = memo[(j, delta)] + 1 if (j, delta) in memo else 2\n",
    "            if memo[(i, delta)] > maxLength:\n",
    "                maxLength = memo[(i, delta)]\n",
    "\n",
    "\n",
    "    return maxLength"
   ]
  }
 ],
 "metadata": {
  "kernelspec": {
   "display_name": "Python 3",
   "language": "python",
   "name": "python3"
  },
  "language_info": {
   "codemirror_mode": {
    "name": "ipython",
    "version": 3
   },
   "file_extension": ".py",
   "mimetype": "text/x-python",
   "name": "python",
   "nbconvert_exporter": "python",
   "pygments_lexer": "ipython3",
   "version": "3.7.6"
  }
 },
 "nbformat": 4,
 "nbformat_minor": 4
}
