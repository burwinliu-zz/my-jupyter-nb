{
 "cells": [
  {
   "cell_type": "markdown",
   "metadata": {},
   "source": [
    "# Leetcode 1288\n",
    "## Problem\n",
    "Given a list of intervals, remove all intervals that are covered by another interval in the list.\n",
    "\n",
    "Interval [a,b) is covered by interval [c,d) if and only if c <= a and b <= d.\n",
    "\n",
    "After doing so, return the number of remaining intervals.\n",
    "\n",
    "## Thoughts\n",
    "Typical sorting issue, finding where overlaps occur via a 2d sort -- first sort reverse in 2nd element, so the largest item with the first itme will occur, and  then sort by the x[0] -- thereby if any overlap occurs, then the max would be foudn less then\n",
    "\n",
    "## Analysis\n",
    "Time: O(nlogn)  \n",
    "Space: O(N)"
   ]
  },
  {
   "cell_type": "code",
   "execution_count": null,
   "metadata": {},
   "outputs": [],
   "source": [
    "class Solution(object):\n",
    "    def removeCoveredIntervals(self, intervals):\n",
    "        \"\"\"\n",
    "        :type intervals: List[List[int]]\n",
    "        :rtype: int\n",
    "        \"\"\"\n",
    "        intervals = sorted(sorted(intervals, key = lambda x:x[1], reverse= True), key=lambda x: x[0])\n",
    "        maxOuter = 0\n",
    "        count = 0\n",
    "        for i in intervals:\n",
    "            if i[1] <= maxOuter:\n",
    "                count += 1\n",
    "            maxOuter = max(maxOuter, i[1])\n",
    "        return len(intervals) - count\n",
    "        "
   ]
  }
 ],
 "metadata": {
  "kernelspec": {
   "display_name": "Python 3",
   "language": "python",
   "name": "python3"
  },
  "language_info": {
   "codemirror_mode": {
    "name": "ipython",
    "version": 3
   },
   "file_extension": ".py",
   "mimetype": "text/x-python",
   "name": "python",
   "nbconvert_exporter": "python",
   "pygments_lexer": "ipython3",
   "version": "3.8.3"
  }
 },
 "nbformat": 4,
 "nbformat_minor": 4
}
