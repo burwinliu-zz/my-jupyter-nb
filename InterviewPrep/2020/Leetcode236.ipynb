{
 "cells": [
  {
   "cell_type": "markdown",
   "metadata": {},
   "source": [
    "# Leetcode 236\n",
    "## Problem\n",
    "Given a binary tree, find the lowest common ancestor (LCA) of two given nodes in the tree.\n",
    "\n",
    "According to the definition of LCA on Wikipedia: “The lowest common ancestor is defined between two nodes p and q as the lowest node in T that has both p and q as descendants (where we allow a node to be a descendant of itself).”\n",
    "\n",
    "## Thoughts\n",
    "Extension of a typical search algorithim with checking if both items were found in left and right side corresponding -- if this wasnt unique then this would be the solution.\n",
    "\n",
    "The second solution takes advantage of the fact that all items are unique, and therefore can have less checks\n",
    "\n",
    "## Analysis:\n",
    "Time: O(N) time  \n",
    "Space: O(N) space"
   ]
  },
  {
   "cell_type": "code",
   "execution_count": null,
   "metadata": {},
   "outputs": [],
   "source": [
    "# Definition for a binary tree node.\n",
    "# class TreeNode:\n",
    "#     def __init__(self, x):\n",
    "#         self.val = x\n",
    "#         self.left = None\n",
    "#         self.right = None\n",
    "\n",
    "class Solution:\n",
    "    def lowestCommonAncestor(self, root: 'TreeNode', p, q) -> 'TreeNode':\n",
    "        def helper(root, p, q):\n",
    "            if root is None:\n",
    "                return None\n",
    "            if root.val == p.val or root.val == q.val:\n",
    "                return root\n",
    "            a = helper(root.left, p, q)\n",
    "            b = helper(root.right, p, q)\n",
    "            if a is None and b is None:\n",
    "                return None\n",
    "            elif a is not None and b is not None:\n",
    "                if (a.val == p.val and b.val == q.val) or (a.val ==q.val and b.val==p.val):\n",
    "                    return root\n",
    "            if a is not None:\n",
    "                return a\n",
    "            if b is not None:\n",
    "                return b\n",
    "        return helper(root, p, q)"
   ]
  },
  {
   "cell_type": "code",
   "execution_count": null,
   "metadata": {},
   "outputs": [],
   "source": [
    "# Definition for a binary tree node.\n",
    "# class TreeNode:\n",
    "#     def __init__(self, x):\n",
    "#         self.val = x\n",
    "#         self.left = None\n",
    "#         self.right = None\n",
    "\n",
    "class Solution:\n",
    "    res = None\n",
    "    def lowestCommonAncestor(self, root: 'TreeNode', p, q) -> 'TreeNode':\n",
    "        def helper(root, p, q):\n",
    "            if root is None:\n",
    "                return False\n",
    "            a = helper(root.left, p, q)\n",
    "            b = helper(root.right, p, q)\n",
    "            if self.res is not None:\n",
    "                return self.res\n",
    "            if root.val == p.val or root.val == q.val:\n",
    "                if a or b:\n",
    "                    self.res = root\n",
    "                    return self.res\n",
    "                return True\n",
    "            \n",
    "            if a and b:\n",
    "                self.res = root\n",
    "                return self.res\n",
    "            return a or b\n",
    "        \n",
    "        return helper(root, p, q)"
   ]
  }
 ],
 "metadata": {
  "kernelspec": {
   "display_name": "Python 3",
   "language": "python",
   "name": "python3"
  },
  "language_info": {
   "codemirror_mode": {
    "name": "ipython",
    "version": 3
   },
   "file_extension": ".py",
   "mimetype": "text/x-python",
   "name": "python",
   "nbconvert_exporter": "python",
   "pygments_lexer": "ipython3",
   "version": "3.7.6"
  }
 },
 "nbformat": 4,
 "nbformat_minor": 4
}
