{
 "cells": [
  {
   "cell_type": "markdown",
   "metadata": {},
   "source": [
    "# Leetcode 77\n",
    "## Problem\n",
    "Given two integers n and k, return all possible combinations of k numbers out of 1 ... n.\n",
    "\n",
    "You may return the answer in any order.\n",
    "## Thoughts\n",
    "I managed to figure out the answer, but that was after a lot of run code tests. Need to wean myself off. Also, this is a fairly simple backtracking solution, there definitely is better, but so far it works. To do better, I think remove the append and remove, and instead construct new lists on input so no need for issues of overlap\n",
    "## Analysis\n",
    "Time: O(nCk) ~ O(N!)   \n",
    "Space: O(K) to store recursive stack as max?"
   ]
  },
  {
   "cell_type": "code",
   "execution_count": null,
   "metadata": {},
   "outputs": [],
   "source": [
    "class Solution:\n",
    "    def combine(self, n: int, k: int) -> List[List[int]]:\n",
    "        res = []\n",
    "        def helper(valid, building):\n",
    "            if len(building) == k:\n",
    "                res.append([i for i in building])\n",
    "                return \n",
    "            for i in range(len(valid)):\n",
    "                building.append(valid[i])\n",
    "                helper([valid[j] for j in range(i+1, len(valid))], building)\n",
    "                building.remove(valid[i])\n",
    "        helper([i for i in range(1, n+1)], [])\n",
    "        return res"
   ]
  }
 ],
 "metadata": {
  "kernelspec": {
   "display_name": "Python 3",
   "language": "python",
   "name": "python3"
  },
  "language_info": {
   "codemirror_mode": {
    "name": "ipython",
    "version": 3
   },
   "file_extension": ".py",
   "mimetype": "text/x-python",
   "name": "python",
   "nbconvert_exporter": "python",
   "pygments_lexer": "ipython3",
   "version": "3.7.6"
  }
 },
 "nbformat": 4,
 "nbformat_minor": 4
}
