{
 "cells": [
  {
   "cell_type": "markdown",
   "metadata": {},
   "source": [
    "# Leetcode 328\n",
    "\n",
    "# Problem\n",
    "Given a singly linked list, group all odd nodes together followed by the even nodes. Please note here we are talking about the node number and not the value in the nodes.\n",
    "\n",
    "You should try to do it in place. The program should run in O(1) space complexity and O(nodes) time complexity.\n",
    "\n",
    "# Solution\n",
    "\n",
    "## Solution 1\n",
    "Do this by calculating as you go, the odd numbered items and even number items, storing the even number items and appending it to the end (which is technically O(n/2) space? but I can not figure out things in any better of a situation)\n",
    "\n",
    "Space: O(N)\n",
    "Time: O(N)"
   ]
  },
  {
   "cell_type": "code",
   "execution_count": null,
   "metadata": {},
   "outputs": [],
   "source": [
    "# Definition for singly-linked list.\n",
    "# class ListNode:\n",
    "#     def __init__(self, val=0, next=None):\n",
    "#         self.val = val\n",
    "#         self.next = next\n",
    "class Solution:\n",
    "    def oddEvenList(self, head: ListNode) -> ListNode:\n",
    "        p_odd = head\n",
    "        \n",
    "        if p_odd is None or p_odd.next is None:\n",
    "            return p_odd\n",
    "        p_even = head.next\n",
    "        p_head = p_even\n",
    "        while p_even is not None and p_even.next is not None:\n",
    "            p_odd.next = p_even.next\n",
    "            p_even.next = p_even.next.next\n",
    "            \n",
    "            p_odd = p_odd.next\n",
    "            p_even = p_even.next\n",
    "        p_odd.next = p_head\n",
    "        return head\n",
    "        "
   ]
  }
 ],
 "metadata": {
  "kernelspec": {
   "display_name": "Python 3",
   "language": "python",
   "name": "python3"
  },
  "language_info": {
   "codemirror_mode": {
    "name": "ipython",
    "version": 3
   },
   "file_extension": ".py",
   "mimetype": "text/x-python",
   "name": "python",
   "nbconvert_exporter": "python",
   "pygments_lexer": "ipython3",
   "version": "3.7.6"
  }
 },
 "nbformat": 4,
 "nbformat_minor": 4
}
