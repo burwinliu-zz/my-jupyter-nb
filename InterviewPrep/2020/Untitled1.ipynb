{
 "cells": [
  {
   "cell_type": "code",
   "execution_count": null,
   "metadata": {},
   "outputs": [],
   "source": []
  },
  {
   "cell_type": "code",
   "execution_count": null,
   "metadata": {},
   "outputs": [],
   "source": [
    "class Solution:\n",
    "    def minSteps(self, n: int) -> int:\n",
    "        memo = {}\n",
    "        if n == 1:\n",
    "            return 0\n",
    "        \n",
    "        def helper(numAs, curCopy):\n",
    "            if numAs == n:\n",
    "                return 0\n",
    "            if numAs > n:\n",
    "                return math.inf\n",
    "            if (numAs, curCopy) in memo:\n",
    "                return memo[(numAs, curCopy)]\n",
    "            elif numAs != curCopy:\n",
    "                temp = 1 + min(helper(numAs + curCopy, curCopy), helper(numAs, numAs))\n",
    "            else:\n",
    "                temp = 1 + helper(numAs + curCopy, curCopy)\n",
    "            memo[(numAs, curCopy)] = temp\n",
    "            return temp\n",
    "        return 1 + helper(1, 1)"
   ]
  }
 ],
 "metadata": {
  "kernelspec": {
   "display_name": "Python 3",
   "language": "python",
   "name": "python3"
  },
  "language_info": {
   "codemirror_mode": {
    "name": "ipython",
    "version": 3
   },
   "file_extension": ".py",
   "mimetype": "text/x-python",
   "name": "python",
   "nbconvert_exporter": "python",
   "pygments_lexer": "ipython3",
   "version": "3.7.6"
  }
 },
 "nbformat": 4,
 "nbformat_minor": 4
}
