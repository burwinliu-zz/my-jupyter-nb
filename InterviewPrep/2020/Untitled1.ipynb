{
 "cells": [
  {
   "cell_type": "code",
   "execution_count": null,
   "metadata": {},
   "outputs": [],
   "source": []
  },
  {
   "cell_type": "code",
   "execution_count": null,
   "metadata": {},
   "outputs": [],
   "source": [
    "class Solution(object):\n",
    "    def largestNumber(self, nums):\n",
    "        \"\"\"\n",
    "        :type nums: List[int]\n",
    "        :rtype: str\n",
    "        \"\"\"\n",
    "        \n",
    "        def mergeSort(start, end):\n",
    "            if end-start == 0:\n",
    "                return [str(nums[start])]\n",
    "            if end-start == 1:\n",
    "                return merge([str(nums[start])], [str(nums[end])])\n",
    "            mid = (end-start) // 2 + start\n",
    "            \n",
    "            return merge(mergeSort(start,mid), mergeSort(mid+1, end))\n",
    "\n",
    "        def merge(arr1, arr2):\n",
    "            res = []\n",
    "            i = j = 0\n",
    "            \n",
    "            while i < len(arr1) and j < len(arr2):\n",
    "                if int(arr1[i] + arr2[j]) > int(arr2[j] + arr1[i]):\n",
    "                    res.append(arr1[i])\n",
    "                    i += 1\n",
    "                else:\n",
    "                    res.append(arr2[j])\n",
    "                    j += 1\n",
    "            while i < len(arr1):\n",
    "                res.append(arr1[i])\n",
    "                i += 1\n",
    "            while j < len(arr2):\n",
    "                res.append(arr2[j])\n",
    "                j += 1\n",
    "            return res\n",
    "        res = \"\".join(mergeSort(0, len(nums)-1))\n",
    "        \n",
    "        if res[0] == \"0\":\n",
    "            return \"0\"\n",
    "        return res"
   ]
  }
 ],
 "metadata": {
  "kernelspec": {
   "display_name": "Python 3",
   "language": "python",
   "name": "python3"
  },
  "language_info": {
   "codemirror_mode": {
    "name": "ipython",
    "version": 3
   },
   "file_extension": ".py",
   "mimetype": "text/x-python",
   "name": "python",
   "nbconvert_exporter": "python",
   "pygments_lexer": "ipython3",
   "version": "3.7.6"
  }
 },
 "nbformat": 4,
 "nbformat_minor": 4
}
