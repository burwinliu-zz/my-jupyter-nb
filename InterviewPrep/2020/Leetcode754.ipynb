{
 "cells": [
  {
   "cell_type": "markdown",
   "metadata": {},
   "source": [
    "# Leetcode 754\n",
    "\n",
    "Programatically, we would use a BFS search to find the solution\n",
    "\n",
    "Mathematically (Soln 1) we follow 2 principles:\n",
    "1) to reach a target in n given steps, if we can reach +k, then we can inverse all opperations and reach -k\n",
    "2) If we try to find the number of steps to a target, given we are target+i, given that i is even, we can reach target by taking the subset of [1, ... steps] to \"subtract\" instead of add to create the current position, and reach the target."
   ]
  },
  {
   "cell_type": "code",
   "execution_count": null,
   "metadata": {},
   "outputs": [],
   "source": [
    "class Solution(object):\n",
    "    def reachNumber(self, target):\n",
    "        \"\"\"\n",
    "        :type target: int\n",
    "        :rtype: int\n",
    "        \"\"\"\n",
    "        \n",
    "        total = 0\n",
    "        curr = 1\n",
    "        \n",
    "        while total < target or (total-target)%2 != 0:\n",
    "            total += curr\n",
    "            curr += 1\n",
    "        return curr - 1"
   ]
  },
  {
   "cell_type": "code",
   "execution_count": null,
   "metadata": {},
   "outputs": [],
   "source": [
    "import collections\n",
    "class Solution(object):\n",
    "    def reachNumber(self, target):\n",
    "        \"\"\"\n",
    "        :type target: int\n",
    "        :rtype: int\n",
    "        \"\"\"\n",
    "        \n",
    "        queue = collections.deque([(0, 1)]) \n",
    "        target = abs(target)\n",
    "        while len(queue):\n",
    "            ind, moves = queue.popleft()\n",
    "            if ind == target:\n",
    "                return moves\n",
    "            if ind + moves == target or ind - moves == target:\n",
    "                return moves + 1\n",
    "            \n",
    "            if ind + moves < 10**9:\n",
    "                queue.append((abs(ind + moves), moves + 1))\n",
    "            if ind - moves < 10**9:\n",
    "                queue.append((abs(ind - moves), moves + 1))"
   ]
  },
  {
   "cell_type": "code",
   "execution_count": null,
   "metadata": {},
   "outputs": [],
   "source": []
  }
 ],
 "metadata": {
  "kernelspec": {
   "display_name": "Python 3",
   "language": "python",
   "name": "python3"
  },
  "language_info": {
   "codemirror_mode": {
    "name": "ipython",
    "version": 3
   },
   "file_extension": ".py",
   "mimetype": "text/x-python",
   "name": "python",
   "nbconvert_exporter": "python",
   "pygments_lexer": "ipython3",
   "version": "3.8.3"
  }
 },
 "nbformat": 4,
 "nbformat_minor": 4
}
