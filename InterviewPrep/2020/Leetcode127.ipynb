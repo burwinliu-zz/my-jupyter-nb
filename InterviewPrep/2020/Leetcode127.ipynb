{
 "cells": [
  {
   "cell_type": "markdown",
   "metadata": {},
   "source": [
    "# Leetcode 127\n",
    "## Problem \n",
    "Given two words (beginWord and endWord), and a dictionary's word list, find the length of shortest transformation sequence from beginWord to endWord, such that:\n",
    "\n",
    "Only one letter can be changed at a time.\n",
    "Each transformed word must exist in the word list.\n",
    "Note:\n",
    "\n",
    "Return 0 if there is no such transformation sequence.\n",
    "All words have the same length.\n",
    "All words contain only lowercase alphabetic characters.\n",
    "You may assume no duplicates in the word list.\n",
    "You may assume beginWord and endWord are non-empty and are not the same.\n",
    "\n",
    "## Thoughts\n",
    "I didn't really realize that the generation of the graphs needed such a brute force solution -- I needed to think about it more and have confidence that there really is no better way to generate the graph. Overall, this is very similar to Dijkstra style algorithm, with a clever way of recroding if the cost is too large (or loops) \n",
    "\n",
    "## Analysis\n",
    "\n",
    "Time: O(B ^ K) Where K == depth to the correct solution (and if none, then until all paths are exhausted, and B is the number of parents  \n",
    "Space: O(N^2) where N is the number of elements in the wordList (in a dense graph)\n"
   ]
  },
  {
   "cell_type": "code",
   "execution_count": null,
   "metadata": {},
   "outputs": [],
   "source": [
    "class Solution:\n",
    "    def ladderLength(self, beginWord: str, endWord: str, wordList: List[str]) -> int:\n",
    "        children = {}\n",
    "        chars = [chr(i + ord(\"a\")) for i in range(26)]\n",
    "        \n",
    "        wordList.append(beginWord)\n",
    "        for i in wordList:\n",
    "            if i in children:\n",
    "                continue\n",
    "            child = []\n",
    "            for j in range(len(i)):\n",
    "                for k in chars:\n",
    "                    currCheck = i[:j] + k + i[j+1:] \n",
    "                    if currCheck in children:\n",
    "                        children[currCheck].append(i)\n",
    "                        child.append(currCheck)\n",
    "            children[i] = child\n",
    "        \n",
    "        record = {i: math.inf for i in children.keys()}\n",
    "        queue = [(beginWord, 0)]\n",
    "        \n",
    "        while len(queue) != 0:\n",
    "            curr = queue.pop(0)\n",
    "            \n",
    "            if curr[0] == endWord:\n",
    "                return curr[1] + 1\n",
    "            \n",
    "            for i in children[curr[0]]:\n",
    "                if curr[1] + 1 < record[i]:\n",
    "                    record[i] = curr[1] + 1\n",
    "                    queue.append((i, curr[1]+1))\n",
    "            \n",
    "        \n",
    "        return 0"
   ]
  }
 ],
 "metadata": {
  "kernelspec": {
   "display_name": "Python 3",
   "language": "python",
   "name": "python3"
  },
  "language_info": {
   "codemirror_mode": {
    "name": "ipython",
    "version": 3
   },
   "file_extension": ".py",
   "mimetype": "text/x-python",
   "name": "python",
   "nbconvert_exporter": "python",
   "pygments_lexer": "ipython3",
   "version": "3.8.3"
  }
 },
 "nbformat": 4,
 "nbformat_minor": 4
}
