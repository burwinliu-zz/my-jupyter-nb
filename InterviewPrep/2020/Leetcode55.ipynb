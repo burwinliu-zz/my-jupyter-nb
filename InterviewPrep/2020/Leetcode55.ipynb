{
 "cells": [
  {
   "cell_type": "markdown",
   "metadata": {},
   "source": [
    "# Leetcode 55\n",
    "## Problem\n",
    "\n",
    "Given an array of non-negative integers, you are initially positioned at the first index of the array.\n",
    "\n",
    "Each element in the array represents your maximum jump length at that position.\n",
    "\n",
    "Determine if you are able to reach the last index.\n",
    "## Thoughts\n",
    "This seems like a typical greedy problem, maximizing the poisiton, and if we surpass the reachable positions or find a combination that reaches the end, return false or true respectively\n",
    "\n",
    "## Analysis:\n",
    "Time : O(N)  \n",
    "Space: O(1)\n"
   ]
  },
  {
   "cell_type": "code",
   "execution_count": null,
   "metadata": {},
   "outputs": [],
   "source": [
    "class Solution:\n",
    "    def canJump(self, nums: List[int]) -> bool:\n",
    "        maxTemp = nums[0]\n",
    "        if len(nums) < 2:\n",
    "            return True\n",
    "        for i in range(len(nums)):\n",
    "            if i > maxTemp:\n",
    "                return False\n",
    "            maxTemp = max(nums[i] + i, maxTemp)\n",
    "            if maxTemp >= len(nums) - 1:\n",
    "                return True\n",
    "        "
   ]
  }
 ],
 "metadata": {
  "kernelspec": {
   "display_name": "Python 3",
   "language": "python",
   "name": "python3"
  },
  "language_info": {
   "codemirror_mode": {
    "name": "ipython",
    "version": 3
   },
   "file_extension": ".py",
   "mimetype": "text/x-python",
   "name": "python",
   "nbconvert_exporter": "python",
   "pygments_lexer": "ipython3",
   "version": "3.7.6"
  }
 },
 "nbformat": 4,
 "nbformat_minor": 4
}
