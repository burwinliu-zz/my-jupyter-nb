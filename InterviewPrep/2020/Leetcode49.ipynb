{
 "cells": [
  {
   "cell_type": "markdown",
   "metadata": {},
   "source": [
    "# Leetcode 49\n",
    "## Problem\n",
    "Given an array of strings strs, group the anagrams together. You can return the answer in any order.\n",
    "\n",
    "An Anagram is a word or phrase formed by rearranging the letters of a different word or phrase, typically using all the original letters exactly once.\n",
    "\n",
    "## Thoughts\n",
    "With sorted keys, we can ignore the issue of anagrams, as all of these anagrams, when sorted, have a consistent key to unify all anagrams\n",
    "\n",
    "## Analysis\n",
    "Time: O(N) Time  \n",
    "Space: O(N) Space\n"
   ]
  },
  {
   "cell_type": "code",
   "execution_count": null,
   "metadata": {},
   "outputs": [],
   "source": [
    "class Solution(object):\n",
    "    def groupAnagrams(self, strs):\n",
    "        \"\"\"\n",
    "        :type strs: List[str]\n",
    "        :rtype: List[List[str]]\n",
    "        \"\"\"\n",
    "        result = {}\n",
    "        \n",
    "        for i in strs:\n",
    "            cur = \"\".join(sorted(i))\n",
    "            if cur not in result:\n",
    "                result[cur] = []\n",
    "            result[cur].append(i)\n",
    "        return [i for i in result.values()]"
   ]
  }
 ],
 "metadata": {
  "kernelspec": {
   "display_name": "Python 3",
   "language": "python",
   "name": "python3"
  },
  "language_info": {
   "codemirror_mode": {
    "name": "ipython",
    "version": 3
   },
   "file_extension": ".py",
   "mimetype": "text/x-python",
   "name": "python",
   "nbconvert_exporter": "python",
   "pygments_lexer": "ipython3",
   "version": "3.7.6"
  }
 },
 "nbformat": 4,
 "nbformat_minor": 4
}
