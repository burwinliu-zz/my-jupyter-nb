{
 "cells": [
  {
   "cell_type": "markdown",
   "metadata": {},
   "source": [
    "# Leetcode 84\n",
    "## Problem\n",
    "Given n non-negative integers representing the histogram's bar height where the width of each bar is 1, find the area of largest rectangle in the histogram.\n",
    "## Thoughts\n",
    "This was a REALLY difficult problem for me -- and the solution was super clever. \n",
    "\n",
    "The thinking behind the solution -- if you are on the uptick (increasing in height), keep adding on -- you dont know when this rectangle is complete, so keep adding, When you start decreasing, you know some rectangles ended, depending on when the next largets item in your stack is. So, find where that rectangle began (2 rectangles on the uptick ago) and multiply that by the height until the stack remains at a size underneath the current item. Afterwards, find the max and return\n",
    "\n",
    "## Analysis:\n",
    "Time: O(N) time  \n",
    "Space: O(N) space\n",
    " "
   ]
  },
  {
   "cell_type": "code",
   "execution_count": 2,
   "metadata": {},
   "outputs": [
    {
     "data": {
      "text/plain": [
       "[]"
      ]
     },
     "execution_count": 2,
     "metadata": {},
     "output_type": "execute_result"
    }
   ],
   "source": [
    "class Solution:\n",
    "    def largestRectangleArea(self, height):\n",
    "        height.append(0)\n",
    "        stack = [-1]\n",
    "        ans = 0\n",
    "        for i in range(len(height)):\n",
    "            while height[i] < height[stack[-1]]:\n",
    "                h = height[stack.pop()]\n",
    "                w = i - stack[-1] - 1\n",
    "                ans = max(ans, h * w)\n",
    "            stack.append(i)\n",
    "        height.pop()\n",
    "        return ans"
   ]
  }
 ],
 "metadata": {
  "kernelspec": {
   "display_name": "Python 3",
   "language": "python",
   "name": "python3"
  },
  "language_info": {
   "codemirror_mode": {
    "name": "ipython",
    "version": 3
   },
   "file_extension": ".py",
   "mimetype": "text/x-python",
   "name": "python",
   "nbconvert_exporter": "python",
   "pygments_lexer": "ipython3",
   "version": "3.7.6"
  }
 },
 "nbformat": 4,
 "nbformat_minor": 4
}
