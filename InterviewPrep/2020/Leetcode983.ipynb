{
 "cells": [
  {
   "cell_type": "markdown",
   "metadata": {},
   "source": [
    "# Leetcode 983\n",
    "## Problem\n",
    "In a country popular for train travel, you have planned some train travelling one year in advance.  The days of the year that you will travel is given as an array days.  Each day is an integer from 1 to 365.\n",
    "\n",
    "Train tickets are sold in 3 different ways:\n",
    "\n",
    "a 1-day pass is sold for costs[0] dollars;\n",
    "a 7-day pass is sold for costs[1] dollars;\n",
    "a 30-day pass is sold for costs[2] dollars.\n",
    "The passes allow that many days of consecutive travel.  For example, if we get a 7-day pass on day 2, then we can travel for 7 days: day 2, 3, 4, 5, 6, 7, and 8.\n",
    "\n",
    "Return the minimum number of dollars you need to travel every day in the given list of days."
   ]
  },
  {
   "cell_type": "code",
   "execution_count": null,
   "metadata": {},
   "outputs": [],
   "source": [
    "class Solution:\n",
    "    def mincostTickets(self, days: List[int], costs: List[int]) -> int:\n",
    "        record = [0 for i in range(days[-1] + 1)]\n",
    "        pointDays = pointRecord = 0\n",
    "        while pointDays < len(days):\n",
    "            record[pointRecord] = record[pointRecord-1]\n",
    "            if days[pointDays] == pointRecord:\n",
    "                record[pointRecord] = record[pointRecord-1] + costs[0]\n",
    "                pointDays += 1\n",
    "            if pointRecord-7 >= 0 and record[pointRecord-7] + costs[1]< record[pointRecord]:\n",
    "                record[pointRecord] = record[pointRecord-7] + costs[1]\n",
    "            if pointRecord-30 >= 0 and record[pointRecord-30] + costs[2] < record[pointRecord]:\n",
    "                record[pointRecord] = record[pointRecord-30] + costs[2]\n",
    "            \n",
    "            pointRecord += 1\n",
    "        lowerSeven = 0 if len(record) - 7 < 0 else len(record) - 7\n",
    "        lowerThirty = 0 if len(record) - 30 < 0 else len(record) - 30\n",
    "        return min(record[-1],\\\n",
    "                   min([record[i] + costs[1] for i in range(lowerSeven, len(record))]), \\\n",
    "                   min([record[i] + costs[2] for i in range(lowerThirty, len(record))]))"
   ]
  },
  {
   "cell_type": "code",
   "execution_count": null,
   "metadata": {},
   "outputs": [],
   "source": [
    "class Solution:\n",
    "    def mincostTickets(self, days: List[int], costs: List[int]) -> int:\n",
    "        dp=[0 for i in range(days[-1]+1)]\n",
    "        for i in range(len(dp)):\n",
    "             if i not in days:\n",
    "                dp[i]=dp[i-1]\n",
    "            else:\n",
    "                dp[i]=min(dp[max(0,i-7)]+costs[1],dp[max(0,i-1)]+costs[0],dp[max(0,i-30)]+costs[2])\n",
    "        print(dp)\n",
    "        return dp[-1]"
   ]
  }
 ],
 "metadata": {
  "kernelspec": {
   "display_name": "Python 3",
   "language": "python",
   "name": "python3"
  },
  "language_info": {
   "codemirror_mode": {
    "name": "ipython",
    "version": 3
   },
   "file_extension": ".py",
   "mimetype": "text/x-python",
   "name": "python",
   "nbconvert_exporter": "python",
   "pygments_lexer": "ipython3",
   "version": "3.7.6"
  }
 },
 "nbformat": 4,
 "nbformat_minor": 4
}
