{
 "cells": [
  {
   "cell_type": "markdown",
   "metadata": {},
   "source": [
    "# Leetcode 37\n",
    "## Problem\n",
    "Write a program to solve a Sudoku puzzle by filling the empty cells.\n",
    "\n",
    "A sudoku solution must satisfy all of the following rules:\n",
    "\n",
    "Each of the digits 1-9 must occur exactly once in each row.\n",
    "Each of the digits 1-9 must occur exactly once in each column.\n",
    "Each of the the digits 1-9 must occur exactly once in each of the 9 3x3 sub-boxes of the grid.\n",
    "Empty cells are indicated by the character '.'.\n",
    "## Thoughts\n",
    "This is classic backtracking (solve by searching exhaustively over seemingly small N allowing for any form of brute force. However, due to the nature of backtracking, complexity is exponential (O(n ^ m), 9^81) As each square has 9 possibilities, 81 times for then umber of squares possible, plus some constants involved for searching and determine validity). Overall remember the process -- for each possibility, check all valid guesses and recurse the next possible position and check -- if all is exhausted and valid, return True, else if all paths checked, return false and move on\n",
    "\n",
    "## Analysis \n",
    "Since this is sudoku, space and time is trivial consnt, but it become  \n",
    "Time: O(N^M)  where n == number of possibilities and M == number of spaces  \n",
    "Space: O(N^2) where n == number of row"
   ]
  },
  {
   "cell_type": "code",
   "execution_count": null,
   "metadata": {},
   "outputs": [],
   "source": [
    "class Solution:\n",
    "    def solveSudoku(self, board: List[List[str]]) -> None:\n",
    "        \"\"\"\n",
    "        Do not return anything, modify board in-place instead.\n",
    "        \"\"\"\n",
    "        def isValid(row, col, value):\n",
    "            for i in range(9):\n",
    "                if (board[i][col] == value) or (board[row][i] == value) or (board[3*(row // 3) + i%3][3*(col//3) + i//3] == value):\n",
    "                    return False\n",
    "            return True\n",
    "        def nextPos():\n",
    "            for i in range(9):\n",
    "                for j in range(9):\n",
    "                    if board[i][j] == \".\":\n",
    "                        return (i, j)\n",
    "            return -1, -1\n",
    "        def backtrack():\n",
    "            row, col = nextPos()\n",
    "            if row == -1:\n",
    "                return True\n",
    "            for i in range(1, 10):\n",
    "                if isValid(row, col, str(i)):\n",
    "                    board[row][col] = str(i)\n",
    "                    if backtrack():\n",
    "                        return True\n",
    "                    board[row][col] = \".\"\n",
    "            return False\n",
    "        backtrack()"
   ]
  }
 ],
 "metadata": {
  "kernelspec": {
   "display_name": "Python 3",
   "language": "python",
   "name": "python3"
  },
  "language_info": {
   "codemirror_mode": {
    "name": "ipython",
    "version": 3
   },
   "file_extension": ".py",
   "mimetype": "text/x-python",
   "name": "python",
   "nbconvert_exporter": "python",
   "pygments_lexer": "ipython3",
   "version": "3.7.6"
  }
 },
 "nbformat": 4,
 "nbformat_minor": 4
}
