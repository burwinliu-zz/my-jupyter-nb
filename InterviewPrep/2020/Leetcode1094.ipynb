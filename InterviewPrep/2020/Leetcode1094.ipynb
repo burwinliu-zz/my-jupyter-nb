{
 "cells": [
  {
   "cell_type": "markdown",
   "metadata": {},
   "source": [
    "# Leetcode 1094\n",
    "## Problem\n",
    "You are driving a vehicle that has capacity empty seats initially available for passengers.  The vehicle only drives east (ie. it cannot turn around and drive west.)\n",
    "\n",
    "Given a list of trips, trip[i] = [num_passengers, start_location, end_location] contains information about the i-th trip: the number of passengers that must be picked up, and the locations to pick them up and drop them off.  The locations are given as the number of kilometers due east from your vehicle's initial location.\n",
    "\n",
    "Return true if and only if it is possible to pick up and drop off all passengers for all the given trips. \n",
    "\n",
    "## Thoughts\n",
    "With a two pointer approach (instead this time with a PQ) we can track the items at any current positions.\n",
    "\n",
    "Can also use a list, passed all changes at any given spot, and sort it -- to lead to O(NlogN) with a smaller constant\n",
    "\n",
    "Finally, we can use a Pseudo Bucket Sort methodology, and store changes in an array of length 1000 or so (which is max length of trip) and then iterate through array after parsing through the trips, and checking capacity at each location leading to O(N) or O(1000) (whichever is larger)\n",
    "\n",
    "## Analysis\n",
    "Time: O(NlogN) (to sort the trips)  \n",
    "Space: O(N)"
   ]
  },
  {
   "cell_type": "code",
   "execution_count": null,
   "metadata": {},
   "outputs": [],
   "source": [
    "import heapq \n",
    "\n",
    "class Solution:\n",
    "    def carPooling(self, trips: List[List[int]], capacity: int) -> bool:\n",
    "        trips = sorted(trips, key=lambda a: a[1])\n",
    "        record = []\n",
    "        current = 0\n",
    "        for i in trips:\n",
    "            heapq.heappush(record, (i[2], i))\n",
    "            current += i[0]\n",
    "            while len(record) != 0:\n",
    "                check = heapq.heappop(record)\n",
    "                if check[1][2] <= i[1]:\n",
    "                    current -= check[1][0]\n",
    "                else:\n",
    "                    heapq.heappush(record, check)\n",
    "                    break\n",
    "            if current > capacity:\n",
    "                return False\n",
    "        return True\n",
    "        "
   ]
  }
 ],
 "metadata": {
  "kernelspec": {
   "display_name": "Python 3",
   "language": "python",
   "name": "python3"
  },
  "language_info": {
   "codemirror_mode": {
    "name": "ipython",
    "version": 3
   },
   "file_extension": ".py",
   "mimetype": "text/x-python",
   "name": "python",
   "nbconvert_exporter": "python",
   "pygments_lexer": "ipython3",
   "version": "3.7.6"
  }
 },
 "nbformat": 4,
 "nbformat_minor": 4
}
