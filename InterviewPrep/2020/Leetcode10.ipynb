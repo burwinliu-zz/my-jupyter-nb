{
 "cells": [
  {
   "cell_type": "markdown",
   "metadata": {},
   "source": [
    "# Leetcode 10\n",
    "## Problem\n",
    "Given an input string (s) and a pattern (p), implement regular expression matching with support for '.' and '*'.\n",
    "\n",
    "> '.' Matches any single character.  \n",
    "'*' Matches zero or more of the preceding element.\n",
    "\n",
    "The matching should cover the entire input string (not partial).\n",
    "\n",
    "## Solution\n",
    "### Solution 1\n",
    "#### Thoughts\n",
    "Honestly, this was just a practice in understanding the possible situations and accoutnign for them -- and then once done, you can create a decent regex program\n",
    "#### Space Analysis\n",
    "Space: O(2^T) under worse case if at all possible combinations the pattern is stopped ( Not sure if this is possible ). Usually, without worse case, this should have an O(1) Space\n",
    "Time: O(N!) Under worse case if all possible combinations the pattern is stopped, but more likely it will be O(N) where N is length of pattern and string "
   ]
  },
  {
   "cell_type": "code",
   "execution_count": null,
   "metadata": {},
   "outputs": [],
   "source": [
    "def isMatch(self, s: str, p: str) -> bool:\n",
    "    i = 0\n",
    "    for j, k in enumerate(s):\n",
    "        if i >= len(p):\n",
    "            return False\n",
    "\n",
    "        if i < len(p)-1 and p[i+1] == \"*\":\n",
    "            if i < len(p)-2 and (p[i+2] == k or p[i+2] == \".\" or (i < len(p)-3 and p[i+3] == \"*\")):\n",
    "                if self.isMatch(s[j:], p[i+2:]):\n",
    "                    return True\n",
    "            if p[i] == k or p[i] == \".\":\n",
    "                continue\n",
    "            i += 2\n",
    "        elif p[i] == \".\" or p[i] == k:\n",
    "            i += 1\n",
    "            continue\n",
    "        return False     \n",
    "\n",
    "\n",
    "    while i < len(p):\n",
    "        if i < len(p) - 1 and p[i+1] == \"*\":\n",
    "            i+=2\n",
    "            continue\n",
    "        return False\n",
    "    return i == len(p) or (i+2 == len(p) and p[i+1] == \"*\")"
   ]
  }
 ],
 "metadata": {
  "kernelspec": {
   "display_name": "Python 3",
   "language": "python",
   "name": "python3"
  },
  "language_info": {
   "codemirror_mode": {
    "name": "ipython",
    "version": 3
   },
   "file_extension": ".py",
   "mimetype": "text/x-python",
   "name": "python",
   "nbconvert_exporter": "python",
   "pygments_lexer": "ipython3",
   "version": "3.7.6"
  }
 },
 "nbformat": 4,
 "nbformat_minor": 4
}
