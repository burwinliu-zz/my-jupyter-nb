{
 "cells": [
  {
   "cell_type": "markdown",
   "metadata": {},
   "source": [
    "# Leetcode 974\n",
    "## Problem\n",
    "Given an array A of integers, return the number of (contiguous, non-empty) subarrays that have a sum divisible by K.\n",
    "## Thoughts\n",
    "Typical Subarray problem -- keep a running count. Since we are looking for mod k subarray sums, we are looking for subarrays that would lead to a mod k value. Therefore, if we find the continuous sum % k has occured sometime previous, we realize that the subarray from that position to this current position would yield a subarray with a value moddable by k\n",
    "\n",
    "## Analysis\n",
    "Time: O(N)  \n",
    "Space: O(N) "
   ]
  },
  {
   "cell_type": "code",
   "execution_count": null,
   "metadata": {},
   "outputs": [],
   "source": [
    "class Solution(object):\n",
    "    def subarraysDivByK(self, A, K):\n",
    "        \"\"\"\n",
    "        :type A: List[int]\n",
    "        :type K: int\n",
    "        :rtype: int\n",
    "        \"\"\"\n",
    "        res = acum = 0\n",
    "        store = {0: 1}\n",
    "        toCheck = [0]\n",
    "        \n",
    "        for i in A:\n",
    "            acum += i\n",
    "            if acum%K in store:\n",
    "                res += store[acum%K]\n",
    "            if acum%K not in store:\n",
    "                store[acum%K] = 0\n",
    "            store[acum%K] += 1\n",
    "            \n",
    "        return res"
   ]
  }
 ],
 "metadata": {
  "kernelspec": {
   "display_name": "Python 3",
   "language": "python",
   "name": "python3"
  },
  "language_info": {
   "codemirror_mode": {
    "name": "ipython",
    "version": 3
   },
   "file_extension": ".py",
   "mimetype": "text/x-python",
   "name": "python",
   "nbconvert_exporter": "python",
   "pygments_lexer": "ipython3",
   "version": "3.7.6"
  }
 },
 "nbformat": 4,
 "nbformat_minor": 4
}
