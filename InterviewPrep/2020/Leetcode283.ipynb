{
 "cells": [
  {
   "cell_type": "markdown",
   "metadata": {},
   "source": [
    "# Leetcode 283\n",
    "## Problem\n",
    "Given an array nums, write a function to move all 0's to the end of it while maintaining the relative order of the non-zero elements.\n",
    "## Solution\n",
    "\n",
    "### Solution 1\n",
    "Fairly simple 2 pointer solution, have a pointer represent where the element should go, one seeking the next non-zero element\n",
    "O(N) time, O(1) space, inplace solution. Happy happy solution!"
   ]
  },
  {
   "cell_type": "code",
   "execution_count": null,
   "metadata": {},
   "outputs": [],
   "source": [
    "class Solution:\n",
    "    def moveZeroes(self, nums: List[int]) -> None:\n",
    "        \"\"\"\n",
    "        Do not return anything, modify nums in-place instead.\n",
    "        \"\"\"\n",
    "        p_1, p_2 = 0, 0\n",
    "        \n",
    "        while p_2 < len(nums):\n",
    "            while p_2 < len(nums) and nums[p_2] == 0:\n",
    "                p_2 += 1\n",
    "            if p_2 >= len(nums):\n",
    "                return\n",
    "            temp = nums[p_1]\n",
    "            nums[p_1] = nums[p_2]\n",
    "            nums[p_2] = temp\n",
    "            p_1 += 1\n",
    "            p_2 += 1\n",
    "            "
   ]
  }
 ],
 "metadata": {
  "kernelspec": {
   "display_name": "Python 3",
   "language": "python",
   "name": "python3"
  },
  "language_info": {
   "codemirror_mode": {
    "name": "ipython",
    "version": 3
   },
   "file_extension": ".py",
   "mimetype": "text/x-python",
   "name": "python",
   "nbconvert_exporter": "python",
   "pygments_lexer": "ipython3",
   "version": "3.7.6"
  }
 },
 "nbformat": 4,
 "nbformat_minor": 4
}
