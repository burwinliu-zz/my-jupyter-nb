{
 "cells": [
  {
   "cell_type": "markdown",
   "metadata": {},
   "source": [
    "# Leetcode 160\n",
    "## Problem\n",
    "Write a program to find the node at which the intersection of two singly linked lists begins.\n",
    "## Solutions\n",
    "### BRUTE\n",
    "Just iterate over each node for all nodes in other list to check (\n",
    "> for each item in l1:   \n",
    "    for each item in l2:   \n",
    "        if item1 == item2:   \n",
    "            return  \n",
    "### Solution 1\n",
    "Find length, find the position where both are coordinated and try to find when both are the same. its not pretty but O(1) space and O(m+n) time. It can be easily deduced and can be thought of one the fly, as you can only have a coordination point when both items are same distance from the end. Thereefore, find the point where both are the same dist from end (hence finding length and iterating to the point where the longer list matches the smaller list\n",
    "### Solution 2\n",
    "HashMap -- store all items of one list,and then when iterating over the other list if they match the hash, return that value.\n",
    "### Solution 3\n",
    "Two pointers (See leetcodes solution doc HERE: https://leetcode.com/articles/intersection-of-two-linked-lists/)"
   ]
  },
  {
   "cell_type": "code",
   "execution_count": null,
   "metadata": {},
   "outputs": [],
   "source": [
    "# Definition for singly-linked list.\n",
    "# class ListNode:\n",
    "#     def __init__(self, x):\n",
    "#         self.val = x\n",
    "#         self.next = None\n",
    "\n",
    "class Solution:\n",
    "    def getIntersectionNode(self, headA: ListNode, headB: ListNode) -> ListNode:\n",
    "        lenA = 0\n",
    "        lenB = 0\n",
    "        \n",
    "        pA = headA\n",
    "        pB = headB\n",
    "        while pA != None:\n",
    "            lenA += 1\n",
    "            pA = pA.next\n",
    "        while pB != None:\n",
    "            lenB += 1\n",
    "            pB = pB.next\n",
    "        pA = headA\n",
    "        pB = headB\n",
    "        \n",
    "        if lenA < lenB:\n",
    "            for i in range(lenB-lenA):\n",
    "                pB = pB.next\n",
    "        elif lenB < lenA:\n",
    "            for i in range(lenA-lenB):\n",
    "                pA = pA.next\n",
    "        while pA != None and pB != None and pA != pB:\n",
    "            pA = pA.next\n",
    "            pB = pB.next\n",
    "        if pA != None:\n",
    "            return pA\n",
    "        return None"
   ]
  }
 ],
 "metadata": {
  "kernelspec": {
   "display_name": "Python (cs178)",
   "language": "python",
   "name": "cs178"
  },
  "language_info": {
   "codemirror_mode": {
    "name": "ipython",
    "version": 3
   },
   "file_extension": ".py",
   "mimetype": "text/x-python",
   "name": "python",
   "nbconvert_exporter": "python",
   "pygments_lexer": "ipython3",
   "version": "3.8.2"
  }
 },
 "nbformat": 4,
 "nbformat_minor": 4
}
