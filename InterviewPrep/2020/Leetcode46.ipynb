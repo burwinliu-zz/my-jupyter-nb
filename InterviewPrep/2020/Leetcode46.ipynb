{
 "cells": [
  {
   "cell_type": "markdown",
   "metadata": {},
   "source": [
    "# Leetcode 46\n",
    "## Problem\n",
    "Given a collection of distinct integers, return all possible permutations\n",
    "\n",
    "## Thoughts\n",
    "This is an extension of [Leetcode 77](./Leetcode77.ipynb) with all valid comb instead of just permutations. The ideas of backtracking remain much the same, with a wider search space\n",
    "\n",
    "\n",
    "## Analysis\n",
    "Time: Exponential in some fashion (O(c^N))\n",
    "Space: Exponential in some fashion (O(c^N))"
   ]
  },
  {
   "cell_type": "code",
   "execution_count": null,
   "metadata": {},
   "outputs": [],
   "source": [
    "class Solution:\n",
    "    def permute(self, nums: List[int]) -> List[List[int]]:\n",
    "        res = []\n",
    "        def helper(valid, building):\n",
    "            if len(building) == len(nums):\n",
    "                res.append([i for i in building])\n",
    "                return \n",
    "            for i in range(len(valid)):\n",
    "                building.append(valid[i])\n",
    "                helper([valid[j] for j in range(len(valid)) if j != i], building)\n",
    "                building.remove(valid[i])\n",
    "        helper([i for i in nums], [])\n",
    "        return res"
   ]
  }
 ],
 "metadata": {
  "kernelspec": {
   "display_name": "Python 3",
   "language": "python",
   "name": "python3"
  },
  "language_info": {
   "codemirror_mode": {
    "name": "ipython",
    "version": 3
   },
   "file_extension": ".py",
   "mimetype": "text/x-python",
   "name": "python",
   "nbconvert_exporter": "python",
   "pygments_lexer": "ipython3",
   "version": "3.7.6"
  }
 },
 "nbformat": 4,
 "nbformat_minor": 4
}
