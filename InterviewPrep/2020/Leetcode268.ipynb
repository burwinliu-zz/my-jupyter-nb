{
 "cells": [
  {
   "cell_type": "markdown",
   "metadata": {},
   "source": [
    "# Leetcode 268\n",
    "## Problem\n",
    "Given an array containing n distinct numbers taken from 0, 1, 2, ..., n, find the one that is missing from the array.\n",
    "## Solution\n",
    "### Solution 1\n",
    "#### Thinking\n",
    "Using sets, we can use hash to remove and check at O(1) time, allowing for an efficient search and remove of all elements in the array, seeing which item remains as unused within the array\n",
    "#### Analysis\n",
    "Time: O(N) to loop through  \n",
    "Space: O(N) to store the set\n",
    "\n",
    "### Solution 2\n",
    "#### Thinking \n",
    "Using A xor B xor B = A, we can find that missing number by xoring all indexes, the length and all elements --whatever remains is the missing item"
   ]
  },
  {
   "cell_type": "code",
   "execution_count": null,
   "metadata": {},
   "outputs": [],
   "source": [
    "class Solution:\n",
    "    def missingNumber(self, nums: List[int]) -> int:\n",
    "        temp = {i for i in range(len(nums) + 1)}\n",
    "        for i in nums:\n",
    "            if i in temp:\n",
    "                temp.remove(i)\n",
    "        return list(temp)[0]\n",
    "            "
   ]
  },
  {
   "cell_type": "code",
   "execution_count": null,
   "metadata": {},
   "outputs": [],
   "source": [
    "# a ^ b ^ b = a -- EXTENDED\n",
    "class Solution:\n",
    "    def missingNumber(self, nums: List[int]) -> int:\n",
    "        total = 0\n",
    "        for i, j in enumerate(nums):\n",
    "            total = (total ^ i) ^ j\n",
    "        return total ^ len(nums)\n",
    "            \n",
    "            \n",
    "        "
   ]
  }
 ],
 "metadata": {
  "kernelspec": {
   "display_name": "Python 3",
   "language": "python",
   "name": "python3"
  },
  "language_info": {
   "codemirror_mode": {
    "name": "ipython",
    "version": 3
   },
   "file_extension": ".py",
   "mimetype": "text/x-python",
   "name": "python",
   "nbconvert_exporter": "python",
   "pygments_lexer": "ipython3",
   "version": "3.7.6"
  }
 },
 "nbformat": 4,
 "nbformat_minor": 4
}
