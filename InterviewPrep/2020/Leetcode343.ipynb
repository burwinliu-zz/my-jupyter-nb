{
 "cells": [
  {
   "cell_type": "markdown",
   "metadata": {},
   "source": [
    "# Leetcode 343\n",
    "## Problem\n",
    "Given a positive integer n, break it into the sum of at least two positive integers and maximize the product of those integers. Return the maximum product you can get.\n",
    "## Thoughts\n",
    "Break it down into twos and threes, maximizing 3s. \n",
    "\n",
    "## Analysis:\n",
    "Time: O(N)  \n",
    "Space: O(1)"
   ]
  },
  {
   "cell_type": "code",
   "execution_count": null,
   "metadata": {},
   "outputs": [],
   "source": [
    "class Solution:\n",
    "    def integerBreak(self, n: int) -> int:\n",
    "        memo = {}\n",
    "        if n < 4:\n",
    "            return n-1\n",
    "        def helper(n: int):\n",
    "            if n < 0:\n",
    "                return -1\n",
    "            if n == 0:\n",
    "                return 1\n",
    "            memo[n] = max(helper(n-3) * 3, helper(n-2)*2)\n",
    "            return memo[n]\n",
    "    \n",
    "        return helper(n)"
   ]
  },
  {
   "cell_type": "code",
   "execution_count": null,
   "metadata": {},
   "outputs": [],
   "source": [
    "class Solution:\n",
    "    def integerBreak(self, n: int) -> int:\n",
    "        memo = {}\n",
    "        if n < 4:\n",
    "            return n-1\n",
    "        def helper(n: int):\n",
    "            if n <= 4:\n",
    "                return n\n",
    "            memo[n] = helper(n-3) * 3\n",
    "            return memo[n]\n",
    "    \n",
    "        return helper(n)"
   ]
  },
  {
   "cell_type": "code",
   "execution_count": null,
   "metadata": {},
   "outputs": [],
   "source": [
    "class Solution:\n",
    "    def integerBreak(self, n: int) -> int:\n",
    "        if n <= 3:\n",
    "            return n-1\n",
    "        def helper(n: int):\n",
    "            if n <= 4:\n",
    "                return n\n",
    "            return helper(n-3) * 3\n",
    "    \n",
    "        return helper(n)"
   ]
  },
  {
   "cell_type": "code",
   "execution_count": null,
   "metadata": {},
   "outputs": [],
   "source": [
    "class Solution:\n",
    "    def integerBreak(self, n: int) -> int:\n",
    "        if n <= 3:\n",
    "            return n-1\n",
    "        res = 1\n",
    "        while True:\n",
    "            if n <= 4:\n",
    "                return res*n\n",
    "            res *= 3\n",
    "            n -= 3"
   ]
  }
 ],
 "metadata": {
  "kernelspec": {
   "display_name": "Python 3",
   "language": "python",
   "name": "python3"
  },
  "language_info": {
   "codemirror_mode": {
    "name": "ipython",
    "version": 3
   },
   "file_extension": ".py",
   "mimetype": "text/x-python",
   "name": "python",
   "nbconvert_exporter": "python",
   "pygments_lexer": "ipython3",
   "version": "3.7.6"
  }
 },
 "nbformat": 4,
 "nbformat_minor": 4
}
