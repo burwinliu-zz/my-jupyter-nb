{
 "cells": [
  {
   "cell_type": "markdown",
   "metadata": {},
   "source": [
    "# Leetcode 779\n",
    "## Problem\n",
    "On the first row, we write a 0. Now in every subsequent row, we look at the previous row and replace each occurrence of 0 with 01, and each occurrence of 1 with 10.\n",
    "\n",
    "Given row N and index K, return the K-th indexed symbol in row N. (The values of K are 1-indexed.) (1 indexed).\n",
    "\n",
    "## Solution\n",
    "### Approach\n",
    "At first this sounds VERY confusing. When you sit down and map things out, you realize its a basic recursion problem -- Realize that what youre looking for is some number at a given position, and there are set rules for positions above. Since you know your current position will correspond with the row above at the K/2 position ( the number 0 or 1 that will be replaced) you can, given that number and your current position either being in the 0th or 1st position of the replaced number, easily determine your current position. Eventually since they all return to 1, 1, which is garunteed to be 0, you know how to solve the recurence\n",
    "### Solution 1\n",
    "#### Approach\n",
    "As outlined above, solve the Number above via recursion\n",
    "#### Analysis\n",
    "Space : Given we are recursing, and the max depth will correspond to N. Therefore, O(N) is the space used\n",
    "Time: Given that we are once more recursing, and constant time for each recursion is the cost of calculation, therefore the time is T(recursion) * T(number of recursions) or in other words O(1) * O(N) -> O(N)"
   ]
  },
  {
   "cell_type": "code",
   "execution_count": null,
   "metadata": {},
   "outputs": [],
   "source": [
    "class Solution:\n",
    "    def kthGrammar(self, N: int, K: int) -> int:\n",
    "        def helper(N, K):\n",
    "            if N == 1 and K == 1:\n",
    "                return 0\n",
    "            lastNumber = helper(N-1, int((K+1)/2))\n",
    "            if lastNumber == 0:\n",
    "                if K%2 == 0:\n",
    "                    return 1\n",
    "                if K%2 == 1:\n",
    "                    return 0\n",
    "            else:\n",
    "                if K%2 == 0:\n",
    "                    return 0\n",
    "                if K%2 == 1:\n",
    "                    return 1\n",
    "        return helper(N, K)"
   ]
  }
 ],
 "metadata": {
  "kernelspec": {
   "display_name": "Python 3",
   "language": "python",
   "name": "python3"
  },
  "language_info": {
   "codemirror_mode": {
    "name": "ipython",
    "version": 3
   },
   "file_extension": ".py",
   "mimetype": "text/x-python",
   "name": "python",
   "nbconvert_exporter": "python",
   "pygments_lexer": "ipython3",
   "version": "3.7.6"
  }
 },
 "nbformat": 4,
 "nbformat_minor": 4
}
