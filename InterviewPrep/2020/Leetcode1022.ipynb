{
 "cells": [
  {
   "cell_type": "markdown",
   "metadata": {},
   "source": [
    "# Leetcode 1022\n",
    "## Problem\n",
    "Given a binary tree, each node has value 0 or 1.  Each root-to-leaf path represents a binary number starting with the most significant bit.  For example, if the path is 0 -> 1 -> 1 -> 0 -> 1, then this could represent 01101 in binary, which is 13.\n",
    "\n",
    "For all leaves in the tree, consider the numbers represented by the path from the root to that leaf.\n",
    "\n",
    "Return the sum of these numbers.\n",
    "## Thoughts\n",
    "\n",
    "Typical BFS/DFS Search algorithm, traverse the tree style situation. Extension (simplification?) of [Leetcode129](Leetcode129.ipynb)\n",
    "\n",
    "## Analysis:\n",
    "Time:  O(N)  \n",
    "Space: O(N)"
   ]
  },
  {
   "cell_type": "code",
   "execution_count": 4,
   "metadata": {},
   "outputs": [
    {
     "data": {
      "text/plain": [
       "11"
      ]
     },
     "execution_count": 4,
     "metadata": {},
     "output_type": "execute_result"
    }
   ],
   "source": [
    "# Definition for a binary tree node.\n",
    "# class TreeNode:\n",
    "#     def __init__(self, val=0, left=None, right=None):\n",
    "#         self.val = val\n",
    "#         self.left = left\n",
    "#         self.right = right\n",
    "class Solution:\n",
    "    def sumRootToLeaf(self, root: TreeNode) -> int:\n",
    "        res = 0\n",
    "        queue = [(root, 0)]\n",
    "        while len(queue) != 0:\n",
    "            curr, string = queue.pop()\n",
    "            if curr.left is None and curr.right is None:\n",
    "                res += self.convertToInt(string + str(curr.val))\n",
    "            if curr.left is not None:\n",
    "                queue.append((curr.left, 2*val + (curr.val)))\n",
    "            if curr.right is not None:\n",
    "                queue.append((curr.right, 2*val + str(curr.val)))\n",
    "        return res\n",
    "            \n",
    "    \n",
    "    def convertToInt(self, string):\n",
    "        res = 0\n",
    "        for i in string:\n",
    "            res *= 2\n",
    "            res += int(i)\n",
    "        return res\n",
    "        "
   ]
  },
  {
   "cell_type": "code",
   "execution_count": null,
   "metadata": {},
   "outputs": [],
   "source": [
    "# Definition for a binary tree node.\n",
    "# class TreeNode:\n",
    "#     def __init__(self, val=0, left=None, right=None):\n",
    "#         self.val = val\n",
    "#         self.left = left\n",
    "#         self.right = right\n",
    "class Solution:\n",
    "    def sumRootToLeaf(self, root: TreeNode) -> int:\n",
    "        res = 0\n",
    "        queue = [(root, 0)]\n",
    "        while len(queue) != 0:\n",
    "            curr, val = queue.pop()\n",
    "            if curr.left is None and curr.right is None:\n",
    "                res += 2*val + (curr.val)\n",
    "            if curr.left is not None:\n",
    "                queue.append((curr.left, 2*val + curr.val))\n",
    "            if curr.right is not None:\n",
    "                queue.append((curr.right, 2*val + curr.val))\n",
    "        return res\n",
    "        "
   ]
  }
 ],
 "metadata": {
  "kernelspec": {
   "display_name": "Python 3",
   "language": "python",
   "name": "python3"
  },
  "language_info": {
   "codemirror_mode": {
    "name": "ipython",
    "version": 3
   },
   "file_extension": ".py",
   "mimetype": "text/x-python",
   "name": "python",
   "nbconvert_exporter": "python",
   "pygments_lexer": "ipython3",
   "version": "3.7.6"
  }
 },
 "nbformat": 4,
 "nbformat_minor": 4
}
