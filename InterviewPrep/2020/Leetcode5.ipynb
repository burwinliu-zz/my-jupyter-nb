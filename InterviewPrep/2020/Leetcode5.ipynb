{
 "cells": [
  {
   "cell_type": "code",
   "execution_count": 24,
   "metadata": {},
   "outputs": [
    {
     "name": "stdout",
     "output_type": "stream",
     "text": [
      "0 a\n",
      "{'a': 0} a\n",
      "1 a\n",
      "0 2\n",
      "{'a': 0} aa\n",
      "2 a\n",
      "0 3\n",
      "{'a': 0} aaa\n",
      "3 a\n",
      "{'a': 0} aaa\n",
      "4 a\n",
      "{'a': 0} aaa\n"
     ]
    },
    {
     "data": {
      "text/plain": [
       "'aaa'"
      ]
     },
     "execution_count": 24,
     "metadata": {},
     "output_type": "execute_result"
    }
   ],
   "source": [
    "def longestPalindrome(self, s: str) -> str:\n",
    "        if len(s) < 2:\n",
    "            return s\n",
    "        longest = s[0]\n",
    "        for i, j in enumerate(s):\n",
    "            x = 0\n",
    "            while i+x < len(s) and i-x >= 0 and s[i + x] == s[i - x]:\n",
    "                x += 1\n",
    "            if (x*2)-1 > len(longest):\n",
    "                longest = s[i-x+1:i+x]\n",
    "            if i+1 < len(s) and s[i] == s[i+1]:\n",
    "                x = 0\n",
    "                while i+(x+1) < len(s) and i-x >= 0 and s[i+x+1] == s[i-x]:\n",
    "                    x += 1\n",
    "                if (x*2) > len(longest):\n",
    "                    longest = s[i-x+1: i+x+1]\n",
    "                \n",
    "        return longest"
   ]
  },
  {
   "cell_type": "markdown",
   "metadata": {},
   "source": [
    "# Solution 1\n",
    "Efficiency\n",
    "    * Space is O(1)\n",
    "    * Time is O(n^2) in worse case, very unlikely -- typically O(N)\n",
    "    \n",
    "Brute force, naive solution -- moving window style. Look for point and move forward and backwards, and if not found, then terminate and move on"
   ]
  }
 ],
 "metadata": {
  "kernelspec": {
   "display_name": "Python 3",
   "language": "python",
   "name": "python3"
  },
  "language_info": {
   "codemirror_mode": {
    "name": "ipython",
    "version": 3
   },
   "file_extension": ".py",
   "mimetype": "text/x-python",
   "name": "python",
   "nbconvert_exporter": "python",
   "pygments_lexer": "ipython3",
   "version": "3.7.4"
  }
 },
 "nbformat": 4,
 "nbformat_minor": 2
}
