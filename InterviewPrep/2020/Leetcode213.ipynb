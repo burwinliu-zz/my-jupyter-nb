{
 "cells": [
  {
   "cell_type": "markdown",
   "metadata": {},
   "source": [
    "# Leetcode 213\n",
    "## Problem\n",
    "You are a professional robber planning to rob houses along a street. Each house has a certain amount of money stashed. All houses at this place are arranged in a circle. That means the first house is the neighbor of the last one. Meanwhile, adjacent houses have security system connected and it will automatically contact the police if two adjacent houses were broken into on the same night.\n",
    "\n",
    "Given a list of non-negative integers representing the amount of money of each house, determine the maximum amount of money you can rob tonight without alerting the police.\n",
    "## Thoughts\n",
    "An extension of [Leetcode 198](./Leetcode198.ipynb). This uses the fact that 0...n-1 and 1...n compared against each other, as only this would be the special case of a circular housing situation.\n",
    "\n",
    "## Analysis\n",
    "Time: O(N)  \n",
    "Space: O(1)"
   ]
  },
  {
   "cell_type": "code",
   "execution_count": null,
   "metadata": {},
   "outputs": [],
   "source": [
    "class Solution:\n",
    "    def rob(self, nums: List[int]) -> int:\n",
    "        if len(nums) == 0:\n",
    "            return 0\n",
    "        if len(nums) == 1:\n",
    "            return nums[0]\n",
    "        recordFrom1 = recordFrom2 = 0\n",
    "        currFrom1 = currFrom2 = 0\n",
    "        \n",
    "        for i in range(len(nums)):\n",
    "            if i < len(nums)-1:\n",
    "                temp1 = max(currFrom1, recordFrom1 +nums[i])\n",
    "                recordFrom1 = currFrom1\n",
    "                currFrom1 = temp1\n",
    "            if i > 0:\n",
    "                temp2 = max(currFrom2, recordFrom2 +nums[i])\n",
    "                recordFrom2 = currFrom2\n",
    "                currFrom2 = temp2\n",
    "        return max(currFrom1, currFrom2)\n",
    "\n"
   ]
  }
 ],
 "metadata": {
  "kernelspec": {
   "display_name": "Python 3",
   "language": "python",
   "name": "python3"
  },
  "language_info": {
   "codemirror_mode": {
    "name": "ipython",
    "version": 3
   },
   "file_extension": ".py",
   "mimetype": "text/x-python",
   "name": "python",
   "nbconvert_exporter": "python",
   "pygments_lexer": "ipython3",
   "version": "3.7.6"
  }
 },
 "nbformat": 4,
 "nbformat_minor": 4
}
