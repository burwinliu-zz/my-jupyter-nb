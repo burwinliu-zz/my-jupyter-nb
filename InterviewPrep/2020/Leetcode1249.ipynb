{
 "cells": [
  {
   "cell_type": "markdown",
   "metadata": {},
   "source": [
    "# Leetcode 1249\n",
    "\n",
    "## Problem\n",
    "Given a string s of '(' , ')' and lowercase English characters. \n",
    "\n",
    "Your task is to remove the minimum number of parentheses ( '(' or ')', in any positions ) so that the resulting parentheses string is valid and return any valid string.\n",
    "\n",
    "Formally, a parentheses string is valid if and only if:\n",
    "\n",
    "It is the empty string, contains only lowercase characters, or\n",
    "It can be written as AB (A concatenated with B), where A and B are valid strings, or\n",
    "It can be written as (A), where A is a valid string.\n",
    "\n",
    "## Thoughts\n",
    "This seems like a basic DS problems, just figure out how many opened paren and how many closed, and match -- if unmatched, remove (which I did via a set and a stack to represent right parentheses. In any case  \n",
    "Time: O(N) time  \n",
    "Space: O(N) Space"
   ]
  },
  {
   "cell_type": "code",
   "execution_count": 1,
   "metadata": {},
   "outputs": [
    {
     "data": {
      "text/plain": [
       "['', 'ss', '']"
      ]
     },
     "execution_count": 1,
     "metadata": {},
     "output_type": "execute_result"
    }
   ],
   "source": [
    "\" ss \".split(\" \")"
   ]
  },
  {
   "cell_type": "code",
   "execution_count": null,
   "metadata": {},
   "outputs": [],
   "source": [
    "class Solution:\n",
    "    def minRemoveToMakeValid(self, s: str) -> str:\n",
    "        stackRight = []\n",
    "        toRemove = set()\n",
    "        \n",
    "        for i, j in enumerate(s):\n",
    "            if j == \"(\":\n",
    "                stackRight.append(i)\n",
    "            if j == \")\":\n",
    "                if len(stackRight) != 0:\n",
    "                    stackRight = stackRight[:-1]\n",
    "                else:\n",
    "                    toRemove.add(i)\n",
    "        for i in stackRight:\n",
    "            toRemove.add(i)\n",
    "            \n",
    "        res = \"\"\n",
    "        for i, j in enumerate(s):\n",
    "            if i in toRemove:\n",
    "                continue\n",
    "            else:\n",
    "                res += j\n",
    "        return res\n"
   ]
  }
 ],
 "metadata": {
  "kernelspec": {
   "display_name": "Python 3",
   "language": "python",
   "name": "python3"
  },
  "language_info": {
   "codemirror_mode": {
    "name": "ipython",
    "version": 3
   },
   "file_extension": ".py",
   "mimetype": "text/x-python",
   "name": "python",
   "nbconvert_exporter": "python",
   "pygments_lexer": "ipython3",
   "version": "3.7.6"
  }
 },
 "nbformat": 4,
 "nbformat_minor": 4
}
