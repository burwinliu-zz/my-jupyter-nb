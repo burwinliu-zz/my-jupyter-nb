{
 "cells": [
  {
   "cell_type": "markdown",
   "metadata": {},
   "source": [
    "# Leetcode 436\n",
    "## Problem\n",
    "Given a set of intervals, for each of the interval i, check if there exists an interval j whose start point is bigger than or equal to the end point of the interval i, which can be called that j is on the \"right\" of i.\n",
    "\n",
    "For any interval i, you need to store the minimum interval j's index, which means that the interval j has the minimum start point to build the \"right\" relationship for interval i. If the interval j doesn't exist, store -1 for the interval i. Finally, you need output the stored value of each interval as an array.\n",
    "\n",
    "Note:\n",
    "\n",
    "You may assume the interval's end point is always bigger than its start point.\n",
    "You may assume none of these intervals have the same start point.\n",
    "\n",
    "## Thoughts\n",
    "\n",
    "Starting to try for Pen and Paper. Its kinda wierd honestly, but I think I got this one pretty well. Outputted a N^2 Solution with two for loops (searching for min above, etc. etc.) Which fails the test (assumed so, but did it anyways)\n",
    "\n",
    "A more novel approach with DS, we sort the intervals and keep a map to reference all positions, then binary search for the interval larger (or -1 if none exist)\n",
    "\n",
    "## Analysis\n",
    "Time: O(NlogN) -> sorting + binary search for all elements, 2NLogN TBH  \n",
    "Space: O(N) -> storing all lookups and res to return"
   ]
  },
  {
   "cell_type": "code",
   "execution_count": null,
   "metadata": {},
   "outputs": [],
   "source": [
    "class Solution:\n",
    "    def findRightInterval(self, intervals: List[List[int]]) -> List[int]:\n",
    "        res = []\n",
    "        lookup = {}\n",
    "        \n",
    "        for i, j in enumerate(intervals):\n",
    "            lookup[(j[0], j[1])] = i\n",
    "        sortedInterval = sorted(intervals, key=lambda x: x[0])\n",
    "        for i in intervals:\n",
    "            start, end = 0, len(intervals) - 1\n",
    "            while start < end:\n",
    "                mid = (end-start)//2 + start\n",
    "                if sortedInterval[mid][0] < i[1]:\n",
    "                    start = mid + 1\n",
    "                elif sortedInterval[mid][0] >= i[1]:\n",
    "                    end = mid\n",
    "            if sortedInterval[start][0] >= i[1]:\n",
    "                res.append(lookup[(sortedInterval[start][0], sortedInterval[start][1])])\n",
    "            else:\n",
    "                res.append(-1)\n",
    "        return res\n",
    "            "
   ]
  },
  {
   "cell_type": "code",
   "execution_count": null,
   "metadata": {},
   "outputs": [],
   "source": [
    "class Solution:\n",
    "    def findRightInterval(self, intervals: List[List[int]]) -> List[int]:\n",
    "        res = []\n",
    "        lookup = {}\n",
    "        \n",
    "        for i, j in enumerate(intervals):\n",
    "            lookup[j[0]] = i\n",
    "        sortedInterval = sorted(intervals, key=lambda x: x[0])\n",
    "        for i in intervals:\n",
    "            start, end = 0, len(intervals) - 1\n",
    "            while start < end:\n",
    "                mid = (end-start)//2 + start\n",
    "                if sortedInterval[mid][0] < i[1]:\n",
    "                    start = mid + 1\n",
    "                elif sortedInterval[mid][0] >= i[1]:\n",
    "                    end = mid\n",
    "            if sortedInterval[start][0] >= i[1]:\n",
    "                res.append(lookup[sortedInterval[start][0]])\n",
    "            else:\n",
    "                res.append(-1)\n",
    "        return res\n",
    "            "
   ]
  },
  {
   "cell_type": "code",
   "execution_count": null,
   "metadata": {},
   "outputs": [],
   "source": [
    "class Solution:\n",
    "    def findRightInterval(self, intervals: List[List[int]]) -> List[int]:\n",
    "        res = []\n",
    "        lookup = {j[0]: i for i, j in enumerate(intervals)}\n",
    "        \n",
    "        sortedInterval = sorted(intervals, key=lambda x: x[0])\n",
    "        for i in intervals:\n",
    "            start, end = 0, len(intervals) - 1\n",
    "            while start < end:\n",
    "                mid = (end-start)//2 + start\n",
    "                if sortedInterval[mid][0] < i[1]:\n",
    "                    start = mid + 1\n",
    "                elif sortedInterval[mid][0] >= i[1]:\n",
    "                    end = mid\n",
    "            if sortedInterval[start][0] >= i[1]:\n",
    "                res.append(lookup[sortedInterval[start][0]])\n",
    "            else:\n",
    "                res.append(-1)\n",
    "        return res\n",
    "            "
   ]
  }
 ],
 "metadata": {
  "kernelspec": {
   "display_name": "Python 3",
   "language": "python",
   "name": "python3"
  },
  "language_info": {
   "codemirror_mode": {
    "name": "ipython",
    "version": 3
   },
   "file_extension": ".py",
   "mimetype": "text/x-python",
   "name": "python",
   "nbconvert_exporter": "python",
   "pygments_lexer": "ipython3",
   "version": "3.7.6"
  }
 },
 "nbformat": 4,
 "nbformat_minor": 4
}
