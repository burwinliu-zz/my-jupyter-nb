{
 "cells": [
  {
   "cell_type": "markdown",
   "metadata": {},
   "source": [
    "# Leetcode 138\n",
    "## Problem\n",
    "A linked list is given such that each node contains an additional random pointer which could point to any node in the list or null.\n",
    "\n",
    "Return a deep copy of the list.\n",
    "\n",
    "The Linked List is represented in the input/output as a list of n nodes. Each node is represented as a pair of [val, random_index] where:\n",
    "\n",
    "val: an integer representing Node.val\n",
    "random_index: the index of the node (range from 0 to n-1) where random pointer points to, or null if it does not point to any node.\n",
    "## Solution\n",
    "### Thoughts\n",
    "This problem was very wierd. I didn't quite understand how the random pointer works and the fact that you could hash the Node object.\n",
    "### Solution 1\n",
    "With a map, store the pointer from oldPointer to newPointer and then after generating the base linked list with .next to the correct location, iterate over the list again to match each node with their correct random with the memo map that stores the oldNode to the newNode\n",
    "#### Analysis\n",
    "Space and Time: O(N) to store all nodes to the new Node, and O(N)to iterate over all items in the list"
   ]
  },
  {
   "cell_type": "code",
   "execution_count": null,
   "metadata": {},
   "outputs": [],
   "source": [
    "\"\"\"\n",
    "# Definition for a Node.\n",
    "class Node:\n",
    "    def __init__(self, x: int, next: 'Node' = None, random: 'Node' = None):\n",
    "        self.val = int(x)\n",
    "        self.next = next\n",
    "        self.random = random\n",
    "\"\"\"\n",
    "\n",
    "def copyRandomList(self, head: 'Node') -> 'Node':\n",
    "    memo = {}\n",
    "    if not head:\n",
    "        return None\n",
    "    pCopy = headCopy = Node(0)\n",
    "    headP = head\n",
    "    while headP and headP.next:\n",
    "        pCopy.val = headP.val\n",
    "        memo[headP] = pCopy\n",
    "        headP = headP.next\n",
    "        pCopy.next = Node(0)\n",
    "        pCopy = pCopy.next\n",
    "    if headP:\n",
    "        pCopy.val = headP.val\n",
    "        memo[headP] = pCopy\n",
    "    pCopy = headCopy\n",
    "    while head:\n",
    "        if head.random is None:\n",
    "            pCopy.random = None\n",
    "        else:\n",
    "            pCopy.random = memo[head.random]\n",
    "        head = head.next\n",
    "        pCopy = pCopy.next\n",
    "    return headCopy"
   ]
  }
 ],
 "metadata": {
  "kernelspec": {
   "display_name": "Python 3",
   "language": "python",
   "name": "python3"
  },
  "language_info": {
   "codemirror_mode": {
    "name": "ipython",
    "version": 3
   },
   "file_extension": ".py",
   "mimetype": "text/x-python",
   "name": "python",
   "nbconvert_exporter": "python",
   "pygments_lexer": "ipython3",
   "version": "3.7.6"
  }
 },
 "nbformat": 4,
 "nbformat_minor": 4
}
