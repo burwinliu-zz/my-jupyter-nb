{
 "cells": [
  {
   "cell_type": "code",
   "execution_count": null,
   "metadata": {},
   "outputs": [],
   "source": [
    "class Solution(object):\n",
    "    def minSubarray(self, nums, p):\n",
    "        \"\"\"\n",
    "        :type nums: List[int]\n",
    "        :type p: int\n",
    "        :rtype: int\n",
    "        \"\"\"\n",
    "        record = {0: -1}\n",
    "        toSearch = sum(nums) % p\n",
    "        acum = 0\n",
    "        \n",
    "        res = float('inf')\n",
    "        for i, j in enumerate(nums):\n",
    "            acum += j\n",
    "            record[(acum)%p] = i\n",
    "            if (acum-toSearch)%p in record:\n",
    "                res = min(res, i-record[(acum-toSearch)%p])\n",
    "        if res >= len(nums):\n",
    "            return -1\n",
    "        return res\n"
   ]
  }
 ],
 "metadata": {
  "kernelspec": {
   "display_name": "Python 3",
   "language": "python",
   "name": "python3"
  },
  "language_info": {
   "codemirror_mode": {
    "name": "ipython",
    "version": 3
   },
   "file_extension": ".py",
   "mimetype": "text/x-python",
   "name": "python",
   "nbconvert_exporter": "python",
   "pygments_lexer": "ipython3",
   "version": "3.7.6"
  }
 },
 "nbformat": 4,
 "nbformat_minor": 4
}
