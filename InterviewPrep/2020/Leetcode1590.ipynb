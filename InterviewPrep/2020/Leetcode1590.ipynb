{
 "cells": [
  {
   "cell_type": "markdown",
   "metadata": {},
   "source": [
    "# Leetcode 1590\n",
    "## Problem\n",
    "Given an array of positive integers nums, remove the smallest subarray (possibly empty) such that the sum of the remaining elements is divisible by p. It is not allowed to remove the whole array.\n",
    "\n",
    "Return the length of the smallest subarray that you need to remove, or -1 if it's impossible.\n",
    "\n",
    "A subarray is defined as a contiguous block of elements in the array.\n",
    "\n",
    "## Thoughts\n",
    "This is following the series of problems that is finding some subarray in a list. \n",
    "\n",
    "The idea is findingthe amount that would make it divisible (some smallest amount) by summing and finding the closest mod of p (which would become the subarray length + some multiple of p). Therefore, the item are % pd as stored, and then when a new item is found, try to find the last place where  the acum - toSearch was found as a mod P existed -- and find the min distance."
   ]
  },
  {
   "cell_type": "code",
   "execution_count": null,
   "metadata": {},
   "outputs": [],
   "source": [
    "class Solution(object):\n",
    "    def minSubarray(self, nums, p):\n",
    "        \"\"\"\n",
    "        :type nums: List[int]\n",
    "        :type p: int\n",
    "        :rtype: int\n",
    "        \"\"\"\n",
    "        record = {0: -1}\n",
    "        toSearch = sum(nums) % p\n",
    "        acum = 0\n",
    "        \n",
    "        res = float('inf')\n",
    "        for i, j in enumerate(nums):\n",
    "            acum += j\n",
    "            record[(acum)%p] = i\n",
    "            if (acum-toSearch)%p in record:\n",
    "                res = min(res, i-record[(acum-toSearch)%p])\n",
    "        if res >= len(nums):\n",
    "            return -1\n",
    "        return res\n"
   ]
  }
 ],
 "metadata": {
  "kernelspec": {
   "display_name": "Python 3",
   "language": "python",
   "name": "python3"
  },
  "language_info": {
   "codemirror_mode": {
    "name": "ipython",
    "version": 3
   },
   "file_extension": ".py",
   "mimetype": "text/x-python",
   "name": "python",
   "nbconvert_exporter": "python",
   "pygments_lexer": "ipython3",
   "version": "3.7.6"
  }
 },
 "nbformat": 4,
 "nbformat_minor": 4
}
