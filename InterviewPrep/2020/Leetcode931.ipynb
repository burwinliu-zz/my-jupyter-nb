{
 "cells": [
  {
   "cell_type": "markdown",
   "metadata": {},
   "source": [
    "# Leetcode 931\n",
    "## Problem \n",
    "Given a square array of integers A, we want the minimum sum of a falling path through A.\n",
    "\n",
    "A falling path starts at any element in the first row, and chooses one element from each row.  The next row's choice must be in a column that is different from the previous row's column by at most one.\n",
    "## Thoughts\n",
    "Seems like a basic minimize dynamic programming problem\n",
    "## Analysis\n",
    "Time: O(N) Where N = number of elements in the A passed  \n",
    "Space: O(R) where R = len of row\n"
   ]
  },
  {
   "cell_type": "code",
   "execution_count": null,
   "metadata": {},
   "outputs": [],
   "source": [
    "class Solution:\n",
    "    def minFallingPathSum(self, A: List[List[int]]) -> int:\n",
    "        memo = [i for i in A[0]]\n",
    "        for i, j in enumerate(A):\n",
    "            temp = [0 for i in range(len(memo))]\n",
    "            if i == 0:\n",
    "                continue\n",
    "            for k in range(len(memo)):\n",
    "                temp[k] = min(memo[max(0, k-1)], memo[k], memo[min(len(memo)-1, k+1)]) + j[k]\n",
    "            memo = temp\n",
    "        return min(memo)\n",
    "                "
   ]
  }
 ],
 "metadata": {
  "kernelspec": {
   "display_name": "Python 3",
   "language": "python",
   "name": "python3"
  },
  "language_info": {
   "codemirror_mode": {
    "name": "ipython",
    "version": 3
   },
   "file_extension": ".py",
   "mimetype": "text/x-python",
   "name": "python",
   "nbconvert_exporter": "python",
   "pygments_lexer": "ipython3",
   "version": "3.7.6"
  }
 },
 "nbformat": 4,
 "nbformat_minor": 4
}
