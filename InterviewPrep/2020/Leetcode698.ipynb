{
 "cells": [
  {
   "cell_type": "markdown",
   "metadata": {},
   "source": [
    "# Leetcode 698\n",
    "## Problem\n",
    "Given an array of integers nums and a positive integer k, find whether it's possible to divide this array into k non-empty subsets whose sums are all equal.\n",
    "\n",
    "## Thoughts\n",
    "I had a rudimentary backtracking solution (Solution 1) However, TLE. I really am out of it today, need to rewatch a few backtracking videos. \n",
    "\n",
    "## Analysis\n",
    "O(2^N * N ) ("
   ]
  },
  {
   "cell_type": "code",
   "execution_count": null,
   "metadata": {},
   "outputs": [],
   "source": [
    "class Solution(object):\n",
    "    def canPartitionKSubsets(self, nums, k):\n",
    "        if k==1: \n",
    "            return True\n",
    "\n",
    "        total = 0\n",
    "        for i in nums:\n",
    "            total += i\n",
    "        sumBucket = total / k\n",
    "        if sumBucket != int(sumBucket):\n",
    "            return False\n",
    "        \n",
    "        buckets = k\n",
    "        curTotal = 0\n",
    "        used = [False for i in range(len(nums))]\n",
    "        \n",
    "        def backtrack(buckets, curTotal, used):\n",
    "            \n",
    "            if curTotal == sumBucket:\n",
    "                curTotal = 0\n",
    "                buckets -= 1\n",
    "                if buckets == 0:\n",
    "                    return True\n",
    "            for i in range(len(nums)):\n",
    "                if not used[i] and nums[i] + curTotal <= sumBucket:\n",
    "                    curTotal += nums[i]\n",
    "                    used[i] = True\n",
    "                    if backtrack(buckets, curTotal, used):\n",
    "                        return True\n",
    "                    curTotal -= nums[i]\n",
    "                    used[i] = False\n",
    "            return False\n",
    "        return backtrack(buckets, curTotal, used)\n",
    "            "
   ]
  },
  {
   "cell_type": "code",
   "execution_count": null,
   "metadata": {},
   "outputs": [],
   "source": [
    "class Solution(object):\n",
    "    def canPartitionKSubsets(self, nums, k):\n",
    "        if k==1: return True\n",
    "\n",
    "        self.n=len(nums)\n",
    "        if k>self.n: return False\n",
    "\n",
    "        total=sum(nums)\n",
    "        if total%k: return False\n",
    "\n",
    "        self.target=total/k\n",
    "        visit=[0]*self.n\n",
    "\n",
    "        nums.sort(reverse=True)\n",
    "        def dfs(k,ind,sum,cnt):\n",
    "            if k==1: return True\n",
    "            if sum==self.target and cnt>0:\n",
    "                return dfs(k-1,0,0,0)\n",
    "            for i in range(ind,self.n):\n",
    "                if not visit[i] and sum+nums[i]<=self.target:\n",
    "                    visit[i]=1\n",
    "                    if dfs(k,i+1,sum+nums[i],cnt+1): \n",
    "                        return True\n",
    "                    visit[i]=0\n",
    "            return False\n",
    "\n",
    "        return dfs(k,0,0,0)"
   ]
  }
 ],
 "metadata": {
  "kernelspec": {
   "display_name": "Python 3",
   "language": "python",
   "name": "python3"
  },
  "language_info": {
   "codemirror_mode": {
    "name": "ipython",
    "version": 3
   },
   "file_extension": ".py",
   "mimetype": "text/x-python",
   "name": "python",
   "nbconvert_exporter": "python",
   "pygments_lexer": "ipython3",
   "version": "3.7.6"
  }
 },
 "nbformat": 4,
 "nbformat_minor": 4
}
