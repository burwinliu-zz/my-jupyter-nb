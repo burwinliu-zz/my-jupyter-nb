{
 "cells": [
  {
   "cell_type": "markdown",
   "metadata": {},
   "source": [
    "# Leetcode 978\n",
    "## Problem\n",
    "\n",
    "A subarray A[i], A[i+1], ..., A[j] of A is said to be turbulent if and only if:\n",
    "\n",
    "For i <= k < j, A[k] > A[k+1] when k is odd, and A[k] < A[k+1] when k is even;\n",
    "OR, for i <= k < j, A[k] > A[k+1] when k is even, and A[k] < A[k+1] when k is odd.\n",
    "That is, the subarray is turbulent if the comparison sign flips between each adjacent pair of elements in the subarray.\n",
    "\n",
    "Return the length of a maximum size turbulent subarray of A.\n",
    "\n",
    "## Thoughts\n",
    "Pretty basic Sliding Window problem. Used a memo table for simplcities sake, but we can certainly use two pointers to keep track -- when somthing \"breaks\" the rules, reset left pointer, and count max length.\n",
    "\n",
    "## Analysis\n",
    "Time: O(N)  \n",
    "Space: O(N) (CAN BE O(1) WITH SLIDING WINDOWS)"
   ]
  },
  {
   "cell_type": "code",
   "execution_count": null,
   "metadata": {},
   "outputs": [],
   "source": [
    "class Solution:\n",
    "    def maxTurbulenceSize(self, A: List[int]) -> int:\n",
    "        memo = [[1, 0] for _ in range(len(A))]\n",
    "        maxLen = 1\n",
    "        for i in range(len(A) - 1):\n",
    "            if A[i] < A[i+1]:\n",
    "                if memo[i][1] == 1:\n",
    "                    memo[i+1] = [memo[i][0] + 1, 0]\n",
    "                else:\n",
    "                    memo[i+1] = [2, 0]\n",
    "            elif A[i] > A[i+1]:\n",
    "                if memo[i][1] == 0:\n",
    "                    memo[i+1] = [memo[i][0] + 1, 1]\n",
    "                else:\n",
    "                    memo[i+1] = [2, 1]\n",
    "            maxLen = max(maxLen, memo[i+1][0])\n",
    "        return maxLen"
   ]
  },
  {
   "cell_type": "code",
   "execution_count": null,
   "metadata": {},
   "outputs": [],
   "source": [
    "class Solution:\n",
    "    def maxTurbulenceSize(self, A: List[int]) -> int:\n",
    "        if len(A) == 1:\n",
    "            return 1\n",
    "        state = 0\n",
    "        maxLen = 1\n",
    "        \n",
    "        pLeft = pRight = 0\n",
    "        while pRight < len(A) - 1:\n",
    "            pRight += 1\n",
    "            \n",
    "            \n",
    "            if A[pRight-1] < A[pRight]:\n",
    "                if state == 0:\n",
    "                    maxLen = max(maxLen, (pRight - pLeft))\n",
    "                    pLeft = pRight - 1\n",
    "                state = 0\n",
    "            elif A[pRight-1] > A[pRight]:\n",
    "                if state == 1:\n",
    "                    maxLen = max(maxLen, (pRight - pLeft))\n",
    "                    pLeft = pRight - 1\n",
    "                state = 1\n",
    "            else:\n",
    "                maxLen = max(maxLen, (pRight - pLeft))\n",
    "                pLeft = pRight\n",
    "        return max(maxLen, 1+(pRight - pLeft)) # REMEMBER ENDING CASE DUE TO TERMINATING WITHOUT CHECKING THE LAST WINDOW THAT MAY OCCUR MAY TAKE MORE ISSUE\n",
    "                "
   ]
  }
 ],
 "metadata": {
  "kernelspec": {
   "display_name": "Python 3",
   "language": "python",
   "name": "python3"
  },
  "language_info": {
   "codemirror_mode": {
    "name": "ipython",
    "version": 3
   },
   "file_extension": ".py",
   "mimetype": "text/x-python",
   "name": "python",
   "nbconvert_exporter": "python",
   "pygments_lexer": "ipython3",
   "version": "3.7.6"
  }
 },
 "nbformat": 4,
 "nbformat_minor": 4
}
