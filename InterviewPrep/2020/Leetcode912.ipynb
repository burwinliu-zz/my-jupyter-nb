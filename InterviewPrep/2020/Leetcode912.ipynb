{
 "cells": [
  {
   "cell_type": "markdown",
   "metadata": {},
   "source": [
    "# Leetcode 912\n",
    "## Problem\n",
    "Given an array of integers nums, sort the array in ascending order.\n",
    "## Solution\n",
    "### Solution 1\n",
    "Merge Sort  -- divide and conquer the sorting, implementing a O(NlogN) sorting\n",
    "\n",
    "Time: N calculations per loop, logN loops to fully sort the array as divide and conquer -> O(NlogN)\n",
    "space: O(N) as you store the full array of elements per iteration\n"
   ]
  },
  {
   "cell_type": "code",
   "execution_count": null,
   "metadata": {},
   "outputs": [],
   "source": [
    "class Solution:\n",
    "    def sortArray(self, nums: List[int]) -> List[int]:\n",
    "        \n",
    "        if len(nums) == 0:\n",
    "            return []\n",
    "        toMerge = []\n",
    "        temp = []\n",
    "        for i in nums:\n",
    "            toMerge.append([i])\n",
    "        while len(toMerge) > 1:\n",
    "            for i in range(0, len(toMerge), 2):\n",
    "                if i + 1 == len(toMerge):\n",
    "                    temp.append(toMerge[i])\n",
    "                    continue\n",
    "                    \n",
    "                # Merging\n",
    "                arr1, arr2 = toMerge[i], toMerge[i+1]\n",
    "                p1, p2 = 0, 0\n",
    "                result = []\n",
    "                while p1 != len(arr1) and p2 != len(arr2):\n",
    "                    if arr1[p1] < arr2[p2]:\n",
    "                        result.append(arr1[p1])\n",
    "                        p1 += 1\n",
    "                    else:\n",
    "                        result.append(arr2[p2])\n",
    "                        p2 += 1\n",
    "                for j in range(p1, len(arr1)):\n",
    "                    result.append(arr1[j])\n",
    "                for j in range(p2, len(arr2)):\n",
    "                    result.append(arr2[j])\n",
    "                temp.append(result)\n",
    "            toMerge = temp\n",
    "            temp = []\n",
    "        return toMerge[0]"
   ]
  },
  {
   "cell_type": "code",
   "execution_count": null,
   "metadata": {},
   "outputs": [],
   "source": [
    "class Solution:\n",
    "    def sortArray(self, nums: List[int]) -> List[int]:\n",
    "        def merge(arr1, arr2):\n",
    "            p1, p2 = 0, 0\n",
    "            result = []\n",
    "            while p1 != len(arr1) and p2 != len(arr2):\n",
    "                if arr1[p1] < arr2[p2]:\n",
    "                    result.append(arr1[p1])\n",
    "                    p1 += 1\n",
    "                else:\n",
    "                    result.append(arr2[p2])\n",
    "                    p2 += 1\n",
    "            for i in range(p1, len(arr1)):\n",
    "                result.append(arr1[i])\n",
    "            for i in range(p2, len(arr2)):\n",
    "                result.append(arr2[i])\n",
    "            return result\n",
    "        \n",
    "        if len(nums) == 0:\n",
    "            return []\n",
    "        toMerge = []\n",
    "        temp = []\n",
    "        for i in nums:\n",
    "            toMerge.append([i])\n",
    "        while len(toMerge) > 1:\n",
    "            for i in range(0, len(toMerge), 2):\n",
    "                if i + 1 == len(toMerge):\n",
    "                    temp.append(toMerge[i])\n",
    "                    continue\n",
    "                temp.append(merge(toMerge[i], toMerge[i+1]))\n",
    "            toMerge = temp\n",
    "            temp = []\n",
    "        return toMerge[0]"
   ]
  }
 ],
 "metadata": {
  "kernelspec": {
   "display_name": "Python 3",
   "language": "python",
   "name": "python3"
  },
  "language_info": {
   "codemirror_mode": {
    "name": "ipython",
    "version": 3
   },
   "file_extension": ".py",
   "mimetype": "text/x-python",
   "name": "python",
   "nbconvert_exporter": "python",
   "pygments_lexer": "ipython3",
   "version": "3.7.6"
  }
 },
 "nbformat": 4,
 "nbformat_minor": 4
}
