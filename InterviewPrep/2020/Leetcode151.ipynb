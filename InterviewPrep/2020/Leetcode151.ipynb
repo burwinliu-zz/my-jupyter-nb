{
 "cells": [
  {
   "cell_type": "markdown",
   "metadata": {},
   "source": [
    "# Leetcode 119\n",
    "\n",
    "## Problem\n",
    "\n",
    "Given an input string, reverse the string word by word. (Remove white space)\n",
    "\n",
    "## Solution\n",
    "### Solution 1\n",
    "Take the array, remove all white space (I do by split, then iterate through split list. More efficiently would be via regex or some other string parsing method. \n",
    "Then afterwards, take the cleansed list or items and swap back to front. Run time of O(N) with space of O(N)\n",
    "### Solution 2\n",
    "Two pointers -- iterate backwards and forwards, holding a record. On space seen, swap the records forwards and backwards and add to record (back += new back, forward = new forward + forward) and then ultimately add together once pointers meet. Run time of O(N) with space of O(N) at absolute worst case, but more likely O(1)"
   ]
  },
  {
   "cell_type": "code",
   "execution_count": null,
   "metadata": {},
   "outputs": [],
   "source": [
    "class Solution:\n",
    "    def reverseWords(self, s: str) -> str:\n",
    "        temp = s.split(' ')\n",
    "        item = []\n",
    "        for i in temp:\n",
    "            if i == \"\":\n",
    "                continue\n",
    "            else:\n",
    "                item.append(i)\n",
    "        p_1, p_2 = 0, len(item)-1\n",
    "        while p_1 < p_2:\n",
    "            temp = item[p_1]\n",
    "            item[p_1] = item[p_2]\n",
    "            item[p_2] = temp\n",
    "            p_1 += 1\n",
    "            p_2 -= 1\n",
    "        return \" \".join(item)\n",
    "        "
   ]
  }
 ],
 "metadata": {
  "kernelspec": {
   "display_name": "Python 3",
   "language": "python",
   "name": "python3"
  },
  "language_info": {
   "codemirror_mode": {
    "name": "ipython",
    "version": 3
   },
   "file_extension": ".py",
   "mimetype": "text/x-python",
   "name": "python",
   "nbconvert_exporter": "python",
   "pygments_lexer": "ipython3",
   "version": "3.7.6"
  }
 },
 "nbformat": 4,
 "nbformat_minor": 4
}
