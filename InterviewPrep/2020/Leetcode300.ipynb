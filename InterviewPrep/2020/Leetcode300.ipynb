{
 "cells": [
  {
   "cell_type": "markdown",
   "metadata": {},
   "source": [
    "# Leetcode 300\n",
    "Given an unsorted array of integers, find the length of longest increasing subsequence.\n",
    "\n",
    "## Thoughts\n",
    "I needed a lot of research to figure out the solution for this question  \n",
    "What I truly needed to do is calm down and figure out the subproblem -- in this case largest subset of the initial n objects. How to do so is -- init its 1 at all positions. Afterwards, whenever you find a larger item in the subset, then you may increment it and check it against with your currentvalue you are pointing to, and if you are correct that you may append the current value to the substring (value stored + 1) to render the max amount of subsequence up to this point, which initates from a base case we can all agree on (a subarray of 1 has an inc subsequence of one)\n",
    "\n",
    "## Solution\n",
    "This is O(N^2) time and O(N) space used to store solution. Pretty!"
   ]
  },
  {
   "cell_type": "code",
   "execution_count": null,
   "metadata": {},
   "outputs": [],
   "source": [
    "class Solution:\n",
    "    def lengthOfLIS(self, nums: List[int]) -> int:\n",
    "        memo = [1] * len(nums)\n",
    "        count = maxSoFar = 0\n",
    "            \n",
    "        for i, j in enumerate(nums):\n",
    "            count = 1\n",
    "            for k in range(0, i):\n",
    "                if j > nums[k]:\n",
    "                    count = max(memo[k] + 1, count)\n",
    "            memo[i] = count\n",
    "            if count > maxSoFar:\n",
    "                maxSoFar = count\n",
    "        return maxSoFar"
   ]
  }
 ],
 "metadata": {
  "kernelspec": {
   "display_name": "Python 3",
   "language": "python",
   "name": "python3"
  },
  "language_info": {
   "codemirror_mode": {
    "name": "ipython",
    "version": 3
   },
   "file_extension": ".py",
   "mimetype": "text/x-python",
   "name": "python",
   "nbconvert_exporter": "python",
   "pygments_lexer": "ipython3",
   "version": "3.7.6"
  }
 },
 "nbformat": 4,
 "nbformat_minor": 4
}
