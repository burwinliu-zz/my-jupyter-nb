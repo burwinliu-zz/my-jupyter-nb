{
 "cells": [
  {
   "cell_type": "markdown",
   "metadata": {},
   "source": [
    "# Leetcode 516\n",
    "## Problem\n",
    "Given a string s, find the longest palindromic subsequence's length in s. You may assume that the maximum length of s is 1000.\n",
    "\n",
    "## Thoughts\n",
    "First time I completely did things use pen and paper -- it felt SO GOOD  \n",
    "\n",
    "Thoughts on solving probelm -- this is a typical DP string problem. By minimizing the cases on this situation, we can realize that all cases boil down to three posibilities -- base case (some single char, the center, or empty string), when both the end and the beginning match and when that is not the case, when beginning and the end are different. Let us name these cases a) Base; b) End & Beginning match; c) End & Beginning do not match  \n",
    "\n",
    "a) In response to case base, we can return the length of the array -- its always gonna be a palindrome, so therefore the length is the longest palindrome subseq  \n",
    "b) In response to when the end and beginning match, we can remove both and say 2+ recursively the rest of the string is the length of the longest Palindrom Subseq  \n",
    "c) In response to when they do not match, we return the max of when 1 element is removed from beginning and end -> This will split and lead to blow up usually, but with memo we do not blow up leading to O(N)   \n",
    "\n",
    "\n",
    "## Analysis\n",
    "O(N^2) Time, as all possible combo of strings are iterated over under worst case  \n",
    "O(N^2) Space, as all possible comob of strings are stored in the memo table\n"
   ]
  },
  {
   "cell_type": "code",
   "execution_count": null,
   "metadata": {},
   "outputs": [],
   "source": [
    "class Solution:\n",
    "    def longestPalindromeSubseq(self, s: str) -> int:\n",
    "        memo = {}\n",
    "        \n",
    "        def helper(s: str) -> int:\n",
    "            if len(s) <2:\n",
    "                return len(s)\n",
    "            if s in memo:\n",
    "                return memo[s]\n",
    "            res = 0\n",
    "            if s[0] == s[-1]:\n",
    "                res = helper(s[1:-1]) + 2\n",
    "            else:\n",
    "                res = max(helper(s[1:]), helper(s[:-1]))\n",
    "            memo[s] = res\n",
    "            return res\n",
    "        return helper(s)"
   ]
  },
  {
   "cell_type": "code",
   "execution_count": null,
   "metadata": {},
   "outputs": [],
   "source": [
    "# Bottom up frm someone else (https://leetcode.com/problems/longest-palindromic-subsequence/discuss/483887/Python-DP-and-DFS)\n",
    "class Solution:\n",
    "    def longestPalindromeSubseq(self, s: str) -> int:\n",
    "        memo = [[0 for i in range(len(s))] for j in range(len(s))]\n",
    "        \n",
    "        for i in range(len(memo)-1, -1, -1):\n",
    "            memo[i][i] = 1\n",
    "            for j in range(i+1, len(memo)):\n",
    "                if s[i] == s[j]:\n",
    "                    memo[i][j] = memo[i+1][j-1]+2\n",
    "                else:\n",
    "                    memo[i][j] = max(memo[i][j-1], memo[i+1][j])\n",
    "                \n",
    "        return memo[0][-1]"
   ]
  }
 ],
 "metadata": {
  "kernelspec": {
   "display_name": "Python 3",
   "language": "python",
   "name": "python3"
  },
  "language_info": {
   "codemirror_mode": {
    "name": "ipython",
    "version": 3
   },
   "file_extension": ".py",
   "mimetype": "text/x-python",
   "name": "python",
   "nbconvert_exporter": "python",
   "pygments_lexer": "ipython3",
   "version": "3.7.6"
  }
 },
 "nbformat": 4,
 "nbformat_minor": 4
}
