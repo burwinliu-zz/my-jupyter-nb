{
 "cells": [
  {
   "cell_type": "markdown",
   "metadata": {},
   "source": [
    "# Leetcode 1049\n",
    "## Problem\n",
    "We have a collection of rocks, each rock has a positive integer weight.\n",
    "\n",
    "Each turn, we choose any two rocks and smash them together.  Suppose the stones have weights x and y with x <= y.  The result of this smash is:\n",
    "\n",
    "If x == y, both stones are totally destroyed;\n",
    "If x != y, the stone of weight x is totally destroyed, and the stone of weight y has new weight y-x.\n",
    "At the end, there is at most 1 stone left.  Return the smallest possible weight of this stone (the weight is 0 if there are no stones left.)\n",
    "\n",
    "## Thoughts\n",
    "I initially went about this a completely different way then was intended -- using a 2d map array to try and find all combinations of numbers but current number, then finding the minimum at the end. However, if I went about looking at the esence of the problem, I would have seen that we are supposed to be looking for the sum of all items to the midway point to allow for the \"smashing\" to a minimum amount -- as both sides would be paired off, leaving the reaminder of the two halves removed be left. Therefore, a form of knapsack -- as given "
   ]
  },
  {
   "cell_type": "raw",
   "metadata": {},
   "source": [
    "[a, b, c, d, e, f, g, h] \n",
    "\n",
    "z = a - b\n",
    "\n",
    "[z, c, d, e, f, g, h] \n",
    "\n",
    "...\n",
    "\n",
    "[z, y]\n",
    "...\n",
    "\n",
    "[Z]\n",
    "\n",
    "and MAXIMIZE Z = z - y = (a-b) - ((d- e) - (f-g))  = (a-b) - (d - e - f + g) = (a-b) - d +e + f -g = (a + e + f) - (b + d + g)\n"
   ]
  },
  {
   "cell_type": "markdown",
   "metadata": {},
   "source": [
    "Which demonstrate that you are splitting into two halves -- and you are maximizing the difference between the two items\n",
    "\n",
    "## Analysis\n",
    "Time: O(NM) where N == number of stone and M == total sum of the item  \n",
    "Space: O(M) where M == total sum of the items"
   ]
  },
  {
   "cell_type": "code",
   "execution_count": null,
   "metadata": {},
   "outputs": [],
   "source": [
    "class Solution:\n",
    "    def lastStoneWeightII(self, stones: List[int]) -> int:\n",
    "        length = sum(stones)\n",
    "        memo = [0 for i in range(math.ceil(length/2)+1)]\n",
    "        for i in stones:\n",
    "\n",
    "            for j in range(len(memo) - 1, i - 1, -1):\n",
    "                memo[j] = max(memo[j], memo[j-i] + i)\n",
    "        return abs((length - memo[-1]) - memo[-1])\n",
    "        \n"
   ]
  }
 ],
 "metadata": {
  "kernelspec": {
   "display_name": "Python 3",
   "language": "python",
   "name": "python3"
  },
  "language_info": {
   "codemirror_mode": {
    "name": "ipython",
    "version": 3
   },
   "file_extension": ".py",
   "mimetype": "text/x-python",
   "name": "python",
   "nbconvert_exporter": "python",
   "pygments_lexer": "ipython3",
   "version": "3.7.6"
  }
 },
 "nbformat": 4,
 "nbformat_minor": 4
}
