{
 "cells": [
  {
   "cell_type": "markdown",
   "metadata": {},
   "source": [
    "# Leetcode 142\n",
    "## Problem\n",
    "Given a linked list, return the node where the cycle begins. If there is no cycle, return null.\n",
    "\n",
    "To represent a cycle in the given linked list, we use an integer pos which represents the position (0-indexed) in the linked list where tail connects to. If pos is -1, then there is no cycle in the linked list.\n",
    "\n",
    "Note: Do not modify the linked list.\n",
    "\n",
    "## Solution \n",
    "### Solution 1\n",
    "(My solution that I cam up with intuitively) \n",
    "Understand that there will be some repeat, and that if you store all past entries in a hashmap, when a repeat occurs, you can return that number/node as the \"Head\" of where the repeats occur.\n",
    "\n",
    "### Solution 2\n",
    "Floyd's algorithm (Hare and Tortise, searched through discussion boards)\n",
    "When we initially start this algorithm, we have the 2 pointers solution (see 141). Because of this, we have a slow, with travel distance (dist) and a \"fast\" with travel distance (2\\*dist). With this in mind, we try to find the head. Assuming that we realize at all times slow = dist, fast = 2\\* dist, we realize that when they meet, slow has travelled some dist_from_start + dist_to_meet. Likewise, fast has travelled dist_from_start + dist_to_meet + 2\\*(some cycles n). Since fast travels 2\\*slow, we substute slow's speed to create the equality\n",
    "> 2\\*(dist_from_start + dist_to_meet) = dist_from_start + dist_to_meet + (n\\*c)  \n",
    "= 2\\*dist_from_start + 2\\*dist_to_meet = dist_from_start + dist_to_meet + (n\\*c)  \n",
    "= dist_from_start + dist_to_meet = n\\*c  \n",
    "= dist_from_start = n\\*c - dist_to_meet  \n",
    "= dist_from_start = (n-1)\\*c + (c - dist_to_meet)\n",
    "\n",
    "This means that the distance from the start is equivalent to some number of cycles, which is diregarded due to the fact that those cycles no longer have any bearing on the position, plus c-distance_to_meet -- therefore, when the two pointers meet again, it should be at the starting point, as once dist_from_start is traveled, the current pointer would've traveled from c-dist_to_meet to c, the full cycle length"
   ]
  },
  {
   "cell_type": "code",
   "execution_count": null,
   "metadata": {},
   "outputs": [],
   "source": [
    "# Definition for singly-linked list.\n",
    "# class ListNode:\n",
    "#     def __init__(self, x):\n",
    "#         self.val = x\n",
    "#         self.next = None\n",
    "\n",
    "class Solution:\n",
    "    def detectCycle(self, head: ListNode) -> ListNode:\n",
    "        record = set()\n",
    "        pointer = head\n",
    "        while pointer != None:\n",
    "            if pointer in record:\n",
    "                return pointer\n",
    "            record.add(pointer)\n",
    "            pointer = pointer.next\n",
    "        return None"
   ]
  },
  {
   "cell_type": "code",
   "execution_count": null,
   "metadata": {},
   "outputs": [],
   "source": [
    "# Definition for singly-linked list.\n",
    "# class ListNode:\n",
    "#     def __init__(self, x):\n",
    "#         self.val = x\n",
    "#         self.next = None\n",
    "\n",
    "class Solution:\n",
    "    def detectCycle(self, head: ListNode) -> bool:\n",
    "        if head == None:\n",
    "            return False\n",
    "        p_1, p_2 = head, head.next\n",
    "        while p_2 != None and p_2.next != None:\n",
    "            p_2 = p_2.next.next\n",
    "            p_1 = p_1.next\n",
    "            if p_1 == p_2:\n",
    "                temp = head\n",
    "                while temp != p_1:\n",
    "                    temp = temp.next\n",
    "                    p_1 = p_1.next\n",
    "                return p_1\n",
    "        return None\n",
    "            "
   ]
  }
 ],
 "metadata": {
  "kernelspec": {
   "display_name": "Python 3",
   "language": "python",
   "name": "python3"
  },
  "language_info": {
   "codemirror_mode": {
    "name": "ipython",
    "version": 3
   },
   "file_extension": ".py",
   "mimetype": "text/x-python",
   "name": "python",
   "nbconvert_exporter": "python",
   "pygments_lexer": "ipython3",
   "version": "3.7.6"
  }
 },
 "nbformat": 4,
 "nbformat_minor": 4
}
