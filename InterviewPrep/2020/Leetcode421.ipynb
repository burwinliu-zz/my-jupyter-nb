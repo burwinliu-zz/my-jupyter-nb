{
 "cells": [
  {
   "cell_type": "markdown",
   "metadata": {},
   "source": [
    "# Leetcode 421\n",
    "## Problem\n",
    "Given a non-empty array of numbers, a0, a1, a2, … , an-1, where 0 ≤ ai < 231.\n",
    "\n",
    "Find the maximum result of ai XOR aj, where 0 ≤ i, j < n.\n",
    "\n",
    "Could you do this in O(n) runtime?\n",
    "\n",
    "## Thoughts\n",
    "This is a great example to how bit wise operating math might come to bite me -- I was NOT sure how to do this.\n",
    "\n",
    "\n",
    "The approach goes -- we are trying to find the MAX number , so we should use the property that given a^b = c and a^c = b, we try to find the max number at EACH place (32 bits for this situation) and continue -- I.E 1<< 32 -- record all masks for all items in nums for a^c, then find if a b exists, and continue on for all items. Then, for each item continung on, try and find that \"recorded prefix\"'s pairs until no more resulting prefixes cna be found, and return that prefix (greedy to find the biggest number after all!\n",
    "\n",
    "## Analysis\n",
    "Time: O(N)  \n",
    "Space: O(N)  "
   ]
  },
  {
   "cell_type": "code",
   "execution_count": null,
   "metadata": {},
   "outputs": [],
   "source": [
    "class Solution:\n",
    "    def findMaximumXOR(self, nums: List[int]) -> int:\n",
    "        mask = res = 0\n",
    "        \n",
    "        for i in range(32, -1, -1):\n",
    "            mask = mask| 1 << i\n",
    "            \n",
    "            masked = set([j & mask for j in nums ])\n",
    "            possible = res | 1<< i\n",
    "            for m in masked:\n",
    "                if possible ^ m in masked:\n",
    "                    res = possible\n",
    "                    continue\n",
    "        return res"
   ]
  }
 ],
 "metadata": {
  "kernelspec": {
   "display_name": "Python 3",
   "language": "python",
   "name": "python3"
  },
  "language_info": {
   "codemirror_mode": {
    "name": "ipython",
    "version": 3
   },
   "file_extension": ".py",
   "mimetype": "text/x-python",
   "name": "python",
   "nbconvert_exporter": "python",
   "pygments_lexer": "ipython3",
   "version": "3.7.6"
  }
 },
 "nbformat": 4,
 "nbformat_minor": 4
}
