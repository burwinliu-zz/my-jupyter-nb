{
 "cells": [
  {
   "cell_type": "markdown",
   "metadata": {},
   "source": [
    "# Leetcode 414\n",
    "## Problem\n",
    "Given a non-empty array of integers, return the third maximum number in this array. If it does not exist, return the maximum number. The time complexity must be in O(n).\n",
    "\n",
    "## Thoughts\n",
    "Typical idea for searching for \"largest\" or next largest item -- use set to store item and remove items from consideration\n",
    "\n",
    "(Optimization) Use heap to get maxheap for these items? place everything in set, and remove max 3 times?\n",
    "\n",
    "## ANalysis:\n",
    "Time: O(N)  \n",
    "Space: O(1)"
   ]
  },
  {
   "cell_type": "code",
   "execution_count": null,
   "metadata": {},
   "outputs": [],
   "source": [
    "class Solution:\n",
    "    def thirdMax(self, nums: List[int]) -> int:\n",
    "        if len(set(nums)) < 3:\n",
    "            return max(nums)\n",
    "        largest = set()\n",
    "        temp = -math.inf\n",
    "        for i in range(3):\n",
    "            for j in nums:\n",
    "                if j not in largest:\n",
    "                    temp = max(j, temp)\n",
    "            if i == 2:\n",
    "                return temp\n",
    "            largest.add(temp)\n",
    "            temp = -math.inf"
   ]
  }
 ],
 "metadata": {
  "kernelspec": {
   "display_name": "Python 3",
   "language": "python",
   "name": "python3"
  },
  "language_info": {
   "codemirror_mode": {
    "name": "ipython",
    "version": 3
   },
   "file_extension": ".py",
   "mimetype": "text/x-python",
   "name": "python",
   "nbconvert_exporter": "python",
   "pygments_lexer": "ipython3",
   "version": "3.7.6"
  }
 },
 "nbformat": 4,
 "nbformat_minor": 4
}
