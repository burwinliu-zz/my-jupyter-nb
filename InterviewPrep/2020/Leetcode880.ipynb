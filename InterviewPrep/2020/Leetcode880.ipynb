{
 "cells": [
  {
   "cell_type": "markdown",
   "metadata": {},
   "source": [
    "# Leetcode 880\n",
    "\n",
    "## Thoughts\n",
    "Please broaden you horizons before starting. This still can be more efficient (uses a double pass, probably can make a running counter that determines true position without having to traverse forwards then backwards)"
   ]
  },
  {
   "cell_type": "code",
   "execution_count": null,
   "metadata": {},
   "outputs": [],
   "source": [
    "class Solution(object):\n",
    "    def decodeAtIndex(self, S, K):\n",
    "        \"\"\"\n",
    "        :type S: str\n",
    "        :type K: int\n",
    "        :rtype: str\n",
    "        \"\"\"\n",
    "        pos = 0\n",
    "        for index, i in enumerate(S):\n",
    "            try:\n",
    "                mod = int(i)\n",
    "                pos = pos * mod\n",
    "            except ValueError:\n",
    "                pos += 1         \n",
    "            if pos >= K:\n",
    "                K = K-1\n",
    "                while True:\n",
    "                    try:\n",
    "                        mod = int(S[index])\n",
    "                        pos = pos/mod\n",
    "                        K = K % pos\n",
    "                    except ValueError:\n",
    "                        pos -= 1\n",
    "                    if pos == K:\n",
    "                        return S[index]\n",
    "                    index -= 1\n",
    "                    \n",
    "            mod = 1\n",
    "            `"
   ]
  }
 ],
 "metadata": {
  "kernelspec": {
   "display_name": "Python 3",
   "language": "python",
   "name": "python3"
  },
  "language_info": {
   "codemirror_mode": {
    "name": "ipython",
    "version": 3
   },
   "file_extension": ".py",
   "mimetype": "text/x-python",
   "name": "python",
   "nbconvert_exporter": "python",
   "pygments_lexer": "ipython3",
   "version": "3.8.3"
  }
 },
 "nbformat": 4,
 "nbformat_minor": 4
}
