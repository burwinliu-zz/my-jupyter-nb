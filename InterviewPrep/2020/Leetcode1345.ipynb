{
 "cells": [
  {
   "cell_type": "markdown",
   "metadata": {},
   "source": [
    "# Leetcode 1345\n",
    "## Solution 1\n",
    "Construct a graph, and BFS through it \n",
    "\n",
    "O(N) Space and time if N == number of elements of input array (as record prevents excessive retraversal)"
   ]
  },
  {
   "cell_type": "code",
   "execution_count": 81,
   "metadata": {},
   "outputs": [],
   "source": [
    "import collections\n",
    "def minJumps(arr):\n",
    "    \"\"\"\n",
    "    :type arr: List[int]\n",
    "    :rtype: int\n",
    "    \"\"\"\n",
    "    if len(arr) == 1:\n",
    "        return 0\n",
    "    \n",
    "    recordJump = {}\n",
    "    for i, j in enumerate(arr):\n",
    "        if j not in recordJump:\n",
    "            recordJump[j] = []\n",
    "        recordJump[j].append(i)\n",
    "\n",
    "\n",
    "    queue = collections.deque([(0, 0)])\n",
    "    record = set([0])\n",
    "    while len(queue) != 0:\n",
    "        ind, moves = queue.popleft()\n",
    "        if ind == len(arr) - 2:\n",
    "            return moves + 1\n",
    "        if ind != 0 and ind-1 not in record:\n",
    "            queue.append((ind-1, moves+1))\n",
    "            record.add(ind-1)\n",
    "        if ind+1 not in record:\n",
    "            queue.append((ind+1, moves+1))\n",
    "            record.add(ind+1)\n",
    "        for i in reversed(recordJump[arr[ind]]):\n",
    "            print(i)\n",
    "            if i == len(arr) - 1:\n",
    "                return moves + 1\n",
    "            if i not in record:\n",
    "                record.add(i)\n",
    "                queue.append((i, moves+1))"
   ]
  }
 ],
 "metadata": {
  "kernelspec": {
   "display_name": "Python 3",
   "language": "python",
   "name": "python3"
  },
  "language_info": {
   "codemirror_mode": {
    "name": "ipython",
    "version": 3
   },
   "file_extension": ".py",
   "mimetype": "text/x-python",
   "name": "python",
   "nbconvert_exporter": "python",
   "pygments_lexer": "ipython3",
   "version": "3.8.3"
  }
 },
 "nbformat": 4,
 "nbformat_minor": 4
}
