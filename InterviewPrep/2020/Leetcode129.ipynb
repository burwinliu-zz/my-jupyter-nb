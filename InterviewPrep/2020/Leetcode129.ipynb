{
 "cells": [
  {
   "cell_type": "markdown",
   "metadata": {},
   "source": [
    "# Leetcode 129\n",
    "## Problem\n",
    "\n",
    "Given a binary tree containing digits from 0-9 only, each root-to-leaf path could represent a number.\n",
    "\n",
    "An example is the root-to-leaf path 1->2->3 which represents the number 123.\n",
    "\n",
    "Find the total sum of all root-to-leaf numbers.\n",
    "\n",
    "Note: A leaf is a node with no children.\n",
    "## Thoughts\n",
    "Typical DFS/BFS idea algorithm. Iterate and sum together when end is reached\n",
    "\n",
    "## Analysis\n",
    "Time: O(N)  \n",
    "Space: O(N)"
   ]
  },
  {
   "cell_type": "code",
   "execution_count": null,
   "metadata": {},
   "outputs": [],
   "source": [
    "# Definition for a binary tree node.\n",
    "# class TreeNode:\n",
    "#     def __init__(self, val=0, left=None, right=None):\n",
    "#         self.val = val\n",
    "#         self.left = left\n",
    "#         self.right = right\n",
    "class Solution:\n",
    "    def sumNumbers(self, root: TreeNode) -> int:\n",
    "        res = 0\n",
    "        queue = [(root, 0)]\n",
    "        if root is None:\n",
    "            return 0\n",
    "        while len(queue) != 0:\n",
    "            curr, val = queue.pop()\n",
    "            if curr.left is None and curr.right is None:\n",
    "                res += 10*val + (curr.val)\n",
    "            if curr.left is not None:\n",
    "                queue.append((curr.left, 10*val + curr.val))\n",
    "            if curr.right is not None:\n",
    "                queue.append((curr.right, 10*val + curr.val))\n",
    "        return res"
   ]
  }
 ],
 "metadata": {
  "kernelspec": {
   "display_name": "Python 3",
   "language": "python",
   "name": "python3"
  },
  "language_info": {
   "codemirror_mode": {
    "name": "ipython",
    "version": 3
   },
   "file_extension": ".py",
   "mimetype": "text/x-python",
   "name": "python",
   "nbconvert_exporter": "python",
   "pygments_lexer": "ipython3",
   "version": "3.7.6"
  }
 },
 "nbformat": 4,
 "nbformat_minor": 4
}
