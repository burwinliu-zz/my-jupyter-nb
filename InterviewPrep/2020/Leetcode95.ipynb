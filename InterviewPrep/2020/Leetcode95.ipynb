{
 "cells": [
  {
   "cell_type": "markdown",
   "metadata": {},
   "source": [
    "# Leetcode 95\n",
    "## Problem\n",
    "Given an integer n, generate all structurally unique BST's (binary search trees) that store values 1 ... n.\n",
    "## Solutions\n",
    "### Solution 1\n",
    "#### Thoughts\n",
    "This is one of the tougher problems I have done. Once I realized this was a dynamic programming recursion type, it became a lot easier. Once I realized that if we stored the frozenset as the hashable type to store past recursed cases, I just needed to construct all possible combinations of each half, and find out how to construct all possible splits to generate the possible trees.\n",
    "\n",
    "#### Analysis\n",
    "Space: Given the fact that we are storing the number of possible BSTs in our memo, plus recursing over them, disregarding impossible BSTs which would become some constant factor deminished, (a coeff) there are O(N!) items stored throughout\n",
    "\n",
    "Time: For each depth there were O(i) (Given i is the number of nodes) * O(i-1) (Possible combinations on either side, without accounting for the fact they would not be BST) combinations needing to be caclulated from [1, n] -> Therefore, as this pattern persists as shrinks the number of possible next layers to 1, we realize that the amount of time it takes to calculate the item become O(N!) where N is the input"
   ]
  },
  {
   "cell_type": "code",
   "execution_count": null,
   "metadata": {},
   "outputs": [],
   "source": [
    "# Definition for a binary tree node.\n",
    "# class TreeNode:\n",
    "#     def __init__(self, val=0, left=None, right=None):\n",
    "#         self.val = val\n",
    "#         self.left = left\n",
    "#         self.right = right\n",
    "class Solution:\n",
    "    def generateTrees(self, n: int) -> List[TreeNode]:\n",
    "        memo = {frozenset(): [None]}\n",
    "        if n == 0:\n",
    "            return None\n",
    "        def helper(possibleItems: {int}):\n",
    "            if possibleItems in memo:\n",
    "                return memo[possibleItems]\n",
    "            items = sorted(possibleItems)\n",
    "            print(items)\n",
    "            result = []\n",
    "            if len(possibleItems) == 0:\n",
    "                return [None]\n",
    "            for i, j in enumerate(items):\n",
    "                leftSet = frozenset({val for val in items[:i]})\n",
    "                rightSet = frozenset({val for val in items[i+1:]})\n",
    "                for leftTree in helper(leftSet):\n",
    "                    for rightTree in helper(rightSet):\n",
    "                        result.append(TreeNode(j, leftTree, rightTree))\n",
    "            memo[possibleItems] = result\n",
    "            return result\n",
    "        return helper(frozenset({i + 1 for i in range(n)}))"
   ]
  }
 ],
 "metadata": {
  "kernelspec": {
   "display_name": "Python 3",
   "language": "python",
   "name": "python3"
  },
  "language_info": {
   "codemirror_mode": {
    "name": "ipython",
    "version": 3
   },
   "file_extension": ".py",
   "mimetype": "text/x-python",
   "name": "python",
   "nbconvert_exporter": "python",
   "pygments_lexer": "ipython3",
   "version": "3.7.6"
  }
 },
 "nbformat": 4,
 "nbformat_minor": 4
}
