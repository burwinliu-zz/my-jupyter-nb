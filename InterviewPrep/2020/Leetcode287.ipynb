{
 "cells": [
  {
   "cell_type": "markdown",
   "metadata": {},
   "source": [
    "# Leetcode 287\n",
    "## Problem \n",
    "https://leetcode.com/problems/find-the-duplicate-number/\n",
    "Given an array nums containing n + 1 integers where each integer is between 1 and n (inclusive), prove that at least one duplicate number must exist. Assume that there is only one duplicate number, find the duplicate one.  \n",
    "  \n",
    "You must not modify the array (assume the array is read only).  \n",
    "You must use only constant, O(1) extra space.  \n",
    "Your runtime complexity should be less than O(n2).  \n",
    "There is only one duplicate number in the array, but it could be repeated more than once.  \n",
    "\n",
    "## Thoughts\n",
    "Without restrictions, this problem would be trivial -- loop through with O(N) and store all numbers in a set. If you encountered a number that is already in that stored set, you return that number.  \n",
    "\n",
    "Alas, life is never simple. We have no modifications (which would allow for sorting and then looping through and checking up and down for duplicates of the current item) we are allowed constant space alone (making the hashmap approach not an option) and a run time less than O(N^2) means that there is no hope for a brute force (loop through, check if each element occurs again).  \n",
    "\n",
    "This brings us to solution 1 -- since we know that the array contains only numbers from 1 to n, with n+1 elements, there is some duplicate that exists (more elements than numbers possible) To determine where that is brings us to solutions 1\n",
    "\n",
    "## Solutions\n",
    "### Solutions 1\n",
    "WIth the premise that there is some element that occurs more then once, we must find out which element it is -- basing it on the principle of divide and conquer, we can understand that the possible numbers can be divided into 2 and we count those greater then and those less then that midpoint. Repeat until a single element is found with the unbalanced number of occurances \n",
    "\n",
    "### Solution 2"
   ]
  },
  {
   "cell_type": "code",
   "execution_count": null,
   "metadata": {},
   "outputs": [],
   "source": [
    "class Solution1:\n",
    "    def findDuplicate(self, nums: List[int]) -> int:\n",
    "        bottom = 1\n",
    "        top = len(nums) - 1\n",
    "        \n",
    "        while bottom < top:\n",
    "            mid = int((top+bottom)/2)\n",
    "            print(mid, top, bottom)\n",
    "            above = 0\n",
    "            under = 0\n",
    "            for i in nums:\n",
    "                if bottom <= i <= top:\n",
    "                    if i > mid:\n",
    "                        above += 1\n",
    "                    else:\n",
    "                        under += 1\n",
    "            if above >= under:\n",
    "                bottom = mid + 1\n",
    "            else:\n",
    "                top = mid \n",
    "        return bottom"
   ]
  },
  {
   "cell_type": "code",
   "execution_count": null,
   "metadata": {},
   "outputs": [],
   "source": []
  }
 ],
 "metadata": {
  "kernelspec": {
   "display_name": "Python 3",
   "language": "python",
   "name": "python3"
  },
  "language_info": {
   "codemirror_mode": {
    "name": "ipython",
    "version": 3
   },
   "file_extension": ".py",
   "mimetype": "text/x-python",
   "name": "python",
   "nbconvert_exporter": "python",
   "pygments_lexer": "ipython3",
   "version": "3.7.6"
  }
 },
 "nbformat": 4,
 "nbformat_minor": 4
}
