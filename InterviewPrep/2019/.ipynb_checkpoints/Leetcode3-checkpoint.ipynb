{
 "cells": [
  {
   "cell_type": "markdown",
   "metadata": {},
   "source": [
    "# 3. Longest Substring Without Repeating Characters\n",
    "\n",
    "Leetcode practice problem 3"
   ]
  },
  {
   "cell_type": "code",
   "execution_count": 3,
   "metadata": {},
   "outputs": [
    {
     "name": "stdout",
     "output_type": "stream",
     "text": [
      "{'a': 4, 'b': 8, '!': 6}\n",
      "3\n",
      "{'b': 4}\n",
      "1\n",
      "{'p': 0, 'w': 5, 'k': 3, 'e': 4}\n",
      "3\n"
     ]
    }
   ],
   "source": [
    "def function(s):\n",
    "    x = dict()\n",
    "    largest = 0\n",
    "    control = 0\n",
    "    beginning = 0\n",
    "    end = 0\n",
    "    for item in s:  # iterate , item is char \"abcc\"\n",
    "        try:\n",
    "            last_pos = x[item]  # fails from here\n",
    "            if last_pos >= beginning:\n",
    "                x[item] = control\n",
    "                temp = end - beginning\n",
    "                if temp > largest:\n",
    "                    largest = temp\n",
    "                end += 1\n",
    "                beginning = last_pos + 1\n",
    "                control += 1\n",
    "                continue\n",
    "            else:\n",
    "                x[item] = control\n",
    "                end += 1\n",
    "                control += 1\n",
    "                continue\n",
    "        except KeyError:  # assume starts here\n",
    "            x[item] = control  # {s : 0, o: 1, m: 2, e: 3}\n",
    "            end += 1  # 2\n",
    "            control += 1  # 2\n",
    "            continue\n",
    "    if end - beginning > largest:\n",
    "        return end - beginning\n",
    "    return largest\n",
    "\n",
    "\n",
    "if __name__ == '__main__':\n",
    "    print(function(\"aabaab!bb\"))\n",
    "    print(function(\"bbbbb\"))\n",
    "    print(function(\"pwwkew\"))\n"
   ]
  },
  {
   "cell_type": "code",
   "execution_count": null,
   "metadata": {},
   "outputs": [],
   "source": []
  }
 ],
 "metadata": {
  "kernelspec": {
   "display_name": "Python 3",
   "language": "python",
   "name": "python3"
  },
  "language_info": {
   "codemirror_mode": {
    "name": "ipython",
    "version": 3
   },
   "file_extension": ".py",
   "mimetype": "text/x-python",
   "name": "python",
   "nbconvert_exporter": "python",
   "pygments_lexer": "ipython3",
   "version": "3.7.3"
  },
  "pycharm": {
   "stem_cell": {
    "cell_type": "raw",
    "metadata": {
     "collapsed": false
    },
    "source": []
   }
  }
 },
 "nbformat": 4,
 "nbformat_minor": 1
}
