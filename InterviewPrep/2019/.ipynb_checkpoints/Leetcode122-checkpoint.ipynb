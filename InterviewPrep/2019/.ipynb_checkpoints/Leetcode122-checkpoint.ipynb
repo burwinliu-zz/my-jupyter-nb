{
 "cells": [
  {
   "cell_type": "code",
   "execution_count": 7,
   "metadata": {},
   "outputs": [
    {
     "name": "stdout",
     "output_type": "stream",
     "text": [
      "5 2\n",
      "3\n"
     ]
    }
   ],
   "source": [
    "def maxProfit(prices) -> int:\n",
    "    bought = False\n",
    "    small = 0\n",
    "    profit = 0\n",
    "    for i in range(len(prices)-1):\n",
    "        if not bought and ((i == 0 and prices[i] < prices[i+1]) or prices[i-1] >= prices[i] <= prices[i+1]):\n",
    "            small = prices[i]\n",
    "            bought = True\n",
    "        if bought and prices[i-1]<= prices[i] >= prices[i+1]:\n",
    "            profit += prices[i] - small\n",
    "            bought = False\n",
    "    if bought and prices[i+1] > small:\n",
    "        profit += prices[i+1] - small\n",
    "    return profit"
   ]
  },
  {
   "cell_type": "code",
   "execution_count": null,
   "metadata": {},
   "outputs": [],
   "source": [
    "class Solution:\n",
    "    def maxProfit(self, prices: List[int]) -> int:\n",
    "        total = 0\n",
    "        currentMin = math.inf\n",
    "        for i in range(len(prices)):\n",
    "            if prices[i] < currentMin:\n",
    "                currentMin = prices[i]\n",
    "            if prices[i] > currentMin:\n",
    "                total += prices[i] - currentMin\n",
    "                currentMin = prices[i]\n",
    "        return total\n",
    "        "
   ]
  },
  {
   "cell_type": "markdown",
   "metadata": {},
   "source": [
    "# Solution 1\n",
    "\n",
    "Basic looping, looking for max and min and finding difference then inputting. Nothing too special\n",
    "\n",
    "Efficiency: Highest possible in Big O, maybe can be optimized, but overall fairly good performance\n",
    "* Runtime: 60 ms, faster than 77.42% of Python3 online submissions for Best Time to Buy and Sell Stock II.\n",
    "* Memory Usage: 13.7 MB, less than 95.12% of Python3 online submissions for Best Time to Buy and Sell Stock II."
   ]
  },
  {
   "cell_type": "code",
   "execution_count": null,
   "metadata": {},
   "outputs": [],
   "source": []
  }
 ],
 "metadata": {
  "kernelspec": {
   "display_name": "Python 3",
   "language": "python",
   "name": "python3"
  },
  "language_info": {
   "codemirror_mode": {
    "name": "ipython",
    "version": 3
   },
   "file_extension": ".py",
   "mimetype": "text/x-python",
   "name": "python",
   "nbconvert_exporter": "python",
   "pygments_lexer": "ipython3",
   "version": "3.7.6"
  }
 },
 "nbformat": 4,
 "nbformat_minor": 4
}
