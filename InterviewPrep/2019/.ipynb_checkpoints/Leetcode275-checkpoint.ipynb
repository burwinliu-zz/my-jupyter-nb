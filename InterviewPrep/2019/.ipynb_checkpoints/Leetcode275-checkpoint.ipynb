{
 "cells": [
  {
   "cell_type": "code",
   "execution_count": null,
   "metadata": {},
   "outputs": [],
   "source": [
    "class Solution:\n",
    "    def hIndex(self, citations: List[int]) -> int:\n",
    "        lo = 0\n",
    "        hi = len(citations)\n",
    "        while lo < hi:\n",
    "            mid = (lo + hi) // 2\n",
    "            if citations[~mid] > mid:\n",
    "                lo = mid + 1\n",
    "            else:\n",
    "                hi = mid\n",
    "        return lo"
   ]
  },
  {
   "cell_type": "markdown",
   "metadata": {},
   "source": [
    "# Solution1\n",
    "\n",
    "Not my solution. Reimplementation of the binary serach algorithm. Need to figure out how this was figured out, but seems like it was merely finding the point in which the two items meet, and find where they citations and mid point is less than the actual midpoint vlaue. Overall a decent issue. "
   ]
  }
 ],
 "metadata": {
  "kernelspec": {
   "display_name": "Python 3",
   "language": "python",
   "name": "python3"
  },
  "language_info": {
   "codemirror_mode": {
    "name": "ipython",
    "version": 3
   },
   "file_extension": ".py",
   "mimetype": "text/x-python",
   "name": "python",
   "nbconvert_exporter": "python",
   "pygments_lexer": "ipython3",
   "version": "3.7.4"
  }
 },
 "nbformat": 4,
 "nbformat_minor": 2
}
