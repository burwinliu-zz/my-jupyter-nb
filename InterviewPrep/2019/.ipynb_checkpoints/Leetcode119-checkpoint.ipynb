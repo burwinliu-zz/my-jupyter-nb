{
 "cells": [
  {
   "cell_type": "code",
   "execution_count": null,
   "metadata": {},
   "outputs": [],
   "source": [
    "class Solution:\n",
    "    def getRow(self, rowIndex: int) -> List[int]:\n",
    "        if rowIndex == 0:\n",
    "            return [1]\n",
    "        result = list()\n",
    "        holder = list()\n",
    "        for i in range(rowIndex):\n",
    "            holder = result\n",
    "            result = [1]\n",
    "            if(len(holder)!=1):\n",
    "                for j in range(len(holder)-1):\n",
    "                    result.append(holder[j]+holder[j+1])\n",
    "            result.append(1)\n",
    "        return result\n",
    "        "
   ]
  },
  {
   "cell_type": "markdown",
   "metadata": {},
   "source": [
    "# Solution 1\n",
    "    Naive solution, but with proper implementation. Merely reconstruct the jentrie code row by row and return the final list"
   ]
  }
 ],
 "metadata": {
  "kernelspec": {
   "display_name": "Python 3",
   "language": "python",
   "name": "python3"
  },
  "language_info": {
   "codemirror_mode": {
    "name": "ipython",
    "version": 3
   },
   "file_extension": ".py",
   "mimetype": "text/x-python",
   "name": "python",
   "nbconvert_exporter": "python",
   "pygments_lexer": "ipython3",
   "version": "3.7.4"
  }
 },
 "nbformat": 4,
 "nbformat_minor": 2
}
