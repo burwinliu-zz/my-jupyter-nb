{
 "cells": [
  {
   "cell_type": "markdown",
   "metadata": {},
   "source": [
    "There are N gas stations along a circular route, where the amount of gas at station i is gas[i].\n",
    "\n",
    "You have a car with an unlimited gas tank and it costs cost[i] of gas to travel from station i to its next station (i+1). You begin the journey with an empty tank at one of the gas stations.\n",
    "\n",
    "Return the starting gas station's index if you can travel around the circuit once in the clockwise direction, otherwise return -1.\n",
    "\n",
    "Note:\n",
    "\n",
    "    If there exists a solution, it is guaranteed to be unique.\n",
    "    Both input arrays are non-empty and have the same length.\n",
    "    Each element in the input arrays is a non-negative integer.\n",
    "\n",
    "Example 1:\n",
    "\n",
    "Input: \n",
    "gas  = [1,2,3,4,5]\n",
    "cost = [3,4,5,1,2]\n",
    "\n",
    "Output: 3\n",
    "\n",
    "Explanation:\n",
    "Start at station 3 (index 3) and fill up with 4 unit of gas. Your tank = 0 + 4 = 4\n",
    "Travel to station 4. Your tank = 4 - 1 + 5 = 8\n",
    "Travel to station 0. Your tank = 8 - 2 + 1 = 7\n",
    "Travel to station 1. Your tank = 7 - 3 + 2 = 6\n",
    "Travel to station 2. Your tank = 6 - 4 + 3 = 5\n",
    "Travel to station 3. The cost is 5. Your gas is just enough to travel back to station 3.\n",
    "Therefore, return 3 as the starting index.\n"
   ]
  },
  {
   "cell_type": "markdown",
   "metadata": {},
   "source": [
    "Thinking about checking if there is a solution, then going and finding any valid points and checking, and if we have a green light then loop through again. (Could be up to O(N^2) efficiency, must look to improve it)"
   ]
  },
  {
   "cell_type": "code",
   "execution_count": 1,
   "metadata": {},
   "outputs": [
    {
     "ename": "SyntaxError",
     "evalue": "invalid syntax (<ipython-input-1-552e1923cdf1>, line 10)",
     "output_type": "error",
     "traceback": [
      "\u001b[1;36m  File \u001b[1;32m\"<ipython-input-1-552e1923cdf1>\"\u001b[1;36m, line \u001b[1;32m10\u001b[0m\n\u001b[1;33m    for i in\u001b[0m\n\u001b[1;37m             ^\u001b[0m\n\u001b[1;31mSyntaxError\u001b[0m\u001b[1;31m:\u001b[0m invalid syntax\n"
     ]
    }
   ],
   "source": [
    "def canCompleteCircuit(self, gas: List[int], cost: List[int]) -> int:\n",
    "        total_gas, total_cost = 0, 0\n",
    "        for i, j in zip(gas, cost):\n",
    "            total_gas += i\n",
    "            total_cost += j\n",
    "        if i >= j:\n",
    "            for i in gas:\n",
    "                if i > cost[0]:\n",
    "                    counter = 1\n",
    "                    # From here loop through and work on \n",
    "                    for i in \n",
    "        else:\n",
    "            return -1"
   ]
  }
 ],
 "metadata": {
  "kernelspec": {
   "display_name": "Python 3",
   "language": "python",
   "name": "python3"
  },
  "language_info": {
   "codemirror_mode": {
    "name": "ipython",
    "version": 3
   },
   "file_extension": ".py",
   "mimetype": "text/x-python",
   "name": "python",
   "nbconvert_exporter": "python",
   "pygments_lexer": "ipython3",
   "version": "3.7.3"
  }
 },
 "nbformat": 4,
 "nbformat_minor": 2
}
