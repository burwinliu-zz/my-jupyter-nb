{
 "cells": [
  {
   "cell_type": "code",
   "execution_count": null,
   "metadata": {},
   "outputs": [],
   "source": [
    "class Solution:\n",
    "    def majorityElement(self, nums: List[int]) -> List[int]:\n",
    "        nums = sorted(nums)\n",
    "        result = list()\n",
    "        counter = 0\n",
    "        print(nums)\n",
    "        for i in range(len(nums)-1):\n",
    "            if nums[i+1] == nums[i]:\n",
    "                counter+=1\n",
    "            else:\n",
    "                if counter + 1 > len(nums)//3:\n",
    "                    result.append(nums[i])\n",
    "                counter = 0\n",
    "        if counter + 1 > len(nums)//3 and len(nums) != 0:\n",
    "            result.append(nums[-1])\n",
    "        return result"
   ]
  },
  {
   "cell_type": "markdown",
   "metadata": {},
   "source": [
    "# Solution 1\n",
    "\n",
    "Pretty bad solution ngl, but it works. Basically sorts the array and loops through counting if each item occurs more then once, and if it does, then return it, else dont do anything. We'll figure it out in the future a better way."
   ]
  }
 ],
 "metadata": {
  "kernelspec": {
   "display_name": "Python 3",
   "language": "python",
   "name": "python3"
  },
  "language_info": {
   "codemirror_mode": {
    "name": "ipython",
    "version": 3
   },
   "file_extension": ".py",
   "mimetype": "text/x-python",
   "name": "python",
   "nbconvert_exporter": "python",
   "pygments_lexer": "ipython3",
   "version": "3.7.6"
  }
 },
 "nbformat": 4,
 "nbformat_minor": 4
}
