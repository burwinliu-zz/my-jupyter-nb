{
 "cells": [
  {
   "cell_type": "markdown",
   "metadata": {},
   "source": [
    "Given an unsorted integer array, find the smallest missing positive integer."
   ]
  },
  {
   "cell_type": "raw",
   "metadata": {},
   "source": [
    "Pretty standard, take list of n length and then find where the numbers lie in a list and find lowest number using list as a map to each value to see which values are hit. after, loop through to check and find where hits are made"
   ]
  },
  {
   "cell_type": "code",
   "execution_count": null,
   "metadata": {},
   "outputs": [],
   "source": [
    "class Solution:\n",
    "    def firstMissingPositive(self, nums: List[int]) -> int:\n",
    "        x = [0 for i in len(nums)]\n",
    "        for i in nums:\n",
    "            if i > 0 and i < len(nums) + 1:\n",
    "                x[i-1] += 1\n",
    "        for i, j in enumerate(x):\n",
    "            if j == 0:\n",
    "                return i + 1\n",
    "        return len(x) + 1"
   ]
  }
 ],
 "metadata": {
  "kernelspec": {
   "display_name": "Python 3",
   "language": "python",
   "name": "python3"
  },
  "language_info": {
   "codemirror_mode": {
    "name": "ipython",
    "version": 3
   },
   "file_extension": ".py",
   "mimetype": "text/x-python",
   "name": "python",
   "nbconvert_exporter": "python",
   "pygments_lexer": "ipython3",
   "version": "3.7.3"
  }
 },
 "nbformat": 4,
 "nbformat_minor": 2
}
