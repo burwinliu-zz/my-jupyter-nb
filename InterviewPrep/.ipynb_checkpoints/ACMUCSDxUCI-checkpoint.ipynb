{
 "cells": [
  {
   "cell_type": "code",
   "execution_count": null,
   "metadata": {},
   "outputs": [],
   "source": [
    "import math\n",
    "\n",
    "\n",
    "if __name__ == \"__main__\":\n",
    "    unavailable = set()\n",
    "    res = 0\n",
    "    in1 = int(input())\n",
    "    for i in range(in1):\n",
    "        numRows = int(input())\n",
    "\n",
    "        print(math.ceil( numRows/2 )*4 + math.floor(numRows/2)*2)"
   ]
  },
  {
   "cell_type": "markdown",
   "metadata": {},
   "source": [
    "# Deadline Dash\n",
    "Several months into the future, it's reached that time of the quarter again. As assignments keep piling up, Paul finally decides to stop procrastinating and begin working immediately. However, he reasons that he should put that off until he first figures out how much free time he will have while working at maximum efficiency. Given a list of assignments consisting of their release dates, deadlines, and estimated times for completion, determine how much free time Paul will have if he can complete all of his assignments.\n",
    "\n",
    "Note 1: Work towards assignments can be split up.\n",
    "\n",
    "Note 2: Because of the binary nature of this problem, no partial credit will be given for this problem, though you are welcome to try your luck.\n",
    "\n",
    "## Input Format\n",
    "\n",
    "The first line will contain an integer N, denoting the number of assignments Paul will have to complete. The next N lines will contain 3 integers: a starting date S, an ending date E, and the time to required to complete the assignment T. The total time span is from 0 to the due date of the last assignment.\n",
    "\n",
    "## Output Format\n",
    "\n",
    "If Paul can complete all of his assignments in time, output should consist of a single integer that represents the amount of free time Paul will have. Otherwise, print out 'f'.\n",
    "\n",
    "### Sample Input 0\n",
    "\n",
    "4\n",
    "1 5 3\n",
    "3 4 1\n",
    "4 9 3\n",
    "2 10 1\n",
    "### Sample Output 0\n",
    "\n",
    "2\n",
    "### Sample Input 1\n",
    "\n",
    "3\n",
    "0 4 4\n",
    "15 19 3\n",
    "16 19 2\n",
    "### Sample Output 1\n",
    "\n",
    "f"
   ]
  },
  {
   "cell_type": "code",
   "execution_count": null,
   "metadata": {},
   "outputs": [],
   "source": []
  },
  {
   "cell_type": "markdown",
   "metadata": {},
   "source": [
    "# Shopping 100% Speedrun WR\n",
    "It's time to go shopping! You have a list of N items that you need to purchase, and you want to do it as efficiently as possible. Fortunately, like the bright future we all have been wishing for, you can find them all at one massive store that dominates your local economy. However, this store has a strange policy and arrangement that separates the store into a line of M pods that have 3 entrances. One entrance leads into/out of the store while the other two lead to the adjacent pods (Note: the leftmost and rightmost pods only have 2 entrances).\n",
    "\n",
    "Obviously, you are not allowed to leave the store with items without checking out. Luckily, you have already taken the time to make note of which pods the items you need are and also know that each pod will have at most one item on your shopping list. What is the minimum number of pods you will need to visit to check out all the items you need in a single purchase?\n",
    "\n",
    "## Input Format\n",
    "\n",
    "The first line contains two integers N and M, where N is the number of items on the shopping list and M is the total number of pods there are. The next line will contain M integers that correspond to the pods and each integer X will specify the item on the shopping list that is available in that pod.\n",
    "\n",
    "## Output Format\n",
    "\n",
    "Print a single integer describing the minimum number of pods you have to walk through to check out all the items in a single purchase.\n",
    "\n",
    "### Sample Input 0\n",
    "\n",
    "3 6\n",
    "1 1 2 1 0 1\n",
    "### Sample Output 0\n",
    "\n",
    "3\n",
    "\n",
    "### Sample Input 1\n",
    "\n",
    "3\n",
    "0 4 4\n",
    "15 19 3\n",
    "16 19 2\n",
    "\n",
    "### Sample Output 1\n",
    "\n",
    "f"
   ]
  },
  {
   "cell_type": "code",
   "execution_count": 3,
   "metadata": {},
   "outputs": [],
   "source": [
    "\n",
    "emptyTime = set()\n",
    "expendedTime = dict() # Which will never return\n",
    "for i in range(int(input())):\n",
    "    # I will sincerely hope you don't overwork the poor man\n",
    "    start, end, timeTaken = [int(i) for i in input().split(\" \")]\n",
    "    for i in range(start, end):\n",
    "        if i not in expendedTime:\n",
    "            emptyTime.add(i)\n",
    "            expendedTime.add(i)\n",
    "\n",
    "        if timeTaken != 0:\n",
    "            emptyTime.remove(i)\n",
    "            timeTaken -= 1\n",
    "if len(emptyTime) == 0:\n",
    "    print(\"f\")\n",
    "else:\n",
    "    print(len(emptyTime))"
   ]
  }
 ],
 "metadata": {
  "kernelspec": {
   "display_name": "Python 3",
   "language": "python",
   "name": "python3"
  },
  "language_info": {
   "codemirror_mode": {
    "name": "ipython",
    "version": 3
   },
   "file_extension": ".py",
   "mimetype": "text/x-python",
   "name": "python",
   "nbconvert_exporter": "python",
   "pygments_lexer": "ipython3",
   "version": "3.7.6"
  }
 },
 "nbformat": 4,
 "nbformat_minor": 4
}
