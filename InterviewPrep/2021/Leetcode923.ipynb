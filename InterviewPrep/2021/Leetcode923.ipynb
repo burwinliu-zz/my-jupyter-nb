{
 "cells": [
  {
   "cell_type": "markdown",
   "id": "particular-minimum",
   "metadata": {},
   "source": [
    "# Leetcode 923\n",
    "## Problem\n",
    "Given an integer array arr, and an integer target, return the number of tuples i, j, k such that i < j < k and arr[i] + arr[j] + arr[k] == target.\n",
    "\n",
    "As the answer can be very large, return it modulo 109 + 7.\n",
    "\n",
    "## Thoughts\n",
    "Mirrors 3sum problem, except, cannot modify via sorting using two pointer approach. Therefore, modified 2sum approach (with dictionaries, and 1 moving pointer at front to  bind situation\n"
   ]
  },
  {
   "cell_type": "code",
   "execution_count": null,
   "id": "identical-philadelphia",
   "metadata": {},
   "outputs": [],
   "source": [
    "class Solution:\n",
    "    def threeSumMulti(self, arr: List[int], target: int) -> int:\n",
    "        count = 0\n",
    "        \n",
    "        for i in range(len(arr) - 2):\n",
    "            goal = target - arr[i]\n",
    "            control = {}\n",
    "            for j in range(i + 1, len(arr)):\n",
    "                if arr[j] in control:\n",
    "                    count = (count + control[arr[j]]) % (10 ** 9 + 7)\n",
    "                if goal-arr[j] not in control:\n",
    "                    control[goal-arr[j]] = 0\n",
    "                control[goal-arr[j]] += 1\n",
    "        return count"
   ]
  }
 ],
 "metadata": {
  "kernelspec": {
   "display_name": "Python 3",
   "language": "python",
   "name": "python3"
  },
  "language_info": {
   "codemirror_mode": {
    "name": "ipython",
    "version": 3
   },
   "file_extension": ".py",
   "mimetype": "text/x-python",
   "name": "python",
   "nbconvert_exporter": "python",
   "pygments_lexer": "ipython3",
   "version": "3.8.5"
  }
 },
 "nbformat": 4,
 "nbformat_minor": 5
}
