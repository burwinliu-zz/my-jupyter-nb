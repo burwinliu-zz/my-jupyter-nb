{
 "cells": [
  {
   "cell_type": "markdown",
   "metadata": {},
   "source": [
    "# Backtracking\n",
    "## Identification\n",
    "Usually an EXHAUSTIVE search (FIND ALL, COMPUTE ALL etc.). This leads to exponential time at worst (O(N^N)) or O(N!) depending on if you narrow down your search space per iteration"
   ]
  },
  {
   "cell_type": "markdown",
   "metadata": {},
   "source": [
    "## Basic Structure\n",
    "Backtrack essentiall has some pointer there that indicates which version of the search space you are working on with some restrictions. So therefore: \n",
    "\n",
    "1) Determine Search Space  \n",
    "2) Guess some solution path   \n",
    "3) Restrict the remaining search space and validate -- if some error occurs, then \"backtrack\" and don't follow that path (hense the name of this approach)  "
   ]
  }
 ],
 "metadata": {
  "kernelspec": {
   "display_name": "Python 3",
   "language": "python",
   "name": "python3"
  },
  "language_info": {
   "codemirror_mode": {
    "name": "ipython",
    "version": 3
   },
   "file_extension": ".py",
   "mimetype": "text/x-python",
   "name": "python",
   "nbconvert_exporter": "python",
   "pygments_lexer": "ipython3",
   "version": "3.7.6"
  }
 },
 "nbformat": 4,
 "nbformat_minor": 4
}
