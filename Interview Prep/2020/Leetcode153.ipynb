{
 "cells": [
  {
   "cell_type": "markdown",
   "metadata": {},
   "source": [
    "# Leetcode 153\n",
    "## Problem\n",
    "Suppose an array sorted in ascending order is rotated at some pivot unknown to you beforehand.\n",
    "\n",
    "(i.e.,  [0,1,2,4,5,6,7] might become  [4,5,6,7,0,1,2]).\n",
    "\n",
    "Find the minimum element.\n",
    "\n",
    "You may assume no duplicate exists in the array.\n",
    "## Solutions\n",
    "### Solution 1\n",
    "Find where the decrease happens (indicating the swap occured at this point). If not found, unrotated, and return the first element\n",
    "#### Analysis:\n",
    "O(N) Time, to iterate over all elements\n",
    "O(0) space as no space is used\n",
    "### Solution 2\n",
    "With binary search, find the location of the step down. (Given there is a pivot in the middle, the middle is either less than the right (in sorted array) which would mean the pivot is somewere to the left, or the middle is greater then the end, which means the pivot is supposed to be somewhere to the right. Keep searching until there is only one element remaining, which has to be the location of the pivoted element"
   ]
  },
  {
   "cell_type": "code",
   "execution_count": null,
   "metadata": {},
   "outputs": [],
   "source": [
    "class Solution:\n",
    "    def findMin(self, nums: List[int]) -> int:\n",
    "        for i in range(len(nums)-1):\n",
    "            if nums[i+1] < nums[i]:\n",
    "                return nums[i+1]\n",
    "        return nums[0]"
   ]
  },
  {
   "cell_type": "code",
   "execution_count": null,
   "metadata": {},
   "outputs": [],
   "source": [
    "class Solution:\n",
    "    def findMin(self, nums: List[int]) -> int:\n",
    "        left = 0\n",
    "        right = len(nums) - 1\n",
    "        \n",
    "        while left < right:\n",
    "            mid = left + int((right - left)/2)\n",
    "            \n",
    "            if nums[mid] > nums[right]:\n",
    "                left = mid+1\n",
    "            else:\n",
    "                right = mid\n",
    "        return nums[left]"
   ]
  }
 ],
 "metadata": {
  "kernelspec": {
   "display_name": "Python 3",
   "language": "python",
   "name": "python3"
  },
  "language_info": {
   "codemirror_mode": {
    "name": "ipython",
    "version": 3
   },
   "file_extension": ".py",
   "mimetype": "text/x-python",
   "name": "python",
   "nbconvert_exporter": "python",
   "pygments_lexer": "ipython3",
   "version": "3.7.6"
  }
 },
 "nbformat": 4,
 "nbformat_minor": 4
}
