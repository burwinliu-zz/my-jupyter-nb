{
 "cells": [
  {
   "cell_type": "markdown",
   "metadata": {},
   "source": [
    "# Leetcode 94\n",
    "## Problem\n",
    "Given a binary tree, return the inorder traversal of its nodes' values.\n",
    "## Solution\n",
    "### Thoughts\n",
    "We can act recursively and add left before adding current and then right element -- BFS essentially\n",
    "### Solution 1\n",
    "#### Analysis:\n",
    "Time: O(N)  \n",
    "Space: O(N)\n"
   ]
  },
  {
   "cell_type": "code",
   "execution_count": null,
   "metadata": {},
   "outputs": [],
   "source": [
    "# Definition for a binary tree node.\n",
    "# class TreeNode:\n",
    "#     def __init__(self, val=0, left=None, right=None):\n",
    "#         self.val = val\n",
    "#         self.left = left\n",
    "#         self.right = right\n",
    "class Solution:\n",
    "    def inorderTraversal(self, root: TreeNode) -> List[int]:\n",
    "        def helper(root, res):\n",
    "            if not root:\n",
    "                return res\n",
    "            helper(root.left, res)\n",
    "            res.append(root.val)\n",
    "            helper(root.right, res)\n",
    "            return res\n",
    "        return helper(root, [])\n",
    "        "
   ]
  }
 ],
 "metadata": {
  "kernelspec": {
   "display_name": "Python 3",
   "language": "python",
   "name": "python3"
  },
  "language_info": {
   "codemirror_mode": {
    "name": "ipython",
    "version": 3
   },
   "file_extension": ".py",
   "mimetype": "text/x-python",
   "name": "python",
   "nbconvert_exporter": "python",
   "pygments_lexer": "ipython3",
   "version": "3.7.6"
  }
 },
 "nbformat": 4,
 "nbformat_minor": 4
}
