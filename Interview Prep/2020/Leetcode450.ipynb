{
 "cells": [
  {
   "cell_type": "markdown",
   "metadata": {},
   "source": [
    "# Leetcode 450\n",
    "## Problem\n",
    "Given a root node reference of a BST and a key, delete the node with the given key in the BST. Return the root node reference (possibly updated) of the BST.\n",
    "\n",
    "Basically, the deletion can be divided into two stages:\n",
    "\n",
    "Search for a node to remove.\n",
    "If the node is found, delete the node.\n",
    "Note: Time complexity should be O(height of tree).\n",
    "\n",
    "## Thoughts.\n",
    "I needed some help with the deletion of the item (With drawing I believe I could have solved it, I think I am having a bit of an off day)\n",
    "\n",
    "## Analysis\n",
    "Time: O(log(N))  \n",
    "Space: O(log(N)) to recurse"
   ]
  },
  {
   "cell_type": "code",
   "execution_count": null,
   "metadata": {},
   "outputs": [],
   "source": [
    "# Definition for a binary tree node.\n",
    "# class TreeNode:\n",
    "#     def __init__(self, val=0, left=None, right=None):\n",
    "#         self.val = val\n",
    "#         self.left = left\n",
    "#         self.right = right\n",
    "class Solution:\n",
    "    def deleteNode(self, root: TreeNode, key: int) -> TreeNode:\n",
    "        if not root:\n",
    "            return root\n",
    "        if root.val == key:\n",
    "            if root.left:\n",
    "                # Find the right most leaf of the left sub-tree\n",
    "                left_right_most = root.left\n",
    "                while left_right_most.right:\n",
    "                    left_right_most = left_right_most.right\n",
    "                # Attach right child to the right of that leaf\n",
    "                left_right_most.right = root.right\n",
    "                # Return left child instead of root, a.k.a delete root\n",
    "                return root.left\n",
    "            else:\n",
    "                return root.right\n",
    "        elif key > root.val:\n",
    "            root.right = self.deleteNode(root.right, key)\n",
    "        else:\n",
    "            root.left = self.deleteNode(root.left, key)\n",
    "        return root"
   ]
  },
  {
   "cell_type": "code",
   "execution_count": null,
   "metadata": {},
   "outputs": [],
   "source": [
    "# Definition for a binary tree node.\n",
    "# class TreeNode:\n",
    "#     def __init__(self, val=0, left=None, right=None):\n",
    "#         self.val = val\n",
    "#         self.left = left\n",
    "#         self.right = right\n",
    "class Solution:\n",
    "    def deleteNode(self, root: TreeNode, key: int) -> TreeNode:\n",
    "        if not root:\n",
    "            return root\n",
    "        if root.val == key:\n",
    "            if root.left:\n",
    "                # Find the right most leaf of the left sub-tree\n",
    "                parent = root\n",
    "                left_right_most = root.left\n",
    "                while left_right_most.right:\n",
    "                    parent = left_right_most\n",
    "                    left_right_most = left_right_most.right\n",
    "                # Attach right child to the right of that leaf\n",
    "                if root != parent:\n",
    "                    parent.right = left_right_most.left\n",
    "                else:\n",
    "                    parent.left = left_right_most.left\n",
    "                root.val = left_right_most.val\n",
    "                # Return left child instead of root, a.k.a delete root\n",
    "                return root\n",
    "            else:\n",
    "                return root.right\n",
    "        elif key > root.val:\n",
    "            root.right = self.deleteNode(root.right, key)\n",
    "        else:\n",
    "            root.left = self.deleteNode(root.left, key)\n",
    "        return root"
   ]
  }
 ],
 "metadata": {
  "kernelspec": {
   "display_name": "Python 3",
   "language": "python",
   "name": "python3"
  },
  "language_info": {
   "codemirror_mode": {
    "name": "ipython",
    "version": 3
   },
   "file_extension": ".py",
   "mimetype": "text/x-python",
   "name": "python",
   "nbconvert_exporter": "python",
   "pygments_lexer": "ipython3",
   "version": "3.7.6"
  }
 },
 "nbformat": 4,
 "nbformat_minor": 4
}
