{
 "cells": [
  {
   "cell_type": "markdown",
   "metadata": {},
   "source": [
    "# Leetcode 524\n",
    "\n",
    "## Problem\n",
    "\n",
    "Given a string and a string dictionary, find the longest string in the dictionary that can be formed by deleting some characters of the given string. If there are more than one possible results, return the longest word with the smallest lexicographical order. If there is no possible result, return the empty string.\n",
    "\n",
    "## Thoughts\n",
    "\n",
    "I truly messed up a bit on this problem. I needed to identify more about this problem before going in, and asking more questions\n",
    "\n",
    "When test casing, I didn't test for what the edge cases were (with how the entire string was matched) so, I took the longest substring matching from the start, instead of the longest completely matched string.\n",
    "\n",
    "### Approach 1\n",
    "Greedy approach   \n",
    "By iterating over all possible strings, we can find the longest item subsequence (using subsequence two pointers) and then find the max that way -- however, when coding this I misunderstood -- subsequence matches the whol string, not common subsequence (which would have been a terrible time in terms of iterating and trying to find those subsequences (O(N\\*N\\*M))  \n",
    "\n",
    "Time: O(N\\*M)  \n",
    "Space: O(M)  \n",
    "\n",
    "### Approach 2\n",
    "Greedy with Dictionary (One pass)  \n",
    "\n",
    "Time: O(N\\*M) -> For each item in s, we can (at worst case) look over all items in dict, more likely to be O(N)  \n",
    "Space: O(M) -> maxString and dict to store the items"
   ]
  },
  {
   "cell_type": "code",
   "execution_count": null,
   "metadata": {},
   "outputs": [],
   "source": [
    "class Solution:\n",
    "    def findLongestWord(self, s: str, d: List[str]) -> str:\n",
    "        maxStr = [0, \"\"]\n",
    "        \n",
    "        for dString in d:\n",
    "            pointS = pointD = 0\n",
    "            while pointS < len(s) and pointD < len(dString):\n",
    "                if s[pointS] == dString[pointD]:\n",
    "                    pointD += 1\n",
    "                pointS += 1\n",
    "            if pointD == len(dString) and \\\n",
    "                (len(dString) > len(maxStr[1]) or \\\n",
    "                    (len(dString) == len(maxStr[1]) and dString < maxStr[1])):\n",
    "                maxStr = [pointD, dString]\n",
    "        return maxStr[1]"
   ]
  },
  {
   "cell_type": "code",
   "execution_count": 16,
   "metadata": {},
   "outputs": [],
   "source": [
    "from collections import defaultdict\n",
    "\n",
    "def findLongestWord(s: str, d) -> str:\n",
    "    memo = defaultdict(list)\n",
    "\n",
    "    maxStr = \"\"\n",
    "\n",
    "    for i in d:\n",
    "        memo[i[0]].append((0, i))\n",
    "\n",
    "    for i in s:\n",
    "        if i in memo:\n",
    "            temp = []\n",
    "            for j in memo[i]:\n",
    "                if j[0] + 1 < len(j[1]):\n",
    "                    newKey = j[1][j[0]+1]\n",
    "                    if newKey == i:\n",
    "                        temp.append((j[0] + 1, j[1]))\n",
    "                    else:\n",
    "                        memo[newKey].append((j[0] + 1, j[1]))\n",
    "                elif j[0]+1 == len(j[1]):\n",
    "                    print(j)\n",
    "                    if len(j[1]) > len(maxStr) or (len(j[1]) == len(maxStr) and j[1] < maxStr):\n",
    "                        maxStr = j[1]\n",
    "            \n",
    "\n",
    "            if len(temp) == 0:\n",
    "                del memo[i]\n",
    "            else:\n",
    "                memo[i] = temp\n",
    "    return maxStr"
   ]
  }
 ],
 "metadata": {
  "kernelspec": {
   "display_name": "Python 3",
   "language": "python",
   "name": "python3"
  },
  "language_info": {
   "codemirror_mode": {
    "name": "ipython",
    "version": 3
   },
   "file_extension": ".py",
   "mimetype": "text/x-python",
   "name": "python",
   "nbconvert_exporter": "python",
   "pygments_lexer": "ipython3",
   "version": "3.7.6"
  }
 },
 "nbformat": 4,
 "nbformat_minor": 4
}
