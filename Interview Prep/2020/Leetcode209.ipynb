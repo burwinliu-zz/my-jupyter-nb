{
 "cells": [
  {
   "cell_type": "markdown",
   "metadata": {},
   "source": [
    "# Leetcode 209\n",
    "Given an array of n positive integers and a positive integer s, find the minimal length of a contiguous subarray of which the sum ≥ s. If there isn't one, return 0 instead.\n",
    "\n",
    "# Thoughts\n",
    "\n",
    "This is a 2 pointer question. This uses the one value that acts as the \"head\" which is where the subarray would begin, and the \"tail\" where the subarray would end. Per iteration, move the front if the sub array is too big, the end if too small until you generate all possible contiguous positions\n",
    "\n",
    "The O (nlogn) variation involves binary search and finding the smallest subarray to the left of the current variable with binary search to create an array to find a subarray with the proper size, and comparing it against the current length."
   ]
  },
  {
   "cell_type": "code",
   "execution_count": null,
   "metadata": {},
   "outputs": [],
   "source": [
    "class Solution:\n",
    "    def minSubArrayLen(self, s: int, nums: List[int]) -> int:\n",
    "        p_1, p_2 = 0, 0\n",
    "        total = 0\n",
    "        min_l = len(nums) + 20\n",
    "        while True:\n",
    "            print(total, p_1, p_2)\n",
    "            if total >= s:\n",
    "                if p_2 - p_1 < min_l:\n",
    "                    min_l = p_2 - p_1\n",
    "                if p_1 >= len(nums):\n",
    "                    break\n",
    "                total -= nums[p_1]\n",
    "                p_1 += 1\n",
    "            elif total < s:\n",
    "                if p_2 >= len(nums):\n",
    "                    break\n",
    "                total += nums[p_2]\n",
    "                p_2 += 1\n",
    "        if total >= s:\n",
    "            if p_2 - p_1 < min_l:\n",
    "                min_l = p_2 - p_1\n",
    "        if min_l == len(nums) + 20:\n",
    "            return 0\n",
    "        return min_l"
   ]
  }
 ],
 "metadata": {
  "kernelspec": {
   "display_name": "Python 3",
   "language": "python",
   "name": "python3"
  },
  "language_info": {
   "codemirror_mode": {
    "name": "ipython",
    "version": 3
   },
   "file_extension": ".py",
   "mimetype": "text/x-python",
   "name": "python",
   "nbconvert_exporter": "python",
   "pygments_lexer": "ipython3",
   "version": "3.7.6"
  }
 },
 "nbformat": 4,
 "nbformat_minor": 4
}
