{
 "cells": [
  {
   "cell_type": "markdown",
   "metadata": {},
   "source": [
    "# Leetcode 200\n",
    "Given a 2d grid map of '1's (land) and '0's (water), count the number of islands. An island is surrounded by water and is formed by connecting adjacent lands horizontally or vertically. You may assume all four edges of the grid are all surrounded by water.\n",
    "\n",
    "## Thoughts\n",
    "This seems to be largely a BFS question, trying to find wherever the points are which are connected for all points -- largely alright, just needed to think about it in a less complicated manner.\n",
    "\n",
    "### Analysis 1\n",
    "Time : O(N) -- The BFS will not occur once it has already been parsed through, so at most it is O(N + N) which simplifies to O(N) ( Where n is total number of node points\n",
    "Space: O(N) to store all the elements of resulting in traversed.\n"
   ]
  },
  {
   "cell_type": "code",
   "execution_count": null,
   "metadata": {},
   "outputs": [],
   "source": [
    "class Solution:\n",
    "    def numIslands(self, grid: List[List[str]]) -> int:\n",
    "        traversed = set()\n",
    "        count = 0\n",
    "        \n",
    "        for i, j in enumerate(grid):\n",
    "            for k, l in enumerate(j):\n",
    "                if l == \"1\" and (i, k) not in traversed:\n",
    "                    count += 1\n",
    "                    queue = [(i, k)]\n",
    "                    while len(queue) != 0:\n",
    "                        temp = queue.pop(-1)\n",
    "                        traversed.add(temp)\n",
    "                        children = [(temp[0]+1, temp[1]),(temp[0]-1, temp[1]),(temp[0], temp[1]+1),(temp[0], temp[1]-1)]\n",
    "                        for child in children:\n",
    "                            if 0 <= child[0] < len(grid) and 0 <= child[1] < len(grid[0]) and grid[child[0]][child[1]] == \"1\" and \\\n",
    "                                child not in traversed:\n",
    "                                queue.append(child)\n",
    "        return count"
   ]
  }
 ],
 "metadata": {
  "kernelspec": {
   "display_name": "Python 3",
   "language": "python",
   "name": "python3"
  },
  "language_info": {
   "codemirror_mode": {
    "name": "ipython",
    "version": 3
   },
   "file_extension": ".py",
   "mimetype": "text/x-python",
   "name": "python",
   "nbconvert_exporter": "python",
   "pygments_lexer": "ipython3",
   "version": "3.7.6"
  }
 },
 "nbformat": 4,
 "nbformat_minor": 4
}
