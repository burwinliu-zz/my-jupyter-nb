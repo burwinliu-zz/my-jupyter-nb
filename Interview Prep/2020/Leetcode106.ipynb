{
 "cells": [
  {
   "cell_type": "markdown",
   "metadata": {},
   "source": [
    "# Leetcode 1306\n",
    "## Problem\n",
    "Given an array of non-negative integers arr, you are initially positioned at start index of the array. When you are at index i, you can jump to i + arr[i] or i - arr[i], check if you can reach to any index with value 0.\n",
    "\n",
    "Notice that you can not jump outside of the array at any time.\n",
    "\n",
    "## Thoughts\n",
    "Typical BFS, with a set to keep track of where things have been traversed\n",
    "\n",
    "## Analysis\n",
    "Time: O(2\\*d) -> O(N)  \n",
    "Space: O(N)"
   ]
  },
  {
   "cell_type": "code",
   "execution_count": null,
   "metadata": {},
   "outputs": [],
   "source": [
    "class Solution:\n",
    "    def canReach(self, arr: List[int], start: int) -> bool:\n",
    "        queue = [start]\n",
    "        traversed = set()\n",
    "        \n",
    "        while len(queue) != 0:\n",
    "            curr = queue.pop(0)\n",
    "            if curr in traversed:\n",
    "                continue\n",
    "            else:\n",
    "                traversed.add(curr)\n",
    "            \n",
    "            if arr[curr] == 0:\n",
    "                return True\n",
    "            \n",
    "            if curr + arr[curr] < len(arr):\n",
    "                queue.append(curr + arr[curr])\n",
    "            if curr - arr[curr] >= 0:\n",
    "                queue.append(curr - arr[curr])\n",
    "            \n",
    "        return False"
   ]
  }
 ],
 "metadata": {
  "kernelspec": {
   "display_name": "Python 3",
   "language": "python",
   "name": "python3"
  },
  "language_info": {
   "codemirror_mode": {
    "name": "ipython",
    "version": 3
   },
   "file_extension": ".py",
   "mimetype": "text/x-python",
   "name": "python",
   "nbconvert_exporter": "python",
   "pygments_lexer": "ipython3",
   "version": "3.7.6"
  }
 },
 "nbformat": 4,
 "nbformat_minor": 4
}
