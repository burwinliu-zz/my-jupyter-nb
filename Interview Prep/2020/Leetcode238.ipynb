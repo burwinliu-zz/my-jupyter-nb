{
 "cells": [
  {
   "cell_type": "markdown",
   "metadata": {},
   "source": [
    "# Leetcode 238\n",
    "## Problem\n",
    "Given an array nums of n integers where n > 1,  return an array output such that output[i] is equal to the product of all the elements of nums except nums[i].  \n",
    "  \n",
    "  \n",
    "Constraint: It's guaranteed that the product of the elements of any prefix or suffix of the array (including the whole array) fits in a 32 bit integer.\n",
    "\n",
    "Note: Please solve it without division and in O(n).\n",
    "\n",
    "## Solution\n",
    "## Thoughts \n",
    "I really need to review the techniques for arrays, I had to look at the solutions for inspiration for both these solutions\n",
    "### Solution 1 Analysis\n",
    "Space: O(N) Space, O(N) time\n",
    "### Solution 2 Analysis\n",
    "Space: O(1) Space (Given the result array is not calculated) and O(N) time"
   ]
  },
  {
   "cell_type": "code",
   "execution_count": null,
   "metadata": {},
   "outputs": [],
   "source": [
    "class Solution:\n",
    "    def productExceptSelf(self, nums: List[int]) -> List[int]:\n",
    "        left = [1 for i in range(len(nums))]\n",
    "        right = [1 for i in range(len(nums))]\n",
    "        result = [1]* len(nums)\n",
    "        \n",
    "        for i in range(len(nums)-1):\n",
    "            left[i+1] = left[i] * nums[i]\n",
    "            right[i+1] = right[i] * nums[-(i+1)]\n",
    "        \n",
    "        for i in range(len(nums)):\n",
    "            result[i] = left[i]*right[-(i+1)]\n",
    "        return result"
   ]
  },
  {
   "cell_type": "code",
   "execution_count": null,
   "metadata": {},
   "outputs": [],
   "source": [
    "class Solution:\n",
    "    def productExceptSelf(self, nums: List[int]) -> List[int]:\n",
    "        result = [1]* len(nums)\n",
    "        \n",
    "        for i in range(len(nums)-1):\n",
    "            result[-(i+2)] = result[-(i+1)] * nums[-(i+1)]\n",
    "        \n",
    "        left = 1\n",
    "        for i in range(len(nums)):\n",
    "            result[i] = left * result[i]\n",
    "            left = left * nums[i]\n",
    "        return result"
   ]
  }
 ],
 "metadata": {
  "kernelspec": {
   "display_name": "Python 3",
   "language": "python",
   "name": "python3"
  },
  "language_info": {
   "codemirror_mode": {
    "name": "ipython",
    "version": 3
   },
   "file_extension": ".py",
   "mimetype": "text/x-python",
   "name": "python",
   "nbconvert_exporter": "python",
   "pygments_lexer": "ipython3",
   "version": "3.7.6"
  }
 },
 "nbformat": 4,
 "nbformat_minor": 4
}
