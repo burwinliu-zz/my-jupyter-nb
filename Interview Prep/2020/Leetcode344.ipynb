{
 "cells": [
  {
   "cell_type": "code",
   "execution_count": 6,
   "metadata": {},
   "outputs": [
    {
     "name": "stdout",
     "output_type": "stream",
     "text": [
      "['T', 'S', 'E', 'T']\n",
      "['o', 'l', 'l', 'e', 'h']\n"
     ]
    }
   ],
   "source": [
    "# Technically correct, but they want in place :< Need to remember to follow instructions xd\n",
    "def reverseString(s) -> None:\n",
    "    \"\"\"\n",
    "    Do not return anything, modify s in-place instead.\n",
    "    \"\"\"\n",
    "    # Recursive version\n",
    "    if len(s) == 0:\n",
    "        return []\n",
    "    temp =  list(reverseString(s[:-1]))\n",
    "    res = list(str(s[-1])) + temp\n",
    "    return res\n",
    "\n",
    "print(reverseString([\"T\", \"E\", \"S\",\"T\"]))\n",
    "print(reverseString([\"h\",\"e\",\"l\",\"l\",\"o\"]))"
   ]
  },
  {
   "cell_type": "code",
   "execution_count": null,
   "metadata": {},
   "outputs": [],
   "source": [
    "class Solution:\n",
    "    def reverseString(self, s: List[str]) -> None:\n",
    "        \"\"\"\n",
    "        Do not return anything, modify s in-place instead.\n",
    "        \"\"\"\n",
    "        # Recursive version\n",
    "        def recurse(s, front, back):\n",
    "            if front >= back:\n",
    "                return\n",
    "            temp = s[front]\n",
    "            s[front] = s[back]\n",
    "            s[back] = temp\n",
    "\n",
    "            recurse(s, front+1, back-1)\n",
    "        recurse(s, 0, len(s)-1)"
   ]
  }
 ],
 "metadata": {
  "kernelspec": {
   "display_name": "Python 3",
   "language": "python",
   "name": "python3"
  },
  "language_info": {
   "codemirror_mode": {
    "name": "ipython",
    "version": 3
   },
   "file_extension": ".py",
   "mimetype": "text/x-python",
   "name": "python",
   "nbconvert_exporter": "python",
   "pygments_lexer": "ipython3",
   "version": "3.7.6"
  }
 },
 "nbformat": 4,
 "nbformat_minor": 4
}
