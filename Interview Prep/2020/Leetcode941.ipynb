{
 "cells": [
  {
   "cell_type": "markdown",
   "metadata": {},
   "source": [
    "# Leetcode 941\n",
    "\n",
    "## Problem\n",
    "Given an array A of integers, return true if and only if it is a valid mountain array.\n",
    "\n",
    "Recall that A is a mountain array if and only if:\n",
    "\n",
    "A.length >= 3\n",
    "There exists some i with 0 < i < A.length - 1 such that:\n",
    "A[0] < A[1] < ... A[i-1] < A[i]\n",
    "A[i] > A[i+1] > ... > A[A.length - 1]\n",
    "## Thoughts\n",
    "\n",
    "Think of more exception cases -- I got OWNED by 4 seperate exception cases that I should have realized existsed\n",
    "\n",
    "## Analysis:\n",
    "Time: O(N)  \n",
    "Space: O(1)"
   ]
  },
  {
   "cell_type": "code",
   "execution_count": null,
   "metadata": {},
   "outputs": [],
   "source": [
    "class Solution:\n",
    "    def validMountainArray(self, A: List[int]) -> bool:\n",
    "        if len(A) < 3:\n",
    "            return False\n",
    "        inc = True\n",
    "        \n",
    "        for i in range(1, len(A)):\n",
    "            if (A[i] > A[i-1] and not inc) or A[i] == A[i-1]:\n",
    "                return False\n",
    "            if A[i] < A[i-1] and inc:\n",
    "                if i == 1:\n",
    "                    return False\n",
    "                inc = False\n",
    "        return not inc"
   ]
  }
 ],
 "metadata": {
  "kernelspec": {
   "display_name": "Python 3",
   "language": "python",
   "name": "python3"
  },
  "language_info": {
   "codemirror_mode": {
    "name": "ipython",
    "version": 3
   },
   "file_extension": ".py",
   "mimetype": "text/x-python",
   "name": "python",
   "nbconvert_exporter": "python",
   "pygments_lexer": "ipython3",
   "version": "3.7.6"
  }
 },
 "nbformat": 4,
 "nbformat_minor": 4
}
