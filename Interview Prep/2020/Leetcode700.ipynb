{
 "cells": [
  {
   "cell_type": "markdown",
   "metadata": {},
   "source": [
    "# Leetcode 700\n",
    "## Problem\n",
    "Given the root node of a binary search tree (BST) and a value. You need to find the node in the BST that the node's value equals the given value. Return the subtree rooted with that node. If such node doesn't exist, you should return NULL.\n",
    "\n",
    "## Solution \n",
    "### Solution 1\n",
    "Typical recursive solution (CONTEXT , BST will have node with all values less on the left, and larger on right. Keep seraching until none or end item, and return that value, which will be sent to top.\n",
    "\n",
    "Space: O(log(n)) since return of recursion depends on deepest depth, and log(n) depth of BST at max\n",
    "Time: O(log(n)) since time to traverse of recursion depends on deepest depth, and log(n) depth of BST at max"
   ]
  },
  {
   "cell_type": "code",
   "execution_count": null,
   "metadata": {},
   "outputs": [],
   "source": [
    "# Definition for a binary tree node.\n",
    "# class TreeNode:\n",
    "#     def __init__(self, val=0, left=None, right=None):\n",
    "#         self.val = val\n",
    "#         self.left = left\n",
    "#         self.right = right\n",
    "class Solution:\n",
    "    def searchBST(self, root: TreeNode, val: int) -> TreeNode:\n",
    "        if root is None:\n",
    "            return None\n",
    "        if root.val == val:\n",
    "            return root\n",
    "        if root.val < val:\n",
    "            return Solution().searchBST(root.right, val)\n",
    "        else:\n",
    "            return Solution().searchBST(root.left, val)"
   ]
  }
 ],
 "metadata": {
  "kernelspec": {
   "display_name": "Python 3",
   "language": "python",
   "name": "python3"
  },
  "language_info": {
   "codemirror_mode": {
    "name": "ipython",
    "version": 3
   },
   "file_extension": ".py",
   "mimetype": "text/x-python",
   "name": "python",
   "nbconvert_exporter": "python",
   "pygments_lexer": "ipython3",
   "version": "3.7.6"
  }
 },
 "nbformat": 4,
 "nbformat_minor": 4
}
