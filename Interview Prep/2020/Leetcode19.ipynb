{
 "cells": [
  {
   "cell_type": "markdown",
   "metadata": {},
   "source": [
    "# Leetcode 19\n",
    "## Problem\n",
    "Given a linked list, remove the n-th node from the end of list and return its head.\n",
    "## Solution\n",
    "### Solution 1 \n",
    "Using a list, be able to store the position that would be removed and remove it from the list.\n",
    "O(N) time, O(N) space\n",
    "\n",
    "### Solution 2\n",
    "2 passes -- take one pass, find the number of iterations to being one before the removed node, and remove the node.\n",
    "O(N) time, O(1) space\n",
    "\n",
    "### Solution 3\n",
    "Iterate forward with one pointer until the front is n away, and then move both. remove the node at the lagging pointer when the end is found"
   ]
  },
  {
   "cell_type": "code",
   "execution_count": null,
   "metadata": {},
   "outputs": [],
   "source": [
    "# Definition for singly-linked list.\n",
    "# class ListNode:\n",
    "#     def __init__(self, val=0, next=None):\n",
    "#         self.val = val\n",
    "#         self.next = next\n",
    "class Solution:\n",
    "    def removeNthFromEnd(self, head: ListNode, n: int) -> ListNode:\n",
    "        pA = head\n",
    "        items = list()\n",
    "        while pA != None:\n",
    "            items.append(pA)\n",
    "            pA = pA.next\n",
    "        if n == len(items):\n",
    "            head = head.next\n",
    "        if n < len(items):\n",
    "            items[-(n+1)].next = items[-(n+1)].next.next\n",
    "        return head\n",
    "            \n",
    "        "
   ]
  }
 ],
 "metadata": {
  "kernelspec": {
   "display_name": "Python 3",
   "language": "python",
   "name": "python3"
  },
  "language_info": {
   "codemirror_mode": {
    "name": "ipython",
    "version": 3
   },
   "file_extension": ".py",
   "mimetype": "text/x-python",
   "name": "python",
   "nbconvert_exporter": "python",
   "pygments_lexer": "ipython3",
   "version": "3.7.6"
  }
 },
 "nbformat": 4,
 "nbformat_minor": 4
}
