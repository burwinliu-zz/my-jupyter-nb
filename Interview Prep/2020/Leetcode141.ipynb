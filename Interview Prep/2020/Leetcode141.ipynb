{
 "cells": [
  {
   "cell_type": "markdown",
   "metadata": {},
   "source": [
    "# Leetcode 141\n",
    "## Problem\n",
    "Given a linked list, determine if it has a cycle in it.\n",
    "\n",
    "To represent a cycle in the given linked list, we use an integer pos which represents the position (0-indexed) in the linked list where tail connects to. If pos is -1, then there is no cycle in the linked list.\n",
    "\n",
    "## Solution\n",
    "### Solution 1\n",
    "Classic two pointers, have a step cycle out of sync and eventually they will run into each other if there was a cycle.\n",
    "\n",
    "### Solution 2\n",
    "Hash map, makes things faster. Record each item, and if you see an item again, then you realize that there was a cycle within the map"
   ]
  },
  {
   "cell_type": "code",
   "execution_count": null,
   "metadata": {},
   "outputs": [],
   "source": [
    "# Definition for singly-linked list.\n",
    "# class ListNode:\n",
    "#     def __init__(self, x):\n",
    "#         self.val = x\n",
    "#         self.next = None\n",
    "\n",
    "class Solution:\n",
    "    def hasCycle(self, head: ListNode) -> bool:\n",
    "        if head == None:\n",
    "            return False\n",
    "        p_1, p_2 = head, head.next\n",
    "        while p_2 != None and p_2.next != None:\n",
    "            p_2 = p_2.next.next\n",
    "            p_1 = p_1.next\n",
    "            if p_1 == p_2:\n",
    "                return True\n",
    "        return False\n",
    "            \n",
    "        "
   ]
  }
 ],
 "metadata": {
  "kernelspec": {
   "display_name": "Python 3",
   "language": "python",
   "name": "python3"
  },
  "language_info": {
   "codemirror_mode": {
    "name": "ipython",
    "version": 3
   },
   "file_extension": ".py",
   "mimetype": "text/x-python",
   "name": "python",
   "nbconvert_exporter": "python",
   "pygments_lexer": "ipython3",
   "version": "3.7.6"
  }
 },
 "nbformat": 4,
 "nbformat_minor": 4
}
