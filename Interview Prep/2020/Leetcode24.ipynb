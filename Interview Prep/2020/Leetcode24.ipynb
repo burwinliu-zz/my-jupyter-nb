{
 "cells": [
  {
   "cell_type": "markdown",
   "metadata": {},
   "source": [
    "# Leetcode 24\n",
    "( This is NOT a medium level difficulty, borders on easy for sure)\n",
    "## Problem\n",
    "Given a linked list, swap every two adjacent nodes and return its head.\n",
    "\n",
    "You may not modify the values in the list's nodes, only nodes itself may be changed.\n",
    "## Solution\n",
    "### Solution 1\n",
    "#### Thoughts + Pseudo\n",
    "Simple recursion, take store head.next as head and swap with head, then recurse on head.next.next with swap. Base case is when head or head.next is None, and return head if this occurs\n",
    "\n",
    "Space : O (N) (to store all n elements)\n",
    "Time: O(N) to iterate through all elements\n",
    "\n",
    "### Solution 2\n",
    "Basic optimization, storing less variables.\n"
   ]
  },
  {
   "cell_type": "code",
   "execution_count": null,
   "metadata": {},
   "outputs": [],
   "source": [
    "# Definition for singly-linked list.\n",
    "# class ListNode:\n",
    "#     def __init__(self, val=0, next=None):\n",
    "#         self.val = val\n",
    "#         self.next = next\n",
    "class Solution:\n",
    "    def swapPairs(self, head: ListNode) -> ListNode:\n",
    "        if not head or not head.next:\n",
    "            return head\n",
    "        tempNext = head\n",
    "        head = head.next\n",
    "        tempNext.next = Solution().swapPairs(head.next)\n",
    "        head.next = tempNext\n",
    "        return head\n",
    "        "
   ]
  },
  {
   "cell_type": "code",
   "execution_count": null,
   "metadata": {},
   "outputs": [],
   "source": [
    "# Definition for singly-linked list.\n",
    "# class ListNode:\n",
    "#     def __init__(self, val=0, next=None):\n",
    "#         self.val = val\n",
    "#         self.next = next\n",
    "class Solution:\n",
    "    def swapPairs(self, head: ListNode) -> ListNode:\n",
    "        if not head or not head.next:\n",
    "            return head\n",
    "        tempHead = head.next\n",
    "        head.next = Solution().swapPairs(head.next.next)\n",
    "        tempHead.next = head\n",
    "        return tempHead\n",
    "        "
   ]
  }
 ],
 "metadata": {
  "kernelspec": {
   "display_name": "Python 3",
   "language": "python",
   "name": "python3"
  },
  "language_info": {
   "codemirror_mode": {
    "name": "ipython",
    "version": 3
   },
   "file_extension": ".py",
   "mimetype": "text/x-python",
   "name": "python",
   "nbconvert_exporter": "python",
   "pygments_lexer": "ipython3",
   "version": "3.7.6"
  }
 },
 "nbformat": 4,
 "nbformat_minor": 4
}
