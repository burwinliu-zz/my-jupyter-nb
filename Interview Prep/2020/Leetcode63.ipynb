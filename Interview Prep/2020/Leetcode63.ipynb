{
 "cells": [
  {
   "cell_type": "markdown",
   "metadata": {},
   "source": [
    "# Leetcode 63\n",
    "\n",
    "# Problem\n",
    "\n",
    "A robot is located at the top-left corner of a m x n grid (marked 'Start' in the diagram below).\n",
    "\n",
    "The robot can only move either down or right at any point in time. The robot is trying to reach the bottom-right corner of the grid (marked 'Finish' in the diagram below).\n",
    "\n",
    "Now consider if some obstacles are added to the grids. How many unique paths would there be?\n",
    "\n",
    "# Solution\n",
    "## Solution 1 \n",
    "Recursive solution -- same Idea as 62, and "
   ]
  },
  {
   "cell_type": "code",
   "execution_count": null,
   "metadata": {},
   "outputs": [],
   "source": [
    "class Solution:\n",
    "    def uniquePathsWithObstacles(self, obstacleGrid: List[List[int]]) -> int:\n",
    "        m = len(obstacleGrid)\n",
    "        n = len(obstacleGrid[0])\n",
    "        \n",
    "        dictPaths = [[-1] * n for i in range(m)]\n",
    "        if(obstacleGrid[m-1][n-1] == 1):\n",
    "            return 0\n",
    "        \n",
    "        def recursionPaths(m1, n1):\n",
    "            if(m1 == 0 and n1 == 0):\n",
    "                return 1\n",
    "            if (dictPaths[m1][n1] != -1):\n",
    "                return dictPaths[m1][n1]\n",
    "            total = 0\n",
    "            if m1 > 0 and obstacleGrid[m1-1][n1] != 1:\n",
    "                total += recursionPaths(m1-1, n1)\n",
    "            if n1 > 0 and obstacleGrid[m1][n1-1] != 1:\n",
    "                total += recursionPaths(m1, n1-1)\n",
    "            dictPaths[m1][n1] = total\n",
    "            return total\n",
    "        return recursionPaths(m - 1, n - 1)"
   ]
  }
 ],
 "metadata": {
  "kernelspec": {
   "display_name": "Python 3",
   "language": "python",
   "name": "python3"
  },
  "language_info": {
   "codemirror_mode": {
    "name": "ipython",
    "version": 3
   },
   "file_extension": ".py",
   "mimetype": "text/x-python",
   "name": "python",
   "nbconvert_exporter": "python",
   "pygments_lexer": "ipython3",
   "version": "3.7.6"
  }
 },
 "nbformat": 4,
 "nbformat_minor": 4
}
