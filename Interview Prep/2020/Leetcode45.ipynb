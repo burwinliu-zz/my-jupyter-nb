{
 "cells": [
  {
   "cell_type": "markdown",
   "metadata": {},
   "source": [
    "# Leetcode 45\n",
    "## Problem\n",
    "Given an array of non-negative integers, you are initially positioned at the first index of the array.\n",
    "\n",
    "Each element in the array represents your maximum jump length at that position.\n",
    "\n",
    "Your goal is to reach the last index in the minimum number of jumps.\n",
    "## Solution\n",
    "Typical Greedy Approach, take a pointer to act as the stopping point and keep iterating forward until the end is reached -- and if surpassed, just keep iterating through\n",
    "\n",
    "## Analysis:\n",
    "Time: O(N)  \n",
    "Space: O(N)"
   ]
  },
  {
   "cell_type": "code",
   "execution_count": null,
   "metadata": {},
   "outputs": [],
   "source": [
    "class Solution:\n",
    "    def jump(self, nums: List[int]) -> int:\n",
    "        maxLast = 0\n",
    "\n",
    "        store = [math.inf for i in range(len(nums))]\n",
    "        store[0] = 0\n",
    "\n",
    "        for i in range(len(nums)):\n",
    "            if nums[i] + i > maxLast:\n",
    "                for k in range(maxLast, i+nums[i] + 1):\n",
    "                    if k >= len(store):\n",
    "                        break\n",
    "                    store[k] = min(store[i] + 1, store[k])\n",
    "                else:\n",
    "                    maxLast = i + nums[i]\n",
    "        return store[-1]"
   ]
  }
 ],
 "metadata": {
  "kernelspec": {
   "display_name": "Python 3",
   "language": "python",
   "name": "python3"
  },
  "language_info": {
   "codemirror_mode": {
    "name": "ipython",
    "version": 3
   },
   "file_extension": ".py",
   "mimetype": "text/x-python",
   "name": "python",
   "nbconvert_exporter": "python",
   "pygments_lexer": "ipython3",
   "version": "3.7.6"
  }
 },
 "nbformat": 4,
 "nbformat_minor": 4
}
