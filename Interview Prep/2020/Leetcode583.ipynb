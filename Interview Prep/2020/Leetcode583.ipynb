{
 "cells": [
  {
   "cell_type": "markdown",
   "metadata": {},
   "source": [
    "# Leetcode 583\n",
    "## Problem\n",
    "Given two words word1 and word2, find the minimum number of steps required to make word1 and word2 the same, where in each step you can delete one character in either string.\n",
    "## Thoughts\n",
    "This can be thought of in two ways -- find the longest subsequence, or find the number of items to delete to create a common subsequence\n",
    "\n",
    "For the second case, I must think about it carefully to understand the cases\n",
    "\n",
    "## Analysis 1\n",
    "Time: O(N^2)  \n",
    "Space: O(N^2) -> You can make this O(1) by only saving the last 2 points\n",
    "\n",
    "## Analysis 2\n",
    "Time: O(N^2)  \n",
    "Space: O(N^2) -> You can make this O(1) by only saving the last 2 points"
   ]
  },
  {
   "cell_type": "code",
   "execution_count": null,
   "metadata": {},
   "outputs": [],
   "source": [
    "class Solution:\n",
    "    def minDistance(self, word1: str, word2: str) -> int:\n",
    "        memo = [[0 for i in range(len(word2)+1)] for j in range(len(word1) + 1)]\n",
    "        \n",
    "        for i, j in enumerate(word1):\n",
    "            for k, l in enumerate(word2):\n",
    "                if j == l:\n",
    "                    memo[i+1][k+1] = 1+memo[i][k]\n",
    "                else:\n",
    "                    memo[i+1][k+1] = max(memo[i+1][k], memo[i][k+1])\n",
    "                \n",
    "        return (len(word1) - memo[-1][-1]) + (len(word2) - memo[-1][-1])\n",
    "        "
   ]
  },
  {
   "cell_type": "code",
   "execution_count": null,
   "metadata": {},
   "outputs": [],
   "source": [
    "class Solution:\n",
    "    def minDistance(self, word1: str, word2: str) -> int:\n",
    "        memo = [[0 for i in range(len(word2) + 1)] for j in range(len(word1)+1)]\n",
    "        \n",
    "        for i in range(len(word1)+1):\n",
    "            for j in range(len(word2)+1):\n",
    "                if i == 0 or j == 0:\n",
    "                    memo[i][j] = i + j\n",
    "                elif word1[i-1] == word2[j-1]:\n",
    "                    memo[i][j] = memo[i - 1][j - 1]\n",
    "                else:\n",
    "                    memo[i][j] = 1 + min(memo[i - 1][j], memo[i][j - 1])\n",
    "        return memo[-1][-1]\n",
    "        "
   ]
  }
 ],
 "metadata": {
  "kernelspec": {
   "display_name": "Python 3",
   "language": "python",
   "name": "python3"
  },
  "language_info": {
   "codemirror_mode": {
    "name": "ipython",
    "version": 3
   },
   "file_extension": ".py",
   "mimetype": "text/x-python",
   "name": "python",
   "nbconvert_exporter": "python",
   "pygments_lexer": "ipython3",
   "version": "3.7.6"
  }
 },
 "nbformat": 4,
 "nbformat_minor": 4
}
