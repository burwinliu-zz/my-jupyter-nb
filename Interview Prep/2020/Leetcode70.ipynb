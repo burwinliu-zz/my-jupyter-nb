{
 "cells": [
  {
   "cell_type": "markdown",
   "metadata": {},
   "source": [
    "# Leetcode 70\n",
    "You are climbing a stair case. It takes n steps to reach to the top.\n",
    "\n",
    "Each time you can either climb 1 or 2 steps. In how many distinct ways can you climb to the top?"
   ]
  },
  {
   "cell_type": "markdown",
   "metadata": {},
   "source": [
    "# Thoughts \n",
    "Initially, thought it was very easy, then thought it was very easy until the end. I definitely panicked a bit, so I need to breathe and practice more to see my thinking through as I am doing these problems.  \n",
    "\n",
    "Initially, we thought this problem was finding the possible step combinations (number of twos possble and numbers of ones). This would mean we would just find number of ones (n) and keep subtracting twos, incrementing a counter to see the possible combinatations.  \n",
    "\n",
    "However, there were issues with determining this, is we miss the possible iterweaving of things.\n",
    "\n",
    "# Solutions\n",
    "## Solution 1\n",
    "Find combinations at each point and adding to a running total. This works since it finds all possible combinations of the new twos positions among the ones\n",
    "    Time Complexity -- O(N) \n",
    "    Space Complexity -- O(1)\n",
    "    \n",
    "## Solution 2\n",
    "Realize that at each position, you can find the possible combinations at this step by figureing out what you had at S[n-1] and S[n-2] as with that combination of information, one takes the combinations possible at that S[n-1], and adds one (making for one possiblity) and S[n-2] with two steps to (making for another possiblity) and summing the number of combinations at those previous solutions (which we assume to be correct) and forming a total which acts as the total possible combinations to achieve this state. At base, we know 1 has 1 state (solving S[0]) and 1 has 1 state (solving S[1])"
   ]
  },
  {
   "cell_type": "code",
   "execution_count": null,
   "metadata": {},
   "outputs": [],
   "source": [
    "import math\n",
    "\n",
    "class Solution:\n",
    "    def climbStairs(self, n: int) -> int:\n",
    "        count = 0\n",
    "        \n",
    "        num_twos = 0\n",
    "        num_ones = n\n",
    "        while ( num_ones >= 0 ):\n",
    "            count += math.comb(num_twos+ num_ones, num_twos)\n",
    "            num_ones -= 2\n",
    "            num_twos += 1\n",
    "        return count\n",
    "        \n",
    "        "
   ]
  }
 ],
 "metadata": {
  "kernelspec": {
   "display_name": "Python 3",
   "language": "python",
   "name": "python3"
  },
  "language_info": {
   "codemirror_mode": {
    "name": "ipython",
    "version": 3
   },
   "file_extension": ".py",
   "mimetype": "text/x-python",
   "name": "python",
   "nbconvert_exporter": "python",
   "pygments_lexer": "ipython3",
   "version": "3.7.6"
  }
 },
 "nbformat": 4,
 "nbformat_minor": 4
}
