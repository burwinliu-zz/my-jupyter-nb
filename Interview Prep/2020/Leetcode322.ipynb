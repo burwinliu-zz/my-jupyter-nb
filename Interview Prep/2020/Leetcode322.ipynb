{
 "cells": [
  {
   "cell_type": "markdown",
   "metadata": {},
   "source": [
    "# Leetcode 322\n",
    "\n",
    "You are given coins of different denominations and a total amount of money amount. Write a function to compute the fewest number of coins that you need to make up that amount. If that amount of money cannot be made up by any combination of the coins, return -1.\n",
    "\n",
    "# Solution\n",
    "## Solution 1\n",
    "This is Bottom-Up recursion -- from the base case, you build up on preexisting calculations to calculate the final least amount of change towards the end.\n",
    "\n",
    "In essence -- \n",
    " "
   ]
  },
  {
   "cell_type": "raw",
   "metadata": {},
   "source": [
    "let amount be the amount of change to return\n",
    "\n",
    "Determine the minimum amount of coins (0 which would take 0 coins to return). \n",
    "Create a list of -1s to the length of amount needed to be returned [-1, -1, -1, -1] for 4 as the change.  (Let this be the \"memo\" table)\n",
    "Then for the min amount of coins set it to 0 [0, -1, -1, -1]. (min amount is 0th value)\n",
    "Until you reach the end, for each number (let number be \"i\") in the range [0, n] where n is the amount of change to return:\n",
    "    if the memo[i] is not -1 (i.e there is a value calculated for it from prior \"build-ups\")\n",
    "        for each coin value (let this be \"coin\"):\n",
    "            if coin plus current is not greater then the amount and the memo[i + coin] a) is -1 or b) is greater then memo[i] + 1:\n",
    "                asign to memo [i + coin] = memo[i] + 1\n",
    "return the memo table at the current amount\n",
    "(for instance, given current = 0, coins [1, 2], then [0, 1, 1, -1] for one loop. Then [0, 1, 1, 2], then [0, 1, 1, 2] and return 2)"
   ]
  },
  {
   "cell_type": "code",
   "execution_count": null,
   "metadata": {},
   "outputs": [],
   "source": [
    "class Solution:\n",
    "    def coinChange(self, coins: List[int], amount: int) -> int:\n",
    "        coins = sorted(coins)\n",
    "        memo = [-1 for i in range(amount+1)]\n",
    "        memo[0] = 0\n",
    "        \n",
    "        for i in range(amount+1):\n",
    "            current = memo[i]\n",
    "            if current == -1:\n",
    "                continue\n",
    "            for j in coins:\n",
    "                if j+i > amount: \n",
    "                    continue\n",
    "                if memo[j+i] == -1 or current + 1 < memo[j+i]:\n",
    "                    memo[j+i] = current + 1\n",
    "        return memo[amount]\n",
    "            "
   ]
  }
 ],
 "metadata": {
  "kernelspec": {
   "display_name": "Python 3",
   "language": "python",
   "name": "python3"
  },
  "language_info": {
   "codemirror_mode": {
    "name": "ipython",
    "version": 3
   },
   "file_extension": ".py",
   "mimetype": "text/x-python",
   "name": "python",
   "nbconvert_exporter": "python",
   "pygments_lexer": "ipython3",
   "version": "3.7.6"
  }
 },
 "nbformat": 4,
 "nbformat_minor": 4
}
