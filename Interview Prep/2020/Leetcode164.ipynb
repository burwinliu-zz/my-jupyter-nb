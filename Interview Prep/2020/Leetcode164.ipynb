{
 "cells": [
  {
   "cell_type": "markdown",
   "metadata": {},
   "source": [
    "# Leetcode 128\n",
    "## Thoughts\n",
    "Seemed like a sorting problem. However, upon further examinations, the finding largest consecutive gap without sorting seems a bit tricky, requires a bit of examination.\n",
    "\n",
    "\n",
    "## Solution 1\n",
    "Simplest solution, sorting (O(NlogN) time) then parsing through for widest gap (O(N))\n",
    "\n",
    "## Soltion 2\n",
    "By Sorting with a radix or bucket sort, you may diregard the need for O(NlogN) for sorting time, instead using O(N) time. Need to memorize the bucket sort implementation\n",
    " \n",
    "(Due to the nature of radix sorting, requiring to parse through the numbers by length of number is only practical in controlled situations when looking at edge cases -- usually timsort (pythons default sorting) is better)"
   ]
  },
  {
   "cell_type": "code",
   "execution_count": null,
   "metadata": {},
   "outputs": [],
   "source": [
    "class Solution:\n",
    "    def maximumGap(self, nums: List[int]) -> int:\n",
    "        n = sorted(nums)\n",
    "        max_gap = 0\n",
    "        for i, j in enumerate(n):\n",
    "            if i == len(n) - 1:\n",
    "                continue\n",
    "            if abs(n[i+1] - j) > max_gap:\n",
    "                max_gap = abs(n[i+1] - j)\n",
    "        return max_gap\n",
    "        \n",
    "        "
   ]
  },
  {
   "cell_type": "code",
   "execution_count": null,
   "metadata": {},
   "outputs": [],
   "source": [
    "class Solution:\n",
    "    def maximumGap(self, nums: List[int]) -> int:\n",
    "        # Linear time via Radix Sort, instead of sorted (efficient sort)\n",
    "        if len(nums) == 0:\n",
    "            return 0\n",
    "        max_num = max(nums)\n",
    "        current = 1\n",
    "        temp = nums\n",
    "        while int(max_num/current) != 0:\n",
    "            buckets = [list() for i in range(10)]\n",
    "            for i in temp:\n",
    "                buckets[int(i%(10*current)/current)].append(i)\n",
    "            current = current * 10\n",
    "            temp = [i for j in buckets for i in j]\n",
    "        max_gap = 0\n",
    "        for i, j in enumerate(temp):\n",
    "            if i == len(temp) - 1:\n",
    "                continue\n",
    "            if abs(temp[i+1] - j) > max_gap:\n",
    "                max_gap = abs(temp[i+1] - j)\n",
    "        return max_gap\n",
    "        \n",
    "        "
   ]
  }
 ],
 "metadata": {
  "kernelspec": {
   "display_name": "Python 3",
   "language": "python",
   "name": "python3"
  },
  "language_info": {
   "codemirror_mode": {
    "name": "ipython",
    "version": 3
   },
   "file_extension": ".py",
   "mimetype": "text/x-python",
   "name": "python",
   "nbconvert_exporter": "python",
   "pygments_lexer": "ipython3",
   "version": "3.7.6"
  }
 },
 "nbformat": 4,
 "nbformat_minor": 4
}
