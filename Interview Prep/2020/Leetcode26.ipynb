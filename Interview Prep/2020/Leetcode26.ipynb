{
 "cells": [
  {
   "cell_type": "markdown",
   "metadata": {},
   "source": [
    "# Leetcode 26\n",
    "## Problem\n",
    "Given a sorted array nums, remove the duplicates in-place such that each element appear only once and return the new length.\n",
    "\n",
    "Do not allocate extra space for another array, you must do this by modifying the input array in-place with O(1) extra memory.\n",
    "\n",
    "## Solution \n",
    "\n",
    "### Solution 1\n",
    "Two pointers in plcae -- keep checking if equal, when not equal, increment and replace the next number of the first pointer to be the new number. return p_1 if they complete properly.\n",
    "O(N) time O(1) space"
   ]
  },
  {
   "cell_type": "code",
   "execution_count": null,
   "metadata": {},
   "outputs": [],
   "source": [
    "class Solution:\n",
    "    def removeDuplicates(self, nums: List[int]) -> int:\n",
    "        p_1, p_2 = 0, 0\n",
    "        while p_2 < len(nums):\n",
    "            while p_2 < len(nums) and nums[p_2] == nums[p_1]:\n",
    "                p_2 += 1\n",
    "            if p_2 >= len(nums):\n",
    "                return p_1 + 1\n",
    "            p_1 += 1\n",
    "            nums[p_1] = nums[p_2]\n",
    "        return p_1"
   ]
  }
 ],
 "metadata": {
  "kernelspec": {
   "display_name": "Python 3",
   "language": "python",
   "name": "python3"
  },
  "language_info": {
   "codemirror_mode": {
    "name": "ipython",
    "version": 3
   },
   "file_extension": ".py",
   "mimetype": "text/x-python",
   "name": "python",
   "nbconvert_exporter": "python",
   "pygments_lexer": "ipython3",
   "version": "3.7.6"
  }
 },
 "nbformat": 4,
 "nbformat_minor": 4
}
