{
 "cells": [
  {
   "cell_type": "markdown",
   "metadata": {},
   "source": [
    "# Leetcode 1089\n",
    "## Problem\n",
    "Given a fixed length array arr of integers, duplicate each occurrence of zero, shifting the remaining elements to the right.\n",
    "\n",
    "Note that elements beyond the length of the original array are not written.\n",
    "\n",
    "Do the above modifications to the input array in place, do not return anything from your function.\n",
    "## Solution\n",
    "### Thoughts\n",
    "Python with its ability to insert allows for easy insertion. Min O(N) time and O(1) space\n",
    "\n",
    "### Solution 1\n",
    "Taking advantage of insert, insert at each position 0 ad  delete the overflow\\  \n",
    "Time (O(N!))  \n",
    "Space (O(1))  \n",
    "### Solution 2\n",
    "Using movements, shift array at each 0   \n",
    "Time (O(N!))    \n",
    "Space (O(1))  \n",
    "### Solution 3\n",
    "Using a cache, store all things that need to be shifted and remove the need for multiple shifts  \n",
    "Time (O(N))  \n",
    "Space (O(N))  "
   ]
  },
  {
   "cell_type": "code",
   "execution_count": null,
   "metadata": {},
   "outputs": [],
   "source": [
    "def duplicateZeros(self, arr: List[int]) -> None:\n",
    "    \"\"\"\n",
    "    Do not return anything, modify arr in-place instead.\n",
    "    \"\"\"\n",
    "    p = 0\n",
    "    length = len(arr)\n",
    "    while p < length:\n",
    "        if arr[p] == 0:\n",
    "            arr.insert( p, 0 )\n",
    "            p += 1\n",
    "            del arr[-1]\n",
    "        p += 1\n"
   ]
  },
  {
   "cell_type": "code",
   "execution_count": null,
   "metadata": {},
   "outputs": [],
   "source": [
    "def insertZero(self, arr, p):\n",
    "    current = arr[p]\n",
    "    point = p + 1\n",
    "    arr[p] = 0\n",
    "\n",
    "    while point < len(arr):\n",
    "        temp = arr[point]\n",
    "        arr[point] = current\n",
    "        current = temp\n",
    "        point += 1\n",
    "\n",
    "def duplicateZeros(self, arr: List[int]) -> None:\n",
    "    \"\"\"\n",
    "    Do not return anything, modify arr in-place instead.\n",
    "    \"\"\"\n",
    "    p = 0\n",
    "    length = len(arr)\n",
    "    while p < length:\n",
    "        if arr[p] == 0:\n",
    "            p += 1\n",
    "            if p == len(arr):\n",
    "                break\n",
    "            self.insertZero( arr, p )\n",
    "        p += 1\n"
   ]
  },
  {
   "cell_type": "code",
   "execution_count": null,
   "metadata": {},
   "outputs": [],
   "source": [
    "def duplicateZeros(self, arr: List[int]) -> None:\n",
    "    \"\"\"\n",
    "    Do not return anything, modify arr in-place instead.\n",
    "    \"\"\"\n",
    "    p = 0\n",
    "    cache = []\n",
    "\n",
    "    while p < len(arr):\n",
    "        cache.append(arr[p])\n",
    "        if arr[p] == 0:\n",
    "            cache.append(0)\n",
    "\n",
    "        arr[p] = cache.pop(0)\n",
    "        p += 1\n"
   ]
  }
 ],
 "metadata": {
  "kernelspec": {
   "display_name": "Python 3",
   "language": "python",
   "name": "python3"
  },
  "language_info": {
   "codemirror_mode": {
    "name": "ipython",
    "version": 3
   },
   "file_extension": ".py",
   "mimetype": "text/x-python",
   "name": "python",
   "nbconvert_exporter": "python",
   "pygments_lexer": "ipython3",
   "version": "3.7.6"
  }
 },
 "nbformat": 4,
 "nbformat_minor": 4
}
