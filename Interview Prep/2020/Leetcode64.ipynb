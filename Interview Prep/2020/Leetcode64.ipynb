{
 "cells": [
  {
   "cell_type": "markdown",
   "metadata": {},
   "source": [
    "# Leetcode 64\n",
    "## Problem\n",
    "We have two special characters. The first character can be represented by one bit 0. The second character can be represented by two bits (10 or 11).\n",
    "\n",
    "Now given a string represented by several bits. Return whether the last character must be a one-bit character or not. The given string will always end with a zero.\n",
    "## Thoughts\n",
    "Honestly, this is slightly badly worded as a question. However, the essence of the idea is trying to find whether or not the last charect er is part of a 10 string of a valid bit or is a solo object given the contraints that each \"word\" is 10, 11, or 0.\n",
    "## Solution\n",
    "Just merely loop through, and keeping track of position. Since theres only a few valid words and 01 is not a possibility, then therefore you can just keep a single pointer instead of needing to worry about branching. \n",
    "## Analysis\n",
    "Since I am looping over every item in the space and only storing pointers, O(N) time, O(1) space"
   ]
  },
  {
   "cell_type": "raw",
   "metadata": {},
   "source": [
    "class Solution:\n",
    "    def isOneBitCharacter(self, bits: List[int]) -> bool:\n",
    "        point = 0\n",
    "        while point < len(bits):\n",
    "            if bits[point] == 1:\n",
    "                point += 2\n",
    "            elif bits[point] == 0:\n",
    "                if point == len(bits) - 1 :\n",
    "                    return True\n",
    "                point += 1\n",
    "        return False"
   ]
  }
 ],
 "metadata": {
  "kernelspec": {
   "display_name": "Python 3",
   "language": "python",
   "name": "python3"
  },
  "language_info": {
   "codemirror_mode": {
    "name": "ipython",
    "version": 3
   },
   "file_extension": ".py",
   "mimetype": "text/x-python",
   "name": "python",
   "nbconvert_exporter": "python",
   "pygments_lexer": "ipython3",
   "version": "3.7.6"
  }
 },
 "nbformat": 4,
 "nbformat_minor": 4
}
