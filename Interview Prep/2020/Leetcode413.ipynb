{
 "cells": [
  {
   "cell_type": "markdown",
   "metadata": {},
   "source": [
    "# Leetcode 413\n",
    "## Problem\n",
    "A sequence of numbers is called arithmetic if it consists of at least three elements and if the difference between any two consecutive elements is the same.\n",
    "\n",
    "## Thoughts\n",
    "This is a standard sliding window problem, with accumulation to dictate how things will pan out/ number of combinations -- the more accumulated, the more items in the resulting total.\n",
    "\n",
    "## Analysis\n",
    "Time: O(N)  \n",
    "Space: O(1)"
   ]
  },
  {
   "cell_type": "code",
   "execution_count": null,
   "metadata": {},
   "outputs": [],
   "source": [
    "class Solution:\n",
    "    def numberOfArithmeticSlices(self, A: List[int]) -> int:\n",
    "        if len(A) < 3:\n",
    "            return 0\n",
    "        total = 0\n",
    "        diff = (A[1] - A[0])\n",
    "        acum = 1\n",
    "        for i in range(2, len(A)):\n",
    "            if A[i] - diff == A[i-1]:\n",
    "                total += acum\n",
    "                acum += 1\n",
    "            else:\n",
    "                diff = A[i] - A[i-1]\n",
    "                acum = 1\n",
    "        return total"
   ]
  }
 ],
 "metadata": {
  "kernelspec": {
   "display_name": "Python 3",
   "language": "python",
   "name": "python3"
  },
  "language_info": {
   "codemirror_mode": {
    "name": "ipython",
    "version": 3
   },
   "file_extension": ".py",
   "mimetype": "text/x-python",
   "name": "python",
   "nbconvert_exporter": "python",
   "pygments_lexer": "ipython3",
   "version": "3.7.6"
  }
 },
 "nbformat": 4,
 "nbformat_minor": 4
}
