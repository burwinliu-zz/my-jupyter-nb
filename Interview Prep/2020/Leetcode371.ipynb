{
 "cells": [
  {
   "cell_type": "markdown",
   "metadata": {},
   "source": [
    "# Leetcode 371\n",
    "Using binary, add two numbers\n",
    "\n",
    "## Thoughts\n",
    "This is.. definitely something to practice more. I need to realize in Python we are using larger than 32 bit numbers, so mask in order to capture the overflow. By masking with the max number, we engage in twos compl;iments to reverse.\n",
    "\n",
    "## Soulution\n",
    "\n",
    "### Analysis :\n",
    "O ( N ) time   \n",
    "O ( 1 ) Space "
   ]
  },
  {
   "cell_type": "code",
   "execution_count": null,
   "metadata": {},
   "outputs": [],
   "source": [
    "class Solution:\n",
    "    def getSum(self, a: int, b: int) -> int:\n",
    "        mask = 0xffffffff\n",
    "        while(b & mask > 0):\n",
    "            carry = (a & b) << 1\n",
    "            a = a ^ b\n",
    "            b = carry\n",
    "        return (a & mask) if b > 0 else a"
   ]
  }
 ],
 "metadata": {
  "kernelspec": {
   "display_name": "Python 3",
   "language": "python",
   "name": "python3"
  },
  "language_info": {
   "codemirror_mode": {
    "name": "ipython",
    "version": 3
   },
   "file_extension": ".py",
   "mimetype": "text/x-python",
   "name": "python",
   "nbconvert_exporter": "python",
   "pygments_lexer": "ipython3",
   "version": "3.7.6"
  }
 },
 "nbformat": 4,
 "nbformat_minor": 4
}
