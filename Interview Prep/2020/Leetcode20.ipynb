{
 "cells": [
  {
   "cell_type": "markdown",
   "metadata": {},
   "source": [
    "# Leetcode 20\n",
    "\n",
    "## Problem \n",
    "Given a string s containing just the characters '(', ')', '{', '}', '[' and ']', determine if the input string is valid.\n",
    "\n",
    "An input string is valid if:\n",
    "\n",
    "Open brackets must be closed by the same type of brackets.\n",
    "Open brackets must be closed in the correct order.\n",
    " \n",
    "## Thoughts\n",
    "\n",
    "I have grown a bit arrogant -- I let this one pass me by with the edge case of when the stack was empty and if only the bracket opened, and remained unclosed -- I need to think more about the edge cases\n",
    "\n",
    "To improve performance, we could store items in a dict and decrease the number of if else statements\n",
    "\n",
    "Analysis: O(N) time, O(N) Space"
   ]
  },
  {
   "cell_type": "code",
   "execution_count": null,
   "metadata": {},
   "outputs": [],
   "source": [
    "class Solution:\n",
    "    def isValid(self, s: str) -> bool:\n",
    "        stack = []\n",
    "        \n",
    "        for i in s:\n",
    "            if i == \"(\":\n",
    "                stack.append(\")\")\n",
    "            elif i == \"{\":\n",
    "                stack.append(\"}\")\n",
    "            elif i == \"[\":\n",
    "                stack.append(\"]\")\n",
    "            \n",
    "            elif i == \")\":\n",
    "                if len(stack) != 0 and stack[-1] == \")\":\n",
    "                    stack = stack[:-1]\n",
    "                else:\n",
    "                    return False\n",
    "            elif i == \"]\":\n",
    "                if len(stack) != 0 and stack[-1] == \"]\":\n",
    "                    stack = stack[:-1]\n",
    "                else:\n",
    "                    return False\n",
    "            elif i == \"}\":\n",
    "                if len(stack) != 0 and stack[-1] == \"}\":\n",
    "                    stack = stack[:-1]\n",
    "                else:\n",
    "                    return False\n",
    "        return len(stack) == 0"
   ]
  },
  {
   "cell_type": "code",
   "execution_count": null,
   "metadata": {},
   "outputs": [],
   "source": [
    "class Solution:\n",
    "    def isValid(self, s: str) -> bool:\n",
    "        stack = []\n",
    "        openParen = {\n",
    "            \"(\": \")\",\n",
    "            \"{\": \"}\",\n",
    "            \"[\": \"]\"\n",
    "        }\n",
    "        \n",
    "        closeParen = set([\")\",\"}\",\"]\"])\n",
    "        \n",
    "        for i in s:\n",
    "            if i in openParen:\n",
    "                stack.append(openParen[i])\n",
    "            \n",
    "            elif i in closeParen:\n",
    "                if len(stack) != 0 and stack[-1] == i:\n",
    "                    stack = stack[:-1]\n",
    "                else:\n",
    "                    return False\n",
    "        return len(stack) == 0"
   ]
  }
 ],
 "metadata": {
  "kernelspec": {
   "display_name": "Python 3",
   "language": "python",
   "name": "python3"
  },
  "language_info": {
   "codemirror_mode": {
    "name": "ipython",
    "version": 3
   },
   "file_extension": ".py",
   "mimetype": "text/x-python",
   "name": "python",
   "nbconvert_exporter": "python",
   "pygments_lexer": "ipython3",
   "version": "3.7.6"
  }
 },
 "nbformat": 4,
 "nbformat_minor": 4
}
