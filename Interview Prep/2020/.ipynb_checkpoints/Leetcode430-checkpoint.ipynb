{
 "cells": [
  {
   "cell_type": "markdown",
   "metadata": {},
   "source": [
    "# Leetcode 430\n",
    "## Problem\n",
    "You are given a doubly linked list which in addition to the next and previous pointers, it could have a child pointer, which may or may not point to a separate doubly linked list. These child lists may have one or more children of their own, and so on, to produce a multilevel data structure, as shown in the example below.\n",
    "\n",
    "Flatten the list so that all the nodes appear in a single-level, doubly linked list. You are given the head of the first level of the list.\n",
    "\n",
    " \n",
    "## Solution\n",
    "### Solution 1\n",
    "#### Thoughts\n",
    "First off, realizing that child had to be set to None to be a valid doubly linked is important. Overall, the rest of it is just recursion and just being careful to navigate around doubly linked lists \n",
    "#### Analysis\n",
    "Space and Time: O(N) for each item in the doubly linked "
   ]
  },
  {
   "cell_type": "code",
   "execution_count": null,
   "metadata": {},
   "outputs": [],
   "source": [
    "\"\"\"\n",
    "# Definition for a Node.\n",
    "class Node:\n",
    "    def __init__(self, val, prev, next, child):\n",
    "        self.val = val\n",
    "        self.prev = prev\n",
    "        self.next = next\n",
    "        self.child = child\n",
    "\"\"\"\n",
    "\n",
    "def flatten(self, head: 'Node') -> 'Node':\n",
    "    def helper(front, rear, head):\n",
    "\n",
    "        headP = head\n",
    "        trailing = head\n",
    "        if front:\n",
    "            front.next = head\n",
    "            head.prev = front\n",
    "        while headP:\n",
    "            trailing = headP\n",
    "            nextPos = headP.next\n",
    "            if headP and headP.child:\n",
    "                helper(headP, headP.next, headP.child)\n",
    "                headP.child = None\n",
    "            headP = nextPos\n",
    "\n",
    "        if rear:\n",
    "            rear.prev = trailing\n",
    "            trailing.next = rear\n",
    "    helper(None, None, head)\n",
    "    return head\n",
    "        "
   ]
  }
 ],
 "metadata": {
  "kernelspec": {
   "display_name": "Python 3",
   "language": "python",
   "name": "python3"
  },
  "language_info": {
   "codemirror_mode": {
    "name": "ipython",
    "version": 3
   },
   "file_extension": ".py",
   "mimetype": "text/x-python",
   "name": "python",
   "nbconvert_exporter": "python",
   "pygments_lexer": "ipython3",
   "version": "3.7.6"
  }
 },
 "nbformat": 4,
 "nbformat_minor": 4
}
