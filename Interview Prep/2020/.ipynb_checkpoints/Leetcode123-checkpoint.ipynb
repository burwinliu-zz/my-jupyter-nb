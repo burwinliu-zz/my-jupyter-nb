{
 "cells": [
  {
   "cell_type": "markdown",
   "metadata": {},
   "source": [
    "# Leetcode 123\n",
    "## Problem\n",
    "Say you have an array for which the ith element is the price of a given stock on day i.\n",
    "\n",
    "Design an algorithm to find the maximum profit. You may complete at most two transactions.\n",
    "\n",
    "Note: You may not engage in multiple transactions at the same time (i.e., you must sell the stock before you buy again).\n",
    "\n",
    "## Thoughts\n",
    "A great explanation of this problem and the superset of this problem can be found [here](https://www.youtube.com/watch?v=Pw6lrYANjz4)\n",
    "\n",
    "### Solution 1\n",
    "Typical Bruteforce with O(NK) where k == number of transations (2) in this case, and O(NK) space. THis follows the idea that we can build off number of operations, store the information and return the constructed information by finding the current value of information on this many buys and sells, by finding the maximal amount of profiet from some prior sell at some other maximized location and a buy \n",
    "> (-prices[j] + memo[k][operations - 1])   \n",
    "\n",
    "With this in mind, we act to maximize at all locations -- but to prevent N extra work, we store the last maximized score, so we only need to compare against the last item and the prior maximized operations. Finally by adding on the current price, we can find the profit at this current location maximized with this amount of operations.\n",
    "\n",
    "### Solution 2\n",
    "By storing only the last two, we decrease the need for extra ks -- this dramatically improves space time if k was large (which in this case, it was not)  \n",
    "\n",
    "### Solution 3\n",
    "By only storing the last iteration of objects, we are able to save on space from O(NK) into O(1) \n"
   ]
  },
  {
   "cell_type": "code",
   "execution_count": 5,
   "metadata": {},
   "outputs": [],
   "source": [
    "from typing import List\n",
    "\n",
    "class Solution:\n",
    "    def maxProfit(self, prices: List[int]) -> int:\n",
    "        if len(prices) < 2:\n",
    "            return 0\n",
    "        memo = [[0 for i in range(len(prices))] for j in range(3)]\n",
    "        for j in range(1, 3):\n",
    "            record = -prices[1] + memo[0][j-1]\n",
    "            for i in range(1, len(prices)):\n",
    "\n",
    "                record = max(-prices[i-1] + memo[j-1][i-1],\\\n",
    "                                 record)\n",
    "                memo[j][i] = max(record + prices[i], memo[j][i-1])\n",
    "        return memo[-1][-1]"
   ]
  },
  {
   "cell_type": "code",
   "execution_count": null,
   "metadata": {},
   "outputs": [],
   "source": [
    "class Solution:\n",
    "    def maxProfit(self, prices: List[int]) -> int:\n",
    "        if len(prices) < 2:\n",
    "            return 0\n",
    "        memo = [[0 for i in range(len(prices))] for j in range(2)]\n",
    "        for j in range(1, 3):\n",
    "            record = -prices[1] + memo[0][j-1]\n",
    "            for i in range(1, len(prices)):\n",
    "\n",
    "                record = max(-prices[i-1] + memo[0][i-1],\\\n",
    "                                 record)\n",
    "                memo[1][i] = max(record + prices[i], memo[1][i-1])\n",
    "            memo[0] = [i for i in memo[1]]\n",
    "            memo[1][0] = 0\n",
    "        return memo[-1][-1]"
   ]
  },
  {
   "cell_type": "code",
   "execution_count": null,
   "metadata": {},
   "outputs": [],
   "source": [
    "class Solution:\n",
    "    def maxProfit(self, prices: List[int]) -> int:\n",
    "        if len(prices) < 2:\n",
    "            return 0\n",
    "        memo = [0 for j in range(3)]\n",
    "        record = [-prices[1] for i in range(3)]\n",
    "        for i in range(1, len(prices)):\n",
    "            for j in range(2, 0, -1):\n",
    "                record[j] = max(-prices[i-1] + memo[j-1],\\\n",
    "                                 record[j])\n",
    "                memo[j] = max(record[j] + prices[i], memo[j])\n",
    "        return memo[-1]"
   ]
  },
  {
   "cell_type": "markdown",
   "metadata": {},
   "source": [
    "# Solution 4\n",
    "Simple solution attempt, finding maxes and mins locally, in accordance to absolute min. However, fails in some way the item compiles? not sure. must analyze more. Probably the most difficult way to solve, not thinking about it dynamically or in any more clever methods\n",
    "\n",
    "FAIL"
   ]
  },
  {
   "cell_type": "code",
   "execution_count": null,
   "metadata": {},
   "outputs": [],
   "source": [
    "def maxProfit(prices) -> int:\n",
    "    small = 0\n",
    "    profit1, profit2 = -1, -1\n",
    "    bought = False\n",
    "    for i in range(len(prices)-1):\n",
    "        print(small)\n",
    "        if not bought and ((i == 0 and prices[i] < prices[i+1]) or prices[i-1] >= prices[i] <= prices[i+1]):\n",
    "            print(i, prices[i], \"SMALL\")\n",
    "            small = prices[i]\n",
    "            bought = True\n",
    "        if bought and prices[i-1]<prices[i]>prices[i+1]:\n",
    "            print(i, prices[i])\n",
    "            if prices[i] - small > profit1:\n",
    "                if profit1 != -1:\n",
    "                    profit2 = profit1\n",
    "                profit1 = prices[i] - small\n",
    "            elif prices[i] - small > profit2:\n",
    "                profit2 = prices[i] - small\n",
    "            bought = False\n",
    "    if bought:\n",
    "        print(i+1,prices[i+1] - small, profit1, profit2, \"LAST\")\n",
    "        if prices[i+1] - small > profit1:\n",
    "            if profit1 != -1:\n",
    "                profit2 = profit1\n",
    "            profit1 = prices[i+1] - small\n",
    "        elif prices[i+1] - small > profit2:\n",
    "            profit2 = prices[i+1] - small\n",
    "    return profit1+profit2\n",
    "print(\"PROFIT\" ,maxProfit([6,1,3,2,4,7]))"
   ]
  },
  {
   "cell_type": "markdown",
   "metadata": {},
   "source": [
    "# Solution 5\n",
    "Found on discussion board by u/clue and u/jiewustanford.\n",
    "\n",
    "Solution works on going forward finding the max profits in the current range, and in doing so creating a list of profits at that location with min before in the list. Then on second loop through, loop backwards, finding if a new max (via current max and the calculated prices + max_profit of the later items) is greater than the total max, and if so updating it."
   ]
  },
  {
   "cell_type": "code",
   "execution_count": null,
   "metadata": {},
   "outputs": [],
   "source": [
    "def maxProfit(self, prices: List[int]) -> int:\n",
    "        if not prices:\n",
    "            return 0\n",
    "    \n",
    "        # forward traversal, profits record the max profit \n",
    "        # by the ith day, this is the first transaction\n",
    "        profits = []\n",
    "        max_profit = 0\n",
    "        current_min = prices[0]\n",
    "        for price in prices:\n",
    "            max_profit = max(max_profit, price - current_min)\n",
    "            profits.append(max_profit)\n",
    "            current_min = min(current_min, price)\n",
    "\n",
    "        # backward traversal, max_profit records the max profit\n",
    "        # after the ith day, this is the second transaction \n",
    "        total_max = 0    \n",
    "        max_profit = 0\n",
    "        current_max = prices[-1]\n",
    "        for i in range(len(prices) - 1, -1, -1):\n",
    "            current_max = max(current_max, prices[i])\n",
    "            max_profit = max(max_profit, current_max - prices[i])\n",
    "            total_max = max(total_max, max_profit + profits[i])\n",
    "\n",
    "        return total_max"
   ]
  }
 ],
 "metadata": {
  "kernelspec": {
   "display_name": "Python 3",
   "language": "python",
   "name": "python3"
  },
  "language_info": {
   "codemirror_mode": {
    "name": "ipython",
    "version": 3
   },
   "file_extension": ".py",
   "mimetype": "text/x-python",
   "name": "python",
   "nbconvert_exporter": "python",
   "pygments_lexer": "ipython3",
   "version": "3.7.6"
  }
 },
 "nbformat": 4,
 "nbformat_minor": 4
}
