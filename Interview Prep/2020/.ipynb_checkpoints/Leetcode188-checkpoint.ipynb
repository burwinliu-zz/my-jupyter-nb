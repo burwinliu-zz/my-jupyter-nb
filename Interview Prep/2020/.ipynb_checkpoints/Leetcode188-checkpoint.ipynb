{
 "cells": [
  {
   "cell_type": "markdown",
   "metadata": {},
   "source": [
    "# Leetcode 188\n",
    "\n",
    "## Problem\n",
    "Say you have an array for which the i-th element is the price of a given stock on day i.\n",
    "\n",
    "Design an algorithm to find the maximum profit. You may complete at most k transactions.\n",
    "\n",
    "Note:\n",
    "You may not engage in multiple transactions at the same time (ie, you must sell the stock before you buy again).\n",
    "\n",
    "## Thoughts\n",
    "\n",
    "This is a simple extension of [Leetcode 123](Leetcode123.ipynb), by using the same DP strategy, we can create a memo table to construct for however many inputs necessary. If the inputs exceed the threshold of 2\\*k > len(prices), then apply Best time I [Leetcode 121](Leetcode121.ipynb). This [video](https://www.youtube.com/watch?v=Pw6lrYANjz4) is EXTREMELY helpful for understanding this problem\n",
    "\n",
    "In terms of these solutions, we start off with the full table (O(NK)) -> 2 rows(O(N)) -> columns(O(K)) to store."
   ]
  },
  {
   "cell_type": "code",
   "execution_count": null,
   "metadata": {},
   "outputs": [],
   "source": [
    "class Solution:\n",
    "    def maxProfit(self, k:int, prices: List[int]) -> int:\n",
    "        if len(prices) < 2:\n",
    "            return 0\n",
    "        if 2*k > len(prices):\n",
    "            res = 0\n",
    "            for i, j in zip(prices[1:], prices[:-1]):\n",
    "                res += max(0, i - j)\n",
    "            return res\n",
    "        memo = [[0 for i in range(len(prices))] for j in range(k + 1)]\n",
    "        \n",
    "        \n",
    "        for i in range(1, k+1):\n",
    "            record = -math.inf\n",
    "\n",
    "            for j in range(1, len(prices)):\n",
    "                record = max(record, memo[i-1][j-1] - prices[j-1])\n",
    "                memo[i][j] = max(memo[i][j-1], record + prices[j])\n",
    "        return memo[-1][-1]\n",
    "        "
   ]
  },
  {
   "cell_type": "code",
   "execution_count": 6,
   "metadata": {},
   "outputs": [
    {
     "data": {
      "text/plain": [
       "10000"
      ]
     },
     "execution_count": 6,
     "metadata": {},
     "output_type": "execute_result"
    }
   ],
   "source": [
    "class Solution:\n",
    "    def maxProfit(self, k:int, prices: List[int]) -> int:\n",
    "        if len(prices) < 2:\n",
    "            return 0\n",
    "        if 2*k > len(prices):\n",
    "            res = 0\n",
    "            for i in range(1, len(prices)):\n",
    "                res += max(0, prices[i] - prices[i-1])\n",
    "            return res\n",
    "        memo = [[0 for i in range(len(prices))] for j in range(2)]\n",
    "        \n",
    "        \n",
    "        for i in range(1, k+1):\n",
    "            record = -math.inf\n",
    "\n",
    "            for j in range(1, len(prices)):\n",
    "                record = max(record, memo[0][j-1] - prices[j-1])\n",
    "                memo[1][j] = max(memo[1][j-1], record + prices[j])\n",
    "            memo[0] = [i for i in memo[1]]\n",
    "        return memo[-1][-1]\n",
    "        "
   ]
  },
  {
   "cell_type": "code",
   "execution_count": null,
   "metadata": {},
   "outputs": [],
   "source": [
    "class Solution:\n",
    "    def maxProfit(self, k:int, prices: List[int]) -> int:\n",
    "        if len(prices) < 2:\n",
    "            return 0\n",
    "        if 2*k > len(prices):\n",
    "            res = 0\n",
    "            for i, j in zip(prices[1:], prices[:-1]):\n",
    "                res += max(0, i - j)\n",
    "            return res\n",
    "        memo = [[0 for j in range(k + 1)] for i in range(2)]\n",
    "        record = [-math.inf for i in range(k+1)]\n",
    "        \n",
    "        for j in range(1, len(prices)):\n",
    "            for i in range(1, k+1):\n",
    "                record[i] = max(record[i], memo[0][i-1] - prices[j-1])\n",
    "                memo[1][i] = max(memo[1][i], record[i] + prices[j])\n",
    "            memo[0] = [i for i in memo[1]]\n",
    "        return memo[-1][-1]\n",
    "        "
   ]
  }
 ],
 "metadata": {
  "kernelspec": {
   "display_name": "Python 3",
   "language": "python",
   "name": "python3"
  },
  "language_info": {
   "codemirror_mode": {
    "name": "ipython",
    "version": 3
   },
   "file_extension": ".py",
   "mimetype": "text/x-python",
   "name": "python",
   "nbconvert_exporter": "python",
   "pygments_lexer": "ipython3",
   "version": "3.7.6"
  }
 },
 "nbformat": 4,
 "nbformat_minor": 4
}
