{
 "cells": [
  {
   "cell_type": "markdown",
   "metadata": {},
   "source": [
    "# Leetcode 949\n",
    "## Problem\n",
    "Given an array of 4 digits, return the largest 24 hour time that can be made.\n",
    "\n",
    "The smallest 24 hour time is 00:00, and the largest is 23:59.  Starting from 00:00, a time is larger if more time has elapsed since midnight.\n",
    "\n",
    "Return the answer as a string of length 5.  If no valid time can be made, return an empty string.\n",
    "\n",
    "## Thoughts\n",
    "This was not an Easy, not the approach I took anyways. One could say generate all permutes and check all, but at any rate \n",
    "\n",
    "### Analysis:\n",
    "Time: O(N^N)-- each node has n children\n",
    "Space :O(logN) -- the depth of the recurse at max"
   ]
  },
  {
   "cell_type": "code",
   "execution_count": 4,
   "metadata": {},
   "outputs": [
    {
     "data": {
      "text/plain": [
       "['1', '3']"
      ]
     },
     "execution_count": 4,
     "metadata": {},
     "output_type": "execute_result"
    }
   ],
   "source": [
    "class Solution:\n",
    "    def largestTimeFromDigits(self, A: List[int]) -> str:\n",
    "        A = sorted(A, reverse = True)\n",
    "        def isValid(res):\n",
    "            for i in res:\n",
    "                if i < 0:\n",
    "                    return False\n",
    "            if (res[0] == 2 and len(res) > 1 and res[1] > 3) or res[0] > 2:\n",
    "                return False\n",
    "            if (len(res) > 2 and res[2] > 5):\n",
    "                return False\n",
    "            return True\n",
    "        \n",
    "        def backtrack(A, res):\n",
    "            if len(A) == 0:\n",
    "                return res\n",
    "            maxTime = None\n",
    "            for i, j in enumerate(A):\n",
    "                res2 = [i for i in res]\n",
    "                res2.append(j)\n",
    "                if isValid(res2):\n",
    "                    temp = backtrack([A[k] for k in range(len(A)) if k != i], res2)\n",
    "                    if temp is not None:\n",
    "                        return temp\n",
    "\n",
    "            return maxTime\n",
    "            \n",
    "        res = backtrack(A, [])\n",
    "        \n",
    "        if res is None:\n",
    "            return \"\"\n",
    "        return f\"{res[0]}{res[1]}:{res[2]}{res[3]}\"\n",
    "            \n",
    "        "
   ]
  }
 ],
 "metadata": {
  "kernelspec": {
   "display_name": "Python 3",
   "language": "python",
   "name": "python3"
  },
  "language_info": {
   "codemirror_mode": {
    "name": "ipython",
    "version": 3
   },
   "file_extension": ".py",
   "mimetype": "text/x-python",
   "name": "python",
   "nbconvert_exporter": "python",
   "pygments_lexer": "ipython3",
   "version": "3.7.6"
  }
 },
 "nbformat": 4,
 "nbformat_minor": 4
}
