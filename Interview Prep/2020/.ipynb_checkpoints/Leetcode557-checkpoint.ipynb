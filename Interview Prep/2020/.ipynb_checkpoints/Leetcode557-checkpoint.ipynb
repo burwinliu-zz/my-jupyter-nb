{
 "cells": [
  {
   "cell_type": "markdown",
   "metadata": {},
   "source": [
    "# Leetcode 557\n",
    "## Problem\n",
    "Given a string, you need to reverse the order of characters in each word within a sentence while still preserving whitespace and initial word order.\n",
    "## Solution\n",
    "### Solution 1\n",
    "Take the items split and then reverse them as you iterate through using two pointers for reversing."
   ]
  },
  {
   "cell_type": "code",
   "execution_count": null,
   "metadata": {},
   "outputs": [],
   "source": [
    "class Solution:\n",
    "    def reverseWords(self, s: str) -> str:\n",
    "        def reverseWord(s_in: str):\n",
    "            s_in = list(s_in)\n",
    "            p_1, p_2 = 0, len(s_in) - 1\n",
    "            while(p_1 < p_2):\n",
    "                temp = s_in[p_1]\n",
    "                s_in[p_1] = s_in[p_2]\n",
    "                s_in[p_2] = temp\n",
    "                p_1 += 1\n",
    "                p_2 -= 1\n",
    "            return \"\".join(s_in)\n",
    "        item = s.split(' ')\n",
    "        point = 0\n",
    "        while point < len(item):\n",
    "            item[point] = reverseWord(item[point])\n",
    "            point += 1\n",
    "        return \" \".join(item)"
   ]
  }
 ],
 "metadata": {
  "kernelspec": {
   "display_name": "Python 3",
   "language": "python",
   "name": "python3"
  },
  "language_info": {
   "codemirror_mode": {
    "name": "ipython",
    "version": 3
   },
   "file_extension": ".py",
   "mimetype": "text/x-python",
   "name": "python",
   "nbconvert_exporter": "python",
   "pygments_lexer": "ipython3",
   "version": "3.7.6"
  }
 },
 "nbformat": 4,
 "nbformat_minor": 4
}
