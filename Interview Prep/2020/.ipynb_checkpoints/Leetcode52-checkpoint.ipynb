{
 "cells": [
  {
   "cell_type": "markdown",
   "metadata": {},
   "source": [
    "# Leetcode 52\n",
    "## Problem\n",
    "The n-queens puzzle is the problem of placing n queens on an n×n chessboard such that no two queens attack each other.\n",
    "## Solution\n",
    "This was a basic backtracking (Count *ALL* possible placements of N queens), so therefore take all N combinations and return.\n",
    "\n",
    "Time: O(N^N) (An easy improvement is only passing POSSIBLE items, and disclude not possible items from the set to check each iteration)  \n",
    "Space: O(N)"
   ]
  },
  {
   "cell_type": "code",
   "execution_count": null,
   "metadata": {},
   "outputs": [],
   "source": [
    "class Solution:\n",
    "    def totalNQueens(self, n: int) -> int:\n",
    "        count = 0\n",
    "        \n",
    "        queens = set()\n",
    "        \n",
    "        def is_not_under_attack(row, col):\n",
    "            for i in queens:\n",
    "                if i[0] == row or i[1] == col:\n",
    "                    return False\n",
    "                if abs(row - i[0]) == abs(col-i[1]):\n",
    "                    return False\n",
    "            return True\n",
    "        \n",
    "        def backtrack_nqueen(row = 0, count = 0):\n",
    "            for col in range(n):\n",
    "                # iterate through columns at the curent row.\n",
    "                if is_not_under_attack(row, col):\n",
    "                    # explore this partial candidate solution, and mark the attacking zone\n",
    "                    queens.add((row, col))\n",
    "                    if row + 1 == n:\n",
    "                        # we reach the bottom, i.e. we find a solution!\n",
    "                        count += 1\n",
    "                    else:\n",
    "                        # we move on to the next row\n",
    "                        count = backtrack_nqueen(row + 1, count)\n",
    "                    # backtrack, i.e. remove the queen and remove the attacking zone.\n",
    "                    queens.remove((row, col))\n",
    "            return count\n",
    "        return backtrack_nqueen()"
   ]
  }
 ],
 "metadata": {
  "kernelspec": {
   "display_name": "Python 3",
   "language": "python",
   "name": "python3"
  },
  "language_info": {
   "codemirror_mode": {
    "name": "ipython",
    "version": 3
   },
   "file_extension": ".py",
   "mimetype": "text/x-python",
   "name": "python",
   "nbconvert_exporter": "python",
   "pygments_lexer": "ipython3",
   "version": "3.7.6"
  }
 },
 "nbformat": 4,
 "nbformat_minor": 4
}
