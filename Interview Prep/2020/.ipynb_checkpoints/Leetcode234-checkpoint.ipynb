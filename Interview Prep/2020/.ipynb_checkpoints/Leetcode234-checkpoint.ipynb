{
 "cells": [
  {
   "cell_type": "markdown",
   "metadata": {},
   "source": [
    "# Leetcode 234\n",
    "Given a singly linked list, determine if it is a palindrome.\n",
    "\n",
    "# Solution\n",
    "After finding the midpoint, reverse the last half and then compare it with the front.To find the last half, use a running 2 pointer to get to the mid point when the last pointer hits the end. Then use reverse (temp = head.next.next; head.next.next = point; point = head.next; head.next = temp) and compare both halves against each other"
   ]
  },
  {
   "cell_type": "code",
   "execution_count": null,
   "metadata": {},
   "outputs": [],
   "source": [
    "# Definition for singly-linked list.\n",
    "# class ListNode:\n",
    "#     def __init__(self, val=0, next=None):\n",
    "#         self.val = val\n",
    "#         self.next = next\n",
    "class Solution:\n",
    "    def isPalindrome(self, head: ListNode) -> bool:\n",
    "        fast = slow = head\n",
    "        while fast and fast.next:\n",
    "            fast = fast.next.next\n",
    "            slow = slow.next\n",
    "        # Slow is middle point\n",
    "        headSlow = slow\n",
    "        while slow and slow.next:\n",
    "            temp = slow.next.next\n",
    "            slow.next.next = headSlow\n",
    "            headSlow = slow.next\n",
    "            slow.next = temp\n",
    "        while head and headSlow:\n",
    "            if head.val != headSlow.val:\n",
    "                return False\n",
    "            head = head.next\n",
    "            headSlow = headSlow.next\n",
    "        return True"
   ]
  }
 ],
 "metadata": {
  "kernelspec": {
   "display_name": "Python 3",
   "language": "python",
   "name": "python3"
  },
  "language_info": {
   "codemirror_mode": {
    "name": "ipython",
    "version": 3
   },
   "file_extension": ".py",
   "mimetype": "text/x-python",
   "name": "python",
   "nbconvert_exporter": "python",
   "pygments_lexer": "ipython3",
   "version": "3.7.6"
  }
 },
 "nbformat": 4,
 "nbformat_minor": 4
}
