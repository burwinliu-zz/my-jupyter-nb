{
 "cells": [
  {
   "cell_type": "markdown",
   "metadata": {},
   "source": [
    "# Leetcode 808\n",
    "## Problem\n",
    "There are two types of soup: type A and type B. Initially we have N ml of each type of soup. There are four kinds of operations:\n",
    "\n",
    "Serve 100 ml of soup A and 0 ml of soup B\n",
    "Serve 75 ml of soup A and 25 ml of soup B\n",
    "Serve 50 ml of soup A and 50 ml of soup B\n",
    "Serve 25 ml of soup A and 75 ml of soup B\n",
    "When we serve some soup, we give it to someone and we no longer have it.  Each turn, we will choose from the four operations with equal probability 0.25. If the remaining volume of soup is not enough to complete the operation, we will serve as much as we can.  We stop once we no longer have some quantity of both types of soup.\n",
    "\n",
    "Note that we do not have the operation where all 100 ml's of soup B are used first.  \n",
    "\n",
    "Return the probability that soup A will be empty first, plus half the probability that A and B become empty at the same time.\n",
    "\n",
    "## Thoughts\n",
    "\n",
    "The wording on this problem was initially very confusing, but realizign that this was merely a probability tree made it a lot easier -- then it just became a matter of dynamic programming.\n",
    "\n",
    "### Approach 1/2 (Memoization/Memo with Optimization)\n",
    "\n",
    "Pretty standard top down recursion. Base case of when one is zero and the other is not then resturn 1 for A, 0 for B and .5 if both are 0.\n",
    "\n",
    "### Approach 3 (DP)\n",
    "Bottom Up -- standard approach. Realize initialization while looping may destroy your init state ***\n",
    "\n",
    "### Analysis (FOR ALL)\n",
    "\n",
    "Time: O(N^2) Time (For all comob of soups)   \n",
    "Space: O(N^2) Space for all combo of soup"
   ]
  },
  {
   "cell_type": "code",
   "execution_count": null,
   "metadata": {},
   "outputs": [],
   "source": [
    "import math\n",
    "\n",
    "class Solution:\n",
    "    def soupServings(self, N: int) -> float:\n",
    "        memo = {}\n",
    "        if N >= 15000:\n",
    "            return 1.0\n",
    "        def helper(A: int, B: int):\n",
    "            if A <= 0 and B <= 0:\n",
    "                return .5\n",
    "            elif A <= 0:\n",
    "                return 1\n",
    "            elif B <= 0:\n",
    "                return 0\n",
    "            if (A, B) in memo:\n",
    "                return memo[(A, B)]\n",
    "            res = .25*(helper(A - 100, B) + helper(A-75, B-25) + helper(A-50, B-50) + helper(A-25, B-75))\n",
    "            \n",
    "            memo[(A, B)] = res\n",
    "            return res\n",
    "        return helper(N, N)"
   ]
  },
  {
   "cell_type": "code",
   "execution_count": null,
   "metadata": {},
   "outputs": [],
   "source": [
    "import math\n",
    "\n",
    "class Solution:\n",
    "    def soupServings(self, N: int) -> float:\n",
    "        \n",
    "        if N >= 15000:\n",
    "            return 1.0\n",
    "        \n",
    "        num = math.ceil(N/25)\n",
    "        memo = [[-1]*(num+1) for i in range(num+1)]\n",
    "        def helper(A: int, B: int):\n",
    "            if A <= 0 and B <= 0:\n",
    "                return .5\n",
    "            elif A <= 0:\n",
    "                return 1\n",
    "            elif B <= 0:\n",
    "                return 0\n",
    "            if memo[A][B] != -1:\n",
    "                return memo[A][B]\n",
    "            res = .25*(helper(A - 4, B) + helper(A-3, B-1) + helper(A-2, B-2) + helper(A-1, B-3))\n",
    "            \n",
    "            memo[A][B] = res\n",
    "            return res\n",
    "        return helper(num, num)"
   ]
  },
  {
   "cell_type": "code",
   "execution_count": null,
   "metadata": {},
   "outputs": [],
   "source": [
    "import math\n",
    "\n",
    "class Solution:\n",
    "    def soupServings(self, N: int) -> float:\n",
    "        \n",
    "        if N >= 15000:\n",
    "            return 1.0\n",
    "        \n",
    "        num = math.ceil(N/25)\n",
    "        memo = [[1]*(num+1) for i in range(num+1)]\n",
    "        \n",
    "        memo[0][0] = .5\n",
    "        for i in range(1, num+1):\n",
    "            memo[i][0] = 0\n",
    "\n",
    "            for j in range(1, num+1):\n",
    "                memo[i][j] = .25*(memo[max(i - 4, 0)][j]\\\n",
    "                                  + memo[max(i - 3, 0)][max(j-1, 0)]\\\n",
    "                                  + memo[max(i - 2, 0)][max(j-2, 0)]\\\n",
    "                                  + memo[max(i - 1, 0)][max(j-3, 0)])\n",
    "        return memo[-1][-1]"
   ]
  },
  {
   "cell_type": "code",
   "execution_count": null,
   "metadata": {},
   "outputs": [],
   "source": []
  }
 ],
 "metadata": {
  "kernelspec": {
   "display_name": "Python 3",
   "language": "python",
   "name": "python3"
  },
  "language_info": {
   "codemirror_mode": {
    "name": "ipython",
    "version": 3
   },
   "file_extension": ".py",
   "mimetype": "text/x-python",
   "name": "python",
   "nbconvert_exporter": "python",
   "pygments_lexer": "ipython3",
   "version": "3.7.6"
  }
 },
 "nbformat": 4,
 "nbformat_minor": 4
}
