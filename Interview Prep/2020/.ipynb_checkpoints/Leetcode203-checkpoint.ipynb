{
 "cells": [
  {
   "cell_type": "markdown",
   "metadata": {},
   "source": [
    "# Leetcode 203\n",
    "# Problem\n",
    "Delete a given element\n",
    "# Thoughts\n",
    "As you iterate through, if you see an element ahead (can not be current as you can not delete without another pointer to element trailing) then deem next to be that next, and check again until end of list -- classic probelm\n",
    "\n",
    "# Solutions\n",
    "As outlined above.\n",
    "This is an O(N) solution with O(1) space"
   ]
  },
  {
   "cell_type": "code",
   "execution_count": null,
   "metadata": {},
   "outputs": [],
   "source": [
    "# Definition for singly-linked list.\n",
    "# class ListNode:\n",
    "#     def __init__(self, val=0, next=None):\n",
    "#         self.val = val\n",
    "#         self.next = next\n",
    "class Solution:\n",
    "    def removeElements(self, head: ListNode, val: int) -> ListNode:\n",
    "        while head is not None and head.val == val:\n",
    "            head = head.next\n",
    "            continue\n",
    "        pointer = head\n",
    "        while pointer is not None and pointer.next is not None:\n",
    "            if pointer.next.val == val:\n",
    "                pointer.next = pointer.next.next\n",
    "                continue \n",
    "            pointer = pointer.next\n",
    "        return head\n",
    "        "
   ]
  }
 ],
 "metadata": {
  "kernelspec": {
   "display_name": "Python 3",
   "language": "python",
   "name": "python3"
  },
  "language_info": {
   "codemirror_mode": {
    "name": "ipython",
    "version": 3
   },
   "file_extension": ".py",
   "mimetype": "text/x-python",
   "name": "python",
   "nbconvert_exporter": "python",
   "pygments_lexer": "ipython3",
   "version": "3.7.6"
  }
 },
 "nbformat": 4,
 "nbformat_minor": 4
}
