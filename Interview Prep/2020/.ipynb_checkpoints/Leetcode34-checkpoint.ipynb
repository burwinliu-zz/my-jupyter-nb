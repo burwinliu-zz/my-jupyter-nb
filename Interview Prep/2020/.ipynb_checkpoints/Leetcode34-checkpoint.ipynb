{
 "cells": [
  {
   "cell_type": "markdown",
   "metadata": {},
   "source": [
    "# Leetcode 34\n",
    "## Problem\n",
    "Given an array of integers nums sorted in ascending order, find the starting and ending position of a given target value.\n",
    "\n",
    "Your algorithm's runtime complexity must be in the order of O(log n).\n",
    "\n",
    "If the target is not found in the array, return [-1, -1].\n",
    "\n",
    "## Thoughts\n",
    "This was a typical BS algorithm (binary search). I needed to realize how to right adjust things (+1 to mid) to solve (had to search), and then in that case find the right end of the range. Overall, good qs, just need more practice\n",
    "\n",
    "## Analysis\n",
    "Time: O(logN)  \n",
    "Space: O(1)"
   ]
  },
  {
   "cell_type": "code",
   "execution_count": null,
   "metadata": {},
   "outputs": [],
   "source": [
    "class Solution:\n",
    "    def searchRange(self, nums: List[int], target: int) -> List[int]:\n",
    "        left = 0\n",
    "        right = len(nums) - 1\n",
    "        res = [-1, -1]\n",
    "        while left < right:\n",
    "            mid = (right - left)//2 + left\n",
    "            \n",
    "            if nums[mid] < target:\n",
    "                left = mid + 1\n",
    "            else:\n",
    "                right = mid\n",
    "        if len(nums) == 0 or nums[left] != target:\n",
    "            return [-1, -1]\n",
    "        res[0] = left\n",
    "        \n",
    "        left = 0 \n",
    "        right = len(nums) - 1\n",
    "        while left < right:\n",
    "            mid = (right - left)//2 + left + 1\n",
    "\n",
    "            if nums[mid] > target:\n",
    "                right = mid - 1\n",
    "            else:\n",
    "                left = mid\n",
    "        res[1] = right\n",
    "        return res"
   ]
  }
 ],
 "metadata": {
  "kernelspec": {
   "display_name": "Python 3",
   "language": "python",
   "name": "python3"
  },
  "language_info": {
   "codemirror_mode": {
    "name": "ipython",
    "version": 3
   },
   "file_extension": ".py",
   "mimetype": "text/x-python",
   "name": "python",
   "nbconvert_exporter": "python",
   "pygments_lexer": "ipython3",
   "version": "3.7.6"
  }
 },
 "nbformat": 4,
 "nbformat_minor": 4
}
