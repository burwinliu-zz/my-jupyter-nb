{
 "cells": [
  {
   "cell_type": "markdown",
   "metadata": {},
   "source": [
    "# Leetcode 189\n",
    "Given an array, rotate the array to the right by k steps, where k is non-negative.\n",
    "\n",
    "Follow up:\n",
    "\n",
    "* Try to come up as many solutions as you can, there are at least 3 different ways to solve this problem.\n",
    "* Could you do it in-place with O(1) extra space?\n",
    "\n",
    "# Solution 1\n",
    "\n",
    "In place, O(N) time and O(1) space -- use rotation as some clever movement to rotate the whole array -- by subdividing the array into the \"beginning\" section that would  be rotated to the end, and the \"ending\" section that would move to the beginning, we can rotate them into a position that would be reversed of the final, then move into final.\n"
   ]
  },
  {
   "cell_type": "code",
   "execution_count": null,
   "metadata": {},
   "outputs": [],
   "source": [
    "class Solution:\n",
    "    def rotate(self, nums: List[int], k: int) -> None:\n",
    "        \"\"\"\n",
    "        Do not return anything, modify nums in-place instead.\n",
    "        \"\"\"\n",
    "        k = k%len(nums)\n",
    "        def rotate(nums, start, end):\n",
    "            while start < end:\n",
    "                temp = nums[start]\n",
    "                nums[start] = nums[end]\n",
    "                nums[end] = temp\n",
    "                start += 1\n",
    "                end -= 1\n",
    "        rotate(nums, 0, (len(nums)-1)-k)\n",
    "        rotate(nums, len(nums)-k, len(nums)-1)\n",
    "        rotate(nums, 0, len(nums)-1)"
   ]
  }
 ],
 "metadata": {
  "kernelspec": {
   "display_name": "Python 3",
   "language": "python",
   "name": "python3"
  },
  "language_info": {
   "codemirror_mode": {
    "name": "ipython",
    "version": 3
   },
   "file_extension": ".py",
   "mimetype": "text/x-python",
   "name": "python",
   "nbconvert_exporter": "python",
   "pygments_lexer": "ipython3",
   "version": "3.7.6"
  }
 },
 "nbformat": 4,
 "nbformat_minor": 4
}
