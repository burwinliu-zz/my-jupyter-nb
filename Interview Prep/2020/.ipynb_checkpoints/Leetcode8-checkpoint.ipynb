{
 "cells": [
  {
   "cell_type": "markdown",
   "metadata": {},
   "source": [
    "# Leetcode 8\n",
    "Implement atoi which converts a string to an integer.\n",
    "\n",
    "The function first discards as many whitespace characters as necessary until the first non-whitespace character is found. Then, starting from this character, takes an optional initial plus or minus sign followed by as many numerical digits as possible, and interprets them as a numerical value.\n",
    "\n",
    "# Solution\n",
    "## Solution 1\n",
    "### Thoughts\n",
    "\n",
    "Honestly, it was just a bunch of is else statements and using the int casting available within Python. I could manage to convert the element (backwards i[-1] * 1 + i[-2] * 1* 10^1... etc.) but no point. Ultimately, a practice of test cases.\n",
    "\n",
    "Time: O(N)\n",
    "Space: O(N)"
   ]
  },
  {
   "cell_type": "code",
   "execution_count": null,
   "metadata": {},
   "outputs": [],
   "source": [
    "class Solution:\n",
    "    def myAtoi(self, str: str) -> int:\n",
    "        number = {\"0\", \"1\", \"2\", \"3\", \"4\", \"5\", \"6\", \"7\", \"8\",\"9\"}\n",
    "\n",
    "        sign = 0\n",
    "        to_convert = \"\"\n",
    "        \n",
    "        for i in str:\n",
    "            if sign == 0:\n",
    "                if i != ' ':\n",
    "                    if i == \"-\":\n",
    "                        sign = -1\n",
    "                    elif i == '+':\n",
    "                        sign = 1\n",
    "                    elif i in number:\n",
    "                        sign = 1\n",
    "                        to_convert += i\n",
    "                    else:\n",
    "                        return 0\n",
    "            elif i in number:\n",
    "                to_convert += i\n",
    "            else:\n",
    "                break\n",
    "        if to_convert == \"\":\n",
    "            to_convert = \"0\"\n",
    "        if sign == 1 and int(to_convert) > 2**31 - 1:\n",
    "            return 2**31 - 1\n",
    "        if sign == -1 and int(to_convert) > 2**31:\n",
    "            return -2**31\n",
    "        return int(to_convert)*sign"
   ]
  }
 ],
 "metadata": {
  "kernelspec": {
   "display_name": "Python 3",
   "language": "python",
   "name": "python3"
  },
  "language_info": {
   "codemirror_mode": {
    "name": "ipython",
    "version": 3
   },
   "file_extension": ".py",
   "mimetype": "text/x-python",
   "name": "python",
   "nbconvert_exporter": "python",
   "pygments_lexer": "ipython3",
   "version": "3.7.6"
  }
 },
 "nbformat": 4,
 "nbformat_minor": 4
}
