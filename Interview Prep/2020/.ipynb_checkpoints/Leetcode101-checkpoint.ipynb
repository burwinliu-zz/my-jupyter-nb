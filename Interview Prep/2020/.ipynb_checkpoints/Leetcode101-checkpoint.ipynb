{
 "cells": [
  {
   "cell_type": "markdown",
   "metadata": {},
   "source": [
    "# Leetcode 101\n",
    "## Problem\n",
    "Determine if a given tree is symettric (I.E, mirrored structure, where the left hand side == right hand side inverted)\n",
    "## Thoughts\n",
    "\n",
    "Basic tree algorithm -- solution 1 is HIGHLY convoluted trying to find structure via storing in a 2d list -- solution 2 is the better recursive solution which may easily be converted via a queue. \n",
    "\n",
    "## Analysis:\n",
    "Of 1 -> Time: O(N), Space: O(N)  \n",
    "Of 2 -> Time: O(logN) space: O(logN)"
   ]
  },
  {
   "cell_type": "code",
   "execution_count": null,
   "metadata": {},
   "outputs": [],
   "source": [
    "# Definition for a binary tree node.\n",
    "# class TreeNode:\n",
    "#     def __init__(self, val=0, left=None, right=None):\n",
    "#         self.val = val\n",
    "#         self.left = left\n",
    "#         self.right = right\n",
    "class Solution:\n",
    "    def isSymmetric(self, root: TreeNode) -> bool:\n",
    "        record = []\n",
    "        point = 0\n",
    "        def helper(root, left, depth, pos):\n",
    "            if left:\n",
    "                if depth == len(record):\n",
    "                    record.append([None for i in range(2**depth)])\n",
    "                if root is None:\n",
    "                    return True\n",
    "                record[depth][pos] = root.val\n",
    "            else:\n",
    "                if root is None:\n",
    "                    return record[depth][-(pos+1)] == root\n",
    "                if record[depth][-(pos+1)] != root.val:\n",
    "                    return False\n",
    "            return helper(root.left, left, depth + 1, 2*pos) and helper(root.right, left, depth + 1, 2*pos+1)\n",
    "        if root is None:\n",
    "            return True\n",
    "        return helper(root.left, True, 0, 0) and helper(root.right, False, 0, 0)"
   ]
  },
  {
   "cell_type": "code",
   "execution_count": null,
   "metadata": {},
   "outputs": [],
   "source": [
    "# Definition for a binary tree node.\n",
    "# class TreeNode:\n",
    "#     def __init__(self, val=0, left=None, right=None):\n",
    "#         self.val = val\n",
    "#         self.left = left\n",
    "#         self.right = right\n",
    "class Solution:\n",
    "    def isSymmetric(self, root: TreeNode) -> bool:\n",
    "        record = []\n",
    "        point = 0\n",
    "        def helper(t1, t2):\n",
    "            if (t1 is None and t2 is None):\n",
    "                return True\n",
    "            if (t1 is None or t2 is None):\n",
    "                return False\n",
    "            return (t1.val == t2.val) and helper(t1.right, t2.left) and helper(t1.left, t2.right)\n",
    "        if root is None:\n",
    "            return True\n",
    "        return helper(root.left, root.right)"
   ]
  }
 ],
 "metadata": {
  "kernelspec": {
   "display_name": "Python 3",
   "language": "python",
   "name": "python3"
  },
  "language_info": {
   "codemirror_mode": {
    "name": "ipython",
    "version": 3
   },
   "file_extension": ".py",
   "mimetype": "text/x-python",
   "name": "python",
   "nbconvert_exporter": "python",
   "pygments_lexer": "ipython3",
   "version": "3.7.6"
  }
 },
 "nbformat": 4,
 "nbformat_minor": 4
}
