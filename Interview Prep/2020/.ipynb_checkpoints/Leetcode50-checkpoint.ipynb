{
 "cells": [
  {
   "cell_type": "markdown",
   "metadata": {},
   "source": [
    "# Leetcode 50\n",
    "## Problem\n",
    "Implement pow(x, n), which calculates x raised to the power n (x^n).\n",
    "\n",
    "## Solution\n",
    "### Solution 1\n",
    "#### Summary\n",
    "Typical binary recursion implementation, taking the item and multiplying itself to half the amount of work and get the power.\n",
    "\n",
    "#### Analysis\n",
    "Time: O(log N)\n",
    "Space: O(log N) due to recursion\n",
    "\n",
    "### Solution 2\n",
    "#### Summary\n",
    "Typical binary recursion implementation, taking the item and multiplying itself to half the amount of work and get the power. Implement Solution 1 iteratively\n",
    "\n",
    "#### Analysis\n",
    "Time: O(log N)\n",
    "Space: O(1) due to iteration"
   ]
  },
  {
   "cell_type": "code",
   "execution_count": null,
   "metadata": {},
   "outputs": [],
   "source": [
    "class Solution:\n",
    "    def myPow(self, x: float, n: int) -> float:\n",
    "        if n == 0:\n",
    "            return 1\n",
    "        def helper(x, n, total):\n",
    "            if n == 1:\n",
    "                return x\n",
    "            else:\n",
    "                if n % 2 == 0:\n",
    "                    return helper(x*x, int(n/2))\n",
    "                return helper(x*x, int(n/2)) * x\n",
    "        if n < 0:\n",
    "            return 1/helper(x, -(n))\n",
    "        return helper(x, (n))"
   ]
  },
  {
   "cell_type": "code",
   "execution_count": null,
   "metadata": {},
   "outputs": [],
   "source": [
    "class Solution:\n",
    "    def myPow(self, x: float, n: int) -> float:\n",
    "        if n == 0:\n",
    "            return 1\n",
    "        if n < 0:\n",
    "            return 1/Solution().myPow(x, -(n))\n",
    "        res = 1\n",
    "        while (n > 0): \n",
    "            if ((n%2) == 1) : \n",
    "                res = res * x \n",
    "            n = int(n/2)\n",
    "            x = x * x \n",
    "\n",
    "        return res \n",
    "        "
   ]
  }
 ],
 "metadata": {
  "kernelspec": {
   "display_name": "Python 3",
   "language": "python",
   "name": "python3"
  },
  "language_info": {
   "codemirror_mode": {
    "name": "ipython",
    "version": 3
   },
   "file_extension": ".py",
   "mimetype": "text/x-python",
   "name": "python",
   "nbconvert_exporter": "python",
   "pygments_lexer": "ipython3",
   "version": "3.7.6"
  }
 },
 "nbformat": 4,
 "nbformat_minor": 4
}
