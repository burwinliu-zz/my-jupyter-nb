{
 "cells": [
  {
   "cell_type": "markdown",
   "metadata": {},
   "source": [
    "# Leetcode 198\n",
    "## Problem\n",
    "You are a professional robber planning to rob houses along a street. Each house has a certain amount of money stashed, the only constraint stopping you from robbing each of them is that adjacent houses have security system connected and it will automatically contact the police if two adjacent houses were broken into on the same night.\n",
    "\n",
    "Given a list of non-negative integers representing the amount of money of each house, determine the maximum amount of money you can rob tonight without alerting the police.\n",
    "\n",
    "## Thoughts\n",
    "This is a basic DP problem -- I over thought of it, but with the last two items, we can construct the next item, no more is needed. Not a very complex problem\n",
    "\n",
    "### Analysis 1\n",
    "Time: O(N^2)  \n",
    "Space: O(N^2)\n",
    "\n",
    "Using too much space, only O(N) is needed\n",
    "\n",
    "### Analysis 2\n",
    "Time: O(N)  \n",
    "Space: O(N)\n",
    "\n",
    "### Analysis 3\n",
    "Time: O(N)  \n",
    "Space: O(1)"
   ]
  },
  {
   "cell_type": "code",
   "execution_count": null,
   "metadata": {},
   "outputs": [],
   "source": [
    "class Solution:\n",
    "    def rob(self, nums: List[int]) -> int:\n",
    "        if len(nums) == 0:\n",
    "            return 0\n",
    "        \n",
    "        memo = [[0 for i in range(len(nums))] for j in range(len(nums))]\n",
    "        memo[0][0] = nums[0]\n",
    "        for i in range(1, len(nums)):\n",
    "            for j in range(i+1):\n",
    "                if j < 2:\n",
    "                    memo[i][j] = max(memo[i-1][j-1], nums[j])\n",
    "                else:\n",
    "                    memo[i][j] = max(memo[i-1][j-1], memo[i-1][j-2] +nums[j])\n",
    "        return memo[-1][-1]\n",
    "        "
   ]
  },
  {
   "cell_type": "code",
   "execution_count": null,
   "metadata": {},
   "outputs": [],
   "source": [
    "class Solution:\n",
    "    def rob(self, nums: List[int]) -> int:\n",
    "        if len(nums) == 0:\n",
    "            return 0\n",
    "        \n",
    "        memo = [nums[0] for i in range(len(nums))]\n",
    "        if len(memo) >= 2:\n",
    "            memo[1] = max(nums[0], nums[1])\n",
    "        for i in range(2, len(nums)):\n",
    "            memo[i] = max(memo[i-1], memo[i-2] +nums[i])\n",
    "        return memo[-1]\n",
    "        "
   ]
  },
  {
   "cell_type": "code",
   "execution_count": null,
   "metadata": {},
   "outputs": [],
   "source": [
    "class Solution:\n",
    "    def rob(self, nums: List[int]) -> int:\n",
    "        if len(nums) == 0:\n",
    "            return 0\n",
    "        \n",
    "        record1 = record2 = 0\n",
    "        for i in range(len(nums)):\n",
    "            temp = max(record2, record1 +nums[i])\n",
    "            record1 = record2\n",
    "            record2 = temp\n",
    "        return record2\n",
    "        "
   ]
  }
 ],
 "metadata": {
  "kernelspec": {
   "display_name": "Python 3",
   "language": "python",
   "name": "python3"
  },
  "language_info": {
   "codemirror_mode": {
    "name": "ipython",
    "version": 3
   },
   "file_extension": ".py",
   "mimetype": "text/x-python",
   "name": "python",
   "nbconvert_exporter": "python",
   "pygments_lexer": "ipython3",
   "version": "3.7.6"
  }
 },
 "nbformat": 4,
 "nbformat_minor": 4
}
