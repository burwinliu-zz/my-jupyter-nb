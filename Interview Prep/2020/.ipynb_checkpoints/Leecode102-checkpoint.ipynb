{
 "cells": [
  {
   "cell_type": "markdown",
   "metadata": {},
   "source": [
    "# Leetcode 102\n",
    "## Problem\n",
    "Given a binary tree, return the level order traversal of its nodes' values. (ie, from left to right, level by level).\n",
    "\n",
    "For example:\n",
    "Given binary tree [3,9,20,null,null,15,7],\n",
    "## Thoughts\n",
    "This seems to be a level order traversal (suprise suprise), which has some very basic concepts -- understand the idea behind stacks and queues (this case a FIFO queue), and how to traverse a binary tree. Overall, the tricky thing seems to be getting the order right, but once you understand queue then it all be cmes releatively simple.\n",
    "\n",
    "## Analysis\n",
    "Time: O(N) where N == number of nodes    \n",
    "Space: O(N) to store the stack of all nodes."
   ]
  },
  {
   "cell_type": "code",
   "execution_count": null,
   "metadata": {},
   "outputs": [],
   "source": [
    "# Definition for a binary tree node.\n",
    "# class TreeNode:\n",
    "#     def __init__(self, val=0, left=None, right=None):\n",
    "#         self.val = val\n",
    "#         self.left = left\n",
    "#         self.right = right\n",
    "class Solution:\n",
    "    def levelOrder(self, root: TreeNode) -> List[List[int]]:\n",
    "        stack = [(root, 0)]\n",
    "        res = []\n",
    "        if root is None:\n",
    "            return []\n",
    "        while len(stack) != 0:\n",
    "            cur, level = stack[0]\n",
    "            stack = stack[1:]\n",
    "            if level == len(res):\n",
    "                res.append([])\n",
    "            res[level].append(cur.val)\n",
    "            if cur.left:\n",
    "                stack.append((cur.left, level+1))\n",
    "            if cur.right:\n",
    "                stack.append((cur.right, level+1))\n",
    "            \n",
    "            \n",
    "        \n",
    "        return res\n",
    "        "
   ]
  }
 ],
 "metadata": {
  "kernelspec": {
   "display_name": "Python 3",
   "language": "python",
   "name": "python3"
  },
  "language_info": {
   "codemirror_mode": {
    "name": "ipython",
    "version": 3
   },
   "file_extension": ".py",
   "mimetype": "text/x-python",
   "name": "python",
   "nbconvert_exporter": "python",
   "pygments_lexer": "ipython3",
   "version": "3.7.6"
  }
 },
 "nbformat": 4,
 "nbformat_minor": 4
}
