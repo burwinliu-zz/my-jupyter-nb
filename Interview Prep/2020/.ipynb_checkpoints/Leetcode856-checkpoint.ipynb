{
 "cells": [
  {
   "cell_type": "markdown",
   "metadata": {},
   "source": [
    "# Leetcode 856\n",
    "\n",
    "## Problem\n",
    "Given a balanced parentheses string S, compute the score of the string based on the following rule:  \n",
    "\n",
    "() has score 1  \n",
    "AB has score A + B, where A and B are balanced parentheses strings.  \n",
    "(A) has score 2 * A, where A is a balanced parentheses string.  \n",
    "\n",
    "## Thoughts\n",
    "This is a problem that I should have snapped up on a lot more quickly. Misdiagnosed as a DP problem, not realizing that on a single iteration loop we could calculate the size (and DP would suffer from misattributing parent to wrong areas. :/) Overall, I tried too many times on run code, need more comftorability with just whiteboarding it on pen and paper\n",
    "\n",
    "As for the solution, this iterates over all items, keeping a stack -- depending on the stack, the cost of the item comes out. The tricky part is knowing what costs are attributed to what -- if it has been used to develop an innter cost, then it can no longer be used as an individual part (1x ()) and therefore, added to a \"marked\" set which would act to tell that it already has been \"used\" to 2x some other value in the past, and therefore not be used in this current situation. More curiously, we probably could just use the -1 situation instead of this, upping the space efficiency (see sol 2)\n",
    "\n",
    "## Analysis\n",
    "Time: O(N)  \n",
    "Space: O(N)"
   ]
  },
  {
   "cell_type": "code",
   "execution_count": 2,
   "metadata": {},
   "outputs": [
    {
     "data": {
      "text/plain": [
       "[4]"
      ]
     },
     "execution_count": 2,
     "metadata": {},
     "output_type": "execute_result"
    }
   ],
   "source": [
    "class Solution:\n",
    "    def scoreOfParentheses(self, S: str) -> int:\n",
    "        p1 = 0\n",
    "        p2 = len(S)-1\n",
    "\n",
    "        stack = []\n",
    "        marked = [0 for i in range(len(S))]\n",
    "        \n",
    "        total = 0\n",
    "        for i, j in enumerate(S):\n",
    "            if j == \"(\":\n",
    "                stack.append(i)\n",
    "            if j == \")\":\n",
    "                if marked[stack[-1]] == 0:\n",
    "\n",
    "                    total += 2**(len(stack) - 1)\n",
    "                    for k in stack:\n",
    "                        marked[k] = 1\n",
    "                stack = stack[:-1]\n",
    "                \n",
    "        return total\n"
   ]
  },
  {
   "cell_type": "code",
   "execution_count": null,
   "metadata": {},
   "outputs": [],
   "source": [
    "class Solution:\n",
    "    def scoreOfParentheses(self, S: str) -> int:\n",
    "        p1 = 0\n",
    "        p2 = len(S)-1\n",
    "\n",
    "        stack = []\n",
    "        \n",
    "        total = 0\n",
    "        for i, j in enumerate(S):\n",
    "            if j == \"(\":\n",
    "                stack.append(i)\n",
    "            if j == \")\":\n",
    "                if stack[-1] + 1 == i:\n",
    "                    total += 2**(len(stack) - 1)\n",
    "                stack = stack[:-1]\n",
    "                \n",
    "        return total\n"
   ]
  }
 ],
 "metadata": {
  "kernelspec": {
   "display_name": "Python 3",
   "language": "python",
   "name": "python3"
  },
  "language_info": {
   "codemirror_mode": {
    "name": "ipython",
    "version": 3
   },
   "file_extension": ".py",
   "mimetype": "text/x-python",
   "name": "python",
   "nbconvert_exporter": "python",
   "pygments_lexer": "ipython3",
   "version": "3.7.6"
  }
 },
 "nbformat": 4,
 "nbformat_minor": 4
}
