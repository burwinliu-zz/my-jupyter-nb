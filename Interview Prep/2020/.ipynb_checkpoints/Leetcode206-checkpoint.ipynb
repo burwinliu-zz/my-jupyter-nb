{
 "cells": [
  {
   "cell_type": "markdown",
   "metadata": {},
   "source": [
    "# Leetcode 206\n",
    "Reverse a singly linked list.\n",
    "# Thoughts\n",
    "Basic Algorithms question. Honestly, this is fully derivable in person, might be a sanity check question, should know it at any rate.\n",
    "\n",
    "# Solutions\n",
    "## Solution 1\n",
    "Idea -- take the node, and point it's next's next to the \"head\" of the created list ,init at the start, and keep iterating.\n",
    "\n",
    "## Solution 2\n",
    "Recursively is a bit more interesting. Base case would be when the Node is none, then just return None. In all other cases, the Recursively called next node is the self, and you set the next of the current node to be none so as not to potentially create infinite loops. Therefore, just reverse as you go, and return that final node (the base case)\n",
    "\n",
    "\n",
    "\n"
   ]
  },
  {
   "cell_type": "code",
   "execution_count": null,
   "metadata": {},
   "outputs": [],
   "source": [
    "# Solution 1\n",
    "# Definition for singly-linked list.\n",
    "# class ListNode:\n",
    "#     def __init__(self, val=0, next=None):\n",
    "#         self.val = val\n",
    "#         self.next = next\n",
    "class Solution:\n",
    "    def reverseList(self, head: ListNode) -> ListNode:\n",
    "        pA = head\n",
    "        pTop = head\n",
    "        while pA != None and pA.next != None:\n",
    "            temp = pA.next.next \n",
    "            pA.next.next = pTop\n",
    "            pTop = pA.next\n",
    "            \n",
    "            pA.next = temp\n",
    "        return pTop"
   ]
  },
  {
   "cell_type": "code",
   "execution_count": null,
   "metadata": {},
   "outputs": [],
   "source": [
    "#Solution 2\n",
    "\n",
    "# Definition for singly-linked list.\n",
    "# class ListNode:\n",
    "#     def __init__(self, val=0, next=None):\n",
    "#         self.val = val\n",
    "#         self.next = next\n",
    "class Solution:\n",
    "    # Works since each state stores a version of itself, and isnt affected by lower actions\n",
    "    def reverseList(self, head: ListNode) -> ListNode:\n",
    "        if head is None or head.next is None:\n",
    "            return head\n",
    "        temp = Solution().reverseList(head.next)\n",
    "        head.next.next = head;\n",
    "        head.next = None;\n",
    "        return temp"
   ]
  }
 ],
 "metadata": {
  "kernelspec": {
   "display_name": "Python 3",
   "language": "python",
   "name": "python3"
  },
  "language_info": {
   "codemirror_mode": {
    "name": "ipython",
    "version": 3
   },
   "file_extension": ".py",
   "mimetype": "text/x-python",
   "name": "python",
   "nbconvert_exporter": "python",
   "pygments_lexer": "ipython3",
   "version": "3.7.6"
  }
 },
 "nbformat": 4,
 "nbformat_minor": 4
}
