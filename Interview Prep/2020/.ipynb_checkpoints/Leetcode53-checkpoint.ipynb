{
 "cells": [
  {
   "cell_type": "markdown",
   "metadata": {},
   "source": [
    "# Leetcode 53\n",
    "## Problem\n",
    "Given an integer array nums, find the contiguous subarray (containing at least one number) which has the largest sum and return its sum.  \n",
    "\n",
    "Example:  \n",
    "\n",
    "Input: [-2,1,-3,4,-1,2,1,-5,4],  \n",
    "Output: 6  \n",
    "Explanation: [4,-1,2,1] has the largest sum = 6.  \n",
    "\n",
    "Follow up:  \n",
    "\n",
    "If you have figured out the O(n) solution, try coding another solution using the divide and conquer approach, which is more subtle.  \n",
    "## Solution1\n",
    "This is a standard greedy approach, keep summing until item is lessthan 0 and then reset the total count\n",
    "### Analysis\n",
    "Time : O(N) (To iterate through array)  \n",
    "Space: O(1), nothing but constanst stored  \n",
    "## Solution2\n",
    "We CAN choose divide and conquer, by splitting array into 2 and recursing until one element is left. then combine -- sum all elements from left and right to the max amount. (From lefts side iterate from middle to the end, and find max ssum, whether it be via part, of whole) and same for right except from mid to right. Therefore, if the max sum is both halves, we canset the best sum of this half to be left best sum, right best sum and middle best sum choosing the best out of all of these choices, implementing divide and conquer\n",
    "### Analysis\n",
    "Time: O(NLogN)\n",
    "Space: O(logN) (for recursion)"
   ]
  },
  {
   "cell_type": "code",
   "execution_count": null,
   "metadata": {},
   "outputs": [],
   "source": [
    "class Solution:\n",
    "    def maxSubArray(self, nums: List[int]) -> int:\n",
    "        total = 0\n",
    "        maxSum = -math.inf\n",
    "        for i in nums:\n",
    "            total += i\n",
    "            if total > maxSum:\n",
    "                maxSum = total\n",
    "            if total < 0:\n",
    "                total = 0\n",
    "        return maxSum"
   ]
  },
  {
   "cell_type": "code",
   "execution_count": null,
   "metadata": {},
   "outputs": [],
   "source": [
    "class Solution:\n",
    "    def maxSubArray(self, nums: List[int]) -> int:\n",
    "        start, end = 0, len(nums)-1\n",
    "        \n",
    "        def leftRightCombo(left, right, mid):\n",
    "            leftSum = rightSum = -math.inf\n",
    "            tempSum = 0 \n",
    "            for i in range(mid, left - 1, -1):\n",
    "                tempSum += nums[i]\n",
    "                leftSum = max(leftSum, tempSum)\n",
    "            tempSum = 0\n",
    "            for i in range(mid+1, right+1):\n",
    "                tempSum += nums[i]\n",
    "                rightSum = max(rightSum, tempSum)\n",
    "\n",
    "            return leftSum + rightSum\n",
    "        \n",
    "        def helper(start, end):\n",
    "            if start == end: \n",
    "                return nums[start]\n",
    "            mid = start + int((end-start)/2)\n",
    "            left = helper(start, mid)\n",
    "            right = helper(mid+1, end)\n",
    "            combo = leftRightCombo(start, end, mid)\n",
    "            print(left, right, combo)\n",
    "            return max(left, right, combo)\n",
    "        \n",
    "        return helper(start, end)"
   ]
  }
 ],
 "metadata": {
  "kernelspec": {
   "display_name": "Python 3",
   "language": "python",
   "name": "python3"
  },
  "language_info": {
   "codemirror_mode": {
    "name": "ipython",
    "version": 3
   },
   "file_extension": ".py",
   "mimetype": "text/x-python",
   "name": "python",
   "nbconvert_exporter": "python",
   "pygments_lexer": "ipython3",
   "version": "3.7.6"
  }
 },
 "nbformat": 4,
 "nbformat_minor": 4
}
