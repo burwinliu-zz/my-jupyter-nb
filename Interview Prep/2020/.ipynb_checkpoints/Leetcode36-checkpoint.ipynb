{
 "cells": [
  {
   "cell_type": "markdown",
   "metadata": {},
   "source": [
    "# Leetcode 36\n",
    "## Problem\n",
    "Determine if a 9x9 Sudoku board is valid. Only the filled cells need to be validated according to the following rules:\n",
    "\n",
    "Each row must contain the digits 1-9 without repetition.\n",
    "Each column must contain the digits 1-9 without repetition.\n",
    "Each of the 9 3x3 sub-boxes of the grid must contain the digits 1-9 without repetition.\n",
    "## Thoughts\n",
    "This is a typical Array style problem, just iterate and store. To improve efficiency of space, we could remote sets and iterate over all 3, tripling the iterating time but vastly improving the space to 1/3 \n",
    "\n",
    "## Analysis\n",
    "Time: O (N)  \n",
    "Space: O(N)"
   ]
  },
  {
   "cell_type": "code",
   "execution_count": null,
   "metadata": {},
   "outputs": [],
   "source": [
    "class Solution:\n",
    "    def isValidSudoku(self, board: List[List[str]]) -> bool:\n",
    "        rows = [set() for i in range(9)]\n",
    "        cols = [set() for i in range(9)]\n",
    "        boxes = [set() for i in range(9)]\n",
    "        \n",
    "        for i in range(9):\n",
    "            for j in range(9):\n",
    "                if board[i][j] == \".\":\n",
    "                    continue\n",
    "                box = (i // 3) + (3* (j//3))\n",
    "                if board[i][j] in rows[i]\\\n",
    "                        or board[i][j] in cols[j]\\\n",
    "                        or board[i][j] in boxes[box]:\n",
    "                    return False\n",
    "                rows[i].add(board[i][j])\n",
    "                cols[j].add(board[i][j])\n",
    "                boxes[box].add(board[i][j])\n",
    "        return True"
   ]
  }
 ],
 "metadata": {
  "kernelspec": {
   "display_name": "Python 3",
   "language": "python",
   "name": "python3"
  },
  "language_info": {
   "codemirror_mode": {
    "name": "ipython",
    "version": 3
   },
   "file_extension": ".py",
   "mimetype": "text/x-python",
   "name": "python",
   "nbconvert_exporter": "python",
   "pygments_lexer": "ipython3",
   "version": "3.7.6"
  }
 },
 "nbformat": 4,
 "nbformat_minor": 4
}
