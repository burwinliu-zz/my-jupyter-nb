{
 "cells": [
  {
   "cell_type": "markdown",
   "metadata": {},
   "source": [
    "# Leetcode 79\n",
    "## Problem\n",
    "Given a 2D board and a word, find if the word exists in the grid.\n",
    "\n",
    "The word can be constructed from letters of sequentially adjacent cell, where \"adjacent\" cells are those horizontally or vertically neighboring. The same letter cell may not be used more than once.\n",
    "\n",
    "## Thoughts\n",
    "This is a classic backtracking -- however, for EACH path in the DFS, one must do a seperate set to dictate where each path has travelled, making a queue based implementation impractical -- recursion seems to be the way. \n",
    "\n",
    "## Analysis\n",
    "TIme: O(some exponential time -- 4^N?)\n",
    "Space: O(Some exponential space -- 4^N?)"
   ]
  },
  {
   "cell_type": "code",
   "execution_count": null,
   "metadata": {},
   "outputs": [],
   "source": [
    "class Solution:\n",
    "    # @param board, a list of lists of 1 length string\n",
    "    # @param word, a string\n",
    "    # @return a boolean\n",
    "    # 3:42\n",
    "    def exist(self, board, word):\n",
    "        visited = {}\n",
    "\n",
    "        for i in range(len(board)):\n",
    "            for j in range(len(board[0])):\n",
    "                if self.getWords(board, word, i, j, visited):\n",
    "                    return True\n",
    "        \n",
    "        return False\n",
    "\n",
    "    def getWords(self, board, word, i, j, visited, pos = 0):\n",
    "        if pos == len(word):\n",
    "            return True\n",
    "\n",
    "        if i < 0 or i == len(board) or j < 0 or j == len(board[0]) or visited.get((i, j)) or word[pos] != board[i][j]:\n",
    "            return False\n",
    "\n",
    "        visited[(i, j)] = True\n",
    "        res = self.getWords(board, word, i, j + 1, visited, pos + 1) \\\n",
    "                or self.getWords(board, word, i, j - 1, visited, pos + 1) \\\n",
    "                or self.getWords(board, word, i + 1, j, visited, pos + 1) \\\n",
    "                or self.getWords(board, word, i - 1, j, visited, pos + 1)\n",
    "        visited[(i, j)] = False\n",
    "\n",
    "        return res"
   ]
  }
 ],
 "metadata": {
  "kernelspec": {
   "display_name": "Python 3",
   "language": "python",
   "name": "python3"
  },
  "language_info": {
   "codemirror_mode": {
    "name": "ipython",
    "version": 3
   },
   "file_extension": ".py",
   "mimetype": "text/x-python",
   "name": "python",
   "nbconvert_exporter": "python",
   "pygments_lexer": "ipython3",
   "version": "3.7.6"
  }
 },
 "nbformat": 4,
 "nbformat_minor": 4
}
