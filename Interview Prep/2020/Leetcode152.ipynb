{
 "cells": [
  {
   "cell_type": "markdown",
   "metadata": {},
   "source": [
    "# Leetcode 152\n",
    "## Problem\n",
    "\n",
    "## Thoughts\n",
    "This was a problem (Shamefully) Beyond me. I should have been able to figure this one out honestly. But the thining goes like this -- there are three possibilities for the next element -- 0, negative or positive. If negative, we merely take the min, max and current element and find the min and max. By doing so, the zero case is eliminated automatically. By only taking the max of all 3 cases, if there is a continuous subarray that flips across the signs will be taken in as the true max as it would be temporarily stored in the min element item. This would only preserve contiguous items as the maxProd , minProd are storing the extremes as each section moves along ,and on reset (0) the next elemnt is deemed as the extreme, while ans stores the largest continuous product\n",
    "\n",
    "## Analysis\n",
    "Space: O(1)  \n",
    "Time: O(N)"
   ]
  },
  {
   "cell_type": "code",
   "execution_count": null,
   "metadata": {},
   "outputs": [],
   "source": [
    "class Solution(object):\n",
    "    def maxProduct(self, nums):\n",
    "        \"\"\"\n",
    "        :type nums: List[int]\n",
    "        :rtype: int\n",
    "        \"\"\"\n",
    "        max_prod, min_prod, ans = nums[0], nums[0], nums[0]\n",
    "        for i in range(1, len(nums)):\n",
    "            x = max(nums[i], max_prod*nums[i], min_prod*nums[i])\n",
    "            y = min(nums[i], max_prod*nums[i], min_prod*nums[i])            \n",
    "            max_prod, min_prod = x, y\n",
    "            ans = max(max_prod, ans)\n",
    "        return ans"
   ]
  }
 ],
 "metadata": {
  "kernelspec": {
   "display_name": "Python 3",
   "language": "python",
   "name": "python3"
  },
  "language_info": {
   "codemirror_mode": {
    "name": "ipython",
    "version": 3
   },
   "file_extension": ".py",
   "mimetype": "text/x-python",
   "name": "python",
   "nbconvert_exporter": "python",
   "pygments_lexer": "ipython3",
   "version": "3.7.6"
  }
 },
 "nbformat": 4,
 "nbformat_minor": 4
}
