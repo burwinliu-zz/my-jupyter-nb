{
 "cells": [
  {
   "cell_type": "markdown",
   "metadata": {},
   "source": [
    "# Leetcode 338\n",
    "\n",
    "## Problem\n",
    "Given a non negative integer number num. For every numbers i in the range 0 ≤ i ≤ num calculate the number of 1's in their binary representation and return them as an array.\n",
    "## Thoughts\n",
    "I had to think a bit differently for this one, but once I saw the pattern (repeat the past actions once a new digit is added) the problem became a trivial solve\n",
    "\n",
    "## Solution 1/2 ( Improvements on 1 for 2 )\n",
    "### Analysis:\n",
    "Time: O(N)  \n",
    "Space: O(1) (Given return is not counted as space)"
   ]
  },
  {
   "cell_type": "code",
   "execution_count": null,
   "metadata": {},
   "outputs": [],
   "source": [
    "import math\n",
    "\n",
    "class Solution:\n",
    "    def countBits(self, num: int) -> List[int]:\n",
    "        result = []\n",
    "        point = 0\n",
    "        current = 0\n",
    "        for i in range(num + 1):\n",
    "            if i == 0:\n",
    "                result.append(0)\n",
    "                continue\n",
    "            if i == 1:\n",
    "                result.append(1)\n",
    "                continue\n",
    "            temp = int(math.log(i, 2))\n",
    "\n",
    "            if temp != current:\n",
    "                current = temp\n",
    "                point = 0\n",
    "            result.append(result[point] + 1)\n",
    "            point += 1\n",
    "        return result"
   ]
  },
  {
   "cell_type": "code",
   "execution_count": null,
   "metadata": {},
   "outputs": [],
   "source": [
    "class Solution:\n",
    "    def countBits(self, num: int) -> List[int]:\n",
    "        result = [0, 1]\n",
    "        point = 0\n",
    "        current = 1\n",
    "        if num == 0:\n",
    "            return[0]\n",
    "        if num == 1:\n",
    "            return [0, 1]\n",
    "        for i in range(2, num + 1):\n",
    "            if i == 2*current:\n",
    "                current = i\n",
    "                point = 0\n",
    "            result.append(result[point] + 1)\n",
    "            point += 1\n",
    "        return result"
   ]
  }
 ],
 "metadata": {
  "kernelspec": {
   "display_name": "Python 3",
   "language": "python",
   "name": "python3"
  },
  "language_info": {
   "codemirror_mode": {
    "name": "ipython",
    "version": 3
   },
   "file_extension": ".py",
   "mimetype": "text/x-python",
   "name": "python",
   "nbconvert_exporter": "python",
   "pygments_lexer": "ipython3",
   "version": "3.7.6"
  }
 },
 "nbformat": 4,
 "nbformat_minor": 4
}
