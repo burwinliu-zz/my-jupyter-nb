{
 "cells": [
  {
   "cell_type": "markdown",
   "metadata": {},
   "source": [
    "# Leetcode 509\n",
    "## Problem: \n",
    "Calculate Nth Fib Number\n",
    "\n",
    "## Solution\n",
    "### Solution1 (Top Down)\n",
    "Classic DP -- break down by returning memo[N] if in memo, else Fib(n-1) + Fib(n-2).\n",
    "#### Analysis\n",
    "Space: O(N)\n",
    "Time: O(N)\n",
    "### Solution 2 (Bottom Up)\n",
    "store the last two items as you iterate and just keep adding those as you progress.\n",
    "#### Analysis\n",
    "Space: O(1)\n",
    "Time: O(N)"
   ]
  },
  {
   "cell_type": "code",
   "execution_count": null,
   "metadata": {},
   "outputs": [],
   "source": [
    "class Solution:\n",
    "    memo = {0: 0, 1: 1, 2: 1}\n",
    "    def fib(self, N: int) -> int:\n",
    "        if N in self.memo:\n",
    "            return self.memo[N]\n",
    "        current = Solution().fib(N-1) + Solution().fib(N-2)\n",
    "        self.memo[N] = current\n",
    "        return current"
   ]
  },
  {
   "cell_type": "code",
   "execution_count": null,
   "metadata": {},
   "outputs": [],
   "source": [
    "class Solution:\n",
    "    def fib(self, N: int) -> int:\n",
    "        if N == 0:\n",
    "            return 0\n",
    "        if N == 1:\n",
    "            return 1\n",
    "        iOne, iTwo = 0, 1\n",
    "        for item in range(2, N):\n",
    "            temp = iOne + iTwo\n",
    "            iOne = iTwo\n",
    "            iTwo = temp\n",
    "        return iOne + iTwo"
   ]
  }
 ],
 "metadata": {
  "kernelspec": {
   "display_name": "Python 3",
   "language": "python",
   "name": "python3"
  },
  "language_info": {
   "codemirror_mode": {
    "name": "ipython",
    "version": 3
   },
   "file_extension": ".py",
   "mimetype": "text/x-python",
   "name": "python",
   "nbconvert_exporter": "python",
   "pygments_lexer": "ipython3",
   "version": "3.7.6"
  }
 },
 "nbformat": 4,
 "nbformat_minor": 4
}
