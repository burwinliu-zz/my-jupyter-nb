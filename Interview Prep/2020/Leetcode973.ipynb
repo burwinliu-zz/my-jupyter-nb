{
 "cells": [
  {
   "cell_type": "markdown",
   "metadata": {},
   "source": [
    "# Leetcode 973\n",
    "## Problem\n",
    "We have a list of points on the plane.  Find the K closest points to the origin (0, 0).\n",
    "\n",
    "(Here, the distance between two points on a plane is the Euclidean distance.)\n",
    "\n",
    "You may return the answer in any order.  The answer is guaranteed to be unique (except for the order that it is in.)\n",
    "\n",
    "## Solution\n",
    "Classic figure out distance and sort -- however, this is not optimal, there for sure is better.\n",
    "\n",
    "## Analysis\n",
    "Time: O(NlogN)  \n",
    "Space: O(N) to store"
   ]
  },
  {
   "cell_type": "code",
   "execution_count": null,
   "metadata": {},
   "outputs": [],
   "source": [
    "class Solution:\n",
    "    def kClosest(self, points: List[List[int]], K: int) -> List[List[int]]:\n",
    "        distances = []\n",
    "        \n",
    "        for i in points:\n",
    "            distances.append([i[0] ** 2 + i[1] ** 2, i])\n",
    "        \n",
    "        res = sorted(distances, key=lambda x: x[0])\n",
    "        return [i[1] for i in res[:K]]\n",
    "        "
   ]
  }
 ],
 "metadata": {
  "kernelspec": {
   "display_name": "Python 3",
   "language": "python",
   "name": "python3"
  },
  "language_info": {
   "name": ""
  }
 },
 "nbformat": 4,
 "nbformat_minor": 4
}
