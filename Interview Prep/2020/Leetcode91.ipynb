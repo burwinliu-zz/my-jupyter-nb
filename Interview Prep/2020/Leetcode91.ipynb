{
 "cells": [
  {
   "cell_type": "markdown",
   "metadata": {},
   "source": [
    "# Leetcode 91\n",
    "## Problem\n",
    "A message containing letters from A-Z is being encoded to numbers using the following mapping:\n",
    "\n",
    "'A' -> 1\n",
    "'B' -> 2\n",
    "...\n",
    "'Z' -> 26\n",
    "Given a non-empty string containing only digits, determine the total number of ways to decode it.\n",
    "\n",
    "## Thoughts\n",
    "This seems like a basic DP problem, using the recursion and memo table to avoid repeated actions.\n",
    "\n",
    "## Analysis\n",
    "Time: O(N) -> The max number of possible recursion times will be 2^N but due to memoization, it will reduce the number of repeated leaf recursions, making is Number of recursions * time to compute per recursion -> which is O(Number of nodes * 2) * (some constant numbers), therefore O(N) as 2 and constant is dropped  \n",
    "Space: O(N) to store the memo table"
   ]
  },
  {
   "cell_type": "code",
   "execution_count": 9,
   "metadata": {},
   "outputs": [
    {
     "name": "stdout",
     "output_type": "stream",
     "text": [
      "{0: '@', 1: 'A', 2: 'B', 3: 'C', 4: 'D', 5: 'E', 6: 'F', 7: 'G', 8: 'H', 9: 'I', 10: 'J', 11: 'K', 12: 'L', 13: 'M', 14: 'N', 15: 'O', 16: 'P', 17: 'Q', 18: 'R', 19: 'S', 20: 'T', 21: 'U', 22: 'V', 23: 'W', 24: 'X', 25: 'Y'}\n"
     ]
    }
   ],
   "source": [
    "# Top Down\n",
    "class Solution:\n",
    "    def numDecodings(self, s: str) -> int:\n",
    "        memo = {\"\": 1}\n",
    "        numsLetters = set(str(i) for i in range(1, 27))\n",
    "        \n",
    "        def helper(inpt: str):\n",
    "            if inpt in memo:\n",
    "                return memo[inpt]\n",
    "            \n",
    "            res = 0\n",
    "            if len(inpt) > 0 and inpt[0] in numsLetters:\n",
    "                res += helper(inpt[1:])\n",
    "                \n",
    "            if len(inpt) > 1 and inpt[0:2] in numsLetters:\n",
    "                res += helper(inpt[2:])\n",
    "            memo[inpt] = res\n",
    "            return res\n",
    "            \n",
    "            \n",
    "        return helper(s)\n",
    "                \n",
    "            "
   ]
  },
  {
   "cell_type": "code",
   "execution_count": 10,
   "metadata": {},
   "outputs": [],
   "source": [
    "# Bottom up -- need to work on bottom up solutions\n",
    "class Solution:\n",
    "    def numDecodings(self, s: str) -> int:\n",
    "        memo = [0 for i in range(len(s)+1)]\n",
    "        memo[0] = 1\n",
    "        numsLetters = set(str(i) for i in range(1, 27))\n",
    "        \n",
    "        for i, item in enumerate(memo):\n",
    "            if i > 0 and s[i-1] in numsLetters:\n",
    "                memo[i] += memo[i-1]\n",
    "                \n",
    "            if i > 1 and str(s[i-2] + s[i-1]) in numsLetters:\n",
    "                memo[i] += memo[i-2]         \n",
    "        return memo[-1]\n",
    "                \n",
    "            "
   ]
  },
  {
   "cell_type": "code",
   "execution_count": null,
   "metadata": {},
   "outputs": [],
   "source": [
    "class Solution:\n",
    "    def numDecodings(self, s: str) -> int:\n",
    "        possible = set(str(i) for i in range(1, 27))\n",
    "        oneOff = 1\n",
    "        twoOff = 0\n",
    "        for i in range(len(s)):\n",
    "            curr = 0\n",
    "            if s[i] in possible:\n",
    "                curr += oneOff\n",
    "            if i != 0 and s[i-1] + s[i] in possible:\n",
    "                curr += twoOff\n",
    "            twoOff = oneOff\n",
    "            oneOff = curr\n",
    "        return oneOff\n",
    "                \n",
    "            "
   ]
  }
 ],
 "metadata": {
  "kernelspec": {
   "display_name": "Python 3",
   "language": "python",
   "name": "python3"
  },
  "language_info": {
   "codemirror_mode": {
    "name": "ipython",
    "version": 3
   },
   "file_extension": ".py",
   "mimetype": "text/x-python",
   "name": "python",
   "nbconvert_exporter": "python",
   "pygments_lexer": "ipython3",
   "version": "3.7.6"
  }
 },
 "nbformat": 4,
 "nbformat_minor": 4
}
