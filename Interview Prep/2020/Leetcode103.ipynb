{
 "cells": [
  {
   "cell_type": "markdown",
   "metadata": {},
   "source": [
    "# Leetcode 103\n",
    "## Problem\n",
    "Given a binary tree, return the zigzag level order traversal of its nodes' values. (ie, from left to right, then right to left for the next level and alternate between).\n",
    "\n",
    "For example:\n",
    "Given binary tree [3,9,20,null,null,15,7],\n",
    "\n",
    "## Thoughts\n",
    "Initially, you may of course think directly to a BFS -- as this is approaching a tree and operating level by level. Of course, to do this in reverse we may do several methods -- one way is to have several queues keep track of levels. The more sophisticated approach would be to store levels as well and use a single queue to process. Furhtermore, you may further optimize the constant on the algorithm by DIRECTLY appending to the resulting item, making the constant decrease, but the basic idea of the resulting algorithm remains\n",
    "\n",
    "## Analysis\n",
    "Time: O(N) where N == number of nodes  \n",
    "Space: O(N) where N == number of nodes\n"
   ]
  },
  {
   "cell_type": "code",
   "execution_count": null,
   "metadata": {},
   "outputs": [],
   "source": [
    "# Definition for a binary tree node.\n",
    "# class TreeNode:\n",
    "#     def __init__(self, val=0, left=None, right=None):\n",
    "#         self.val = val\n",
    "#         self.left = left\n",
    "#         self.right = right\n",
    "from collections import deque\n",
    "\n",
    "class Solution:\n",
    "    def zigzagLevelOrder(self, root: TreeNode) -> List[List[int]]:\n",
    "        left = False\n",
    "        res = []\n",
    "        if root is None:\n",
    "            return res\n",
    "        nextItem = []\n",
    "        queue = deque([root])\n",
    "        nextQueue = deque()\n",
    "        \n",
    "        while len(queue) != 0:\n",
    "            curr = queue.pop()\n",
    "            nextItem.append(curr.val)\n",
    "            if curr.right:\n",
    "                nextQueue.appendleft(curr.right)\n",
    "            if curr.left:\n",
    "                nextQueue.appendleft(curr.left)\n",
    "            if len(queue) == 0:\n",
    "                queue = nextQueue\n",
    "                if left:\n",
    "                    res.append([i for i in nextItem])\n",
    "                else:\n",
    "                    res.append([i for i in reversed(nextItem)])\n",
    "                nextItem = []\n",
    "                nextQueue = deque()\n",
    "\n",
    "                left = not left\n",
    "                \n",
    "                \n",
    "        return res"
   ]
  }
 ],
 "metadata": {
  "kernelspec": {
   "display_name": "Python 3",
   "language": "python",
   "name": "python3"
  },
  "language_info": {
   "codemirror_mode": {
    "name": "ipython",
    "version": 3
   },
   "file_extension": ".py",
   "mimetype": "text/x-python",
   "name": "python",
   "nbconvert_exporter": "python",
   "pygments_lexer": "ipython3",
   "version": "3.7.6"
  }
 },
 "nbformat": 4,
 "nbformat_minor": 4
}
