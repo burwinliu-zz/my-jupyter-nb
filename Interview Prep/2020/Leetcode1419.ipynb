{
 "cells": [
  {
   "cell_type": "markdown",
   "metadata": {},
   "source": [
    "# Leetcode 1419\n",
    "## Problem\n",
    "Given the string croakOfFrogs, which represents a combination of the string \"croak\" from different frogs, that is, multiple frogs can croak at the same time, so multiple “croak” are mixed. Return the minimum number of different frogs to finish all the croak in the given string.\n",
    "\n",
    "A valid \"croak\" means a frog is printing 5 letters ‘c’, ’r’, ’o’, ’a’, ’k’ sequentially. The frogs have to print all five letters to finish a croak. If the given string is not a combination of valid \"croak\" return -1.\n",
    "## Thoughts\n",
    "Seems a bit messy, but seems to be the most efficient. Break down the croak and count -- if any try to remove a croak that hasn't occured yet, return -1, else continue iterating. If any croaks are still in secssion, return -1 else return the max num of ongoing croaks at any time"
   ]
  },
  {
   "cell_type": "code",
   "execution_count": null,
   "metadata": {},
   "outputs": [],
   "source": [
    "class Solution:\n",
    "    def minNumberOfFrogs(self, croakOfFrogs: str) -> int:\n",
    "        maxNum = 0\n",
    "        numFrogs = 0\n",
    "        \n",
    "        croak = {\"c\": 0, \"r\":1, \"o\":2, \"a\":3, \"k\":4}\n",
    "        croakNum = [i for i in \"croak\"]\n",
    "        \n",
    "        record = {\"c\": 0, \"r\": 0, \"o\": 0, \"a\": 0,\"k\":0}\n",
    "        for i in croakOfFrogs:\n",
    "            if i == \"c\":\n",
    "                numFrogs += 1\n",
    "                maxNum = max(numFrogs, maxNum)\n",
    "            else:\n",
    "                record[croakNum[croak[i] - 1]] -= 1\n",
    "                if record[croakNum[croak[i] - 1]] < 0:\n",
    "                    return -1\n",
    "                \n",
    "            if i == \"k\":\n",
    "                numFrogs -= 1\n",
    "            \n",
    "            record[i] += 1\n",
    "        for i in record.items():\n",
    "            if i[0] != \"k\" and i[1] != 0:\n",
    "                return -1\n",
    "        return maxNum"
   ]
  }
 ],
 "metadata": {
  "kernelspec": {
   "display_name": "Python 3",
   "language": "python",
   "name": "python3"
  },
  "language_info": {
   "codemirror_mode": {
    "name": "ipython",
    "version": 3
   },
   "file_extension": ".py",
   "mimetype": "text/x-python",
   "name": "python",
   "nbconvert_exporter": "python",
   "pygments_lexer": "ipython3",
   "version": "3.7.6"
  }
 },
 "nbformat": 4,
 "nbformat_minor": 4
}
