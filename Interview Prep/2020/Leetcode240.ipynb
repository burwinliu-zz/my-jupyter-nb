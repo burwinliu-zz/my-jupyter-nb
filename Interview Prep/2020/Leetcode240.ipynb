{
 "cells": [
  {
   "cell_type": "markdown",
   "metadata": {},
   "source": [
    "# Leetcode 240\n",
    "## Problem\n",
    "## Solution\n",
    "See the card https://leetcode.com/explore/learn/card/recursion-ii/470/divide-and-conquer/2869/\n",
    "This gave major idea about how to do this \n",
    "## Solution\n",
    "Divide the remaining section into two parsts -- to bottom  left and right or top left and right to be recursed and checked for elements. Combine with or to see if anywhere the target is found\n",
    "\n",
    "## Analysis\n",
    "Time: O(log(N)xlog(M)) at worst case where all elements need to be searched to the worst depth.\n",
    "Space: When recurse to the max, can be O(log(N)xlog(M)) trees are recursed over to the max depth."
   ]
  },
  {
   "cell_type": "code",
   "execution_count": null,
   "metadata": {},
   "outputs": [],
   "source": [
    "def searchMatrix(self, matrix, target):\n",
    "    \"\"\"\n",
    "    :type matrix: List[List[int]]\n",
    "    :type target: int\n",
    "    :rtype: bool\n",
    "    \"\"\"\n",
    "    if not matrix:\n",
    "        return False\n",
    "    yRange = [0, len(matrix[0])-1]\n",
    "    xRange = [0, len(matrix)-1]\n",
    "\n",
    "    def helper(matrix, target, xRange, yRange):\n",
    "        if not matrix:\n",
    "            return False\n",
    "\n",
    "        if xRange[0] > xRange[1] or yRange[0] > yRange[1]:\n",
    "            return False\n",
    "\n",
    "        midPtX = int((xRange[1] - xRange[0])/2) + xRange[0]\n",
    "        midPtY = int((yRange[1] - yRange[0])/2) + yRange[0]\n",
    "\n",
    "\n",
    "        if matrix[midPtX][midPtY] == target:\n",
    "            return True\n",
    "        elif matrix[midPtX][midPtY] < target:\n",
    "            xRange1 = [midPtX + 1, xRange[1]]\n",
    "            xRange2 = [xRange[0], midPtX]\n",
    "            yRange1 = [midPtY + 1, yRange[1]]\n",
    "            return helper(matrix, target, xRange1, yRange) or helper(matrix, target, xRange2, yRange1)\n",
    "        else:\n",
    "            xRange1 = [xRange[0], midPtX - 1]\n",
    "            xRange2 = [midPtX, xRange[1]]\n",
    "            yRange1 = [yRange[0], midPtY - 1]\n",
    "            return helper(matrix, target, xRange1, yRange) or helper(matrix, target, xRange2, yRange1)\n",
    "\n",
    "    return helper(matrix, target, xRange, yRange)"
   ]
  }
 ],
 "metadata": {
  "kernelspec": {
   "display_name": "Python 3",
   "language": "python",
   "name": "python3"
  },
  "language_info": {
   "codemirror_mode": {
    "name": "ipython",
    "version": 3
   },
   "file_extension": ".py",
   "mimetype": "text/x-python",
   "name": "python",
   "nbconvert_exporter": "python",
   "pygments_lexer": "ipython3",
   "version": "3.7.6"
  }
 },
 "nbformat": 4,
 "nbformat_minor": 4
}
