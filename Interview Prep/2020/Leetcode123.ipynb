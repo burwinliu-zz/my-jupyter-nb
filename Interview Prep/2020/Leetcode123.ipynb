{
 "cells": [
  {
   "cell_type": "code",
   "execution_count": 11,
   "metadata": {},
   "outputs": [
    {
     "name": "stdout",
     "output_type": "stream",
     "text": [
      "0\n",
      "0\n",
      "1 1 SMALL\n",
      "1\n",
      "2 3\n",
      "1\n",
      "3 2 SMALL\n",
      "2\n",
      "5 5 2 -1 LAST\n",
      "PROFIT 7\n"
     ]
    }
   ],
   "source": [
    "def maxProfit(prices) -> int:\n",
    "    small = 0\n",
    "    profit1, profit2 = -1, -1\n",
    "    bought = False\n",
    "    for i in range(len(prices)-1):\n",
    "        print(small)\n",
    "        if not bought and ((i == 0 and prices[i] < prices[i+1]) or prices[i-1] >= prices[i] <= prices[i+1]):\n",
    "            print(i, prices[i], \"SMALL\")\n",
    "            small = prices[i]\n",
    "            bought = True\n",
    "        if bought and prices[i-1]<prices[i]>prices[i+1]:\n",
    "            print(i, prices[i])\n",
    "            if prices[i] - small > profit1:\n",
    "                if profit1 != -1:\n",
    "                    profit2 = profit1\n",
    "                profit1 = prices[i] - small\n",
    "            elif prices[i] - small > profit2:\n",
    "                profit2 = prices[i] - small\n",
    "            bought = False\n",
    "    if bought:\n",
    "        print(i+1,prices[i+1] - small, profit1, profit2, \"LAST\")\n",
    "        if prices[i+1] - small > profit1:\n",
    "            if profit1 != -1:\n",
    "                profit2 = profit1\n",
    "            profit1 = prices[i+1] - small\n",
    "        elif prices[i+1] - small > profit2:\n",
    "            profit2 = prices[i+1] - small\n",
    "    return profit1+profit2\n",
    "print(\"PROFIT\" ,maxProfit([6,1,3,2,4,7]))"
   ]
  },
  {
   "cell_type": "markdown",
   "metadata": {},
   "source": [
    "# Solution 1\n",
    "Simple solution attempt, finding maxes and mins locally, in accordance to absolute min. However, fails in some way the item compiles? not sure. must analyze more. Probably the most difficult way to solve, not thinking about it dynamically or in any more clever methods\n",
    "\n",
    "FAIL"
   ]
  },
  {
   "cell_type": "code",
   "execution_count": null,
   "metadata": {},
   "outputs": [],
   "source": [
    "def maxProfit(self, prices: List[int]) -> int:\n",
    "        if not prices:\n",
    "            return 0\n",
    "    \n",
    "        # forward traversal, profits record the max profit \n",
    "        # by the ith day, this is the first transaction\n",
    "        profits = []\n",
    "        max_profit = 0\n",
    "        current_min = prices[0]\n",
    "        for price in prices:\n",
    "            max_profit = max(max_profit, price - current_min)\n",
    "            profits.append(max_profit)\n",
    "            current_min = min(current_min, price)\n",
    "\n",
    "        # backward traversal, max_profit records the max profit\n",
    "        # after the ith day, this is the second transaction \n",
    "        total_max = 0    \n",
    "        max_profit = 0\n",
    "        current_max = prices[-1]\n",
    "        for i in range(len(prices) - 1, -1, -1):\n",
    "            current_max = max(current_max, prices[i])\n",
    "            max_profit = max(max_profit, current_max - prices[i])\n",
    "            total_max = max(total_max, max_profit + profits[i])\n",
    "\n",
    "        return total_max"
   ]
  },
  {
   "cell_type": "markdown",
   "metadata": {},
   "source": [
    "# Solution 2\n",
    "Found on discussion board by u/clue and u/jiewustanford.\n",
    "\n",
    "Solution works on going forward finding the max profits in the current range, and in doing so creating a list of profits at that location with min before in the list. Then on second loop through, loop backwards, finding if a new max (via current max and the calculated prices + max_profit of the later items) is greater than the total max, and if so updating it."
   ]
  }
 ],
 "metadata": {
  "kernelspec": {
   "display_name": "Python 3",
   "language": "python",
   "name": "python3"
  },
  "language_info": {
   "codemirror_mode": {
    "name": "ipython",
    "version": 3
   },
   "file_extension": ".py",
   "mimetype": "text/x-python",
   "name": "python",
   "nbconvert_exporter": "python",
   "pygments_lexer": "ipython3",
   "version": "3.7.6"
  }
 },
 "nbformat": 4,
 "nbformat_minor": 4
}
