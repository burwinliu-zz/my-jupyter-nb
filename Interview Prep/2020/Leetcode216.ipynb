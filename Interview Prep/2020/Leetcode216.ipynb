{
 "cells": [
  {
   "cell_type": "markdown",
   "metadata": {},
   "source": [
    "# Leetcode 216\n",
    "## Problem\n",
    "Find all possible combinations of k numbers that add up to a number n, given that only numbers from 1 to 9 can be used and each combination should be a unique set of numbers.\n",
    "\n",
    "Note:\n",
    "\n",
    "All numbers will be positive integers.\n",
    "The solution set must not contain duplicate combinations.\n",
    "## Thoughts\n",
    "This is a typical backtracking question, with limit next loop iterations based on what has already been. there is a possibility of doing this better without frozen sets and sets, but this ensures O(1) operations on check if item occured already, and therefore allowing for a better approach i think.\n",
    "\n",
    "Solution 2 has less space and time due to elimating a lot more possibilities on loop, only taking from n til end, not all elements except N per loop.\n",
    "## Analysis;\n",
    "Time: Large exponential numbers -- something I would not be able to derrive, something to do with Permutations\n",
    "Space: O(k) as this is a DFS style approach to backtracking"
   ]
  },
  {
   "cell_type": "code",
   "execution_count": 1,
   "metadata": {},
   "outputs": [
    {
     "data": {
      "text/plain": [
       "[0, 1, 2, 4, 5, 6, 7, 8]"
      ]
     },
     "execution_count": 1,
     "metadata": {},
     "output_type": "execute_result"
    }
   ],
   "source": [
    "class Solution:\n",
    "    def combinationSum3(self, k: int, n: int) -> List[List[int]]:\n",
    "        # O(9^k) O(N)\n",
    "        # O(Exponential)\n",
    "        \n",
    "        res = set()\n",
    "        # (Number of numbers to add to 3, number to sum to, result)\n",
    "        queue = [(k, n, [], [i for i in range(1, 10)])]\n",
    "        \n",
    "        while len(queue) != 0:\n",
    "            currK, currN, currRes, currRange = queue.pop()\n",
    "            if currK == 0:\n",
    "                if currN == 0:\n",
    "                    res.add(frozenset(currRes))\n",
    "                continue\n",
    "            for i in currRange:\n",
    "                if currN - i >= 0:\n",
    "                    newRes = [i for i in currRes]\n",
    "                    newRes.append(i)\n",
    "                    newN = currN - i\n",
    "                    newK = currK - 1\n",
    "                    \n",
    "                    queue.append((newK, newN, newRes, [j for j in currRange if j != i]))\n",
    "        return [list(i) for i in res]\n",
    "                \n",
    "                "
   ]
  },
  {
   "cell_type": "code",
   "execution_count": null,
   "metadata": {},
   "outputs": [],
   "source": [
    "class Solution:\n",
    "    def combinationSum3(self, k: int, n: int) -> List[List[int]]:\n",
    "        # O(9^k) O(N)\n",
    "        # O(Exponential)\n",
    "        \n",
    "        res = set()\n",
    "        # (Number of numbers to add to 3, number to sum to, result)\n",
    "        queue = [(k, n, [], [i for i in range(1, 10)])]\n",
    "        \n",
    "        while len(queue) != 0:\n",
    "            currK, currN, currRes, currRange = queue.pop()\n",
    "            if currK == 0:\n",
    "                if currN == 0:\n",
    "                    res.add(frozenset(currRes))\n",
    "                continue\n",
    "            for i in range(len(currRange)):\n",
    "                if currN - currRange[i] >= 0:\n",
    "                    newRes = [j for j in currRes]\n",
    "                    newRes.append(currRange[i])\n",
    "                    newN = currN - currRange[i]\n",
    "                    newK = currK - 1\n",
    "                    \n",
    "                    queue.append((newK, newN, newRes, currRange[i+1:]))\n",
    "        return [list(i) for i in res]\n",
    "                \n",
    "                "
   ]
  }
 ],
 "metadata": {
  "kernelspec": {
   "display_name": "Python 3",
   "language": "python",
   "name": "python3"
  },
  "language_info": {
   "codemirror_mode": {
    "name": "ipython",
    "version": 3
   },
   "file_extension": ".py",
   "mimetype": "text/x-python",
   "name": "python",
   "nbconvert_exporter": "python",
   "pygments_lexer": "ipython3",
   "version": "3.7.6"
  }
 },
 "nbformat": 4,
 "nbformat_minor": 4
}
