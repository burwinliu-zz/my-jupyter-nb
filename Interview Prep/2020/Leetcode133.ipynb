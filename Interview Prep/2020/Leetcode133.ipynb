{
 "cells": [
  {
   "cell_type": "markdown",
   "metadata": {},
   "source": [
    "# Leetcode 133\n",
    "## Problem\n",
    "Given a reference of a node in a connected undirected graph.\n",
    "\n",
    "Return a deep copy (clone) of the graph.\n",
    "\n",
    "Each node in the graph contains a val (int) and a list (List[Node]) of its neighbors.\n",
    "## Thoughts\n",
    "Initially, I was worried about the cycles and how to realize when a cycle occured -- but realizing the values were unique was essential to making sure that the inputted items would not go into infinite loop, and being able to store these \"already done\" items to be returned. Furthermore, they needed to be returned by reference, as we needed to edit these itmes, as these calls needed to be completed first, but to complete required the possibility of infinite recursion -- therefore, pass by reference\n",
    "\n",
    "## Analysis\n",
    "Space: O(N)  \n",
    "Time: O(N)  \n",
    "Where N == number of Nodes in graph\n"
   ]
  },
  {
   "cell_type": "code",
   "execution_count": null,
   "metadata": {},
   "outputs": [],
   "source": [
    "\"\"\"\n",
    "# Definition for a Node.\n",
    "class Node:\n",
    "    def __init__(self, val = 0, neighbors = None):\n",
    "        self.val = val\n",
    "        self.neighbors = neighbors if neighbors is not None else []\n",
    "\"\"\"\n",
    "\n",
    "class Solution:\n",
    "    def __init__(self):\n",
    "        self.traversed = dict()\n",
    "    \n",
    "    def cloneGraph(self, node: 'Node') -> 'Node':\n",
    "        if node is None:\n",
    "            return None\n",
    "        temp = []\n",
    "        self.traversed[node.val] = Node(node.val, None)\n",
    "        for i in node.neighbors:\n",
    "            if i.val in self.traversed:\n",
    "                temp.append(self.traversed[i.val])\n",
    "                continue\n",
    "            temp.append(self.cloneGraph(i))\n",
    "        self.traversed[node.val].neighbors = temp\n",
    "        return self.traversed[node.val]"
   ]
  }
 ],
 "metadata": {
  "kernelspec": {
   "display_name": "Python 3",
   "language": "python",
   "name": "python3"
  },
  "language_info": {
   "codemirror_mode": {
    "name": "ipython",
    "version": 3
   },
   "file_extension": ".py",
   "mimetype": "text/x-python",
   "name": "python",
   "nbconvert_exporter": "python",
   "pygments_lexer": "ipython3",
   "version": "3.7.6"
  }
 },
 "nbformat": 4,
 "nbformat_minor": 4
}
