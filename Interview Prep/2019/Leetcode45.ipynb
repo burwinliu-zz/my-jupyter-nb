{
 "cells": [
  {
   "cell_type": "code",
   "execution_count": 66,
   "metadata": {},
   "outputs": [
    {
     "name": "stdout",
     "output_type": "stream",
     "text": [
      "2 0\n",
      "3 1 1 0 HERE\n",
      "exited\n",
      "3 1\n",
      "2 3 3 1 HERE\n",
      "case 1\n",
      "JUMP 2\n"
     ]
    }
   ],
   "source": [
    "def jump(nums) -> int:\n",
    "    if len(nums) == 1:\n",
    "        return 0\n",
    "    tracker = 0\n",
    "    pos = 0\n",
    "    pos_num = nums[0]\n",
    "    future_pos = 0\n",
    "    future_move = 0\n",
    "    while pos < len(nums):\n",
    "        print(pos_num, pos)\n",
    "        for i in range(1, pos_num+1):\n",
    "            if pos+i >= len(nums)-1:\n",
    "                print(\"case 1\")\n",
    "                return tracker+1\n",
    "            if pos+nums[pos+i]+i >= future_move:\n",
    "                future_pos = pos+i\n",
    "                future_move = pos+nums[pos+i]+i\n",
    "                print( pos+nums[pos+i], future_pos, pos+i, pos, \"HERE\")\n",
    "        print(\"exited\")\n",
    "        tracker += 1\n",
    "        pos = future_pos\n",
    "        pos_num = nums[pos]\n",
    "    print(pos, \"POS\")\n",
    "    return tracker\n",
    "print(\"JUMP\", jump([2,3,1,1,4]))"
   ]
  },
  {
   "cell_type": "markdown",
   "metadata": {},
   "source": [
    "# Solution 1\n",
    "Simple looping, super bulky. Should be one pass (O(N)) in all cases, and has space of 5 variables.\n",
    "\n",
    "Each variable keeps track of some aspect of the future or current state of the position movement. Tracker holds how many jumps have been made, pos is the current position in the algorithm, pos_num holds what the value of the array is at that point, and future_pos +  future_move hold the value of what the future state would be if we take this path.\n",
    "\n",
    "Logistics: This algorithm works based on looking for the path with the most movement forward in the range given, and then takes that path forward. Doing so allows for greates movement travelled, and since any number within that movement garuntees we can achieve the same range of numbers for future moves, if this number is greatest within this range, then we know that this number should be the best path forward. \n",
    "\n",
    "Very inefficient:\n",
    "* Runtime: 112 ms, faster than 40.73% of Python3 online submissions for Jump Game II.\n",
    "* Memory Usage: 14.8 MB, less than 8.33% of Python3 online submissions for Jump Game II."
   ]
  },
  {
   "cell_type": "code",
   "execution_count": 74,
   "metadata": {},
   "outputs": [
    {
     "name": "stdout",
     "output_type": "stream",
     "text": [
      "2 0 1 0\n",
      "3 0 2 2\n",
      "2 2 1 3\n",
      "2 3 1 2\n",
      "3\n"
     ]
    }
   ],
   "source": [
    "class Solution:\n",
    "    def jump(self, nums: List[int]) -> int:\n",
    "        tracker = 0\n",
    "        pos = 0\n",
    "        future_pos = 0\n",
    "        future_move = 0\n",
    "        while pos < len(nums)-1:\n",
    "            future_move=0\n",
    "            for i in range(1, nums[pos]+1):\n",
    "                if pos+i >= len(nums)-1:\n",
    "                    return tracker+1\n",
    "                if i+nums[pos+i] >= future_move:\n",
    "                    future_pos = pos+i\n",
    "                    future_move = i+nums[pos+i]\n",
    "            tracker += 1\n",
    "            pos = future_pos\n",
    "        return tracker"
   ]
  },
  {
   "cell_type": "markdown",
   "metadata": {},
   "source": [
    "# Solution 2 \n",
    "Slightly more optimized version of Solution 1, One pass O(N) in all cases, and has 4 variables, looking for max number in the range\n",
    "\n",
    "Variable trackers serves to find how many jumps, pos serves to hold which pos we are on. Future_Pos and move hold what will be if the items change at the moment, and try and find the largest number to be in the loop ahead.\n",
    "\n",
    "Slightly better, still fairly inefficient.\n",
    "* Runtime: 104 ms, faster than 45.04% of Python3 online submissions for Jump Game II.\n",
    "* Memory Usage: 14.9 MB, less than 8.33% of Python3 online submissions for Jump Game II.\n"
   ]
  }
 ],
 "metadata": {
  "kernelspec": {
   "display_name": "Python 3",
   "language": "python",
   "name": "python3"
  },
  "language_info": {
   "codemirror_mode": {
    "name": "ipython",
    "version": 3
   },
   "file_extension": ".py",
   "mimetype": "text/x-python",
   "name": "python",
   "nbconvert_exporter": "python",
   "pygments_lexer": "ipython3",
   "version": "3.7.4"
  }
 },
 "nbformat": 4,
 "nbformat_minor": 2
}
