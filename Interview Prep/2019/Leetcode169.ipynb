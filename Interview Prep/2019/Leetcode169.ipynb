{
 "cells": [
  {
   "cell_type": "code",
   "execution_count": null,
   "metadata": {},
   "outputs": [],
   "source": [
    "from collections import defaultdict\n",
    "\n",
    "\n",
    "class Solution:\n",
    "    def majorityElement(self, nums: List[int]) -> int:\n",
    "        test = defaultdict(int)\n",
    "        max = None\n",
    "        for i in nums:\n",
    "            test[i]+=1\n",
    "            if (max is None or test[i] > test[max]):\n",
    "                print(test)\n",
    "                max = i\n",
    "        return max\n",
    "            "
   ]
  },
  {
   "cell_type": "markdown",
   "metadata": {},
   "source": [
    "# Solution 1\n",
    "Naive solution, implemented with defaultdict (hashmap) for quick ability to test if item is most often occuring. antoher way is sort, and count each like that, but defaultdict seems to be best way"
   ]
  }
 ],
 "metadata": {
  "kernelspec": {
   "display_name": "Python 3",
   "language": "python",
   "name": "python3"
  },
  "language_info": {
   "codemirror_mode": {
    "name": "ipython",
    "version": 3
   },
   "file_extension": ".py",
   "mimetype": "text/x-python",
   "name": "python",
   "nbconvert_exporter": "python",
   "pygments_lexer": "ipython3",
   "version": "3.7.4"
  }
 },
 "nbformat": 4,
 "nbformat_minor": 2
}
