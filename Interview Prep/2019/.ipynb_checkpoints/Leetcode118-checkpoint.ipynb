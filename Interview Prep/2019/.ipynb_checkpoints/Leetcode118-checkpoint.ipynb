{
 "cells": [
  {
   "cell_type": "code",
   "execution_count": null,
   "metadata": {},
   "outputs": [],
   "source": [
    "class Solution:\n",
    "    def generate(self, numRows: int) -> List[List[int]]:\n",
    "        result = list()\n",
    "        for i in range(numRows):\n",
    "            if i == 0:\n",
    "                result.append([1])\n",
    "            else:\n",
    "                to_append = [1]\n",
    "                for j in range(len(result[i-1]) - 1):\n",
    "                    to_append.append(result[i-1][j] + result[i-1][j+1])\n",
    "                to_append.append(1)\n",
    "                result.append(to_append)\n",
    "        return result\n",
    "            "
   ]
  },
  {
   "cell_type": "markdown",
   "metadata": {},
   "source": [
    "# Solution 1\n",
    "    Has the merits of a good solution in terms of space -- everything done is in place, without any need for any new data structures. It solely reliess on the rows above and doesn't declare any resulting variables besides what it is returning."
   ]
  },
  {
   "cell_type": "code",
   "execution_count": null,
   "metadata": {},
   "outputs": [],
   "source": [
    "import math\n",
    "\n",
    "class Solution:\n",
    "    def generate(self, numRows: int) -> List[List[int]]:\n",
    "        result = list()\n",
    "        for i in range(numRows):\n",
    "            to_append = list()\n",
    "            for j in range(i+1):\n",
    "                to_append.append(int(math.factorial(i)//math.factorial(j)//math.factorial(i-j)))\n",
    "            result.append(to_append)\n",
    "        return result"
   ]
  },
  {
   "cell_type": "markdown",
   "metadata": {},
   "source": [
    "# Solution\n",
    "    One of the most efficient solutions, directly calculating the Pascal's triangle through mathematical computation, which leads very little left to be improved, but requires a good amount of knowledge beforehand"
   ]
  }
 ],
 "metadata": {
  "kernelspec": {
   "display_name": "Python 3",
   "language": "python",
   "name": "python3"
  },
  "language_info": {
   "codemirror_mode": {
    "name": "ipython",
    "version": 3
   },
   "file_extension": ".py",
   "mimetype": "text/x-python",
   "name": "python",
   "nbconvert_exporter": "python",
   "pygments_lexer": "ipython3",
   "version": "3.7.4"
  }
 },
 "nbformat": 4,
 "nbformat_minor": 2
}
