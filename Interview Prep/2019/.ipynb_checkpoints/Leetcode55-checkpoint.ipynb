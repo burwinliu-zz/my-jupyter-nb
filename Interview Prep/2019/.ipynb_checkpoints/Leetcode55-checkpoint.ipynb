{
 "cells": [
  {
   "cell_type": "code",
   "execution_count": 8,
   "metadata": {},
   "outputs": [
    {
     "name": "stdout",
     "output_type": "stream",
     "text": [
      "0 103\n",
      "False\n"
     ]
    }
   ],
   "source": [
    "def canJump(nums: list) -> bool:\n",
    "        i = 0\n",
    "        last = {0: nums[0]}\n",
    "        queue = [0]\n",
    "        print(i, len(nums)-1)\n",
    "        while i < len(nums)-1:\n",
    "            if len(last) == 0:\n",
    "                return False\n",
    "            if nums[i] == 0:\n",
    "                last[queue[-1]] -= 1\n",
    "                if last[queue[-1]] <= 0:\n",
    "                    del last[queue[-1]]\n",
    "                    del queue[-1]\n",
    "                    continue\n",
    "                else:\n",
    "                    i = queue[-1] + last[queue[-1]]\n",
    "            queue.append(i)\n",
    "            last[i] = nums[i]\n",
    "            i = i+nums[i]\n",
    "        return True\n",
    "x = [2,0,6,9,8,4,5,0,8,9,1,2,9,6,8,8,0,6,3,1,2,2,1,2,6,5,3,1,2,2,6,4,2,4,3,0,0,0,3,8,2,4,0,1,2,0,1,4,6,5,8,0,7,9,3,4,6,6,5,8,9,3,4,3,7,0,4,9,0,9,8,4,3,0,7,7,1,9,1,9,4,9,0,1,9,5,7,7,1,5,8,2,8,2,6,8,2,2,7,5,1,7,9,6]\n",
    "\n",
    "print(canJump(x))"
   ]
  },
  {
   "cell_type": "markdown",
   "metadata": {},
   "source": [
    "# Solution 1\n",
    "This is a naive solution, taking the tree approach and going down each branch, looking for the furthest path along the way, and if that doesnt work, backtracking.\n",
    "\n",
    "Takes too long O(N^2) time"
   ]
  },
  {
   "cell_type": "code",
   "execution_count": null,
   "metadata": {},
   "outputs": [],
   "source": [
    "class Solution:\n",
    "    def canJump(self, nums: List[int]) -> bool:\n",
    "        j = 0\n",
    "        for i, x in enumerate(nums):\n",
    "            if j < i: \n",
    "                return False \n",
    "            j = max(j, i+x)\n",
    "        return True"
   ]
  },
  {
   "cell_type": "markdown",
   "metadata": {},
   "source": [
    "# Solution 2\n",
    "\n",
    "Not my solution, had to be searched up.\n",
    "\n",
    "We can use a tracker j to indicate the farthest index we can reach.\n",
    "\n",
    "As any index within j can be chosen to jump from, we can use a heuristic that for each index i whose jump length is x, j = max(j, i+x). If i+x > j, we just jump from i to increase our jump range from j to i+x.\n",
    "\n",
    "But we should ensure that i is reachable. So if j<i, it's not reachable even with our best effort. We return False."
   ]
  }
 ],
 "metadata": {
  "kernelspec": {
   "display_name": "Python 3",
   "language": "python",
   "name": "python3"
  },
  "language_info": {
   "codemirror_mode": {
    "name": "ipython",
    "version": 3
   },
   "file_extension": ".py",
   "mimetype": "text/x-python",
   "name": "python",
   "nbconvert_exporter": "python",
   "pygments_lexer": "ipython3",
   "version": "3.7.4"
  }
 },
 "nbformat": 4,
 "nbformat_minor": 2
}
