{
 "cells": [
  {
   "cell_type": "markdown",
   "metadata": {},
   "source": [
    "80. Remove Duplicates from Sorted Array II\n",
    "\n",
    "Given a sorted array nums, remove the duplicates in-place such that duplicates appeared at most twice and return the new length.\n",
    "\n",
    "Do not allocate extra space for another array, you must do this by modifying the input array in-place with O(1) extra memory.\n"
   ]
  },
  {
   "cell_type": "code",
   "execution_count": null,
   "metadata": {},
   "outputs": [],
   "source": [
    "import math\n",
    "\n",
    "\n",
    "class Solution:\n",
    "    def removeDuplicates(self, nums: List[int]) -> int:\n",
    "        count = len(nums)\n",
    "        pos = 0\n",
    "        current = math.inf\n",
    "        while pos < count-1:\n",
    "            if nums[pos] == current and nums[pos+1] == current:\n",
    "                nums.pop(pos)\n",
    "                count -= 1\n",
    "                continue\n",
    "            current = nums[pos]\n",
    "            pos+=1\n",
    "        return count\n",
    "    \n",
    "        "
   ]
  },
  {
   "cell_type": "markdown",
   "metadata": {},
   "source": [
    "The solution above was made based on while looping\n",
    "first reassign \"current\" variable to current number if condition was unfurfilled\n",
    "if condition is furfilled (number is same as in \"current\" and next is as well (signifying 3 in a row) delete current and decrement count, then keep looping\n",
    "finally return count, and all done!"
   ]
  }
 ],
 "metadata": {
  "kernelspec": {
   "display_name": "Python 3",
   "language": "python",
   "name": "python3"
  },
  "language_info": {
   "codemirror_mode": {
    "name": "ipython",
    "version": 3
   },
   "file_extension": ".py",
   "mimetype": "text/x-python",
   "name": "python",
   "nbconvert_exporter": "python",
   "pygments_lexer": "ipython3",
   "version": "3.7.3"
  }
 },
 "nbformat": 4,
 "nbformat_minor": 2
}
