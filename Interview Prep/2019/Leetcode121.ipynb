{
 "cells": [
  {
   "cell_type": "code",
   "execution_count": 8,
   "metadata": {},
   "outputs": [
    {
     "data": {
      "text/plain": [
       "5"
      ]
     },
     "execution_count": 8,
     "metadata": {},
     "output_type": "execute_result"
    }
   ],
   "source": [
    "import sys\n",
    "\n",
    "def maxProfit(prices) -> int:\n",
    "    small = sys.maxsize\n",
    "    large = -1\n",
    "    profit = 0\n",
    "    for i in prices:\n",
    "        if i > large:\n",
    "            large = i\n",
    "        if i < small:\n",
    "            if small < large and profit < large-small:\n",
    "                profit = large-small\n",
    "            small = i\n",
    "            large = -1\n",
    "    if small < large and profit < large-small:\n",
    "        profit = large-small\n",
    "    return profit\n",
    "maxProfit([7,1,5,3,6,4])"
   ]
  },
  {
   "cell_type": "markdown",
   "metadata": {},
   "source": [
    "# Solution 1\n",
    "\n",
    "Typical looping solution, very simple. Looping and moving open that finds where there is a min and max, and if any max occurs before current item, reset the counter, and look for max, thereby finding the largest range possible.\n",
    "\n",
    "Efficiency: \n",
    "* Runtime: 52 ms, faster than 98.60% of Python3 online submissions for Best Time to Buy and Sell Stock.\n",
    "* Memory Usage: 14.1 MB, less than 25.29% of Python3 online submissions for Best Time to Buy and Sell Stock."
   ]
  }
 ],
 "metadata": {
  "kernelspec": {
   "display_name": "Python 3",
   "language": "python",
   "name": "python3"
  },
  "language_info": {
   "codemirror_mode": {
    "name": "ipython",
    "version": 3
   },
   "file_extension": ".py",
   "mimetype": "text/x-python",
   "name": "python",
   "nbconvert_exporter": "python",
   "pygments_lexer": "ipython3",
   "version": "3.7.4"
  }
 },
 "nbformat": 4,
 "nbformat_minor": 2
}
