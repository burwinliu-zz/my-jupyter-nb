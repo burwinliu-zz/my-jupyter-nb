{
 "cells": [
  {
   "cell_type": "code",
   "execution_count": 30,
   "metadata": {},
   "outputs": [
    {
     "name": "stdout",
     "output_type": "stream",
     "text": [
      "{1: [0, 3], 5: [1, 4], 9: [2, 5]} [1, 1, 5, 5, 9, 9]\n",
      "False\n"
     ]
    }
   ],
   "source": [
    "class Solution:\n",
    "    def containsNearbyAlmostDuplicate(self, nums: List[int], k: int, t: int) -> bool:\n",
    "        if k == 0:\n",
    "            return False\n",
    "        if len(nums)-k <= 0:\n",
    "            to_iter = 1\n",
    "        else:\n",
    "            to_iter = len(nums)-k\n",
    "        for i in range(len(nums)):\n",
    "            for j in range(1, k+1):\n",
    "                if i+j>=len(nums):\n",
    "                    break\n",
    "                elif abs(nums[i] - nums[i+j]) <= t:\n",
    "                    return True\n",
    "        return False"
   ]
  },
  {
   "cell_type": "markdown",
   "metadata": {},
   "source": [
    "# Solution 1\n",
    "\n",
    "    Naive solution. This solution relies onsearching through each item and comparing it against the future items and checking if there is a furfilled condition. If not, returns false. O(N^2) not efficient enough"
   ]
  },
  {
   "cell_type": "code",
   "execution_count": null,
   "metadata": {},
   "outputs": [],
   "source": [
    "class Solution:\n",
    "    def containsNearbyAlmostDuplicate(self, nums: List[int], k: int, t: int) -> bool:\n",
    "        if t < 0: \n",
    "            return False\n",
    "        n = len(nums)\n",
    "        d = {}\n",
    "        w = t + 1\n",
    "        for i in xrange(n):\n",
    "            m = nums[i] / w\n",
    "            if m in d:\n",
    "                return True\n",
    "            if m - 1 in d and abs(nums[i] - d[m - 1]) < w:\n",
    "                return True\n",
    "            if m + 1 in d and abs(nums[i] - d[m + 1]) < w:\n",
    "                return True\n",
    "            d[m] = nums[i]\n",
    "            if i >= k: \n",
    "                del d[nums[i - k] / w]\n",
    "        return False"
   ]
  },
  {
   "cell_type": "markdown",
   "metadata": {},
   "source": [
    "#  Solution 2\n",
    "Copied solution, could not think about this one.\n",
    "\n",
    "Idea: Roughly based on Bucket Sort Algorithm, and has placing several items into a range and processing data afterwards\n",
    "\n",
    "Efficiency: O(N) and O(K) space required.\n",
    "\n",
    "Works based on a dictionary/buckets of items nearby. These buckets will be within a range of n(t+1) to n(t). If any number is within this range prior to the current item, then it will trigger one return true statement, leading to success. Furthermore, if there is an item in a bucket up or down from the current item, then there will be a successful condition met within this section if the distance between the two items are within the range (t). Also, whenver (i) passes k, delete all items out of range, and keep moving forward.\n",
    "\n",
    "If conditions not met, delete item that is out of range. Finally if all items are exhauster return True"
   ]
  }
 ],
 "metadata": {
  "kernelspec": {
   "display_name": "Python 3",
   "language": "python",
   "name": "python3"
  },
  "language_info": {
   "codemirror_mode": {
    "name": "ipython",
    "version": 3
   },
   "file_extension": ".py",
   "mimetype": "text/x-python",
   "name": "python",
   "nbconvert_exporter": "python",
   "pygments_lexer": "ipython3",
   "version": "3.7.4"
  }
 },
 "nbformat": 4,
 "nbformat_minor": 2
}
