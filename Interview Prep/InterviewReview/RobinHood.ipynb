{
 "cells": [
  {
   "cell_type": "markdown",
   "metadata": {},
   "source": [
    "# RobinHood\n",
    "\n",
    "1) Relatively Easy (Return some value given conditions and inputs)\n",
    "\n",
    "2) Relatively Easy (Forget)\n",
    "\n",
    "3) Given a Grid of chars construct strings out of the diagonals and sort them, return the array of the positions \n",
    "\n",
    "4) Given 2 lists, both sorted, attempt to find the largest sequence possible (arithmetic?) of the lists possible"
   ]
  }
 ],
 "metadata": {
  "kernelspec": {
   "display_name": "Python 3",
   "language": "python",
   "name": "python3"
  },
  "language_info": {
   "codemirror_mode": {
    "name": "ipython",
    "version": 3
   },
   "file_extension": ".py",
   "mimetype": "text/x-python",
   "name": "python",
   "nbconvert_exporter": "python",
   "pygments_lexer": "ipython3",
   "version": "3.7.6"
  }
 },
 "nbformat": 4,
 "nbformat_minor": 4
}
