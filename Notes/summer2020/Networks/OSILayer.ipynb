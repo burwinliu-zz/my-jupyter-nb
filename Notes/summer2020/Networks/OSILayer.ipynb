{
 "cells": [
  {
   "cell_type": "markdown",
   "metadata": {},
   "source": [
    "# OSI Model"
   ]
  },
  {
   "cell_type": "markdown",
   "metadata": {},
   "source": [
    "## Layer 1 -- Physical Layer\n",
    "### Definition\n",
    "Transfer of data between device to device -- at the physical level. Converts information (bits usually) to physical signals to transfer data.\n",
    "\n",
    "## Examples\n",
    "Data pins, Bluetooth, USB, ethernet, etc."
   ]
  },
  {
   "cell_type": "markdown",
   "metadata": {},
   "source": [
    "## Layer 2 -- Data Link Layer\n",
    "### Definition\n",
    "Defines the protocol to communicate between connected physical devices. This includes error checking of connected devices. Allowing for a consistent path of communication to talk between two physically connected devices using one protocol. Also controls flow between two physically connected devices\n",
    "### Examples\n",
    "Includes IEE802 (MAC address, LLC wifi protocols)  etc."
   ]
  },
  {
   "cell_type": "markdown",
   "metadata": {},
   "source": [
    "## Layer 3 -- Network Layer \n",
    "### Definition\n",
    "Provides the means in which \"packets\" (variable length data, usually with some form of a protocol which can specify contents, msg type and more) can be transmitted throughout a network. Things here include routing protocols, multicast group management, network-layer information and error, and network-layer address assignment. This specifies how the NETWORK works, not the protocols and rules of language that they transmit\n",
    "### Example\n",
    "Layer management protocols (ISO 7498/4), Routing protocols, etc. Famously, IPv4 is included in here which uses a 32 bit address for each connected machine, and is used in the internet today as an extension of the original ARPANET\n"
   ]
  },
  {
   "cell_type": "markdown",
   "metadata": {},
   "source": [
    "## Layer 4 -- Transport Layer \n",
    "### Definition\n",
    "Provides the means in which \"packets\" (variable length data, usually with some form of a protocol which can specify contents, msg type and more) can be transmitted throughout a network. Things here include routing protocols, multicast group management, network-layer information and error, and network-layer address assignment. This specifies how the NETWORK works, not the protocols and rules of language that they transmit\n",
    "### Example\n",
    "TCP is the major protocol defined for this, which runs WWW, email, File transfer and remote admin. This protocol defines a header with Checksums and other information which is then in turn used to verify the authenticity and correctness of the transfered data in the body. Furthermore, it uses congestion controls to ensure that there is not any \"congestion\" that occurs as information is being transfered via congestion windows (dictating how much data to be sent out at a given time) slow start (avoiding sending out more data then the network can handle) and faste retransmit (to ensure that once data is sent, and if it fails, retransmits as many times quickly to get the msg out)  \n",
    "UDP is another example of a transport layer item, which is minimal in its checks and header  \n"
   ]
  },
  {
   "cell_type": "markdown",
   "metadata": {},
   "source": [
    "## Layer 5 -- Session Layer\n",
    "### Definition \n",
    "Manages the connections to each individual, opening and closing dialogues of communications. In a sense, this is where the programs would control who they are talking to -- a gatekeeper and record keeping of all connections being talked to.  \n",
    "### Example\n",
    "RTP is a real time transfer protocol that manages how audio is transmitted in real time over air, so as to avoid jitters/other misc problems that packet transfers encounter when transpoted through networks. It does so by prioritizing timliness over correctness"
   ]
  },
  {
   "cell_type": "markdown",
   "metadata": {},
   "source": [
    "## Layer 6 -- Presentation Layer\n",
    "### Definition\n",
    "Translates application layer data into session data (from seen UI to ascii transmittable data in the form of a JSON for instance) so that it may be properly sent through the OSI stack\n",
    "\n",
    "### Example\n",
    "MIME/XDR, other translation encoding schemes"
   ]
  },
  {
   "cell_type": "markdown",
   "metadata": {},
   "source": [
    "## Layer 7 -- Application Layer \n",
    "### Definition\n",
    "\n",
    "Handles the Data that is available and decides what to transmit to the recieving application. Usually, this is where a User would interact with the network and decide what to transmit. Furthermore, this controls synchronization, resource availability and identity of the people communicating.\n",
    "### Examples\n",
    "HTTP, DNS, Telnet, etc. This defines how information is transferred and how the information can be retrieved."
   ]
  }
 ],
 "metadata": {
  "kernelspec": {
   "display_name": "Python 3",
   "language": "python",
   "name": "python3"
  },
  "language_info": {
   "codemirror_mode": {
    "name": "ipython",
    "version": 3
   },
   "file_extension": ".py",
   "mimetype": "text/x-python",
   "name": "python",
   "nbconvert_exporter": "python",
   "pygments_lexer": "ipython3",
   "version": "3.7.6"
  }
 },
 "nbformat": 4,
 "nbformat_minor": 4
}
