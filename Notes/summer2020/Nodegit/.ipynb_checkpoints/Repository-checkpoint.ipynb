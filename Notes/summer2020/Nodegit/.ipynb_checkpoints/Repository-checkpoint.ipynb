{
 "cells": [
  {
   "cell_type": "markdown",
   "metadata": {},
   "source": [
    "# Introduction\n",
    "\n",
    "https://www.nodegit.org/api/repository/  \n",
    "\n",
    "Repository is the way in which one opens, creates and acts upon a \"Repository\" object -- which will be the (major) entry point to many of our functions.\n",
    "\n",
    "## Important Functions\n",
    "\n",
    "### Repository.open (ASYNC)\n",
    "#### Call\n",
    "> Repository.open(path).then(function(repository) {\n",
    "  // Use repository\n",
    "});  \n",
    "#### Params\n",
    "path: String the path to the repository\n",
    "\n",
    "Returns: Repository"
   ]
  }
 ],
 "metadata": {
  "kernelspec": {
   "display_name": "Python 3",
   "language": "python",
   "name": "python3"
  },
  "language_info": {
   "codemirror_mode": {
    "name": "ipython",
    "version": 3
   },
   "file_extension": ".py",
   "mimetype": "text/x-python",
   "name": "python",
   "nbconvert_exporter": "python",
   "pygments_lexer": "ipython3",
   "version": "3.7.6"
  }
 },
 "nbformat": 4,
 "nbformat_minor": 4
}
