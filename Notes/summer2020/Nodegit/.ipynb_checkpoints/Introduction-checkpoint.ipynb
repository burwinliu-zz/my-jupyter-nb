{
 "cells": [
  {
   "cell_type": "markdown",
   "metadata": {},
   "source": [
    "# Nodegit Documentation (As far as I know)\n",
    "\n",
    "Since its not very well described in the official documentation (found here https://www.nodegit.org/) Heres a way to keep track of everything -- modules will be seperated by file in the folder. Good luck have fun!"
   ]
  }
 ],
 "metadata": {
  "kernelspec": {
   "display_name": "Python (cs178)",
   "language": "python",
   "name": "cs178"
  },
  "language_info": {
   "codemirror_mode": {
    "name": "ipython",
    "version": 3
   },
   "file_extension": ".py",
   "mimetype": "text/x-python",
   "name": "python",
   "nbconvert_exporter": "python",
   "pygments_lexer": "ipython3",
   "version": "3.8.2"
  }
 },
 "nbformat": 4,
 "nbformat_minor": 4
}
