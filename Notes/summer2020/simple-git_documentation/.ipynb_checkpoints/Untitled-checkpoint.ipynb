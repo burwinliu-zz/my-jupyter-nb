{
 "cells": [
  {
   "cell_type": "markdown",
   "metadata": {},
   "source": [
    "# Basic Functions\n",
    "\n",
    "## Options (Overall Functionality)\n",
    "Options are a part of many of the functions that are available to many of the functions listed. They act as the options that would normally go after the git commands in CLI (i.e git commit [options])\n",
    "\n",
    "### As Arrays\n",
    "The inputs can be arrays, which are just options that are listed after the command. They are directly placed after as in the example after.\n",
    "> (i.e git.cmd(['--test']) -> git cmd --test)\n",
    "\n",
    "### As Objects\n",
    "The inputs can be objects, which are just options that are listed after the command. They are placed after with assignment to each key-value pair as listed below.\n",
    ">(i.e git.cmd({'--test': true}) -> git cmd --test=true)\n",
    "\n",
    "## Status\n",
    "\n",
    "\n",
    "## Diff"
   ]
  }
 ],
 "metadata": {
  "kernelspec": {
   "display_name": "Python 3",
   "language": "python",
   "name": "python3"
  },
  "language_info": {
   "codemirror_mode": {
    "name": "ipython",
    "version": 3
   },
   "file_extension": ".py",
   "mimetype": "text/x-python",
   "name": "python",
   "nbconvert_exporter": "python",
   "pygments_lexer": "ipython3",
   "version": "3.7.6"
  }
 },
 "nbformat": 4,
 "nbformat_minor": 4
}
