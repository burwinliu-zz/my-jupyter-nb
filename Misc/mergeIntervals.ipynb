{
 "cells": [
  {
   "cell_type": "code",
   "execution_count": 1,
   "metadata": {},
   "outputs": [
    {
     "name": "stdout",
     "output_type": "stream",
     "text": [
      "[1, 3] [1, 3]\n",
      "[1, 3] [2, 8]\n",
      "[1, 8] [8, 10]\n",
      "[1, 10] [9, 25]\n",
      "[1, 25] [9, 2]\n",
      "[[1, 25]]\n"
     ]
    }
   ],
   "source": [
    "\"\"\"\n",
    "Input: intervals = [[1,3],[2,6],[8,10],[15,18]]\n",
    "Output: [[1,6],[8,10],[15,18]]\n",
    "Explanation: Since intervals [1,3] and [2,6] overlaps, merge them into [1,6]]\n",
    "\n",
    "Function 1: Given two intervals determine if they overlap or not\n",
    "ret -> true or False\n",
    "\n",
    "Function 2: merge two intervals if they overlaps\n",
    "return -> interval else do whatever you want\n",
    "\n",
    "Function 3: Given a list of intervals, overlap \n",
    "\"\"\"\n",
    "\n",
    "def intOverlap(a, b):\n",
    "    maxMin = [min(a[0], b[0]), max(a[1], b[1])]\n",
    "    return (a[0] >= maxMin[0] and b[0] >= maxMin[0] and a[1] <= maxMin[1] and b[1] <= maxMin[1]) and (a[1] >= b[0])\n",
    "    \"\"\"\n",
    "    if a[0] < b[1] or a[1] > b[0]:\n",
    "    return True\n",
    "    else:\n",
    "    return False\n",
    "    \"\"\"\n",
    "\n",
    "def mergeIfOverlap(a, b):\n",
    "    print(a, b)\n",
    "    if intOverlap(a, b):\n",
    "        return [min(a[0], b[0]), max(a[1], b[1])]\n",
    "\n",
    "def mergeIntervals(lsA):\n",
    "    pA = pB = 0\n",
    "    result = []\n",
    "    current = lsA[0]\n",
    "\n",
    "    lsA = sorted(lsA, key = lambda x: x[0])\n",
    "    while pB < len(lsA):\n",
    "        if intOverlap(current, lsA[pB]):\n",
    "            current = mergeIfOverlap(current, lsA[pB])\n",
    "        else:\n",
    "            pA = pB\n",
    "            result.append(current)\n",
    "            current = lsA[pA]\n",
    "        pB += 1\n",
    "    result.append(current)\n",
    "    return result\n",
    "\n",
    "print(mergeIntervals([[1,3],[2,8],[8,10],[9,25],[9,2]]))"
   ]
  }
 ],
 "metadata": {
  "kernelspec": {
   "display_name": "Python 3",
   "language": "python",
   "name": "python3"
  },
  "language_info": {
   "codemirror_mode": {
    "name": "ipython",
    "version": 3
   },
   "file_extension": ".py",
   "mimetype": "text/x-python",
   "name": "python",
   "nbconvert_exporter": "python",
   "pygments_lexer": "ipython3",
   "version": "3.8.3"
  }
 },
 "nbformat": 4,
 "nbformat_minor": 4
}
