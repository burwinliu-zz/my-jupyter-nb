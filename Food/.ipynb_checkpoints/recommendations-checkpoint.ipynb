{
 "cells": [
  {
   "cell_type": "markdown",
   "metadata": {},
   "source": [
    "## Tried\n",
    "\n",
    "#### Seoul Haus (2/7/2020)\n",
    "Would recommend \n",
    "\n",
    "Spent $15.50 for Dinner\n",
    "\n",
    "Oxtail soup. AMAZING aroma, needed to add salt and pepper (do to taste for this soup it seems). Really liked the assosciated aroma that came along side with it. \n",
    "\n",
    "Got cold noodles in vinegar?\n",
    "I loved the rice (red bean mixed in?).\n",
    "The side dishes were great as usual -- fish cakes or pickled ( I think ) daikon radish in spicy sauce was a good time.\n",
    "\n",
    "#### Ha Long (1/22/2020)\n",
    "Would recommend\n",
    "\n",
    "Spent $10?\n",
    "\n",
    "Got combo bahn mi w/fried eggs, enjoyed it! Think if I go again, the choice is bbq pork/porkbelly\n",
    "\n",
    "#### Tang 190 (Korean soup Galbi jiim/soup)\n",
    "Would recommend\n",
    "\n",
    "spent $22 for rice bowl\n",
    "\n",
    "Amazing broth, great meal, and I think I would def try something else, but tasted greAT  \n",
    "\n",
    "#### Fukada (Japanesse)\n",
    "\n",
    "Would recommend\n",
    "\n",
    "Spent $22\n",
    "\n",
    "## Still in the air\n",
    "\n",
    "### Irvine\n",
    "Taiko (Japanese)\n",
    "\n",
    "Yardhouse (Steak..?)\n",
    "\n",
    "### Tustin\n",
    "\n",
    "### Newport \n",
    "True Food Kitchen\n",
    "\n",
    "### Laguna Beach\n",
    "The Grove on Forest (Breakfast/Brunch)\n",
    "\n",
    "Gelato Paradiso (Gelato in Alley Way)\n",
    "\n",
    "Banzai Bowl (Acai bowl)\n",
    "\n",
    "Zinc Cafe (vegetarian Lunch)\n",
    "\n",
    "### San Juan \n",
    "Ellie's Egan House (Brunch/Lunch -- Bakery?)\n",
    "\n",
    "### Garden Grove\n",
    "Garlic and Chives\n",
    "\n",
    "### LA\n",
    "Mr.Fries Man\n",
    "Mama Lu's\n"
   ]
  },
  {
   "cell_type": "markdown",
   "metadata": {},
   "source": [
    "# Drink Shops\n",
    "\n",
    "#### Redstraw (Sunright level!  Watermelon rose mojito with agar boba)\n",
    "#### Tancha (cheesefoam stuff)\n",
    "#### Morning Lavendar ( drinks ) more aesthetic then good"
   ]
  },
  {
   "cell_type": "code",
   "execution_count": null,
   "metadata": {},
   "outputs": [],
   "source": []
  }
 ],
 "metadata": {
  "kernelspec": {
   "display_name": "Python 3",
   "language": "python",
   "name": "python3"
  },
  "language_info": {
   "codemirror_mode": {
    "name": "ipython",
    "version": 3
   },
   "file_extension": ".py",
   "mimetype": "text/x-python",
   "name": "python",
   "nbconvert_exporter": "python",
   "pygments_lexer": "ipython3",
   "version": "3.7.6"
  }
 },
 "nbformat": 4,
 "nbformat_minor": 4
}
